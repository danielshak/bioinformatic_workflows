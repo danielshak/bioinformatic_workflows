{
 "cells": [
  {
   "cell_type": "markdown",
   "metadata": {
    "deletable": false,
    "editable": false,
    "nbgrader": {
     "checksum": "239eb5d545ac42f5060010da64c02f22",
     "grade": false,
     "grade_id": "cell-b760628ecc908de9",
     "locked": true,
     "schema_version": 1,
     "solution": false
    }
   },
   "source": [
    "# Week 4 \n",
    "## Prelab 2\n",
    "\n",
    "**Due: Monday 4/29/19 11:59PM**\n",
    "\n",
    "Today's lab is a review for quiz 2, which will be Thursday 4/25/19 in lab! These are the types of questions you can expect.\n",
    "\n",
    "So that you can know if your answers are correct, in some cases the actual answers are revealed in the autograder tests. But please make sure you understand how the answer was computed so you know how to do it for the quiz!\n",
    "\n",
    "Note the actual quiz will have only five questions and you will be given 25 minutes."
   ]
  },
  {
   "cell_type": "markdown",
   "metadata": {
    "deletable": false,
    "editable": false,
    "nbgrader": {
     "checksum": "8709ef4d2ce05c03ec5741c947a19fdf",
     "grade": false,
     "grade_id": "cell-9b53847f01c3be6b",
     "locked": true,
     "schema_version": 1,
     "solution": false
    }
   },
   "source": [
    "## Part 1: Population genetics"
   ]
  },
  {
   "cell_type": "markdown",
   "metadata": {
    "deletable": false,
    "editable": false,
    "nbgrader": {
     "checksum": "893d83824196e7eecb0ced944b970c86",
     "grade": false,
     "grade_id": "cell-d93b233144c7514a",
     "locked": true,
     "schema_version": 1,
     "solution": false
    }
   },
   "source": [
    "**Question 1 (1 pt)**: You genotype a SNP in 5,000 people. 200 are homozygous for allele “A” , 1,000 are heterozygous for “A/T”, and the rest are homozygous for “T”. What is the minor allele frequency? Set the value of `maf` to your answer below."
   ]
  },
  {
   "cell_type": "code",
   "execution_count": 2,
   "metadata": {
    "deletable": false,
    "nbgrader": {
     "checksum": "14540ba4a131f29f0f578cdbebebe8b6",
     "grade": false,
     "grade_id": "maf-q1",
     "locked": false,
     "schema_version": 1,
     "solution": true
    }
   },
   "outputs": [
    {
     "name": "stdout",
     "output_type": "stream",
     "text": [
      "Maf:  0.14\n"
     ]
    }
   ],
   "source": [
    "maf = 0\n",
    "maf = ((200 *2)+1000)/(5000*2)\n",
    "print(\"Maf: \",maf)"
   ]
  },
  {
   "cell_type": "code",
   "execution_count": 4,
   "metadata": {
    "deletable": false,
    "editable": false,
    "nbgrader": {
     "checksum": "4ce86f25e67a41c223a199e1bfb24368",
     "grade": true,
     "grade_id": "correct-maf-q1",
     "locked": true,
     "points": 1,
     "schema_version": 1,
     "solution": false
    }
   },
   "outputs": [],
   "source": [
    "\"\"\"Check value of maf\"\"\"\n",
    "assert(maf>=0 and maf <=1)\n",
    "assert(maf == (200*2+1000*1)*1.0/10000)"
   ]
  },
  {
   "cell_type": "markdown",
   "metadata": {
    "deletable": false,
    "editable": false,
    "nbgrader": {
     "checksum": "2ae07f466f13ffde4ad2dfee8083185f",
     "grade": false,
     "grade_id": "cell-0324b3914e08264a",
     "locked": true,
     "schema_version": 1,
     "solution": false
    }
   },
   "source": [
    "**Question 2 (1 pt)**: For the same SNP as above, what is the genotype frequency of \"TT\"? Set `freq_tt` to your answer below."
   ]
  },
  {
   "cell_type": "code",
   "execution_count": 5,
   "metadata": {
    "deletable": false,
    "nbgrader": {
     "checksum": "1200936e3d4bdf97c962f6ff8cc7890a",
     "grade": false,
     "grade_id": "gtfreq-q2",
     "locked": false,
     "schema_version": 1,
     "solution": true
    }
   },
   "outputs": [
    {
     "name": "stdout",
     "output_type": "stream",
     "text": [
      "TT frequence:  0.76\n"
     ]
    }
   ],
   "source": [
    "freq_tt = 0\n",
    "freq_tt = 3800/5000\n",
    "print(\"TT frequence: \", freq_tt)"
   ]
  },
  {
   "cell_type": "code",
   "execution_count": 6,
   "metadata": {
    "deletable": false,
    "editable": false,
    "nbgrader": {
     "checksum": "ed48218e45d868965aa2cc47334618e3",
     "grade": true,
     "grade_id": "correct-gtfreq-q2",
     "locked": true,
     "points": 1,
     "schema_version": 1,
     "solution": false
    }
   },
   "outputs": [],
   "source": [
    "\"\"\"Check value of freq_tt\"\"\"\n",
    "assert(freq_tt>=0 and freq_tt<=1)\n",
    "assert(freq_tt == 3800.0/5000)"
   ]
  },
  {
   "cell_type": "markdown",
   "metadata": {
    "deletable": false,
    "editable": false,
    "nbgrader": {
     "checksum": "7760ac57dc5dd79ee09504f1e889e6cd",
     "grade": false,
     "grade_id": "cell-bf171278a1290b72",
     "locked": true,
     "schema_version": 1,
     "solution": false
    }
   },
   "source": [
    "**Question 3 (1 pt)**: You are performing a GWAS for height, but accidentally shuffled the phenotype (height) values such that each sample is randomly assigned a height value. You test each SNP for assocation with the shuffled phenotypes and obtain a p-value for each SNP. What do you expect the average value of all p-values to be? Set `expected_p` to your answer below.\n",
    "Hint: what distribution do p-values follow under the null hypothesis of no associations? What is the average of that distribution?"
   ]
  },
  {
   "cell_type": "code",
   "execution_count": 18,
   "metadata": {
    "deletable": false,
    "nbgrader": {
     "checksum": "9dd63920a705a9f49e54f7014b43d61d",
     "grade": false,
     "grade_id": "cell-60c0a02b421c43d1",
     "locked": false,
     "schema_version": 1,
     "solution": true
    }
   },
   "outputs": [],
   "source": [
    "expected_p = \"\" # set average p-value expected if phenotypes were randomly shuffled\n",
    "expected_p = 0.50"
   ]
  },
  {
   "cell_type": "code",
   "execution_count": 19,
   "metadata": {
    "deletable": false,
    "editable": false,
    "nbgrader": {
     "checksum": "b95acf784f0e67909796b92e1a64db76",
     "grade": true,
     "grade_id": "correct-q3",
     "locked": true,
     "points": 1,
     "schema_version": 1,
     "solution": false
    }
   },
   "outputs": [],
   "source": [
    "\"\"\"Check value of expected_p\"\"\"\n",
    "import numpy as np\n",
    "assert(expected_p>=0 and expected_p<1)\n",
    "nullp_avg = np.mean([np.random.random() for i in range(100000)])\n",
    "assert(abs(expected_p-nullp_avg)<0.01)"
   ]
  },
  {
   "cell_type": "markdown",
   "metadata": {
    "deletable": false,
    "editable": false,
    "nbgrader": {
     "checksum": "e0db58eac68b163f03f9d27e2adce776",
     "grade": false,
     "grade_id": "cell-710fcf73f3e4cdba",
     "locked": true,
     "schema_version": 1,
     "solution": false
    }
   },
   "source": [
    "**Question 4 (1 pt)**: You are performing a GWAS and test 1 million SNPs for association with a trait. If all SNPs were independent (which is not true in reality), and there is no genetic component of the trait (that is, in reality $\\beta=0$ for all SNPs), how many SNPs do you expect to have association p-values <0.05? Set `num_false_pos` to your answer below."
   ]
  },
  {
   "cell_type": "code",
   "execution_count": 21,
   "metadata": {
    "deletable": false,
    "nbgrader": {
     "checksum": "880401c90d999aa38581b77e1e82b751",
     "grade": false,
     "grade_id": "pval-q4",
     "locked": false,
     "schema_version": 1,
     "solution": true
    }
   },
   "outputs": [
    {
     "name": "stdout",
     "output_type": "stream",
     "text": [
      "Number of false positives:  50000.0\n"
     ]
    }
   ],
   "source": [
    "num_false_pos = 0 # Set below\n",
    "num_false_pos = 1e6 * 0.05\n",
    "print(\"Number of false positives: \", num_false_pos)"
   ]
  },
  {
   "cell_type": "code",
   "execution_count": 22,
   "metadata": {
    "deletable": false,
    "editable": false,
    "nbgrader": {
     "checksum": "e852bc8910ac1c80fa0ad9f54b6664d7",
     "grade": true,
     "grade_id": "correct-pval-q4",
     "locked": true,
     "points": 1,
     "schema_version": 1,
     "solution": false
    }
   },
   "outputs": [],
   "source": [
    "\"\"\"Check value of num_false_pos\"\"\"\n",
    "nullp = [np.random.random() for i in range(1000000)]\n",
    "fp = len([item for item in nullp if item < 0.05])\n",
    "assert(abs(fp-num_false_pos)<1000) # check that we're pretty close"
   ]
  },
  {
   "cell_type": "markdown",
   "metadata": {
    "deletable": false,
    "editable": false,
    "nbgrader": {
     "checksum": "b1b736f5aa081d46c7dbc4917f2d1011",
     "grade": false,
     "grade_id": "cell-b66b32185fe3480d",
     "locked": true,
     "schema_version": 1,
     "solution": false
    }
   },
   "source": [
    "## Part 2: RNA-seq"
   ]
  },
  {
   "cell_type": "markdown",
   "metadata": {
    "deletable": false,
    "editable": false,
    "nbgrader": {
     "checksum": "e557ca41c9263c6e3324f4a275be335a",
     "grade": false,
     "grade_id": "cell-d603b14c4fd9a471",
     "locked": true,
     "schema_version": 1,
     "solution": false
    }
   },
   "source": [
    "**Question 5 (1 pt)**: You perform RNA-sequencing using single-end reads of length 36bp and examine the reads mapping to two genes. You aligned 1,000 reads to gene A, which has a length of 5,000bp. You aligned 3,000 reads to gene B, which has a length of 3,000bp. You sequenced 10 million total reads. What is the expression level (in RPKM) of genes A and B? Set your answer to `geneA_RPKM` and `geneB_RPKM` below. \n",
    "\n",
    "(Gene A test is visible, Gene B is not)"
   ]
  },
  {
   "cell_type": "code",
   "execution_count": 25,
   "metadata": {
    "deletable": false,
    "nbgrader": {
     "checksum": "970cf254a951ee22dfdab09704d6a44c",
     "grade": false,
     "grade_id": "rpkm-q5",
     "locked": false,
     "schema_version": 1,
     "solution": true
    }
   },
   "outputs": [
    {
     "name": "stdout",
     "output_type": "stream",
     "text": [
      "GeneA RPKM:  20.0\n",
      "GeneB RPKM:  300.0\n"
     ]
    }
   ],
   "source": [
    "geneA_RPKM = 0\n",
    "geneB_RPKM = 0\n",
    "# Set geneA_RPKM and geneB_RPKM below\n",
    "geneA_RPKM = 1000 * (1000/5000) * (1e6/10e6)\n",
    "geneB_RPKM = 3000 * (1000/1000) * (1e6/10e6)\n",
    "print(\"GeneA RPKM: \",geneA_RPKM)\n",
    "print(\"GeneB RPKM: \",geneB_RPKM)\n"
   ]
  },
  {
   "cell_type": "code",
   "execution_count": 27,
   "metadata": {
    "deletable": false,
    "editable": false,
    "nbgrader": {
     "checksum": "da7592ed1e5d00819fa5b11a0cc08c00",
     "grade": true,
     "grade_id": "correct-rpkm-q5",
     "locked": true,
     "points": 1,
     "schema_version": 1,
     "solution": false
    }
   },
   "outputs": [],
   "source": [
    "\"\"\"Check answers to geneA_RPKM and geneB_RPKM\"\"\"\n",
    "assert(geneA_RPKM == 20)"
   ]
  },
  {
   "cell_type": "markdown",
   "metadata": {
    "deletable": false,
    "editable": false,
    "nbgrader": {
     "checksum": "dd9eaec68ddf408c7325201f42b48894",
     "grade": false,
     "grade_id": "cell-bba25edcb4020afb",
     "locked": true,
     "schema_version": 1,
     "solution": false
    }
   },
   "source": [
    "**Question 6 (1 pt)**: You align a read to a reference genome, resulting in the alignment below. What should the CIGAR score be for Read 1? Read 2 and its CIGAR score are given as an example. Set the variable `cigar` to your answer below. (Only use CIGAR characters \"M\", \"I\", or \"D\" in your answer).\n",
    "\n",
    "```\n",
    "Reference: ACGCAGTCGGGTCGATTTTCTCTCTCTACTAGCTACGA---ATCGACTGGGTCC\n",
    "Read 1:            GGGTCGA----CTCTCTCTACTAGC\n",
    "Read 2:                               ACTAGCTACGAGACATCGACTGGGTCC\n",
    "```"
   ]
  },
  {
   "cell_type": "code",
   "execution_count": 30,
   "metadata": {
    "deletable": false,
    "nbgrader": {
     "checksum": "420c7821f830219f5432ded714ef06ec",
     "grade": false,
     "grade_id": "cigar-q6",
     "locked": false,
     "schema_version": 1,
     "solution": true
    }
   },
   "outputs": [],
   "source": [
    "cigar = \"7M4D14M\" # set to your answer for read 1\n",
    "cigar_example = \"11M3I13M\" # read 2"
   ]
  },
  {
   "cell_type": "code",
   "execution_count": 31,
   "metadata": {
    "deletable": false,
    "editable": false,
    "nbgrader": {
     "checksum": "a0078a3c9bbd905a470a55b29821fa1b",
     "grade": true,
     "grade_id": "correct-cigar-q6",
     "locked": true,
     "points": 1,
     "schema_version": 1,
     "solution": false
    }
   },
   "outputs": [],
   "source": [
    "\"\"\"Check cigar\"\"\"\n",
    "assert(cigar_example==\"11M3I13M\")\n",
    "assert(cigar.count(\"M\")==2)\n",
    "assert(cigar.count(\"D\")==1)\n",
    "assert(\"14\" in cigar)\n",
    "assert(\"4\" in cigar)\n",
    "assert(\"7\" in cigar)"
   ]
  },
  {
   "cell_type": "markdown",
   "metadata": {
    "deletable": false,
    "editable": false,
    "nbgrader": {
     "checksum": "c44ef4a067855a3a1c7d8b9076ec7134",
     "grade": false,
     "grade_id": "cell-81cac9f44e6cedc1",
     "locked": true,
     "schema_version": 1,
     "solution": false
    }
   },
   "source": [
    "## Part 3: Command line tools"
   ]
  },
  {
   "cell_type": "code",
   "execution_count": 32,
   "metadata": {
    "deletable": false,
    "editable": false,
    "nbgrader": {
     "checksum": "f4092124f63c9727913a1b2cd98e3119",
     "grade": false,
     "grade_id": "cell-55ffab48c6d21a8e",
     "locked": true,
     "schema_version": 1,
     "solution": false
    }
   },
   "outputs": [
    {
     "name": "stdout",
     "output_type": "stream",
     "text": [
      "Writing regions.txt\n"
     ]
    }
   ],
   "source": [
    "%%file regions.txt\n",
    "chr1 191203 191300\n",
    "chr2 2000000 2000005\n",
    "chr3 10000 10004\n",
    "chr4 60008 60010\n",
    "chr5 18 25"
   ]
  },
  {
   "cell_type": "markdown",
   "metadata": {
    "deletable": false,
    "editable": false,
    "nbgrader": {
     "checksum": "08c101899dbf694693e2f270bd4d472a",
     "grade": false,
     "grade_id": "cell-b9d1dbe709262905",
     "locked": true,
     "schema_version": 1,
     "solution": false
    }
   },
   "source": [
    "**Question 7 (1 pt)**: The file `regions.txt` is a space delimited file file with chromosomes of the format \"chr1\", \"chr2\", etc. (Run the cell above to create it). Write a command that prints the contents of the file to the screen, but removes \"chr\" from the chromosome names in column 1.  "
   ]
  },
  {
   "cell_type": "code",
   "execution_count": 51,
   "metadata": {
    "deletable": false,
    "nbgrader": {
     "checksum": "e282665cb92d0749fddbf9b367efee04",
     "grade": false,
     "grade_id": "unix-q7",
     "locked": false,
     "schema_version": 1,
     "solution": true
    }
   },
   "outputs": [],
   "source": [
    "cmd = \"cat regions.txt | awk -F 'chr' '/chr/{print $2}' | head -c -1\" #head command removes the trailing new line character"
   ]
  },
  {
   "cell_type": "code",
   "execution_count": 53,
   "metadata": {
    "deletable": false,
    "editable": false,
    "nbgrader": {
     "checksum": "69ea02c24d6946e59de53a6522e07633",
     "grade": true,
     "grade_id": "correct-unix-q7",
     "locked": true,
     "points": 1,
     "schema_version": 1,
     "solution": false
    }
   },
   "outputs": [],
   "source": [
    "\"\"\"Test the output of cmd\"\"\"\n",
    "from subprocess import Popen, PIPE\n",
    "p = Popen(cmd, shell=True, stdout=PIPE, stderr=PIPE)\n",
    "out, err = p.communicate()\n",
    "assert(p.returncode == 0)\n",
    "assert(len(str(out).split(\"\\\\n\"))==5)\n",
    "out = str(out)[2:]\n",
    "for i in range(5):\n",
    "    assert(str(out).split(\"\\\\n\")[i][0] == \"%s\"%(i+1))\n",
    "    assert(len(str(out).split(\"\\\\n\")[i].split())==3)"
   ]
  },
  {
   "cell_type": "markdown",
   "metadata": {
    "deletable": false,
    "editable": false,
    "nbgrader": {
     "checksum": "258d1813550ac11ac46262def3914c57",
     "grade": false,
     "grade_id": "cell-91d3da6e7ff44400",
     "locked": true,
     "schema_version": 1,
     "solution": false
    }
   },
   "source": [
    "**Question 8 (1 pt)**: Write a one-line UNIX command that outputs the median of column 2 for the file `regions.txt`."
   ]
  },
  {
   "cell_type": "code",
   "execution_count": 54,
   "metadata": {
    "deletable": false,
    "nbgrader": {
     "checksum": "a5573abb0f73bdbc7643f751379795fe",
     "grade": false,
     "grade_id": "unix-q8",
     "locked": false,
     "schema_version": 1,
     "solution": true
    }
   },
   "outputs": [],
   "source": [
    "cmd = \"cat regions.txt | cut -d' ' -f2 | datamash median 1\""
   ]
  },
  {
   "cell_type": "code",
   "execution_count": 55,
   "metadata": {
    "deletable": false,
    "editable": false,
    "nbgrader": {
     "checksum": "b3f97910e104e58b381129a8b891fcb9",
     "grade": true,
     "grade_id": "correct-unix-q8",
     "locked": true,
     "points": 1,
     "schema_version": 1,
     "solution": false
    }
   },
   "outputs": [],
   "source": [
    "\"\"\"Check output of cmd\"\"\"\n",
    "from subprocess import Popen, PIPE\n",
    "p = Popen(cmd, shell=True, stdout=PIPE, stderr=PIPE)\n",
    "out, err = p.communicate()\n",
    "assert(p.returncode == 0)\n",
    "assert(int(out.strip())==60008)"
   ]
  },
  {
   "cell_type": "markdown",
   "metadata": {
    "deletable": false,
    "editable": false,
    "nbgrader": {
     "checksum": "3247d67fbea398c4a21d05ff64d3a5cd",
     "grade": false,
     "grade_id": "cell-d6eddd43ca86ec4c",
     "locked": true,
     "schema_version": 1,
     "solution": false
    }
   },
   "source": [
    "**Question 9 (1 pt)**: Write a one-line UNIX command that outputs all rows of `regions.txt` except the row containing \"chr3\"."
   ]
  },
  {
   "cell_type": "code",
   "execution_count": 56,
   "metadata": {
    "deletable": false,
    "nbgrader": {
     "checksum": "ba9ca989c42726960038d66e5c904aae",
     "grade": false,
     "grade_id": "unix-q9",
     "locked": false,
     "schema_version": 1,
     "solution": true
    }
   },
   "outputs": [],
   "source": [
    "cmd = \"cat regions.txt | awk '!/chr3/{print $0}'\""
   ]
  },
  {
   "cell_type": "code",
   "execution_count": 57,
   "metadata": {
    "deletable": false,
    "editable": false,
    "nbgrader": {
     "checksum": "138ca09a63d18580e97cd7abb95a35bf",
     "grade": true,
     "grade_id": "correct-unix-q9",
     "locked": true,
     "points": 1,
     "schema_version": 1,
     "solution": false
    }
   },
   "outputs": [],
   "source": [
    "\"\"\"Check output of cmd\"\"\"\n",
    "from subprocess import Popen, PIPE\n",
    "p = Popen(cmd, shell=True, stdout=PIPE, stderr=PIPE)\n",
    "out, err = p.communicate()\n",
    "assert(p.returncode == 0)\n",
    "assert(len(str(out).split(\"\\\\n\")[:-1])==4)\n",
    "out = str(out)[2:]\n",
    "assert(str(out).split(\"\\\\n\")[0][0:4] == \"chr1\")\n",
    "assert(str(out).split(\"\\\\n\")[1][0:4] == \"chr2\")\n",
    "assert(str(out).split(\"\\\\n\")[2][0:4] == \"chr4\")\n",
    "assert(str(out).split(\"\\\\n\")[3][0:4] == \"chr5\")\n",
    "for i in range(4):\n",
    "    assert(len(str(out).split(\"\\\\n\")[i].split())==3)\n",
    "assert(\"chr3\" not in out)"
   ]
  },
  {
   "cell_type": "markdown",
   "metadata": {
    "deletable": false,
    "editable": false,
    "nbgrader": {
     "checksum": "ab3fd004cbd6782c4e795ef18b64ce0f",
     "grade": false,
     "grade_id": "cell-c963ccb870970c02",
     "locked": true,
     "schema_version": 1,
     "solution": false
    }
   },
   "source": [
    "**Question 10 (1 pt)**: Match the each of the tools to their appropriate use case.\n",
    "\n",
    "Tools:\n",
    "* BWA\n",
    "* sickle\n",
    "* samtools\n",
    "* bcftools\n",
    "* plink\n",
    "\n",
    "Use cases:\n",
    "* [0] Aligning DNA sequencing data\n",
    "* [1] Performing a GWAS\n",
    "* [2] Inspecting a BAM file\n",
    "* [3] Trimming low quality bases from a read\n",
    "* [4] Counting the number of samples in a VCF file.\n",
    "\n",
    "Set your answers in the dictionary `toolmatch` below. Some tests are hidden."
   ]
  },
  {
   "cell_type": "code",
   "execution_count": 60,
   "metadata": {
    "deletable": false,
    "nbgrader": {
     "checksum": "4e2e455e5391e22fd6d8e8a52df4a6b6",
     "grade": false,
     "grade_id": "unix-q10",
     "locked": false,
     "schema_version": 1,
     "solution": true
    }
   },
   "outputs": [],
   "source": [
    "toolmatch = {\n",
    "    \"BWA\": 0,\n",
    "    \"sickle\": 3,\n",
    "    \"samtools\": 2,\n",
    "    \"bcftools\": 4,\n",
    "    \"plink\": 1\n",
    "}\n",
    "toolmatch[\"samtools\"] = 2\n",
    "toolmatch[\"BWA\"] = 0\n"
   ]
  },
  {
   "cell_type": "code",
   "execution_count": 61,
   "metadata": {
    "deletable": false,
    "editable": false,
    "nbgrader": {
     "checksum": "5c1ea542a18644d86d430f86a0222388",
     "grade": true,
     "grade_id": "correct-unix-q10",
     "locked": true,
     "points": 1,
     "schema_version": 1,
     "solution": false
    }
   },
   "outputs": [],
   "source": [
    "\"\"\"Check toolmatch. A couple tests are hidden.\"\"\"\n",
    "for key in [\"BWA\",\"sickle\",\"samtools\", \"bcftools\",\"plink\"]:\n",
    "    assert(toolmatch[key] != -1)\n",
    "assert(len(toolmatch.keys())==5)\n",
    "for i in range(5): assert(i in toolmatch.values())\n",
    "assert(toolmatch[\"samtools\"]==2)\n",
    "assert(toolmatch[\"BWA\"]==0)"
   ]
  }
 ],
 "metadata": {
  "kernelspec": {
   "display_name": "Python 3",
   "language": "python",
   "name": "python3"
  },
  "language_info": {
   "codemirror_mode": {
    "name": "ipython",
    "version": 3
   },
   "file_extension": ".py",
   "mimetype": "text/x-python",
   "name": "python",
   "nbconvert_exporter": "python",
   "pygments_lexer": "ipython3",
   "version": "3.6.7"
  }
 },
 "nbformat": 4,
 "nbformat_minor": 2
}
