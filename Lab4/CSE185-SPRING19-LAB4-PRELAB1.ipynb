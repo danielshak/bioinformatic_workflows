{
 "cells": [
  {
   "cell_type": "markdown",
   "metadata": {
    "deletable": false,
    "editable": false,
    "nbgrader": {
     "checksum": "8ea5a5409dceb7b08db1a2f782da8949",
     "grade": false,
     "grade_id": "cell-195124595de59559",
     "locked": true,
     "schema_version": 1,
     "solution": false
    }
   },
   "source": [
    "# Week 4 \n",
    "## Prelab 1\n",
    "\n",
    "**Due: Monday 4/29/19 11:59PM**\n",
    "\n",
    "Today's prelab will review how to quantify gene expression using RNA-sequencing data.\n",
    "\n",
    "<font color=\"red\">Reminder, Quiz 2 will be held at the beginning of lab section this Thursday</font>.\n",
    "\n",
    "## 1. How to measure expression\n",
    "\n",
    "There are two main metrics used to quantify gene expression using RNA-seq:\n",
    "\n",
    "### 1. RPKM/FPKM\n",
    "**RPKM** (\"reads per kilobase per million reads\"): This is defined as:\n",
    "$$ RPKM_i = \\frac{N_i}{(L_i/1000)(R/1000000)}$$\n",
    "\n",
    "where $RPKM_i$ is the RPKM value for gene $i$, $N_i$ is the number of reads mapping to gene $i$, $L_i$ is the length of gene $i$ (in base pairs) and $R$ is the total number of reads sequenced.\n",
    "\n",
    "**FPKM** is a slight modification of RPKM to deal with paired end reads. FPKM gives \"fragments per kilobase per million reads\", where both reads in a pair belong to the same fragment and so are only counted once.\n",
    "\n",
    "### 2. TPM\n",
    "**TPM** (\"transcripts per million\") is computed by:\n",
    "\n",
    "1. Computing the reads per kilobase (RPK) for each gene $i$ as $RPK_i = \\frac{N_i}{(L_i/1000)}$\n",
    "2. Determining a \"per million\" scaling factor defined as $S = \\frac{\\sum_i RPK_i}{1000000}$\n",
    "3. Normalizing $RPK$ values by this factor: $TPM_i = \\frac{RPK_i}{S}$.\n",
    "\n",
    "Putting this together, we get:\n",
    "$$ TPM_i = \\frac{N_i}{(L_i/1000)(\\sum_i RPK_i/1000000)} $$\n",
    "\n",
    "The main difference between these metrics is how we scale the length-normalized read counts. For TPM, counts will always sum to 1 million and should be proportional to the percent of transcripts in the sample coming from each gene, making it easier to compare values across experiments. RPKM/FPKM do not have quite as straightforward of an interpretion. \n",
    "\n",
    "In practice, you will likely achieve similar results using either of these metrics. For a discussion of why TPM is a better metric, see this enjoyable blog post by Lior Pachter: https://liorpachter.wordpress.com/tag/tpm/ and the discussion below (optional reading) that expands on this post."
   ]
  },
  {
   "cell_type": "markdown",
   "metadata": {
    "deletable": false,
    "editable": false,
    "nbgrader": {
     "checksum": "cc2b1dd635b90a8811ff2c1f384695f9",
     "grade": false,
     "grade_id": "cell-f6d83c98a5b7117b",
     "locked": true,
     "schema_version": 1,
     "solution": false
    }
   },
   "source": [
    "## 2. Computing TPM/RPKM\n",
    "\n",
    "We'll go through some examples computing and interpreting TPKM and RPKM. We'll start by writing functions to compute these values.\n",
    "\n",
    "Consider a sample with five genes expressed:\n",
    "\n",
    "* Gene A is length 5kb and has 1,000 copies expressed.\n",
    "* Gene B is length 3kb and has 200 copies expressed.\n",
    "* Gene C is length 2kb and has 500 copies expressed.\n",
    "* Gene D is length 10kb and has 50 copies expressed.\n",
    "* Gene E is length 7kb and has 1 copy expressed.\n",
    "\n",
    "We perform RNA-sequencing on this sample and count the number of reads mapping to each gene (given in the list `reads_ctrl` below).\n",
    "\n",
    "**Question 1 (7 pts)** Complete the functions `RPKM` and `TPM` below and use these functions to compute RPKM and TPM values for each of the five genes. Examples are given in the autograder tests so you can make sure your solution is working.\n",
    "\n",
    "You should find that the magnitudes of RPKM and TPM are quite different, but the relative difference between genes should be similar (e.g. for both metrics, Gene E has the smallest expression level and Gene A has the largest)."
   ]
  },
  {
   "cell_type": "code",
   "execution_count": 21,
   "metadata": {
    "deletable": false,
    "nbgrader": {
     "checksum": "1a530d25ead33b73cf6bbf16d04f5c57",
     "grade": false,
     "grade_id": "cell-9b536826b0d3c0f2",
     "locked": false,
     "schema_version": 1,
     "solution": true
    }
   },
   "outputs": [
    {
     "name": "stdout",
     "output_type": "stream",
     "text": [
      "\n",
      "RPKM/TMP for each gene\n",
      "Gene A: RPKM=140706.35 TPM=571102.23\n",
      "Gene B: RPKM=28141.27 TPM=114220.45\n",
      "Gene C: RPKM=70353.17 TPM=285551.11\n",
      "Gene D: RPKM=7035.32 TPM=28555.11\n",
      "Gene E: RPKM=140.71 TPM=571.10\n"
     ]
    }
   ],
   "source": [
    "import numpy as np\n",
    "\n",
    "# Function to compute RPKM for each gene\n",
    "# Inputs:\n",
    "# read_counts: list of read counts for each gene. e.g. [readcount1, readcount2, ...] \n",
    "# gene_lengths: list of gene lengths for each gene. e.g. [length1, length2, ...]\n",
    "# Ouputs: rpkms for each gene. e.g. [rpkm1, rpkm2, ...]\n",
    "def RPKM(read_counts, gene_lengths):\n",
    "    rpkms = [0]*len(read_counts) # return list of rpkm values, one for each gene, broadcasts 0's\n",
    "    total_reads = sum(read_counts)\n",
    "    for i, (reads, gene_length) in enumerate(zip(read_counts, gene_lengths)):\n",
    "        rpkms[i] = reads*(1000/gene_length)*(1e6/total_reads)\n",
    "    return rpkms\n",
    "\n",
    "# Function to compute TPM for each gene\n",
    "# Inputs:\n",
    "# read_counts: list of read counts for each gene. e.g. [readcount1, readcount2, ...] \n",
    "# gene_lengths: list of gene lengths for each gene. e.g. [length1, length2, ...]\n",
    "# Ouputs: tpms for each gene. e.g. [tpm1, tpm2, ...]\n",
    "def TPM(read_counts, gene_lengths):\n",
    "    tpms = [0]*len(read_counts)\n",
    "    rpks = [0]*len(read_counts)\n",
    "    for i, (reads, gene_length) in enumerate(zip(read_counts,gene_lengths)):\n",
    "        rpks[i] = reads*(1000/gene_length)\n",
    "    S = sum(rpks)/1e6\n",
    "    tpms = [rpk/S for rpk in rpks]\n",
    "    return tpms\n",
    "\n",
    "# Gene info (names, lengths, and transcript counts)\n",
    "txnames = [\"A\",\"B\",\"C\",\"D\",\"E\"]\n",
    "txlens = [5000, 3000, 2000, 10000, 7000]\n",
    "txcounts_ctrl = [1000, 200, 500, 50, 1]\n",
    "# Number of reads observed for each gene\n",
    "reads_ctrl = [txcounts_ctrl[i]*txlens[i] for i in range(len(txlens))]\n",
    "\n",
    "# Compute rpkms and tpms\n",
    "rpkms_ctrl = RPKM(reads_ctrl, txlens)\n",
    "tpms_ctrl = TPM(reads_ctrl, txlens)\n",
    "\n",
    "print(\"\\nRPKM/TMP for each gene\")\n",
    "for i in range(len(txlens)):\n",
    "    print(\"Gene %s: RPKM=%.2f TPM=%.2f\"%(txnames[i], rpkms_ctrl[i], tpms_ctrl[i]))"
   ]
  },
  {
   "cell_type": "code",
   "execution_count": 23,
   "metadata": {
    "deletable": false,
    "editable": false,
    "nbgrader": {
     "checksum": "992b83d91899d20d122b0b0e726f7237",
     "grade": true,
     "grade_id": "correct-tpm-fpkm",
     "locked": true,
     "points": 7,
     "schema_version": 1,
     "solution": false
    }
   },
   "outputs": [],
   "source": [
    "\"\"\"Check output of TPM/RPKM functions\"\"\"\n",
    "test_txlens = [400, 300, 20, 10000, 70000]\n",
    "test_txcounts_ctrl = [100, 2000, 800, 2, 1]\n",
    "test_reads_ctrl = [test_txcounts_ctrl[i]*test_txlens[i] for i in range(len(test_txlens))]\n",
    "test_tpms = TPM(test_reads_ctrl, test_txlens)\n",
    "test_rpkms = RPKM(test_reads_ctrl, test_txlens)\n",
    "tpm_results = [34447, 688942, 275576, 688, 344]\n",
    "rpkm_results = [134048, 2680965, 1072386, 2680, 1340]\n",
    "for i in range(len(reads_ctrl)):\n",
    "    assert(abs(test_tpms[i]-tpm_results[i])<1)\n",
    "    assert(abs(test_rpkms[i]-rpkm_results[i])<1)\n",
    "assert(round(sum(test_tpms))==1000000)"
   ]
  },
  {
   "cell_type": "markdown",
   "metadata": {
    "deletable": false,
    "editable": false,
    "nbgrader": {
     "checksum": "c17a6f92d75aa36c9f9184111f999cb5",
     "grade": false,
     "grade_id": "cell-896da76f0644da19",
     "locked": true,
     "schema_version": 1,
     "solution": false
    }
   },
   "source": [
    "Now we treat the sample with a drug, which doubles the expression of Gene E (from 1 to 2 copies). We perform RNA-sequencing on the sample before and after treatment using 1 million  reads in each experiment and perform differential expression analysis to see if we can detect any genes whose expression changed.\n",
    "\n",
    "**Question 2 (3 pts)**: Complete the function `FoldChange` below which computes the fold change in expression for each gene by comparing expression values in a \"treatment\" vs. \"control\" sample. Use this function to determine the fold change in expression of each gene calculated based on either the TPM or RPKM metrics. Examples are given in the autograder tests to check your answer is correct"
   ]
  },
  {
   "cell_type": "code",
   "execution_count": 25,
   "metadata": {
    "deletable": false,
    "nbgrader": {
     "checksum": "1906aa5ece2bc661678989c1c71ffad5",
     "grade": false,
     "grade_id": "cell-4cf031c03c85cc9b",
     "locked": false,
     "schema_version": 1,
     "solution": true
    }
   },
   "outputs": [
    {
     "name": "stdout",
     "output_type": "stream",
     "text": [
      "\n",
      "Fold change deteted for each gene\n",
      "Gene A: FoldChange[RPKM]=1.00 FoldChange[TPM]=1.00\n",
      "Gene B: FoldChange[RPKM]=1.00 FoldChange[TPM]=1.00\n",
      "Gene C: FoldChange[RPKM]=1.00 FoldChange[TPM]=1.00\n",
      "Gene D: FoldChange[RPKM]=1.00 FoldChange[TPM]=1.00\n",
      "Gene E: FoldChange[RPKM]=2.00 FoldChange[TPM]=2.00\n"
     ]
    }
   ],
   "source": [
    "def FoldChange(expr_ctrl, expr_treat):\n",
    "    foldchanges = []\n",
    "    for expr_c, expr_t in zip(expr_ctrl, expr_treat):\n",
    "        foldchanges.append(expr_t/expr_c)\n",
    "    return foldchanges\n",
    "\n",
    "# Gene info (names, lengths, and transcript counts)\n",
    "txnames = [\"A\",\"B\",\"C\",\"D\",\"E\"]\n",
    "txlens = [5000, 3000, 2000, 10000, 7000]\n",
    "txcounts_ctrl = [1000, 200, 500, 50, 1]\n",
    "txcounts_treat = [1000, 200, 500, 50, 2]\n",
    "\n",
    "# Number of reads observed for each gene\n",
    "reads_ctrl = [txcounts_ctrl[i]*txlens[i] for i in range(len(txlens))]\n",
    "reads_ctrl = [reads_ctrl[i]*1000000/np.sum(reads_ctrl) for i in range(len(txlens))]\n",
    "reads_treat = [txcounts_treat[i]*txlens[i] for i in range(len(txlens))]\n",
    "reads_treat = [reads_treat[i]*1000000/np.sum(reads_treat) for i in range(len(txlens))]\n",
    "\n",
    "# Compute rpkms and tpms\n",
    "rpkms_ctrl = RPKM(reads_ctrl, txlens)\n",
    "tpms_ctrl = TPM(reads_ctrl, txlens)\n",
    "rpkms_treat = RPKM(reads_treat, txlens)\n",
    "tpms_treat = TPM(reads_treat, txlens)\n",
    "\n",
    "fc_rpkm = FoldChange(rpkms_ctrl, rpkms_treat)\n",
    "fc_tpm = FoldChange(tpms_ctrl, tpms_treat)\n",
    "\n",
    "print(\"\\nFold change deteted for each gene\")\n",
    "for i in range(len(txlens)):\n",
    "    print(\"Gene %s: FoldChange[RPKM]=%.2f FoldChange[TPM]=%.2f\"%(txnames[i], fc_rpkm[i], fc_tpm[i]))          "
   ]
  },
  {
   "cell_type": "code",
   "execution_count": 26,
   "metadata": {
    "deletable": false,
    "editable": false,
    "nbgrader": {
     "checksum": "327e9ac428a1b869a6c77eac0a296af0",
     "grade": true,
     "grade_id": "correct-fc",
     "locked": true,
     "points": 3,
     "schema_version": 1,
     "solution": false
    }
   },
   "outputs": [],
   "source": [
    "\"\"\"Test output of FoldChange\"\"\"\n",
    "values_ctrl = [1,2,3,4,5]\n",
    "values_test = [2,1,6,12,50]\n",
    "fc = FoldChange(values_ctrl, values_test)\n",
    "assert(fc==[2, 0.5, 2, 3, 10])"
   ]
  },
  {
   "cell_type": "markdown",
   "metadata": {
    "deletable": false,
    "editable": false,
    "nbgrader": {
     "checksum": "cddfcd0a01ccc5854e433e18ff683c54",
     "grade": false,
     "grade_id": "cell-a5cdf87b22e541b4",
     "locked": true,
     "schema_version": 1,
     "solution": false
    }
   },
   "source": [
    "You should hopefully see the expected result: there was no change in expression of Genes A, B, C, and D (fold change=1), but Gene E doubled its expression (fold change=2)! \n",
    "\n",
    "This worked well, since Gene E's expression level is pretty small compared to the total expression of all genes in our sample. Let's see what happens when we see a huge change in expression. Below, we look at the fold changes we would compute using RPKM or TPM if Gene E actually increadsed its expression 100-fold."
   ]
  },
  {
   "cell_type": "code",
   "execution_count": 27,
   "metadata": {
    "deletable": false,
    "editable": false,
    "nbgrader": {
     "checksum": "cda0033d8c22f9b7e4eec2c940f58f20",
     "grade": false,
     "grade_id": "cell-35a1f3cf8bc65e07",
     "locked": true,
     "schema_version": 1,
     "solution": false
    }
   },
   "outputs": [
    {
     "name": "stdout",
     "output_type": "stream",
     "text": [
      "\n",
      "Fold change deteted for each gene\n",
      "Gene A: FoldChange[RPKM]=0.91 FoldChange[TPM]=0.95\n",
      "Gene B: FoldChange[RPKM]=0.91 FoldChange[TPM]=0.95\n",
      "Gene C: FoldChange[RPKM]=0.91 FoldChange[TPM]=0.95\n",
      "Gene D: FoldChange[RPKM]=0.91 FoldChange[TPM]=0.95\n",
      "Gene E: FoldChange[RPKM]=91.12 FoldChange[TPM]=94.65\n"
     ]
    }
   ],
   "source": [
    "# Gene info (names, lengths, and transcript counts)\n",
    "txnames = [\"A\",\"B\",\"C\",\"D\",\"E\"]\n",
    "txlens = [5000, 3000, 2000, 10000, 7000]\n",
    "txcounts_ctrl = [1000, 200, 500, 50, 1]\n",
    "txcounts_treat = [1000, 200, 500, 50, 100]\n",
    "\n",
    "# Number of reads observed for each gene\n",
    "reads_ctrl = [txcounts_ctrl[i]*txlens[i] for i in range(len(txlens))]\n",
    "reads_ctrl = [reads_ctrl[i]*1000000/np.sum(reads_ctrl) for i in range(len(txlens))]\n",
    "reads_treat = [txcounts_treat[i]*txlens[i] for i in range(len(txlens))]\n",
    "reads_treat = [reads_treat[i]*1000000/np.sum(reads_treat) for i in range(len(txlens))]\n",
    "\n",
    "# Compute rpkms and tpms\n",
    "rpkms_ctrl = RPKM(reads_ctrl, txlens)\n",
    "tpms_ctrl = TPM(reads_ctrl, txlens)\n",
    "rpkms_treat = RPKM(reads_treat, txlens)\n",
    "tpms_treat = TPM(reads_treat, txlens)\n",
    "\n",
    "fc_rpkm = FoldChange(rpkms_ctrl, rpkms_treat)\n",
    "fc_tpm = FoldChange(tpms_ctrl, tpms_treat)\n",
    "\n",
    "print(\"\\nFold change deteted for each gene\")\n",
    "for i in range(len(txlens)):\n",
    "    print(\"Gene %s: FoldChange[RPKM]=%.2f FoldChange[TPM]=%.2f\"%(txnames[i], fc_rpkm[i], fc_tpm[i]))          "
   ]
  },
  {
   "cell_type": "markdown",
   "metadata": {
    "deletable": false,
    "editable": false,
    "nbgrader": {
     "checksum": "dcd547897fe33145b428ada568cd61ff",
     "grade": false,
     "grade_id": "cell-cfa0c1ad03f458e9",
     "locked": true,
     "schema_version": 1,
     "solution": false
    }
   },
   "source": [
    "Now we can start to see an inherent limitation of the normalization we have to do when we perform RNA-seq. While Gene E increased 100-fold, the difference we measure is smaller than that (which metric is closer to the real change, TPM or FPKM?). You'll notice another change as well: it looks like the expression of all the other genes is actually going down! (fold change < 1). Since RNA-seq essentially measures expression of each gene as a fraction of the total pool, huge fluctuations in expression can be difficult or impossible to interpret. If some genes increase expression, it will look like expression of the other genes is decreasing, even if they are actually staying the same. Let's look at one additional even more extreme example: say expression of Gene A doubles from 1000 to 2000:"
   ]
  },
  {
   "cell_type": "code",
   "execution_count": 28,
   "metadata": {
    "deletable": false,
    "editable": false,
    "nbgrader": {
     "checksum": "cf79bea2e17ba9230305ffbccbce4f56",
     "grade": false,
     "grade_id": "cell-53b3ff2e7c9e506f",
     "locked": true,
     "schema_version": 1,
     "solution": false
    }
   },
   "outputs": [
    {
     "name": "stdout",
     "output_type": "stream",
     "text": [
      "\n",
      "Fold change deteted for each gene\n",
      "Gene A: FoldChange[RPKM]=1.17 FoldChange[TPM]=1.27\n",
      "Gene B: FoldChange[RPKM]=0.59 FoldChange[TPM]=0.64\n",
      "Gene C: FoldChange[RPKM]=0.59 FoldChange[TPM]=0.64\n",
      "Gene D: FoldChange[RPKM]=0.59 FoldChange[TPM]=0.64\n",
      "Gene E: FoldChange[RPKM]=0.59 FoldChange[TPM]=0.64\n"
     ]
    }
   ],
   "source": [
    "# Gene info (names, lengths, and transcript counts)\n",
    "txnames = [\"A\",\"B\",\"C\",\"D\",\"E\"]\n",
    "txlens = [5000, 3000, 2000, 10000, 7000]\n",
    "txcounts_ctrl = [1000, 200, 500, 50, 1]\n",
    "txcounts_treat = [2000, 200, 500, 50, 1]\n",
    "\n",
    "# Number of reads observed for each gene\n",
    "reads_ctrl = [txcounts_ctrl[i]*txlens[i] for i in range(len(txlens))]\n",
    "reads_ctrl = [reads_ctrl[i]*1000000/np.sum(reads_ctrl) for i in range(len(txlens))]\n",
    "reads_treat = [txcounts_treat[i]*txlens[i] for i in range(len(txlens))]\n",
    "reads_treat = [reads_treat[i]*1000000/np.sum(reads_treat) for i in range(len(txlens))]\n",
    "\n",
    "# Compute rpkms and tpms\n",
    "rpkms_ctrl = RPKM(reads_ctrl, txlens)\n",
    "tpms_ctrl = TPM(reads_ctrl, txlens)\n",
    "rpkms_treat = RPKM(reads_treat, txlens)\n",
    "tpms_treat = TPM(reads_treat, txlens)\n",
    "\n",
    "fc_rpkm = FoldChange(rpkms_ctrl, rpkms_treat)\n",
    "fc_tpm = FoldChange(tpms_ctrl, tpms_treat)\n",
    "\n",
    "print(\"\\nFold change deteted for each gene\")\n",
    "for i in range(len(txlens)):\n",
    "    print(\"Gene %s: FoldChange[RPKM]=%.2f FoldChange[TPM]=%.2f\"%(txnames[i], fc_rpkm[i], fc_tpm[i]))          "
   ]
  },
  {
   "cell_type": "markdown",
   "metadata": {
    "deletable": false,
    "editable": false,
    "nbgrader": {
     "checksum": "12ec24344ce298e704e6982718b22e96",
     "grade": false,
     "grade_id": "cell-e4eeadaacc33136b",
     "locked": true,
     "schema_version": 1,
     "solution": false
    }
   },
   "source": [
    "In reality, genes B-E stayed the same (should have fold-change of 1) and expression of gene A doubled (should have fold-change of 2). However what we see is far from that!"
   ]
  },
  {
   "cell_type": "markdown",
   "metadata": {
    "deletable": false,
    "editable": false,
    "nbgrader": {
     "checksum": "40d169426553b4098e7666eddd8e8b0a",
     "grade": false,
     "grade_id": "cell-dd679c6b7940b795",
     "locked": true,
     "schema_version": 1,
     "solution": false
    }
   },
   "source": [
    "## 3. More on what TPM/FPKM actually compute (optional reading)\n",
    "\n",
    "The section below is optional reading to understand subtle differences between what is calculated by RPKM vs. TPM.\n",
    "\n",
    "Consider a cell with $N$ total genes, with $n_i$ copies (transcripts) of each gene $i$ expressed.\n",
    "\n",
    "Then the total number of transcripts in the cell is $M=\\sum_i n_i$, and the percentage of transcripts originating from gene $i$ is $p_i = n_i/M$ and by definition $\\sum_i p_i = 1$.\n",
    "\n",
    "Let $l_i$ be the length of gene $i$. Then we would expect the total number of reads mapping to each gene $r_i$ to be:\n",
    "\n",
    "$$ r_i = \\frac{n_il_i}{\\sum_j n_j l_j} * R $$\n",
    "\n",
    "where $R$ is the number of reads sequenced.\n",
    "\n",
    "Then we can work out what the RPKM of gene $i$ would be:\n",
    "$$ rpkm_i = \\frac{r_i}{l_i/10^3*R/10^6}  = \\frac{n_il_i*R*10^9}{l_i*R\\sum_j n_j l_j} = \\frac{n_i*10^9}{\\sum_j n_j l_j}$$\n",
    "\n",
    "We can rewrite this in terms of $p_i$ (since $p_i=n_i/M$ and the $M$ cancels):\n",
    "$$ rpkm_i = \\frac{p_i*10^9}{\\sum_j p_j l_j} $$\n",
    "\n",
    "When analyzing RNA-seq, what we really want is something proportional to $p_i$, so we can analyze what fraction of transcripts in our sample come from each gene. So RPKM doesn't quite give us what we want, since there is this weird normalization term ($\\sum_j p_j l_j$).\n",
    "\n",
    "Let's instead consider TPM:\n",
    "\n",
    "$$ tpm_i = \\frac{\\frac{n_il_i}{\\sum_j n_j l_j} * R}{(l_i/1000)(\\sum_j r_j/(l_j/1000)/1000000}$$\n",
    "\n",
    "Simplifying:\n",
    "$$tpm_i = \\frac{n_i R * 10^6}{\\sum_j n_j l_j \\sum_j r_j/l_j} $$\n",
    "\n",
    "We can further simplify the denominator (by substituting relationships defined above):\n",
    "$\\sum_j n_j l_j \\sum_j r_j/l_j = R \\sum_j n_j l_j \\sum_j \\frac{n_jl_j}{l_j\\sum_j n_j l_j} = R\\sum_j n_j$ to get:\n",
    "\n",
    "$$ tpm_i = \\frac{n_i * 10^6}{\\sum_j n_j} $$\n",
    "\n",
    "replacing the $n$'s with $p$'s using the same logic as above and noting $\\sum_j p_j=1$, we get:\n",
    "\n",
    "$$ tpm_i = p_i * 10^6 $$\n",
    "\n",
    "So, TPM actually gives us an intuitive metric of the percentage of transcripts that come from gene $i$! (just scaled by 1 million to make the numbers easier to deal with)."
   ]
  }
 ],
 "metadata": {
  "kernelspec": {
   "display_name": "Python 3",
   "language": "python",
   "name": "python3"
  },
  "language_info": {
   "codemirror_mode": {
    "name": "ipython",
    "version": 3
   },
   "file_extension": ".py",
   "mimetype": "text/x-python",
   "name": "python",
   "nbconvert_exporter": "python",
   "pygments_lexer": "ipython3",
   "version": "3.6.7"
  }
 },
 "nbformat": 4,
 "nbformat_minor": 2
}
