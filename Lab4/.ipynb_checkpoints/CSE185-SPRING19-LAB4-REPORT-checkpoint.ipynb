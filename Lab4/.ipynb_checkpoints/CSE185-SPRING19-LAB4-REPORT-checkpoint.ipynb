{
 "cells": [
  {
   "cell_type": "markdown",
   "metadata": {},
   "source": [
    "# Week 4 Lab: You are what you eat (differential expression)\n",
    "\n",
    "**Due: Monday 4/29/19 11:59pm**\n",
    "\n",
    "**Partner:** (optional)\n",
    "\n",
    "Use this notebook to report your findings from the lab. Lab reports typically should include:\n",
    "* An introduction giving motivation behind the study, what was done, and summarizing the main findings.\n",
    "* A methods section providing details on how the analyses were performed.\n",
    "* A results section providing the main findings.\n",
    "* A discussion section with interpretation of the results and some leads for future directions.\n",
    "\n",
    "For this report, we will focus on Methods, Results, and Discussion and have provided some prompts below for these. We have provided an example introduction this week as a reference for future weeks.\n",
    "\n",
    "**Notes on how to complete the lab report**:\n",
    "\n",
    "Short answer questions should use Markdown syntax (http://nestacms.com/docs/creating-content/markdown-cheat-sheet). If you would like to include an answer that is a mixture of code and text, you can generate additional cells below the provided answer cell.\n",
    "\n",
    "You may include Python code to directly generate tables (this can be much easier than copying the numbers to markdown syntax from scratch).\n",
    "\n",
    "For questions that ask for plots, we prefer you include Python code to generate the results inline. However if you really want to you may also include figures using other means (e.g. making them separately and linking to them in the markdown. or making them in R)."
   ]
  },
  {
   "cell_type": "markdown",
   "metadata": {
    "deletable": false,
    "editable": false,
    "nbgrader": {
     "checksum": "bdcc6cfa0853b008f80e35a2fa04ff33",
     "grade": false,
     "grade_id": "cell-5d7be66f23dcfaf0",
     "locked": true,
     "schema_version": 1,
     "solution": false
    }
   },
   "source": [
    "## Introduction\n",
    "\n",
    "An introduction should provide:\n",
    "* motivation for the study\n",
    "* a brief summary of what was done\n",
    "* a brief summary of the major results\n",
    "\n",
    "Diet-induced obesity is known to be a major factor leading to increased risk for a variety of conditions such as heart disease and diabetes. Multiple studies have suggested that diets high in fat content may be contributing to the growing prevalence of obesity and related conditions.\n",
    "\n",
    "In this study, RNA-sequencing was performed on livers of mice after being fed either a standard Chow diet or a high fat diet (HFD) for seven weeks. We performed differential expression analysis to identify and characterize genes with increased or decreased activity induced by each diet. Overall, we found hundreds of genes showed altered expression levels in the HFD group, suggesting significant diet-induced reprogramming of liver transcription. Differentially expressed genes are highly enriched for involvement in metabolic processes such as lipid processing."
   ]
  },
  {
   "cell_type": "markdown",
   "metadata": {
    "deletable": false,
    "editable": false,
    "nbgrader": {
     "checksum": "cf7f6ed8dd6ee3355073f8e8c931d7b3",
     "grade": false,
     "grade_id": "cell-6d827232aaddca2b",
     "locked": true,
     "schema_version": 1,
     "solution": false
    }
   },
   "source": [
    "# Methods (20 pts total)"
   ]
  },
  {
   "cell_type": "markdown",
   "metadata": {
    "deletable": false,
    "editable": false,
    "nbgrader": {
     "checksum": "acfe9f33ef75143e7012ca77ffbc43d9",
     "grade": false,
     "grade_id": "cell-15bc798f838cfd32",
     "locked": true,
     "schema_version": 1,
     "solution": false
    }
   },
   "source": [
    "**Dataset description (<font color=\"red\">Methods-Q1</font> - 5 pts)**: Provide a brief description of the six datasets used, including:\n",
    "* How many samples are you analyzing and where did they come from? (e.g. what species are they, what tissue are you analyzing, what is the difference between the two treatment groups?)\n",
    "* The number of reads for each sample (i.e. from the original fastqs)\n",
    "* The read length"
   ]
  },
  {
   "cell_type": "markdown",
   "metadata": {
    "deletable": false,
    "nbgrader": {
     "checksum": "70c2976bf6955be6912dd08cc2805276",
     "grade": true,
     "grade_id": "correct-dataset-description",
     "locked": false,
     "points": 5,
     "schema_version": 1,
     "solution": true
    }
   },
   "source": [
    "The six datasets that are used for this anaylsis consist of mice transcriptomes (RNA-seq data) from two different classes with all samples being drawn from liver tissue biopsies. There are three samples from each class, with the two classes being mice with a high fat diet (HFD) and mice with a standard \"chow\" diet. The analysis is done to see how gene expression levels vary in mice with different diets and how those genes might be up or down regulated to cope with the different circumstances. \n",
    "\n",
    "The data for each sample consists of fastq files that contain the RNA sequence data of each mouse sample. The exact details of each fastq are listed as (analysis done with command line tools and verified with fastqc):\n",
    "\n",
    "Chow_Rep1.fq\n",
    "\n",
    "read length: 50, number of reads: 70123120/4 = 17530780\n",
    "\n",
    "Chow_Rep2.fq\n",
    "\n",
    "read length: 50, number of reads: 70340660/4 = 17585165\n",
    "\n",
    "Chow_Rep3.fq\n",
    "\n",
    "read length: 50, number of reads: 64088296/4 = 16022074\n",
    "\n",
    "HFD_Rep1.fq\n",
    "\n",
    "read length: 50, number of reads: 64562596/4 = 16140649\n",
    "\n",
    "HFD_Rep2.fq\n",
    "\n",
    "read length: 50, number of reads: 60862004/4 = 15215501\n",
    "\n",
    "HFD_Rep3.fq\n",
    "\n",
    "read length: 50, number of reads: 45252364/4 = 11313091"
   ]
  },
  {
   "cell_type": "markdown",
   "metadata": {
    "deletable": false,
    "editable": false,
    "nbgrader": {
     "checksum": "3dc98566b820287e2f170489d3d9d540",
     "grade": false,
     "grade_id": "cell-4a4f51486504867e",
     "locked": true,
     "schema_version": 1,
     "solution": false
    }
   },
   "source": [
    "**Alignment and expression quantification (<font color=\"red\">Methods-Q2</font> - 5 pts)**: Summarize the methods used for aligning RNA-seq reads and quantifying expression for each sample. Include:\n",
    "* Which tools you used (and ideally which version of each tool)\n",
    "* Which assembly of the reference genome was used?\n",
    "* Which transcriptome annotation was used?\n",
    "* Any non-default parameters used for each tool."
   ]
  },
  {
   "cell_type": "markdown",
   "metadata": {
    "deletable": false,
    "nbgrader": {
     "checksum": "f1394608c48efd2b76c194494a43397f",
     "grade": true,
     "grade_id": "correct-methods",
     "locked": false,
     "points": 5,
     "schema_version": 1,
     "solution": true
    }
   },
   "source": [
    "Following along the typical sequence method pipeline, the first thing to do with the fragmented reads in the fastq file is to align them to a reference genome. In this case since our reads are RNA fragments we are aligning to a reference trascriptome. This is simply the coding regions of the reference genome taking into account for the spliced introns and coding exons. This is done with a program called STAR. STAR 2.7.0d is used (STAR --help | grep 'version'). STAR takes in the fastq files (containing the RNA reads) along with the reference transcriptome and outputs two BAM files. One for alignment to the original mouse reference genome and one for the reference transcriptome. For this specific application the inputs are the GRCm38.fa reference along with the GRCm38.75.gtf gene annotation file (ENSEMBL build 75). The annotation file indicates the locations on the genome of exon regions such as the start and end boundaries. STAR is first used to create an index file used to easily locate regions when aligning. The index file is then used to align the reads to the reference. The indexing command follows the standard parameters indicated in the manual however the alignment command uses specific parameters recommended by ENCODE. These include the following:\n",
    "\n",
    "STAROPTS=\"--outSAMattributes NH HI AS NM MD \\ <br>\n",
    "    --outFilterType BySJout \\ <br>\n",
    "    --outFilterMultimapNmax 20 \\ <br>\n",
    "    --outFilterMismatchNmax 999 \\ <br>\n",
    "    --outFilterMismatchNoverReadLmax 0.04 \\ <br>\n",
    "    --alignIntronMin 20 \\ <br>\n",
    "    --alignIntronMax 1000000 \\ <br>\n",
    "    --alignMatesGapMax 1000000 \\ <br>\n",
    "    --alignSJoverhangMin 8 \\ <br>\n",
    "    --alignSJDBoverhangMin 1 \\ <br>\n",
    "    --sjdbScore 1 \\ <br>\n",
    "    --limitBAMsortRAM 50000000000\" <br>\n",
    "\n",
    "Typically the basic mapping options only include the number of threads, the genome directory and the files in.\n",
    "\n",
    "Next, RSEM (Current version: RSEM v1.3.1) is used for quantifying the gene expression from RNA-seq. This takes in the BAM file that is aligned to the transcriptome which was generated from STAR. In addition RSEM also needs to prepare the reference transcriptome by taking in the reference genome and gene annotation. Quantification is then calculated by running rsem-calculate-expression with indicated fields. In the command given in the instruction notebook it is run with the option -p 5 (indicates the number of threads). The output of RSEM is a .results file and there is one for total gene expression results as well as one for gene isoform results. "
   ]
  },
  {
   "cell_type": "markdown",
   "metadata": {
    "deletable": false,
    "editable": false,
    "nbgrader": {
     "checksum": "ea6828ea9396a7eb3c15a2ab01ce7cc2",
     "grade": false,
     "grade_id": "cell-667ddc3941ef8772",
     "locked": true,
     "schema_version": 1,
     "solution": false
    }
   },
   "source": [
    "**Differential expression analysis (<font color=\"red\">Methods-Q3</font> - 5 pts)**: Summarize the methods used for performing differential expression analysis:\n",
    "\n",
    "* Which tool(s) did you use for this?\n",
    "* What preprocessing did you to do the data before running (e.g. loaded with tximport, removed lowly expressed genes)\n",
    "* What significance value did you use to decide which genes are differentially expressed?\n",
    "\n",
    "(Note, using the R command `sessionInfo()` will tell you which versions of each package are loaded)."
   ]
  },
  {
   "cell_type": "markdown",
   "metadata": {
    "deletable": false,
    "nbgrader": {
     "checksum": "2dd39a228f7be4114d5f544c4c562ba0",
     "grade": true,
     "grade_id": "correct-methods-de",
     "locked": false,
     "points": 5,
     "schema_version": 1,
     "solution": true
    }
   },
   "source": [
    "In order to conduct the differential expression analysis the DESeq2 library is used in R. Specifically we are using DESeq2 version DESeq2_1.22.2. Further more the tximport library (tximport_1.10.1) is also used in order to load the RSEM results. The analysis is run in a Jupyter notebook magic cell (enabled to run R %%R), then the tximport loads the data into the worksapce and then a pseudocount of 1 is used to replace all values that are 0 (I believe this is for computing log values). Then counts less than 10 are removed since they are so low and unlikely to be differentially expressed. A significance value threshold of 0.05 is used or 5% since those most likely account for the the false discovery rates. The data is then pipped to the deseq2 function. The outputof the function is then sent to chow_vs_hfd_deseq2.csv."
   ]
  },
  {
   "cell_type": "markdown",
   "metadata": {
    "deletable": false,
    "editable": false,
    "nbgrader": {
     "checksum": "d48f3ce31c033a1f24264d0be8c89536",
     "grade": false,
     "grade_id": "cell-51910391f6f3c192",
     "locked": true,
     "schema_version": 1,
     "solution": false
    }
   },
   "source": [
    "**Gene enrichment analysis methods (<font color=\"red\">Methods-Q4</font> - 5 pts)**: Summarize the methods you used for performing GO analysis on your differentially expressed genes. (Don't worry if you can't figure out the version of `find_enrichment.py`)."
   ]
  },
  {
   "cell_type": "markdown",
   "metadata": {
    "deletable": false,
    "nbgrader": {
     "checksum": "62c955ca08ed3ef4c543823c2e46805c",
     "grade": true,
     "grade_id": "correct-go-methods",
     "locked": false,
     "points": 5,
     "schema_version": 1,
     "solution": true
    }
   },
   "source": [
    "The script find_enrichment.py is used to categorize the genes into their selected ontology groups. This script comes from the Python package goatools. First one defines 'background' as all genes that were analyzed and then 'foreground' are the genes that are considered differentially expressed. The inputs into this script are as follows:\n",
    "\n",
    "* a file containing a list of gene names of differentially expressed genes\n",
    "* a file containing a list of gene names of all analyzed genes\n",
    "* a file mapping each gene to its annotated GO categories. We have provided this in the `week4/GOAnalysis/` folder\n",
    "* a file containing the GO database. It is also provided in the `week4/GOAnalysis/` folder.\n",
    "\n",
    "In order to get the first two files, the results from the differentaily expressed genes are outputted into text files for this command. The command is run twice, first using statistically significant differentially expressed up regulated genes as the foreground and then another time with statistically significant differentially expressed down regulated genes. The output files can then be parsed for the significant ontology groupings ranking by p value."
   ]
  },
  {
   "cell_type": "markdown",
   "metadata": {
    "deletable": false,
    "editable": false,
    "nbgrader": {
     "checksum": "c8b01e857db87ae8f5c0444bc202caa3",
     "grade": false,
     "grade_id": "cell-313f617a7fecf2a5",
     "locked": true,
     "schema_version": 1,
     "solution": false
    }
   },
   "source": [
    "# Results (45 pts total)\n",
    "\n",
    "## Summary of expression quantification"
   ]
  },
  {
   "cell_type": "markdown",
   "metadata": {
    "deletable": false,
    "editable": false,
    "nbgrader": {
     "checksum": "5f2b702079d6efbb3299eba9f28dc5cc",
     "grade": false,
     "grade_id": "cell-26ec732bc1e1d9cc",
     "locked": true,
     "schema_version": 1,
     "solution": false
    }
   },
   "source": [
    "**How many genes were expressed (TPM>0) in each sample? (<font color=\"red\">Results-Q1</font> - 3 pts)**"
   ]
  },
  {
   "cell_type": "markdown",
   "metadata": {
    "deletable": false,
    "nbgrader": {
     "checksum": "0118e8f019035785e19e045d334f960a",
     "grade": true,
     "grade_id": "correct-expr-summary",
     "locked": false,
     "points": 3,
     "schema_version": 1,
     "solution": true
    }
   },
   "source": [
    "Using the command:\n",
    "\n",
    "cut -f6Chow_Rep1.genes.results | awk '(NR>1 && $1>0)' | wc -l\n",
    "\n",
    "for each output file from RSEM the following results for TPM>0 is:\n",
    "\n",
    "Chow_Rep1.fq = 16912 genes\n",
    "\n",
    "Chow_Rep2.fq = 17091 genes\n",
    "\n",
    "Chow_Rep3.fq = 16790 genes\n",
    "\n",
    "HFD_Rep1.fq = 17073 genes\n",
    "\n",
    "HFD_Rep2.fq = 16843 genes\n",
    "\n",
    "HFD_Rep3.fq = 16730 genes"
   ]
  },
  {
   "cell_type": "markdown",
   "metadata": {
    "deletable": false,
    "editable": false,
    "nbgrader": {
     "checksum": "32962192d5da5e775c9caf79c3b4b093",
     "grade": false,
     "grade_id": "cell-b259fc1036485dd2",
     "locked": true,
     "schema_version": 1,
     "solution": false
    }
   },
   "source": [
    "**Report the pairwise Pearson correlation between TPM values for each of the six samples (<font color=\"red\">Results-Q2</font> - 5 pts)**: Are replicates strongly correlated with each other? Are replicates of Chow or HFD more strongly correlated than datasets from different treatments (Chow vs. HFD)?"
   ]
  },
  {
   "cell_type": "code",
   "execution_count": 2,
   "metadata": {
    "deletable": false,
    "nbgrader": {
     "checksum": "3f6a35cfd9926ee6b5d22aa21e8e1fb1",
     "grade": true,
     "grade_id": "correct-pairwise-corr",
     "locked": false,
     "points": 5,
     "schema_version": 1,
     "solution": true
    }
   },
   "outputs": [
    {
     "name": "stdout",
     "output_type": "stream",
     "text": [
      "Populating the interactive namespace from numpy and matplotlib\n"
     ]
    }
   ],
   "source": [
    "# Run this to allow plotting in the notebook\n",
    "%pylab inline\n",
    "\n",
    "# Run this to allow using the %%R cell magic\n",
    "%load_ext rpy2.ipython\n",
    "\n",
    "# Suppress warnings (most notable from rpy2)\n",
    "import warnings\n",
    "warnings.filterwarnings('ignore')"
   ]
  },
  {
   "cell_type": "code",
   "execution_count": 3,
   "metadata": {},
   "outputs": [
    {
     "name": "stdout",
     "output_type": "stream",
     "text": [
      "Populating the interactive namespace from numpy and matplotlib\n"
     ]
    },
    {
     "data": {
      "text/html": [
       "<div>\n",
       "<style scoped>\n",
       "    .dataframe tbody tr th:only-of-type {\n",
       "        vertical-align: middle;\n",
       "    }\n",
       "\n",
       "    .dataframe tbody tr th {\n",
       "        vertical-align: top;\n",
       "    }\n",
       "\n",
       "    .dataframe thead th {\n",
       "        text-align: right;\n",
       "    }\n",
       "</style>\n",
       "<table border=\"1\" class=\"dataframe\">\n",
       "  <thead>\n",
       "    <tr style=\"text-align: right;\">\n",
       "      <th></th>\n",
       "      <th>Chow_Rep1</th>\n",
       "      <th>Chow_Rep2</th>\n",
       "      <th>Chow_Rep3</th>\n",
       "      <th>HFD_Rep1</th>\n",
       "      <th>HFD_Rep2</th>\n",
       "      <th>HFD_Rep3</th>\n",
       "    </tr>\n",
       "  </thead>\n",
       "  <tbody>\n",
       "    <tr>\n",
       "      <th>Chow_Rep1</th>\n",
       "      <td>1.000000</td>\n",
       "      <td>0.984319</td>\n",
       "      <td>0.984712</td>\n",
       "      <td>0.980339</td>\n",
       "      <td>0.983259</td>\n",
       "      <td>0.983136</td>\n",
       "    </tr>\n",
       "    <tr>\n",
       "      <th>Chow_Rep2</th>\n",
       "      <td>0.984319</td>\n",
       "      <td>1.000000</td>\n",
       "      <td>0.988975</td>\n",
       "      <td>0.986150</td>\n",
       "      <td>0.985107</td>\n",
       "      <td>0.981766</td>\n",
       "    </tr>\n",
       "    <tr>\n",
       "      <th>Chow_Rep3</th>\n",
       "      <td>0.984712</td>\n",
       "      <td>0.988975</td>\n",
       "      <td>1.000000</td>\n",
       "      <td>0.985333</td>\n",
       "      <td>0.985238</td>\n",
       "      <td>0.981117</td>\n",
       "    </tr>\n",
       "    <tr>\n",
       "      <th>HFD_Rep1</th>\n",
       "      <td>0.980339</td>\n",
       "      <td>0.986150</td>\n",
       "      <td>0.985333</td>\n",
       "      <td>1.000000</td>\n",
       "      <td>0.987234</td>\n",
       "      <td>0.982590</td>\n",
       "    </tr>\n",
       "    <tr>\n",
       "      <th>HFD_Rep2</th>\n",
       "      <td>0.983259</td>\n",
       "      <td>0.985107</td>\n",
       "      <td>0.985238</td>\n",
       "      <td>0.987234</td>\n",
       "      <td>1.000000</td>\n",
       "      <td>0.984152</td>\n",
       "    </tr>\n",
       "    <tr>\n",
       "      <th>HFD_Rep3</th>\n",
       "      <td>0.983136</td>\n",
       "      <td>0.981766</td>\n",
       "      <td>0.981117</td>\n",
       "      <td>0.982590</td>\n",
       "      <td>0.984152</td>\n",
       "      <td>1.000000</td>\n",
       "    </tr>\n",
       "  </tbody>\n",
       "</table>\n",
       "</div>"
      ],
      "text/plain": [
       "           Chow_Rep1  Chow_Rep2  Chow_Rep3  HFD_Rep1  HFD_Rep2  HFD_Rep3\n",
       "Chow_Rep1   1.000000   0.984319   0.984712  0.980339  0.983259  0.983136\n",
       "Chow_Rep2   0.984319   1.000000   0.988975  0.986150  0.985107  0.981766\n",
       "Chow_Rep3   0.984712   0.988975   1.000000  0.985333  0.985238  0.981117\n",
       "HFD_Rep1    0.980339   0.986150   0.985333  1.000000  0.987234  0.982590\n",
       "HFD_Rep2    0.983259   0.985107   0.985238  0.987234  1.000000  0.984152\n",
       "HFD_Rep3    0.983136   0.981766   0.981117  0.982590  0.984152  1.000000"
      ]
     },
     "execution_count": 3,
     "metadata": {},
     "output_type": "execute_result"
    }
   ],
   "source": [
    "%pylab inline\n",
    "import os\n",
    "import pandas as pd\n",
    "import scipy.stats\n",
    "OUTDIR=\"/datasets/cs185s-sp19-public/week4/precomputed/\"\n",
    "\n",
    "# Load data for each sample into a pandas data frame\n",
    "prefixes = [\"Chow_Rep1\",\"Chow_Rep2\",\"Chow_Rep3\",\"HFD_Rep1\",\"HFD_Rep2\",\"HFD_Rep3\"]\n",
    "data = pd.read_csv(os.path.join(OUTDIR, \"%s.genes.results\"%prefixes[0]), sep=\"\\t\")\n",
    "data = data[[\"gene_id\", \"TPM\"]]\n",
    "data.columns = [\"gene_id\", prefixes[0]]\n",
    "for i in range(1, len(prefixes)):\n",
    "    d = pd.read_csv(os.path.join(OUTDIR, \"%s.genes.results\"%prefixes[i]), sep=\"\\t\")\n",
    "    d = d[[\"gene_id\",\"TPM\"]]\n",
    "    d.columns = [\"gene_id\", prefixes[i]]\n",
    "    data = pd.merge(data, d, on=[\"gene_id\"])\n",
    "    \n",
    "# For each sample, take log10 TPM and add a pseudocount of 1 to avoid 0s\n",
    "for p in prefixes: data[p] = np.log10(data[p]+1)\n",
    "    \n",
    "(data[prefixes].corr())"
   ]
  },
  {
   "cell_type": "markdown",
   "metadata": {},
   "source": [
    "Correlation values are actually pretty similar across all samples and datasets. There is only ever a change of at max 0.007 between chow and HFD mice. The results are shown in the correlation matrix shown above. The matrix is a diagonal and symmetric matrix where diagonal terms are compared against themselvse hence why they are 1 and the off diagonal terms are the comparison between corresponding row and column pairs. "
   ]
  },
  {
   "cell_type": "markdown",
   "metadata": {
    "deletable": false,
    "editable": false,
    "nbgrader": {
     "checksum": "31d57aa1c66d4ec5fd29a870fb91be53",
     "grade": false,
     "grade_id": "cell-7c6f515c7ba0d103",
     "locked": true,
     "schema_version": 1,
     "solution": false
    }
   },
   "source": [
    "**Comparison of replicates (<font color=\"red\">Results-Q3</font> - 7 pts):**  Provide a scatter plot of gene expression values (TPM) in Chow replicates 1 vs. 2 and HFD replicates 1 vs. 2. "
   ]
  },
  {
   "cell_type": "code",
   "execution_count": 4,
   "metadata": {
    "deletable": false,
    "nbgrader": {
     "checksum": "7555e0a501d4b478665774a106f50eee",
     "grade": true,
     "grade_id": "correct-scatter",
     "locked": false,
     "points": 7,
     "schema_version": 1,
     "solution": true
    }
   },
   "outputs": [
    {
     "data": {
      "text/plain": [
       "Text(0,0.5,'log10 HFD_Rep2')"
      ]
     },
     "execution_count": 4,
     "metadata": {},
     "output_type": "execute_result"
    },
    {
     "data": {
      "image/png": "[encoded data removed]",
      "text/plain": [
       "<Figure size 432x288 with 1 Axes>"
      ]
     },
     "metadata": {
      "needs_background": "light"
     },
     "output_type": "display_data"
    },
    {
     "data": {
      "image/png": "[encoded data removed]",
      "text/plain": [
       "<Figure size 432x288 with 1 Axes>"
      ]
     },
     "metadata": {
      "needs_background": "light"
     },
     "output_type": "display_data"
    }
   ],
   "source": [
    "   \n",
    "# Correlation scatter plots\n",
    "fig = plt.figure()\n",
    "fig.set_size_inches((6, 4))\n",
    "ax = fig.add_subplot(111)\n",
    "ax.scatter((data[\"Chow_Rep1\"]+1), (data[\"Chow_Rep2\"]+1), s=2, alpha=0.5)\n",
    "ax.set_xlabel(\"log10 Chow_Rep1\")\n",
    "ax.set_ylabel(\"log10 Chow_Rep2\")\n",
    "\n",
    "fig2 = plt.figure()\n",
    "fig2.set_size_inches((6, 4))\n",
    "ax2 = fig2.add_subplot(111)\n",
    "ax2.scatter((data[\"HFD_Rep1\"]+1), (data[\"HFD_Rep2\"]+1), s=2, alpha=0.5)\n",
    "ax2.set_xlabel(\"log10 HFD_Rep1\")\n",
    "ax2.set_ylabel(\"log10 HFD_Rep2\")"
   ]
  },
  {
   "cell_type": "markdown",
   "metadata": {
    "deletable": false,
    "editable": false,
    "nbgrader": {
     "checksum": "f7dd1dc6b48ebbff18544025c5d74107",
     "grade": false,
     "grade_id": "cell-925a1a578a9eaf38",
     "locked": true,
     "schema_version": 1,
     "solution": false
    }
   },
   "source": [
    "## Summary of differential gene expression"
   ]
  },
  {
   "cell_type": "markdown",
   "metadata": {
    "deletable": false,
    "editable": false,
    "nbgrader": {
     "checksum": "372a8e8d18dff1ed36a42c958da04858",
     "grade": false,
     "grade_id": "cell-8494f1f95c2f380e",
     "locked": true,
     "schema_version": 1,
     "solution": false
    }
   },
   "source": [
    "**Visualization of differentially expressed genes (<font color=\"red\">Results-Q4</font> - 10 pts)**: Provide a \"volcano plot\" plotting the log2 fold change in gene expression vs. the -log10 p-value for each gene. Color significant genes (FDR<0.05) a different color.\n",
    "\n",
    "*Extra credit (3 pts)*: Annotate the names of the top 10 differentially expressed genes on the plot. "
   ]
  },
  {
   "cell_type": "code",
   "execution_count": 2,
   "metadata": {
    "deletable": false,
    "nbgrader": {
     "checksum": "d26eef0df6321a8d4a967152f791f018",
     "grade": true,
     "grade_id": "correct-volcano",
     "locked": false,
     "points": 10,
     "schema_version": 1,
     "solution": true
    }
   },
   "outputs": [],
   "source": [
    "import pandas as pd\n",
    "import matplotlib.pyplot as plt\n",
    "import numpy as np"
   ]
  },
  {
   "cell_type": "code",
   "execution_count": 148,
   "metadata": {},
   "outputs": [
    {
     "data": {
      "image/png": "[encoded data removed]",
      "text/plain": [
       "<Figure size 576x432 with 1 Axes>"
      ]
     },
     "metadata": {
      "needs_background": "light"
     },
     "output_type": "display_data"
    }
   ],
   "source": [
    "data = pd.read_csv('../week4/chow_vs_hfd_deseq2.csv',usecols=[0,2,5,6])\n",
    "gene_names = pd.read_csv('/datasets/cs185s-sp19-public/week4/GRCm38.75.gene_names',header=None,sep='\\t',index_col=0)\n",
    "fig = plt.figure()\n",
    "fig.set_size_inches((8, 6))\n",
    "ax = fig.add_subplot(111)\n",
    "data['pvalue'] = -np.log10(data['pvalue'])\n",
    "\n",
    "mask = data['padj']>=0.05\n",
    "mask2 = data['padj']<0.05\n",
    "\n",
    "ax.scatter(data[mask]['log2FoldChange'],data[mask]['pvalue'],color='blue')\n",
    "ax.scatter(data[mask2]['log2FoldChange'],data[mask2]['pvalue'],color='red')\n",
    "\n",
    "\n",
    "number_top_genes = 10\n",
    "data_sorted=data.sort_values('pvalue',ascending=False)\n",
    "data_sorted.set_index('Unnamed: 0',inplace=True)\n",
    "\n",
    "#Annotation\n",
    "genes = []\n",
    "for i in range(number_top_genes):\n",
    "    name = gene_names.loc[data_sorted.index[i]].iloc[0]\n",
    "    genes.append(name)\n",
    "    ax.annotate(name,(data_sorted['log2FoldChange'].iloc[i],data_sorted['pvalue'].iloc[i]))"
   ]
  },
  {
   "cell_type": "markdown",
   "metadata": {
    "deletable": false,
    "editable": false,
    "nbgrader": {
     "checksum": "a6cd8237af6d88067c018da073cfc4c5",
     "grade": false,
     "grade_id": "cell-260c4f53b1429e08",
     "locked": true,
     "schema_version": 1,
     "solution": false
    }
   },
   "source": [
    "**Differential expression results (<font color=\"red\">Results-Q5</font> - 10 pts)** How many total genes were differentially expressed at an adjusted p-value threshold of 0.05? Provide a table of the top 10 differentially expressed genes. The table should report gene names (not IDs), the log2 fold change, and the p-value for each gene."
   ]
  },
  {
   "cell_type": "code",
   "execution_count": 149,
   "metadata": {
    "deletable": false,
    "nbgrader": {
     "checksum": "7ea225f7cf1b82c6825e3b0ecf03f00b",
     "grade": true,
     "grade_id": "correct-diffexpr",
     "locked": false,
     "points": 10,
     "schema_version": 1,
     "solution": true
    }
   },
   "outputs": [
    {
     "name": "stdout",
     "output_type": "stream",
     "text": [
      "Total number of genes differentially expressed: 375\n"
     ]
    },
    {
     "data": {
      "text/html": [
       "<div>\n",
       "<style scoped>\n",
       "    .dataframe tbody tr th:only-of-type {\n",
       "        vertical-align: middle;\n",
       "    }\n",
       "\n",
       "    .dataframe tbody tr th {\n",
       "        vertical-align: top;\n",
       "    }\n",
       "\n",
       "    .dataframe thead th {\n",
       "        text-align: right;\n",
       "    }\n",
       "</style>\n",
       "<table border=\"1\" class=\"dataframe\">\n",
       "  <thead>\n",
       "    <tr style=\"text-align: right;\">\n",
       "      <th></th>\n",
       "      <th>log2FoldChange</th>\n",
       "      <th>pvalue</th>\n",
       "    </tr>\n",
       "  </thead>\n",
       "  <tbody>\n",
       "    <tr>\n",
       "      <th>Cyp2b10</th>\n",
       "      <td>-5.083951</td>\n",
       "      <td>4.424623e-41</td>\n",
       "    </tr>\n",
       "    <tr>\n",
       "      <th>Fads2</th>\n",
       "      <td>1.545719</td>\n",
       "      <td>9.952204e-35</td>\n",
       "    </tr>\n",
       "    <tr>\n",
       "      <th>Cyp2c29</th>\n",
       "      <td>-1.835318</td>\n",
       "      <td>3.565345e-34</td>\n",
       "    </tr>\n",
       "    <tr>\n",
       "      <th>Ces2a</th>\n",
       "      <td>-1.600727</td>\n",
       "      <td>1.280916e-33</td>\n",
       "    </tr>\n",
       "    <tr>\n",
       "      <th>Dbp</th>\n",
       "      <td>2.637427</td>\n",
       "      <td>2.367820e-29</td>\n",
       "    </tr>\n",
       "    <tr>\n",
       "      <th>Gsta2</th>\n",
       "      <td>-2.837015</td>\n",
       "      <td>4.808465e-28</td>\n",
       "    </tr>\n",
       "    <tr>\n",
       "      <th>Gstm1</th>\n",
       "      <td>-1.360523</td>\n",
       "      <td>1.148110e-27</td>\n",
       "    </tr>\n",
       "    <tr>\n",
       "      <th>Abcc3</th>\n",
       "      <td>-1.457844</td>\n",
       "      <td>2.788198e-24</td>\n",
       "    </tr>\n",
       "    <tr>\n",
       "      <th>Cyp2c54</th>\n",
       "      <td>-1.732744</td>\n",
       "      <td>4.001637e-21</td>\n",
       "    </tr>\n",
       "    <tr>\n",
       "      <th>Apoa4</th>\n",
       "      <td>2.544864</td>\n",
       "      <td>1.192791e-20</td>\n",
       "    </tr>\n",
       "  </tbody>\n",
       "</table>\n",
       "</div>"
      ],
      "text/plain": [
       "         log2FoldChange        pvalue\n",
       "Cyp2b10       -5.083951  4.424623e-41\n",
       "Fads2          1.545719  9.952204e-35\n",
       "Cyp2c29       -1.835318  3.565345e-34\n",
       "Ces2a         -1.600727  1.280916e-33\n",
       "Dbp            2.637427  2.367820e-29\n",
       "Gsta2         -2.837015  4.808465e-28\n",
       "Gstm1         -1.360523  1.148110e-27\n",
       "Abcc3         -1.457844  2.788198e-24\n",
       "Cyp2c54       -1.732744  4.001637e-21\n",
       "Apoa4          2.544864  1.192791e-20"
      ]
     },
     "execution_count": 149,
     "metadata": {},
     "output_type": "execute_result"
    }
   ],
   "source": [
    "total_num = len(data[mask2])\n",
    "print(\"Total number of genes differentially expressed:\",total_num)\n",
    "\n",
    "top = data_sorted.head(n=10)\n",
    "top.index=genes\n",
    "top['pvalue'] = 10**(-top['pvalue'])\n",
    "top[['log2FoldChange','pvalue']]"
   ]
  },
  {
   "cell_type": "markdown",
   "metadata": {
    "deletable": false,
    "editable": false,
    "nbgrader": {
     "checksum": "24e3840742d31885d7f6202d351ec48f",
     "grade": false,
     "grade_id": "cell-67e0519f72108f6c",
     "locked": true,
     "schema_version": 1,
     "solution": false
    }
   },
   "source": [
    "## Gene ontology enrichment analysis\n",
    "\n",
    "**GO results (<font color=\"red\">Results-Q6</font> - 10 pts)**: Provide a list of the top 10 enriched GO categories each in down- and up- regulated genes (so two lists of 10 categories), ranked by p-value. For each enriched category, provide at least the name of the category and its enrichment p-value."
   ]
  },
  {
   "cell_type": "code",
   "execution_count": 18,
   "metadata": {
    "deletable": false,
    "nbgrader": {
     "checksum": "cfa986ddfc1ce990af01318f3bed5106",
     "grade": true,
     "grade_id": "correct-go",
     "locked": false,
     "points": 10,
     "schema_version": 1,
     "solution": true
    }
   },
   "outputs": [],
   "source": [
    "data = pd.read_csv('../week4/chow_vs_hfd_deseq2.csv',usecols=[0,2,5,6])\n",
    "gene_names = pd.read_csv('/datasets/cs185s-sp19-public/week4/GRCm38.75.gene_names',header=None,sep='\\t',index_col=0)\n",
    "data['pvalue'] = -np.log10(data['pvalue'])\n",
    "\n",
    "data_sorted=data.sort_values('pvalue',ascending=False)\n",
    "data_sorted.set_index('Unnamed: 0',inplace=True)\n",
    "mask = data_sorted['padj']<0.05\n",
    "\n",
    "#differentially expressed genes\n",
    "DE = data_sorted[mask]\n",
    "\n",
    "up_mask = DE['log2FoldChange']>0\n",
    "down_mask = DE['log2FoldChange']<0\n",
    "\n",
    "up = DE[up_mask]\n",
    "down = DE[down_mask]\n",
    "\n",
    "#gene names\n",
    "up_genes = []\n",
    "down_genes = []\n",
    "all_genes = []\n",
    "\n",
    "for i in range(len(up)):\n",
    "    name = gene_names.loc[up.index[i]].iloc[0]\n",
    "    up_genes.append(name)\n",
    "\n",
    "for i in range(len(down)):\n",
    "    name = gene_names.loc[down.index[i]].iloc[0]\n",
    "    down_genes.append(name)\n",
    "    \n",
    "for i in range(len(data_sorted)):\n",
    "    name = gene_names.loc[data_sorted.index[i]].iloc[0]\n",
    "    all_genes.append(name)"
   ]
  },
  {
   "cell_type": "code",
   "execution_count": 19,
   "metadata": {},
   "outputs": [],
   "source": [
    "with open('../week4/up_genes.txt', 'w') as f:\n",
    "    for item in up_genes:\n",
    "        f.write(\"%s\\n\" % item)\n",
    "f.close()\n",
    "        \n",
    "with open('../week4/down_genes.txt', 'w') as f:\n",
    "    for item in down_genes:\n",
    "        f.write(\"%s\\n\" % item)\n",
    "f.close()\n",
    "\n",
    "with open('../week4/all_genes.txt', 'w') as f:\n",
    "    for item in all_genes:\n",
    "        f.write(\"%s\\n\" % item)\n",
    "f.close()"
   ]
  },
  {
   "cell_type": "markdown",
   "metadata": {},
   "source": [
    "The run the commands:\n",
    "\n",
    "find_enrichment.py up_genes.txt all_genes.txt /datasets/cs185s-sp19-public/week4/GOAnalysis/mgi.assoc --obo /datasets/cs185s-sp19-public/week4/GOAnalysis/go-basic.obo --outfile=up_genes.xlsx,up_genes.tsv --method=fdr_bh --alpha=0.01\n",
    "\n",
    "\n",
    "find_enrichment.py down_genes.txt all_genes.txt /datasets/cs185s-sp19-public/week4/GOAnalysis/mgi.assoc --obo /datasets/cs185s-sp19-public/week4/GOAnalysis/go-basic.obo --outfile=down_genes.xlsx,down_genes.tsv --method=fdr_bh --alpha=0.01\n",
    "\n",
    "Then we can import the go analysis files into python and sort the categories by p value."
   ]
  },
  {
   "cell_type": "markdown",
   "metadata": {},
   "source": [
    " Provide a list of the top 10 enriched GO categories each in down- and up- regulated genes (so two lists of 10 categories), ranked by p-value. For each enriched category, provide at least the name of the category and its enrichment p-value."
   ]
  },
  {
   "cell_type": "code",
   "execution_count": 20,
   "metadata": {},
   "outputs": [
    {
     "data": {
      "text/html": [
       "<div>\n",
       "<style scoped>\n",
       "    .dataframe tbody tr th:only-of-type {\n",
       "        vertical-align: middle;\n",
       "    }\n",
       "\n",
       "    .dataframe tbody tr th {\n",
       "        vertical-align: top;\n",
       "    }\n",
       "\n",
       "    .dataframe thead th {\n",
       "        text-align: right;\n",
       "    }\n",
       "</style>\n",
       "<table border=\"1\" class=\"dataframe\">\n",
       "  <thead>\n",
       "    <tr style=\"text-align: right;\">\n",
       "      <th></th>\n",
       "      <th># GO</th>\n",
       "      <th>NS</th>\n",
       "      <th>enrichment</th>\n",
       "      <th>name</th>\n",
       "      <th>ratio_in_study</th>\n",
       "      <th>ratio_in_pop</th>\n",
       "      <th>p_uncorrected</th>\n",
       "      <th>depth</th>\n",
       "      <th>study_count</th>\n",
       "      <th>p_fdr_bh</th>\n",
       "      <th>study_items</th>\n",
       "    </tr>\n",
       "  </thead>\n",
       "  <tbody>\n",
       "    <tr>\n",
       "      <th>0</th>\n",
       "      <td>GO:0044283</td>\n",
       "      <td>BP</td>\n",
       "      <td>e</td>\n",
       "      <td>small molecule biosynthetic process</td>\n",
       "      <td>41/196</td>\n",
       "      <td>373/15423</td>\n",
       "      <td>6.591399e-27</td>\n",
       "      <td>3</td>\n",
       "      <td>41</td>\n",
       "      <td>1.358158e-22</td>\n",
       "      <td>Abhd2, Acaca, Acacb, Acly, Acot11, Acsl3, Apoa...</td>\n",
       "    </tr>\n",
       "    <tr>\n",
       "      <th>1</th>\n",
       "      <td>GO:0008610</td>\n",
       "      <td>BP</td>\n",
       "      <td>e</td>\n",
       "      <td>lipid biosynthetic process</td>\n",
       "      <td>35/196</td>\n",
       "      <td>338/15423</td>\n",
       "      <td>4.033259e-22</td>\n",
       "      <td>4</td>\n",
       "      <td>35</td>\n",
       "      <td>4.155265e-18</td>\n",
       "      <td>Abhd2, Acaca, Acacb, Acly, Acot11, Acsl3, Apoa...</td>\n",
       "    </tr>\n",
       "    <tr>\n",
       "      <th>2</th>\n",
       "      <td>GO:0006629</td>\n",
       "      <td>BP</td>\n",
       "      <td>e</td>\n",
       "      <td>lipid metabolic process</td>\n",
       "      <td>51/196</td>\n",
       "      <td>827/15423</td>\n",
       "      <td>8.919540e-22</td>\n",
       "      <td>3</td>\n",
       "      <td>51</td>\n",
       "      <td>6.126237e-18</td>\n",
       "      <td>Aacs, Abhd2, Acaca, Acacb, Acly, Acot11, Acsl3...</td>\n",
       "    </tr>\n",
       "    <tr>\n",
       "      <th>3</th>\n",
       "      <td>GO:0044281</td>\n",
       "      <td>BP</td>\n",
       "      <td>e</td>\n",
       "      <td>small molecule metabolic process</td>\n",
       "      <td>60/196</td>\n",
       "      <td>1190/15423</td>\n",
       "      <td>2.569029e-21</td>\n",
       "      <td>2</td>\n",
       "      <td>60</td>\n",
       "      <td>1.323371e-17</td>\n",
       "      <td>Aacs, Abhd2, Acaca, Acacb, Acly, Acmsd, Acot11...</td>\n",
       "    </tr>\n",
       "    <tr>\n",
       "      <th>4</th>\n",
       "      <td>GO:0016126</td>\n",
       "      <td>BP</td>\n",
       "      <td>e</td>\n",
       "      <td>sterol biosynthetic process</td>\n",
       "      <td>14/196</td>\n",
       "      <td>33/15423</td>\n",
       "      <td>1.188656e-18</td>\n",
       "      <td>6</td>\n",
       "      <td>14</td>\n",
       "      <td>4.898453e-15</td>\n",
       "      <td>Apoa4, Cyb5r3, Cyp51, Dhcr24, Dhcr7, Fdft1, Fd...</td>\n",
       "    </tr>\n",
       "    <tr>\n",
       "      <th>5</th>\n",
       "      <td>GO:0072330</td>\n",
       "      <td>BP</td>\n",
       "      <td>e</td>\n",
       "      <td>monocarboxylic acid biosynthetic process</td>\n",
       "      <td>20/196</td>\n",
       "      <td>113/15423</td>\n",
       "      <td>1.281994e-17</td>\n",
       "      <td>7</td>\n",
       "      <td>20</td>\n",
       "      <td>3.855047e-14</td>\n",
       "      <td>Abhd2, Acaca, Acacb, Acly, Acot11, Acsl3, Asns...</td>\n",
       "    </tr>\n",
       "    <tr>\n",
       "      <th>6</th>\n",
       "      <td>GO:1902653</td>\n",
       "      <td>BP</td>\n",
       "      <td>e</td>\n",
       "      <td>secondary alcohol biosynthetic process</td>\n",
       "      <td>13/196</td>\n",
       "      <td>30/15423</td>\n",
       "      <td>1.496742e-17</td>\n",
       "      <td>6</td>\n",
       "      <td>13</td>\n",
       "      <td>3.855047e-14</td>\n",
       "      <td>Apoa4, Cyb5r3, Cyp51, Dhcr24, Dhcr7, Fdft1, Fd...</td>\n",
       "    </tr>\n",
       "    <tr>\n",
       "      <th>7</th>\n",
       "      <td>GO:0006695</td>\n",
       "      <td>BP</td>\n",
       "      <td>e</td>\n",
       "      <td>cholesterol biosynthetic process</td>\n",
       "      <td>13/196</td>\n",
       "      <td>30/15423</td>\n",
       "      <td>1.496742e-17</td>\n",
       "      <td>7</td>\n",
       "      <td>13</td>\n",
       "      <td>3.855047e-14</td>\n",
       "      <td>Apoa4, Cyb5r3, Cyp51, Dhcr24, Dhcr7, Fdft1, Fd...</td>\n",
       "    </tr>\n",
       "    <tr>\n",
       "      <th>8</th>\n",
       "      <td>GO:0008203</td>\n",
       "      <td>BP</td>\n",
       "      <td>e</td>\n",
       "      <td>cholesterol metabolic process</td>\n",
       "      <td>18/196</td>\n",
       "      <td>94/15423</td>\n",
       "      <td>1.315827e-16</td>\n",
       "      <td>6</td>\n",
       "      <td>18</td>\n",
       "      <td>3.012513e-13</td>\n",
       "      <td>Apoa4, Cyb5r3, Cyp51, Cyp7a1, Dhcr24, Dhcr7, E...</td>\n",
       "    </tr>\n",
       "    <tr>\n",
       "      <th>9</th>\n",
       "      <td>GO:0046394</td>\n",
       "      <td>BP</td>\n",
       "      <td>e</td>\n",
       "      <td>carboxylic acid biosynthetic process</td>\n",
       "      <td>23/196</td>\n",
       "      <td>192/15423</td>\n",
       "      <td>3.371854e-16</td>\n",
       "      <td>6</td>\n",
       "      <td>23</td>\n",
       "      <td>6.947705e-13</td>\n",
       "      <td>Abhd2, Acaca, Acacb, Acly, Acot11, Acsl3, Asns...</td>\n",
       "    </tr>\n",
       "  </tbody>\n",
       "</table>\n",
       "</div>"
      ],
      "text/plain": [
       "         # GO  NS enrichment                                      name  \\\n",
       "0  GO:0044283  BP          e       small molecule biosynthetic process   \n",
       "1  GO:0008610  BP          e                lipid biosynthetic process   \n",
       "2  GO:0006629  BP          e                   lipid metabolic process   \n",
       "3  GO:0044281  BP          e          small molecule metabolic process   \n",
       "4  GO:0016126  BP          e               sterol biosynthetic process   \n",
       "5  GO:0072330  BP          e  monocarboxylic acid biosynthetic process   \n",
       "6  GO:1902653  BP          e    secondary alcohol biosynthetic process   \n",
       "7  GO:0006695  BP          e          cholesterol biosynthetic process   \n",
       "8  GO:0008203  BP          e             cholesterol metabolic process   \n",
       "9  GO:0046394  BP          e      carboxylic acid biosynthetic process   \n",
       "\n",
       "  ratio_in_study ratio_in_pop  p_uncorrected  depth  study_count  \\\n",
       "0         41/196    373/15423   6.591399e-27      3           41   \n",
       "1         35/196    338/15423   4.033259e-22      4           35   \n",
       "2         51/196    827/15423   8.919540e-22      3           51   \n",
       "3         60/196   1190/15423   2.569029e-21      2           60   \n",
       "4         14/196     33/15423   1.188656e-18      6           14   \n",
       "5         20/196    113/15423   1.281994e-17      7           20   \n",
       "6         13/196     30/15423   1.496742e-17      6           13   \n",
       "7         13/196     30/15423   1.496742e-17      7           13   \n",
       "8         18/196     94/15423   1.315827e-16      6           18   \n",
       "9         23/196    192/15423   3.371854e-16      6           23   \n",
       "\n",
       "       p_fdr_bh                                        study_items  \n",
       "0  1.358158e-22  Abhd2, Acaca, Acacb, Acly, Acot11, Acsl3, Apoa...  \n",
       "1  4.155265e-18  Abhd2, Acaca, Acacb, Acly, Acot11, Acsl3, Apoa...  \n",
       "2  6.126237e-18  Aacs, Abhd2, Acaca, Acacb, Acly, Acot11, Acsl3...  \n",
       "3  1.323371e-17  Aacs, Abhd2, Acaca, Acacb, Acly, Acmsd, Acot11...  \n",
       "4  4.898453e-15  Apoa4, Cyb5r3, Cyp51, Dhcr24, Dhcr7, Fdft1, Fd...  \n",
       "5  3.855047e-14  Abhd2, Acaca, Acacb, Acly, Acot11, Acsl3, Asns...  \n",
       "6  3.855047e-14  Apoa4, Cyb5r3, Cyp51, Dhcr24, Dhcr7, Fdft1, Fd...  \n",
       "7  3.855047e-14  Apoa4, Cyb5r3, Cyp51, Dhcr24, Dhcr7, Fdft1, Fd...  \n",
       "8  3.012513e-13  Apoa4, Cyb5r3, Cyp51, Cyp7a1, Dhcr24, Dhcr7, E...  \n",
       "9  6.947705e-13  Abhd2, Acaca, Acacb, Acly, Acot11, Acsl3, Asns...  "
      ]
     },
     "execution_count": 20,
     "metadata": {},
     "output_type": "execute_result"
    }
   ],
   "source": [
    "up_go = pd.read_csv('../week4/up_genes.tsv',sep='\\t')\n",
    "down_go = pd.read_csv('../week4/down_genes.tsv',sep='\\t')\n",
    "\n",
    "up_go.sort_values('p_uncorrected').head(10)"
   ]
  },
  {
   "cell_type": "code",
   "execution_count": 21,
   "metadata": {},
   "outputs": [
    {
     "data": {
      "text/html": [
       "<div>\n",
       "<style scoped>\n",
       "    .dataframe tbody tr th:only-of-type {\n",
       "        vertical-align: middle;\n",
       "    }\n",
       "\n",
       "    .dataframe tbody tr th {\n",
       "        vertical-align: top;\n",
       "    }\n",
       "\n",
       "    .dataframe thead th {\n",
       "        text-align: right;\n",
       "    }\n",
       "</style>\n",
       "<table border=\"1\" class=\"dataframe\">\n",
       "  <thead>\n",
       "    <tr style=\"text-align: right;\">\n",
       "      <th></th>\n",
       "      <th># GO</th>\n",
       "      <th>NS</th>\n",
       "      <th>enrichment</th>\n",
       "      <th>name</th>\n",
       "      <th>ratio_in_study</th>\n",
       "      <th>ratio_in_pop</th>\n",
       "      <th>p_uncorrected</th>\n",
       "      <th>depth</th>\n",
       "      <th>study_count</th>\n",
       "      <th>p_fdr_bh</th>\n",
       "      <th>study_items</th>\n",
       "    </tr>\n",
       "  </thead>\n",
       "  <tbody>\n",
       "    <tr>\n",
       "      <th>0</th>\n",
       "      <td>GO:0006805</td>\n",
       "      <td>BP</td>\n",
       "      <td>e</td>\n",
       "      <td>xenobiotic metabolic process</td>\n",
       "      <td>17/179</td>\n",
       "      <td>83/15423</td>\n",
       "      <td>6.104662e-17</td>\n",
       "      <td>3</td>\n",
       "      <td>17</td>\n",
       "      <td>1.024100e-12</td>\n",
       "      <td>Acaa1b, Acsl1, Cdo1, Csad, Cyp1a2, Cyp26a1, Cy...</td>\n",
       "    </tr>\n",
       "    <tr>\n",
       "      <th>46</th>\n",
       "      <td>GO:0004497</td>\n",
       "      <td>MF</td>\n",
       "      <td>e</td>\n",
       "      <td>monooxygenase activity</td>\n",
       "      <td>18/179</td>\n",
       "      <td>101/15423</td>\n",
       "      <td>9.940305e-17</td>\n",
       "      <td>3</td>\n",
       "      <td>18</td>\n",
       "      <td>1.024100e-12</td>\n",
       "      <td>Cyp1a2, Cyp26a1, Cyp2b10, Cyp2c29, Cyp2c37, Cy...</td>\n",
       "    </tr>\n",
       "    <tr>\n",
       "      <th>47</th>\n",
       "      <td>GO:0008391</td>\n",
       "      <td>MF</td>\n",
       "      <td>e</td>\n",
       "      <td>arachidonic acid monooxygenase activity</td>\n",
       "      <td>11/179</td>\n",
       "      <td>30/15423</td>\n",
       "      <td>1.704104e-14</td>\n",
       "      <td>4</td>\n",
       "      <td>11</td>\n",
       "      <td>1.170435e-10</td>\n",
       "      <td>Cyp2b10, Cyp2c29, Cyp2c37, Cyp2c50, Cyp2c54, C...</td>\n",
       "    </tr>\n",
       "    <tr>\n",
       "      <th>48</th>\n",
       "      <td>GO:0005506</td>\n",
       "      <td>MF</td>\n",
       "      <td>e</td>\n",
       "      <td>iron ion binding</td>\n",
       "      <td>17/179</td>\n",
       "      <td>119/15423</td>\n",
       "      <td>3.406377e-14</td>\n",
       "      <td>6</td>\n",
       "      <td>17</td>\n",
       "      <td>1.754710e-10</td>\n",
       "      <td>Aox1, Cdo1, Cyp1a2, Cyp26a1, Cyp2b10, Cyp2c29,...</td>\n",
       "    </tr>\n",
       "    <tr>\n",
       "      <th>49</th>\n",
       "      <td>GO:0016705</td>\n",
       "      <td>MF</td>\n",
       "      <td>e</td>\n",
       "      <td>oxidoreductase activity, acting on paired dono...</td>\n",
       "      <td>18/179</td>\n",
       "      <td>150/15423</td>\n",
       "      <td>1.303316e-13</td>\n",
       "      <td>3</td>\n",
       "      <td>18</td>\n",
       "      <td>5.370964e-10</td>\n",
       "      <td>Cyp1a2, Cyp26a1, Cyp2b10, Cyp2c29, Cyp2c37, Cy...</td>\n",
       "    </tr>\n",
       "    <tr>\n",
       "      <th>1</th>\n",
       "      <td>GO:0006082</td>\n",
       "      <td>BP</td>\n",
       "      <td>e</td>\n",
       "      <td>organic acid metabolic process</td>\n",
       "      <td>35/179</td>\n",
       "      <td>706/15423</td>\n",
       "      <td>2.198350e-13</td>\n",
       "      <td>3</td>\n",
       "      <td>35</td>\n",
       "      <td>7.211450e-10</td>\n",
       "      <td>Acaa1b, Acot1, Acox2, Acsl1, Afmid, Cdo1, Ces1...</td>\n",
       "    </tr>\n",
       "    <tr>\n",
       "      <th>50</th>\n",
       "      <td>GO:0008392</td>\n",
       "      <td>MF</td>\n",
       "      <td>e</td>\n",
       "      <td>arachidonic acid epoxygenase activity</td>\n",
       "      <td>10/179</td>\n",
       "      <td>27/15423</td>\n",
       "      <td>2.449898e-13</td>\n",
       "      <td>5</td>\n",
       "      <td>10</td>\n",
       "      <td>7.211450e-10</td>\n",
       "      <td>Cyp2b10, Cyp2c29, Cyp2c37, Cyp2c50, Cyp2c54, C...</td>\n",
       "    </tr>\n",
       "    <tr>\n",
       "      <th>51</th>\n",
       "      <td>GO:0004364</td>\n",
       "      <td>MF</td>\n",
       "      <td>e</td>\n",
       "      <td>glutathione transferase activity</td>\n",
       "      <td>10/179</td>\n",
       "      <td>29/15423</td>\n",
       "      <td>5.701385e-13</td>\n",
       "      <td>4</td>\n",
       "      <td>10</td>\n",
       "      <td>1.468463e-09</td>\n",
       "      <td>Gsta1, Gsta2, Gsta4, Gstm1, Gstm3, Gstm4, Gstm...</td>\n",
       "    </tr>\n",
       "    <tr>\n",
       "      <th>52</th>\n",
       "      <td>GO:0070330</td>\n",
       "      <td>MF</td>\n",
       "      <td>e</td>\n",
       "      <td>aromatase activity</td>\n",
       "      <td>10/179</td>\n",
       "      <td>30/15423</td>\n",
       "      <td>8.466872e-13</td>\n",
       "      <td>5</td>\n",
       "      <td>10</td>\n",
       "      <td>1.783005e-09</td>\n",
       "      <td>Cyp1a2, Cyp2b10, Cyp2c29, Cyp2c37, Cyp2c50, Cy...</td>\n",
       "    </tr>\n",
       "    <tr>\n",
       "      <th>2</th>\n",
       "      <td>GO:0019752</td>\n",
       "      <td>BP</td>\n",
       "      <td>e</td>\n",
       "      <td>carboxylic acid metabolic process</td>\n",
       "      <td>33/179</td>\n",
       "      <td>658/15423</td>\n",
       "      <td>8.653266e-13</td>\n",
       "      <td>5</td>\n",
       "      <td>33</td>\n",
       "      <td>1.783005e-09</td>\n",
       "      <td>Acaa1b, Acot1, Acox2, Acsl1, Afmid, Cdo1, Ces1...</td>\n",
       "    </tr>\n",
       "  </tbody>\n",
       "</table>\n",
       "</div>"
      ],
      "text/plain": [
       "          # GO  NS enrichment  \\\n",
       "0   GO:0006805  BP          e   \n",
       "46  GO:0004497  MF          e   \n",
       "47  GO:0008391  MF          e   \n",
       "48  GO:0005506  MF          e   \n",
       "49  GO:0016705  MF          e   \n",
       "1   GO:0006082  BP          e   \n",
       "50  GO:0008392  MF          e   \n",
       "51  GO:0004364  MF          e   \n",
       "52  GO:0070330  MF          e   \n",
       "2   GO:0019752  BP          e   \n",
       "\n",
       "                                                 name ratio_in_study  \\\n",
       "0                        xenobiotic metabolic process         17/179   \n",
       "46                             monooxygenase activity         18/179   \n",
       "47            arachidonic acid monooxygenase activity         11/179   \n",
       "48                                   iron ion binding         17/179   \n",
       "49  oxidoreductase activity, acting on paired dono...         18/179   \n",
       "1                      organic acid metabolic process         35/179   \n",
       "50              arachidonic acid epoxygenase activity         10/179   \n",
       "51                   glutathione transferase activity         10/179   \n",
       "52                                 aromatase activity         10/179   \n",
       "2                   carboxylic acid metabolic process         33/179   \n",
       "\n",
       "   ratio_in_pop  p_uncorrected  depth  study_count      p_fdr_bh  \\\n",
       "0      83/15423   6.104662e-17      3           17  1.024100e-12   \n",
       "46    101/15423   9.940305e-17      3           18  1.024100e-12   \n",
       "47     30/15423   1.704104e-14      4           11  1.170435e-10   \n",
       "48    119/15423   3.406377e-14      6           17  1.754710e-10   \n",
       "49    150/15423   1.303316e-13      3           18  5.370964e-10   \n",
       "1     706/15423   2.198350e-13      3           35  7.211450e-10   \n",
       "50     27/15423   2.449898e-13      5           10  7.211450e-10   \n",
       "51     29/15423   5.701385e-13      4           10  1.468463e-09   \n",
       "52     30/15423   8.466872e-13      5           10  1.783005e-09   \n",
       "2     658/15423   8.653266e-13      5           33  1.783005e-09   \n",
       "\n",
       "                                          study_items  \n",
       "0   Acaa1b, Acsl1, Cdo1, Csad, Cyp1a2, Cyp26a1, Cy...  \n",
       "46  Cyp1a2, Cyp26a1, Cyp2b10, Cyp2c29, Cyp2c37, Cy...  \n",
       "47  Cyp2b10, Cyp2c29, Cyp2c37, Cyp2c50, Cyp2c54, C...  \n",
       "48  Aox1, Cdo1, Cyp1a2, Cyp26a1, Cyp2b10, Cyp2c29,...  \n",
       "49  Cyp1a2, Cyp26a1, Cyp2b10, Cyp2c29, Cyp2c37, Cy...  \n",
       "1   Acaa1b, Acot1, Acox2, Acsl1, Afmid, Cdo1, Ces1...  \n",
       "50  Cyp2b10, Cyp2c29, Cyp2c37, Cyp2c50, Cyp2c54, C...  \n",
       "51  Gsta1, Gsta2, Gsta4, Gstm1, Gstm3, Gstm4, Gstm...  \n",
       "52  Cyp1a2, Cyp2b10, Cyp2c29, Cyp2c37, Cyp2c50, Cy...  \n",
       "2   Acaa1b, Acot1, Acox2, Acsl1, Afmid, Cdo1, Ces1...  "
      ]
     },
     "execution_count": 21,
     "metadata": {},
     "output_type": "execute_result"
    }
   ],
   "source": [
    "down_go.sort_values('p_uncorrected').head(10)"
   ]
  },
  {
   "cell_type": "markdown",
   "metadata": {
    "deletable": false,
    "editable": false,
    "nbgrader": {
     "checksum": "1b78cd3f21c186178c66d63b6e0d9432",
     "grade": false,
     "grade_id": "cell-890f89c846aaed18",
     "locked": true,
     "schema_version": 1,
     "solution": false
    }
   },
   "source": [
    "# Discussion (15 pts total)\n",
    "\n",
    "**<font color=\"red\">Discussion-Q1</font> - 5 pts**: Summarize the characteristics of genes that are up- and down-regulated in HFD compared to Chow fed mice. Do the GO categories enriched in those gene sets make sense? Do a little exploring of the top misregulated genes to find out what they might be doing."
   ]
  },
  {
   "cell_type": "markdown",
   "metadata": {
    "deletable": false,
    "nbgrader": {
     "checksum": "02dc5a9f158b8974cabd6b603443706c",
     "grade": true,
     "grade_id": "correct-disc-q1",
     "locked": false,
     "points": 5,
     "schema_version": 1,
     "solution": true
    }
   },
   "source": [
    "The results based on GO analysis and categorization make sense in what we would expect to see when comparing gene expression from 'chow' mice to HFD mice. The top categories from the up regulated genes include groups dealing with lipid biosynthetic and metabolic processes. Furthermore there are also groups involving cholestrol biosynthetic and metabolic processes. This makes sense because in the HFD mice you would expect more activity is directed toward dealing with the higher fat content in their diet. This is seen in the higher expression of genes involving those processes. The down regulated analysis is a a bit trickier to do but it seems that there is less regulation of genes involving the metabolism or breakdown of xenobiotics. These can be grouped as carcinogens, drugs, environmental pollutants, food additives, hydrocarbons, and pesticides. This makes sense in that the chow diet may have other types of chemicals or pesticides that need to be broken down."
   ]
  },
  {
   "cell_type": "markdown",
   "metadata": {
    "deletable": false,
    "editable": false,
    "nbgrader": {
     "checksum": "1139827b21432536c1d735cdd61a6792",
     "grade": false,
     "grade_id": "cell-9f5df213ac3cd2fd",
     "locked": true,
     "schema_version": 1,
     "solution": false
    }
   },
   "source": [
    "**<font color=\"red\">Discussion-Q2</font> - 5 pts**: You'll likely notice from your volcano plot that there are many genes with very high fold changes (e.g. log2 fold change > 6) but that are not called as significant. Hypothesize why. it could be helpful to dig in and look at the data for some of those genes."
   ]
  },
  {
   "cell_type": "markdown",
   "metadata": {
    "deletable": false,
    "nbgrader": {
     "checksum": "df84939bbbe68d32c242a1ebd2d7e751",
     "grade": true,
     "grade_id": "correct-disc-q2",
     "locked": false,
     "points": 5,
     "schema_version": 1,
     "solution": true
    }
   },
   "source": [
    "Fold change can tend to be not too indicative of biological effect since small changes in some genes can have drastic effects when comapred to others. The genes that have large fold change but low significance means that the values do not differ very much if the values were gather from random experiments. This means that those genes tend to have larger variability in general. This means that when doing random tests, the values that you would expect to see come from a larger varying distribution and hence it is normal to see values with large swings. It would take a lot larger fold change than what is seen in order for the significance of the gene to increase."
   ]
  },
  {
   "cell_type": "markdown",
   "metadata": {
    "deletable": false,
    "editable": false,
    "nbgrader": {
     "checksum": "b35140469fc076859adedf78b75ae01e",
     "grade": false,
     "grade_id": "cell-cf2781ff38881688",
     "locked": true,
     "schema_version": 1,
     "solution": false
    }
   },
   "source": [
    "**<font color=\"red\">Discussion-Q3</font> - 5 pts**: For GO analysis, the choice of the background set of genes can be important. Here, we chose the set of all genes we analyzed with DESeq2 as the background. This ensured that we were only looking at genes that were at least somewhat expressed in liver in at least one of our samples. We could have instead chosen a different background set, such as all mouse genes. Hypothesize how this might have changed our results?"
   ]
  },
  {
   "cell_type": "markdown",
   "metadata": {
    "deletable": false,
    "nbgrader": {
     "checksum": "f2e4edb5805ed4e9f7a5bd72043840e1",
     "grade": true,
     "grade_id": "correct-disc-q3",
     "locked": false,
     "points": 5,
     "schema_version": 1,
     "solution": true
    }
   },
   "source": [
    "Changing what the background set of genes will greatly affect the results of the GO analysis. Since choosing groups and categorizing depends on the difference from what qunaitity of a gene is seen in a sample compared to if just random samples were taken from all background genes. Including more genes, such as ones not even seen in the sample, will greatly influence those ratios needed for determining significance. Using tissue specific bacground genes will add a bias into what is considered differentially expressed since different tiusses can be expected to have different expressions. Hence it would be normal to see larger quantity of a tissue specific gene. If this were the case anywhere else in the body, thise gene would be considered significantly expressed because ratios of categories will be similar (more normalized) and hence the higher concentration found in a specific tissue will be a lot greater. Using the whole mouse genome as the background as proposed may increase the significance of tissue specific genes. This will muddle the results of the actual biological processes that we are actually trying to see."
   ]
  }
 ],
 "metadata": {
  "kernelspec": {
   "display_name": "Python 3",
   "language": "python",
   "name": "python3"
  },
  "language_info": {
   "codemirror_mode": {
    "name": "ipython",
    "version": 3
   },
   "file_extension": ".py",
   "mimetype": "text/x-python",
   "name": "python",
   "nbconvert_exporter": "python",
   "pygments_lexer": "ipython3",
   "version": "3.6.7"
  }
 },
 "nbformat": 4,
 "nbformat_minor": 2
}
