{
 "cells": [
  {
   "cell_type": "markdown",
   "metadata": {
    "deletable": false,
    "editable": false,
    "nbgrader": {
     "checksum": "08a70de18dd049e7a36aaef148450978",
     "grade": false,
     "grade_id": "cell-d86da4834eda40d5",
     "locked": true,
     "schema_version": 1,
     "solution": false
    }
   },
   "source": [
    "# Week 1 Lab: next generation sequencing and mutation hunting\n",
    "\n",
    "## Prelab 2\n",
    "\n",
    "**Due: Monday 4/8/19 9am**\n",
    "\n",
    "Today's prelab will focus on understanding **sequencing coverage** and how to model coverage in the presence of **genetic variants** from the reference genome."
   ]
  },
  {
   "cell_type": "markdown",
   "metadata": {
    "deletable": false,
    "editable": false,
    "nbgrader": {
     "checksum": "872e352712c8cc3b9faa5dfb5279f9d2",
     "grade": false,
     "grade_id": "cell-73784c48dcaf1f7d",
     "locked": true,
     "schema_version": 1,
     "solution": false
    }
   },
   "source": [
    "## 1. Exploring sequencing coverage\n",
    "\n",
    "In next generation sequencing (NGS), coverage refers to the number of reads *covering* a particular base pair (bp) in the reference genome.\n",
    "\n",
    "Recall from lecture that we sequence a genome in many little chunks, called *reads*. In a typical NGS experiment, reads are around 100bp each. We can assume that the start position of each read is chosen randomly from the genome (although that's not quite true). We usually produce enough sequencing data such that we cover each base in the genome many times. This allows us to more accurately correct for errors and to detect **variants** from the reference genome.\n",
    "\n",
    "As a toy example, consider the following reference genome and read alignment:\n",
    "\n",
    "```\n",
    "Ref:    AACTACGTACGTACGATCAGACTG\n",
    "Read 1:      CGTACG\n",
    "Read 2:          CGTACG\n",
    "Read 3:                  CAGACT\n",
    "```\n",
    "\n",
    "The 11th position (G in the reference) is covered 2 times (often denoted as 2x). The first position (A in the reference) is covered 0 times. "
   ]
  },
  {
   "cell_type": "markdown",
   "metadata": {
    "deletable": false,
    "editable": false,
    "nbgrader": {
     "checksum": "f9ba1f32e273d40cf822c4185db79ecd",
     "grade": false,
     "grade_id": "cov",
     "locked": true,
     "schema_version": 1,
     "solution": false
    }
   },
   "source": [
    "**Question 1 (1 pts):** How many times is the 13th base covered?"
   ]
  },
  {
   "cell_type": "markdown",
   "metadata": {
    "deletable": false,
    "nbgrader": {
     "checksum": "2dd62a0590ba055b551f4b8a28e28d89",
     "grade": true,
     "grade_id": "correct-cov",
     "locked": false,
     "points": 1,
     "schema_version": 1,
     "solution": true
    }
   },
   "source": [
    "The 13th base is A. It is covered only one time."
   ]
  },
  {
   "cell_type": "markdown",
   "metadata": {
    "deletable": false,
    "editable": false,
    "nbgrader": {
     "checksum": "8cba98cc2cdb94245fc38d2a8d96d69b",
     "grade": false,
     "grade_id": "cell-42695e449e02dc3b",
     "locked": true,
     "schema_version": 1,
     "solution": false
    }
   },
   "source": [
    "We can easily compute the *average coverage*, or mean number of times each base is covered, given the read length ($l$), genome size ($G$), and number of reads ($N$) by dividing the number of total sequenced bases ($l*N$) by the total genome size ($G$): \n",
    "\n",
    "$$\\texttt{Mean Coverage} = \\frac{lN}{G}$$"
   ]
  },
  {
   "cell_type": "markdown",
   "metadata": {
    "deletable": false,
    "editable": false,
    "nbgrader": {
     "checksum": "31ce7acadc3f9f280670810fcf4a3f52",
     "grade": false,
     "grade_id": "avgcov",
     "locked": true,
     "schema_version": 1,
     "solution": false
    }
   },
   "source": [
    "**Question 2 (2 pts):** For a genome of total length 2000bp, you sequenced 100,000 reads with length 36. What is the mean coverage?"
   ]
  },
  {
   "cell_type": "markdown",
   "metadata": {
    "deletable": false,
    "nbgrader": {
     "checksum": "250b2e670791251b7484a18bbda75fa4",
     "grade": true,
     "grade_id": "correct-avgcov",
     "locked": false,
     "points": 2,
     "schema_version": 1,
     "solution": true
    }
   },
   "source": [
    "Mean Coverage is: (36)*(100,000)/(2000) = 1800 reads per bp"
   ]
  },
  {
   "cell_type": "markdown",
   "metadata": {
    "deletable": false,
    "editable": false,
    "nbgrader": {
     "checksum": "f1688dd7bb538fcd5f8512c231021188",
     "grade": false,
     "grade_id": "cell-d2453ef5c621a4b5",
     "locked": true,
     "schema_version": 1,
     "solution": false
    }
   },
   "source": [
    "**Question 3 (2 pts):** You would like to sequence a human genome (3 billion bp) to mean coverage 50x. Approximately how many 100bp reads should you generate?"
   ]
  },
  {
   "cell_type": "markdown",
   "metadata": {
    "deletable": false,
    "nbgrader": {
     "checksum": "fd690f29ea907b59aea1012cd841cdab",
     "grade": true,
     "grade_id": "cell-ab0d704ea113e049",
     "locked": false,
     "points": 2,
     "schema_version": 1,
     "solution": true
    }
   },
   "source": [
    "Want 50x (MC) coverage for a 3*10^9 (G) length sequence while using 100bp per read.\n",
    "\n",
    "Number of reads needed: (3 * 10^9)*(50)/(100) = 1,500,000,000"
   ]
  },
  {
   "cell_type": "markdown",
   "metadata": {
    "deletable": false,
    "editable": false,
    "nbgrader": {
     "checksum": "dbc597ff2e9b9917654d544c4d2ab7a9",
     "grade": false,
     "grade_id": "cell-aabf77ecacc09fa4",
     "locked": true,
     "schema_version": 1,
     "solution": false
    }
   },
   "source": [
    "## 2. Reviewing the binomial distribution\n",
    "\n",
    "Now we will explore what our sequencing data will look like in the presence of variants from the reference genome. We'll also learn some terminology for how we talk about genetic variation. For simplicity, we will only consider simple base pair substitutions. Insertions, deletions, or structural variants will be discussed in later weeks.\n",
    "\n",
    "Humans are *diploid*, meaning we have two copies of each chromosome (except X and Y). Positions in the genome that have common variants in the population are referred to as \"single nucleotide polymorphisms\", or SNPs. Nearly all SNPs are *bi-allelic*, meaning the position on any given copy of the chromosome in the population is either one of two possible base pairs (e.g. A or C). Each of these possible base pairs is called an *allele*.\n",
    "\n",
    "For example, consider a SNP with two alleles, \"C\" or \"T\". Since we are diploid, the *genotype* of a person consists of the two alleles they have on either copy. So a person's *genotype* at this SNP could be either CC, CT, or TT. We refer to genotypes where both alleles are the same (e.g. CC or TT) as *homozygous* and to genotypes with two different alleles (e.g. CT) as *heterozygous*. Since one of these is usually the allele in the reference genome (*reference allele*), we can refer to SNP genotypes as *homozygous reference*, *heterozygous*, or *homozygous non-reference*.\n",
    "\n",
    "Now let's think about what next-generation sequencing data will look like at different types of genotypes. Consider a position in the genome *covered* by $C$ reads. Each of those reads has a 50/50 chance of coming from either chromosome of an individual. For a homozygous position (e.g. genotype TT), we'd expect all of the reads covering that position to show the same base pair (T). On the other hand, for a heterozygous position (e.g. genotype CT), we'd expect about half of them to show one base pair (C) and half the other (T). (Of course when there are sequencing errors, this will change.)\n",
    "\n",
    "The *binomial distribution* is a great way to model the number of reads with each allele at a heterozygous position. Head over to wikipedia to refresh your memory on this distribution: https://en.wikipedia.org/wiki/Binomial_distribution.\n",
    "\n",
    "In a binomial distribution, we have $N$ total \"trials\", each with probability $p$ of \"success\". Then the probability of observing $k$ \"successes\" is:\n",
    "\n",
    "$$ P(k) = {n \\choose k} p^k(1-p)^{n-k}$$\n",
    "\n",
    "Now let's adapt this to SNP calling. \n",
    "\n",
    "Let $N$ (number of trials) be the total number of reads covering a position and a \"success\" mean observing a non-reference allele. Since we observe each allele (reference vs. non-reference) with 50/50 chance, $p=0.5$. Then for a heterozygous position:\n",
    "\n",
    "$$ P(\\texttt{observe }k\\texttt{ non-reference reads} | \\texttt{het}) = {n \\choose k} 0.5^k(1-0.5)^{n-k}$$\n",
    "Simplifying:\n",
    "$$ P(\\texttt{observe }k\\texttt{ non-reference reads} | \\texttt{ het}) = {n \\choose k} 0.5^n$$\n",
    "\n",
    "And for the homozygous cases are just:\n",
    "$$ P(\\texttt{observe }k\\texttt{ non-reference reads} | \\texttt{ hom. ref}) = \\begin{array}{c c} 1 & k=0 \\\\ 0 & k>0\\end{array}$$\n",
    "$$ P(\\texttt{observe }k\\texttt{ non-reference reads} | \\texttt{ hom. nonref}) = \\begin{array}{c c} 1 & k=N \\\\ 0 & k<N \\end{array}$$\n",
    "\n",
    "This of course gets more complicated when you consider sequencing errors. That is, even if a position is homozygous for the reference allele, you may occasionally see evidence for a different base due to an error. But let's ignore that for now.\n",
    "\n",
    "Let's plot the distributions for a SNP with C as the reference allele and T as the non-reference allele that we covered 50 times:"
   ]
  },
  {
   "cell_type": "code",
   "execution_count": 3,
   "metadata": {
    "deletable": false,
    "editable": false,
    "nbgrader": {
     "checksum": "cecbecd88758a037e372949d5a438a59",
     "grade": false,
     "grade_id": "cell-16fd9cf966745468",
     "locked": true,
     "schema_version": 1,
     "solution": false
    }
   },
   "outputs": [
    {
     "name": "stdout",
     "output_type": "stream",
     "text": [
      "Populating the interactive namespace from numpy and matplotlib\n"
     ]
    },
    {
     "data": {
      "image/png": "[encoded data removed]",
      "text/plain": [
       "<Figure size 360x360 with 3 Axes>"
      ]
     },
     "metadata": {
      "needs_background": "light"
     },
     "output_type": "display_data"
    }
   ],
   "source": [
    "%pylab inline\n",
    "\n",
    "import numpy as np\n",
    "import scipy.special\n",
    "\n",
    "def GetHomRefProb(N, k):\n",
    "    \"\"\"Probability to see k non-ref reads at a homozygous ref site with N total reads\"\"\"\n",
    "    if k == 0: return 1\n",
    "    else: return 0\n",
    "    \n",
    "def GetHetProb(N, k):\n",
    "    \"\"\"Probability to see k non-ref reads at a heterozygous site with N total reads\"\"\"\n",
    "    return scipy.special.comb(N, k)*0.5**N\n",
    "\n",
    "def GetHomNonRefProb(N, k):\n",
    "    \"\"\"Probability to see k non-ref reads at a homozygous non-ref site with N total reads\"\"\"\n",
    "    if k == N: return 1\n",
    "    else: return 0\n",
    "\n",
    "def PlotBinomSNP(N):\n",
    "    \"\"\" Plot binomial probabilities for percent of nref reads given N total reads\"\"\"\n",
    "    kvals = range(0, N+1)\n",
    "\n",
    "    fig = plt.figure()\n",
    "    fig.set_size_inches((5, 5))\n",
    "\n",
    "    ax = fig.add_subplot(311)\n",
    "    hom_ref = [GetHomRefProb(N, k) for k in kvals]\n",
    "    ax.bar(kvals, hom_ref)\n",
    "    ax.set_title(\"Homozygous reference (CC)\")\n",
    "    ax.set_ylabel(\"Probability\")\n",
    "\n",
    "    ax = fig.add_subplot(312)\n",
    "    het = [GetHetProb(N, k) for k in kvals]\n",
    "    ax.bar(kvals, het)\n",
    "    ax.set_title(\"Heterozygous (CT)\")\n",
    "    ax.set_ylabel(\"Probability\")\n",
    "\n",
    "    ax = fig.add_subplot(313)\n",
    "    hom_nonref = [GetHomNonRefProb(N, k) for k in kvals]\n",
    "    ax.bar(kvals, hom_nonref)\n",
    "    ax.set_title(\"Homozygous non-reference (TT)\")\n",
    "    ax.set_xlabel(\"Number of reads with T observed\")\n",
    "    ax.set_ylabel(\"Probability\")\n",
    "\n",
    "    fig.tight_layout()\n",
    "\n",
    "N = 10 # Number of reads at a position\n",
    "PlotBinomSNP(N)"
   ]
  },
  {
   "cell_type": "markdown",
   "metadata": {
    "deletable": false,
    "editable": false,
    "nbgrader": {
     "checksum": "41b824932766445fd872f620506fabf7",
     "grade": false,
     "grade_id": "hetprob",
     "locked": true,
     "schema_version": 1,
     "solution": false
    }
   },
   "source": [
    "**Question 4 (1 pts):** If the position is heterozygous for the reference allele (C) and another allele (T) and there are 10 reads covering it, what is the probability to see only 1 non-reference (T) read?"
   ]
  },
  {
   "cell_type": "code",
   "execution_count": 9,
   "metadata": {
    "deletable": false,
    "nbgrader": {
     "checksum": "1ca4d70825940381cfbe6beaf238a877",
     "grade": false,
     "grade_id": "prompt-hetprob",
     "locked": false,
     "schema_version": 1,
     "solution": true
    }
   },
   "outputs": [
    {
     "name": "stdout",
     "output_type": "stream",
     "text": [
      "Probability is:  0.009765625\n"
     ]
    }
   ],
   "source": [
    "# Set the value of prob to the probability to see only 1 non-reference (T) read\n",
    "# Hint: you may use a function defined above\n",
    "prob = 0 \n",
    "#def GetHetProb(N, k):\n",
    "prob = GetHetProb(10,1)\n",
    "print(\"Probability is: \", prob)"
   ]
  },
  {
   "cell_type": "code",
   "execution_count": 13,
   "metadata": {
    "deletable": false,
    "editable": false,
    "nbgrader": {
     "checksum": "edf3bb580654d9b8b161831d482fa03f",
     "grade": true,
     "grade_id": "correct-hetprob",
     "locked": true,
     "points": 2,
     "schema_version": 1,
     "solution": false
    }
   },
   "outputs": [],
   "source": [
    "\"\"\" Check probability was computed correctly\"\"\"\n",
    "# Note, some cases (like this) will include visible tests as well as hidden tests that you can't see.\n",
    "assert(prob>=0 and prob <=1)"
   ]
  },
  {
   "cell_type": "markdown",
   "metadata": {
    "deletable": false,
    "editable": false,
    "nbgrader": {
     "checksum": "42d15fb86adbb623cb118174402c0cec",
     "grade": false,
     "grade_id": "covhet",
     "locked": true,
     "schema_version": 1,
     "solution": false
    }
   },
   "source": [
    "**Question 5 (3 pts):** Generate plots similar to above except with 50 reads. Try again with only 3 reads. (do this by executing the code below). Do you think it will be easier or harder to distinguish heterozygous from non-heterozygous positions? What about for a position only covered by 3 reads?"
   ]
  },
  {
   "cell_type": "code",
   "execution_count": 14,
   "metadata": {
    "deletable": false,
    "editable": false,
    "nbgrader": {
     "checksum": "d1e646aee1fbfbf5fa88fb7e3254588b",
     "grade": false,
     "grade_id": "cell-3d173763d10eb16a",
     "locked": true,
     "schema_version": 1,
     "solution": false
    }
   },
   "outputs": [
    {
     "data": {
      "image/png": "[encoded data removed]",
      "text/plain": [
       "<Figure size 360x360 with 3 Axes>"
      ]
     },
     "metadata": {
      "needs_background": "light"
     },
     "output_type": "display_data"
    },
    {
     "data": {
      "image/png": "[encoded data removed]",
      "text/plain": [
       "<Figure size 360x360 with 3 Axes>"
      ]
     },
     "metadata": {
      "needs_background": "light"
     },
     "output_type": "display_data"
    }
   ],
   "source": [
    "PlotBinomSNP(50)\n",
    "PlotBinomSNP(3)"
   ]
  },
  {
   "cell_type": "markdown",
   "metadata": {
    "deletable": false,
    "nbgrader": {
     "checksum": "42cd15b14d963455dd827991f2369414",
     "grade": true,
     "grade_id": "correct-covhet",
     "locked": false,
     "points": 3,
     "schema_version": 1,
     "solution": true
    }
   },
   "source": [
    "It is easier to distinguish between heterozygous and non-heterozygous positions when there are more reads (50). This reduces the effect that potential errors or noise can have in position reads. As seen in the example with only 3 reads, a single change between 0 reads and 1 read changes the probability of heterozygous significantly. The model is a lot more sensative to noise."
   ]
  }
 ],
 "metadata": {
  "kernelspec": {
   "display_name": "Python 3",
   "language": "python",
   "name": "python3"
  },
  "language_info": {
   "codemirror_mode": {
    "name": "ipython",
    "version": 3
   },
   "file_extension": ".py",
   "mimetype": "text/x-python",
   "name": "python",
   "nbconvert_exporter": "python",
   "pygments_lexer": "ipython3",
   "version": "3.6.7"
  }
 },
 "nbformat": 4,
 "nbformat_minor": 2
}
