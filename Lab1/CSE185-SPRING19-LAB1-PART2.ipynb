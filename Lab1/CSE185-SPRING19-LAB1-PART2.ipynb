{
 "cells": [
  {
   "cell_type": "markdown",
   "metadata": {
    "deletable": false,
    "editable": false,
    "nbgrader": {
     "checksum": "0b4e7a6b11c3878d09bc6eb4198835a2",
     "grade": false,
     "grade_id": "cell-4ec91fd127f50aa9",
     "locked": true,
     "schema_version": 1,
     "solution": false
    }
   },
   "source": [
    "# Week 1 Lab: next generation sequencing and mutation hunting\n",
    "\n",
    "## Part 2\n",
    "**Due: Monday 4/8/19 9am**\n",
    "\n",
    "**Partner: ** (optional. You must both turn in the assignment. You must choose a different partner each week.)\n",
    "\n",
    "Skills covered: More UNIX commands, python scripting, variant calling, error sources\n",
    "\n",
    "In this lab we'll dig into the sequence alignments we generated last time to identify potential mutations that occurred in the patient but not eiter of her parents."
   ]
  },
  {
   "cell_type": "code",
   "execution_count": null,
   "metadata": {},
   "outputs": [],
   "source": []
  },
  {
   "cell_type": "markdown",
   "metadata": {
    "deletable": false,
    "editable": false,
    "nbgrader": {
     "checksum": "8f7975619cda3afa0381a89b0105e7b8",
     "grade": false,
     "grade_id": "cell-ee3a082e514b9144",
     "locked": true,
     "schema_version": 1,
     "solution": false
    }
   },
   "source": [
    "## 1. Preparing for SNP calling: pileup files\n",
    "\n",
    "The goal now is to go through our data, and for each position in the reference genome, see how many reads have a mutation at the same position. The SAM file is inconvenient for this, because the reads aren’t matched with the reference in a simple way (though they do contain all the information needed). The solution is to make an intermediate file type called an mpileup, because it goes through each position and “piles up” the reads, tabulating the number of bases that match or don’t match the reference.\n",
    "\n",
    "mpileup requires a sorted, indexed bam file. We will focus only on a specific region of the genome to make this go faster. Run `samtools mpileup` to see the usage information. Then run the basic command below. Be sure to edit the path to the reference genome file.\n",
    "\n",
    "```\n",
    "samtools mpileup -r chr6:128405804-128605805 -f hg19.fa NA12878_child.sorted.bam > NA12878_child.mpileup\n",
    "```\n",
    "\n",
    "See what the pileup looks like with `head -n 100`. These files will be more convenient for SNP calling, since they \"pileup\" all the bases sequenced at each position in the reference genome. Read about pileup format here: http://samtools.sourceforge.net/pileup.shtml.\n",
    "\n",
    "```\n",
    "head -n 100 NA12878_child.mpileup | more\n",
    "```\n",
    "\n",
    "Now look at the usage of `samtools mpileup` to determine how to run the command on multiple BAM files at once (child, father, and mother, in that order so everyone's files are consistent). Output the results to `trio.mpileup`.\n",
    "\n",
    "To examine the output, we'll learn a new UNIX command, `grep`, which is a useful tool for searching files for specific string patterns (kind of like \"ctrl+F\" or \"find\" functions in other tools). Try the command below:\n",
    "\n",
    "```\n",
    "cat trio.mpileup | grep 128419307\n",
    "```"
   ]
  },
  {
   "cell_type": "markdown",
   "metadata": {
    "deletable": false,
    "editable": false,
    "nbgrader": {
     "checksum": "b9d1391a4e3e0a39dd177f01f56a4d6c",
     "grade": false,
     "grade_id": "mpileup",
     "locked": true,
     "schema_version": 1,
     "solution": false
    }
   },
   "source": [
    "**Question 1 (2 pts):** Look at the usage of `samtools mpileup` to determine how to run the command on multiple BAM files at once (child, father, and mother, in that order so everyone's files are consistent). Output the results to `trio.mpileup`. Paste your command below."
   ]
  },
  {
   "cell_type": "markdown",
   "metadata": {
    "deletable": false,
    "nbgrader": {
     "checksum": "9e69793fb89daad1b9e327078654fe37",
     "grade": true,
     "grade_id": "correct-mpileup",
     "locked": false,
     "points": 2,
     "schema_version": 1,
     "solution": true
    }
   },
   "source": [
    "samtools mpileup -r chr6:128405804-128605805 -f ../../../datasets/cs185s-sp19-public/genomes/hg19.fa NA12878_child.sorted.bam NA12891_father.sorted.bam NA12892_mother.sorted.bam > trio.mpileup"
   ]
  },
  {
   "cell_type": "markdown",
   "metadata": {
    "deletable": false,
    "editable": false,
    "nbgrader": {
     "checksum": "2fdc0ab835121c6fd8f7ba61137efc84",
     "grade": false,
     "grade_id": "checkpos",
     "locked": true,
     "schema_version": 1,
     "solution": false
    }
   },
   "source": [
    "**Question 2 (2 pts)**: How many reads does each smaple (child, mother, father) have covering the position chr6:128419307? What does it look like the genotype of each sample is? (TT, AT, or AA)?"
   ]
  },
  {
   "cell_type": "markdown",
   "metadata": {
    "deletable": false,
    "nbgrader": {
     "checksum": "288e5ae1eb6971b14971f3171dd2942b",
     "grade": true,
     "grade_id": "correct-checkpos",
     "locked": false,
     "points": 2,
     "schema_version": 1,
     "solution": true
    }
   },
   "source": [
    "Child has 56 reads. <br>\n",
    "Father has 56 reads. <br>\n",
    "Mother has 50 reads. <br>\n",
    "\n",
    "For all three sample (child, father, mother) the genotype looks like it is AT. There are almost half matches (.,) and half mismatches (A,a). The original reference base pair is T."
   ]
  },
  {
   "cell_type": "markdown",
   "metadata": {
    "deletable": false,
    "editable": false,
    "nbgrader": {
     "checksum": "9fe5c84982056b3333e8e6c51c0a6bed",
     "grade": false,
     "grade_id": "cell-6fc7f6432f923210",
     "locked": true,
     "schema_version": 1,
     "solution": false
    }
   },
   "source": [
    "## 2. Plotting the coverage distribution\n",
    "\n",
    "The mpileup format makes it straightforward to plot the coverage distribution for each sample. We can simply pull out the columns of the file for each sample correponding to coverage. \n",
    "\n",
    "**Question 3 (5 pts)** Complete the code below to plot the distribution of coverage and compute the mean of the distribution for each sample."
   ]
  },
  {
   "cell_type": "code",
   "execution_count": 1,
   "metadata": {
    "deletable": false,
    "nbgrader": {
     "checksum": "306cfa97bfab5587212d4785db0d2e5d",
     "grade": false,
     "grade_id": "covdist",
     "locked": false,
     "schema_version": 1,
     "solution": true
    }
   },
   "outputs": [
    {
     "name": "stdout",
     "output_type": "stream",
     "text": [
      "Populating the interactive namespace from numpy and matplotlib\n",
      "Mean child coverage: 50\n",
      "Mean father coverage: 51\n",
      "Mean mother coverage: 54\n"
     ]
    },
    {
     "data": {
      "image/png": "[encoded data removed]",
      "text/plain": [
       "<Figure size 576x216 with 3 Axes>"
      ]
     },
     "metadata": {
      "needs_background": "light"
     },
     "output_type": "display_data"
    }
   ],
   "source": [
    "%pylab inline\n",
    "import os\n",
    "import pandas as pd\n",
    "import numpy as np\n",
    "\n",
    "# All output files will be stored in a week1 folder in your home directory\n",
    "BASEDIR = os.path.join(os.environ[\"HOME\"], \"week1\")\n",
    "\n",
    "# Note we used the pandas library to load the data file\n",
    "# covdata is a dataframe. use covdata[colname] to access a column\n",
    "# You can use numpy functions such as np.mean(covdata[colname])\n",
    "# to compute functions on columns\n",
    "# Use covdata.head() to view the top of the data frame.\n",
    "# See more at https://pandas.pydata.org/pandas-docs/stable/getting_started/tutorials.html\n",
    "\n",
    "def PlotCovDist(plot=False):\n",
    "    # Compute these values and return below\n",
    "    mean_child_cov = 0\n",
    "    mean_father_cov = 0\n",
    "    mean_mother_cov = 0\n",
    "    \n",
    "    # Load coverage ino\n",
    "    #covdata is a df with child, father, mother as column headers and each row is the number of reads at the bp\n",
    "    covdata = pd.read_csv(os.path.join(BASEDIR, \"trio.mpileup\"), sep=\"\\t\",\n",
    "                     names = [\"cov.child\", \"cov.father\", \"cov.mother\"],\n",
    "                     usecols = [3, 6, 9])\n",
    "\n",
    "    \n",
    "    # Plot coverage distributions\n",
    "    if plot:\n",
    "        fig = plt.figure()\n",
    "        fig.set_size_inches((8, 3))\n",
    "        ax = fig.add_subplot(131)\n",
    "        ax.hist(covdata[\"cov.child\"])\n",
    "        ax.set_xlabel(\"# reads - child\")\n",
    "        ax.set_ylabel(\"# positions\")\n",
    "        ax = fig.add_subplot(132)\n",
    "        ax.hist(covdata[\"cov.father\"])\n",
    "        ax.set_xlabel(\"# reads - father\")\n",
    "        ax.set_ylabel(\"# positions\")\n",
    "        ax = fig.add_subplot(133)\n",
    "        ax.hist(covdata[\"cov.mother\"])\n",
    "        ax.set_xlabel(\"# reads - mother\")\n",
    "        ax.set_ylabel(\"# positions\")    \n",
    "        fig.tight_layout();\n",
    "    \n",
    "    # Compute mean coverate of child, father, and mother\n",
    "    mean_child_cov = np.mean(covdata['cov.child'])\n",
    "    mean_father_cov = np.mean(covdata['cov.father'])\n",
    "    mean_mother_cov = np.mean(covdata['cov.mother'])\n",
    "\n",
    "    # Print out results\n",
    "    print(\"Mean child coverage: %d\"%mean_child_cov)\n",
    "    print(\"Mean father coverage: %d\"%mean_father_cov)\n",
    "    print(\"Mean mother coverage: %d\"%mean_mother_cov)\n",
    "\n",
    "    # Return results\n",
    "    return mean_child_cov, mean_father_cov, mean_mother_cov\n",
    "\n",
    "PlotCovDist(plot=True);"
   ]
  },
  {
   "cell_type": "code",
   "execution_count": 2,
   "metadata": {
    "deletable": false,
    "editable": false,
    "nbgrader": {
     "checksum": "2104c509b138df50ef4ee1f5dc16e99b",
     "grade": true,
     "grade_id": "correct-covdist",
     "locked": true,
     "points": 5,
     "schema_version": 1,
     "solution": false
    }
   },
   "outputs": [
    {
     "name": "stdout",
     "output_type": "stream",
     "text": [
      "Mean child coverage: 50\n",
      "Mean father coverage: 51\n",
      "Mean mother coverage: 54\n"
     ]
    }
   ],
   "source": [
    "\"\"\"Check computed average coverages\"\"\"\n",
    "mean_child_cov, mean_father_cov, mean_mother_cov = PlotCovDist(plot=False)"
   ]
  },
  {
   "cell_type": "markdown",
   "metadata": {
    "deletable": false,
    "editable": false,
    "nbgrader": {
     "checksum": "a61d773fea29b14ca278d48b0f0005d4",
     "grade": false,
     "grade_id": "cell-72317cb114a6a737",
     "locked": true,
     "schema_version": 1,
     "solution": false
    }
   },
   "source": [
    "## 3. Running a SNP caller (Varscan)\n",
    "\n",
    "Now we will run a SNP caller to identify variants in our three samples. We could parse the mpileup file ourselves to do this, but there are already dozens of existing SNP callers out there so for now we'll choose not to reinvent the wheel.\n",
    "\n",
    "Until now, all the programs you have been using (BWA, fastqc, samtools...) were pre-installed for you in our public folder. Here you’ll get to try your hand at installing one type of program file.\n",
    "\n",
    "Use the command below (`curl` - it's a linux/unix command to access websites) to download VarScan into your `week1` folder. Notice that we are redirecting the contents of the download into a .jar file.\n",
    "\n",
    "```\n",
    "curl -L https://sourceforge.net/projects/varscan/files/VarScan.v2.3.9.jar/download > VarScan.jar\n",
    "```\n",
    "\n",
    "Try to bring up the man page with:\n",
    "```\n",
    "java -jar VarScan.jar\n",
    "```\n",
    "\n",
    "This install method won’t be the same for all bioinformatics programs, and it might not even be the same for other java programs, as installing open source software often has dependencies (prerequisite software) and can be sensitive to where its installed and how it is executed. We'll try to touch on this throughout the course.\n",
    "\n",
    "\n",
    "On the VarScan man page, you should see several commands. We are interested in the `mpileup2snp` command. Go ahead and enter it with `-h` to bring up the manual.\n",
    "\n",
    "```\n",
    "java -jar VarScan.jar mpileup2snp -h\n",
    "```\n",
    "\n",
    "There are lots of ways we could filter our data. VarScan lets the user define their own cutoffs for including data in calling variants, other programs rely on complex statistical procedures to evaluate the likelihood of real mutations.\n",
    "\n",
    "The first option we are interested in setting today is the `--min-var-frequency` option. This sets the minimum % of non-reference bases at a position required to call it a variant in the sample. Set this too low, and we'll pick up mostly sequencing errors. Set this too high, and we'll miss real variants. We're also interested in `--min-freq-for-hom`, the minimum % of non-reference bases to call a variant homozygous.\n",
    "\n",
    "Choose reasonable thresholds that will allow us to pick up both heterozygous and homozygous variants. "
   ]
  },
  {
   "cell_type": "markdown",
   "metadata": {
    "deletable": false,
    "editable": false,
    "nbgrader": {
     "checksum": "ee81a547b6a78b9f20e935da724da046",
     "grade": false,
     "grade_id": "varscan",
     "locked": true,
     "schema_version": 1,
     "solution": false
    }
   },
   "source": [
    "**Question 4 (4 pts)**: Choose reasonable thresholds to modify and run the command below to perform SNP calling. Paste your full command in the next cell. If you are unsure about the values you are putting in, you might want to discuss with your partner or TA since the results will affect what you do in the next part.\n",
    "\n",
    "```\n",
    "java -jar VarScan.jar mpileup2snp \\\n",
    "  trio.mpileup \\\n",
    "  --min-var-frequency N \\\n",
    "  --min-freq-for-hom N \\\n",
    "  --variants \\\n",
    "  --p-value 0.01 \\\n",
    "  --output-vcf 1 > trio.vcf\n",
    "```"
   ]
  },
  {
   "cell_type": "markdown",
   "metadata": {
    "deletable": false,
    "nbgrader": {
     "checksum": "7c240d6cb23ce921d6573722fcf26abf",
     "grade": true,
     "grade_id": "correct-varscan",
     "locked": false,
     "points": 4,
     "schema_version": 1,
     "solution": true
    }
   },
   "source": [
    "java -jar VarScan.jar mpileup2snp \\\n",
    "  trio.mpileup \\\n",
    "  --min-var-frequency 40 \\\n",
    "  --min-freq-for-hom  75 \\\n",
    "  --variants \\\n",
    "  --p-value 0.01 \\\n",
    "  --output-vcf 1 > trio.vcf"
   ]
  },
  {
   "cell_type": "markdown",
   "metadata": {
    "deletable": false,
    "editable": false,
    "nbgrader": {
     "checksum": "5a8779b17c1f70ec54e21c0c89f160a3",
     "grade": false,
     "grade_id": "cell-34612010b7238f37",
     "locked": true,
     "schema_version": 1,
     "solution": false
    }
   },
   "source": [
    "## 4. Intro to VCF files\n",
    "\n",
    "VarScan outputs variants in VCF (variant call format), a standard genomics format. To read about all the gory details of VCF files, see the specs: https://samtools.github.io/hts-specs/VCFv4.2.pdf\n",
    "\n",
    "First take a peak and scroll through the file:\n",
    "\n",
    "```\n",
    "cat trio.vcf | more\n",
    "```\n",
    "\n",
    "Key things to notice:\n",
    "\n",
    "* The header lines (starting with \"#\") give general information about the file such as the tool use to generate it and a description of all the different data fields in the file.\n",
    "* Below the header, there is one line per variant. For each variant, you can find the chromosome, position, reference allele, alternate allele, and additional info. Following these fields are the variant call and statistics for each sample\n",
    "* \"INFO\" fields describe per-variant statistics. \"FORMAT\" fields describe per-sample statistics at each variant.\n",
    "\n",
    "See lecture slides for more VCF info."
   ]
  },
  {
   "cell_type": "markdown",
   "metadata": {
    "deletable": false,
    "editable": false,
    "nbgrader": {
     "checksum": "3728048f1df14db2ca0e8bce129e322f",
     "grade": false,
     "grade_id": "vcfcheck",
     "locked": true,
     "schema_version": 1,
     "solution": false
    }
   },
   "source": [
    "**Question 5 (4 pts)**: Look at the position chr6:128593590 (it might be helpful to use grep for this. See example command below). What is the genotype for each of the three samples? What is the p-value for each?\n",
    "\n",
    "```\n",
    "grep 128593590 trio.vcf\n",
    "```"
   ]
  },
  {
   "cell_type": "markdown",
   "metadata": {
    "deletable": false,
    "nbgrader": {
     "checksum": "d388a9da39ea8da3db484911558f01da",
     "grade": true,
     "grade_id": "correct-vcfcheck",
     "locked": false,
     "points": 4,
     "schema_version": 1,
     "solution": true
    }
   },
   "source": [
    "cat trio.vcf | grep 128593590 trio.vcf\n",
    "\n",
    "chr6    128593590       .       T       G       .       PASS <br>\n",
    "GT:GQ:SDP:DP:RD:AD:FREQ:PVAL:RBQ:ABQ:RDF:RDR:ADF:ADR <br>\n",
    "0/0:126:68:68:68:0:0%:1E0:37:0:34:34:0:0 <br>\n",
    "0/0:85:45:45:45:0:0%:1E0:37:0:19:26:0:0 <br>\n",
    "0/1:70:52:52:32:20:38.46%:9.8643E-8:36:42:17:15:12:8 <br>\n",
    "\n",
    "Sample 1 Genotype: 0/0 (homozygous reference), pval = 1E0 <br>\n",
    "Sample 2 Genotype: 0/0 (homozygous reference), pval = 1E0 <br>\n",
    "Sample 3 Genotype: 0/1 (heterozygous), pval = 9.8643E-8 <br>"
   ]
  },
  {
   "cell_type": "markdown",
   "metadata": {
    "deletable": false,
    "editable": false,
    "nbgrader": {
     "checksum": "a355bc63224f45c50803209fe507e11a",
     "grade": false,
     "grade_id": "denovo",
     "locked": true,
     "schema_version": 1,
     "solution": false
    }
   },
   "source": [
    "## 5. Mutation identification and annotation\n",
    "\n",
    "We'd now like to identify potential *de novo* mutations that occurred in the child genome but that were not passed down by either parent. \n",
    "\n",
    "**Question 6 (10 pts)** In the space below, write a small program that identifies candidate mutations in the child genome.\n",
    "\n",
    "You may do this using whatever means you want, but example template code to get you started using the PyVCF library is provided. This can also be done using bash commands. Your code must run from within the notebook and output a list of candidate mutation positions.\n",
    "\n",
    "Note you could also do this manually, since our VCF file is pretty small. But we will give only 1 point for solutions with no code provided.\n",
    "\n",
    "The code prints out one line per position genotyped to give you an idea of how PyVCF works. Modify the code so that it returns a list of potentials of de novo mutations."
   ]
  },
  {
   "cell_type": "code",
   "execution_count": 3,
   "metadata": {
    "deletable": false,
    "nbgrader": {
     "checksum": "c97cacf5cccbf838632ebb3fc41d7f45",
     "grade": false,
     "grade_id": "cell-d3188e9d674b4351",
     "locked": false,
     "schema_version": 1,
     "solution": true
    }
   },
   "outputs": [
    {
     "name": "stdout",
     "output_type": "stream",
     "text": [
      "chr6:128414945:C/T;C/T;C/T\n",
      "chr6:128419307:T/A;T/A;T/A\n",
      "chr6:128421762:C/T;C/T;C/T\n",
      "chr6:128435303:C/T;C/T;C/T\n",
      "chr6:128442104:G/G;G/G;G/T\n",
      "chr6:128446509:C/T;C/T;C/T\n",
      "chr6:128450019:T/G;T/G;T/T\n",
      "chr6:128465668:C/T;C/C;C/T\n",
      "chr6:128469937:T/A;T/A;T/A\n",
      "chr6:128471913:A/C;A/C;A/C\n",
      "chr6:128484504:A/G;A/G;A/A\n",
      "chr6:128486139:A/C;A/C;A/C\n",
      "chr6:128488195:T/C;T/C;T/C\n",
      "chr6:128493991:G/T;G/T;G/T\n",
      "chr6:128494093:C/G;C/G;C/G\n",
      "chr6:128496528:T/T;T/T;T/C\n",
      "chr6:128496557:C/T;C/T;C/T\n",
      "chr6:128503550:T/C;T/C;T/T\n",
      "chr6:128505804:A/C;A/A;A/A\n",
      "chr6:128514053:G/A;G/A;G/A\n",
      "chr6:128515718:T/C;T/C;T/T\n",
      "chr6:128517169:T/T;T/T;T/C\n",
      "chr6:128532763:G/C;G/C;G/C\n",
      "chr6:128559329:C/T;C/T;C/T\n",
      "chr6:128564669:G/T;G/T;G/T\n",
      "chr6:128568999:C/T;C/T;C/C\n",
      "chr6:128572877:C/A;C/A;C/A\n",
      "chr6:128583972:G/A;G/G;G/A\n",
      "chr6:128583983:T/G;T/T;T/G\n",
      "chr6:128585618:A/C;A/C;A/C\n",
      "chr6:128591818:T/G;T/G;T/G\n",
      "chr6:128593590:T/T;T/T;T/G\n",
      "chr6:128599580:C/A;C/A;C/A\n",
      "chr6:128599902:C/A;C/A;C/A\n",
      "chr6:128602090:A/C;A/C;A/C\n",
      "chr6:128602577:T/C;T/C;T/C\n",
      "chr6:128602796:C/T;C/T;C/T\n",
      "chr6:128603361:C/T;C/T;C/T\n",
      "chr6:128604078:C/T;C/T;C/T\n",
      "chr6:128604430:G/A;G/A;G/A\n",
      "chr6:128604571:A/C;A/C;A/C\n"
     ]
    },
    {
     "data": {
      "text/plain": [
       "[128505804]"
      ]
     },
     "execution_count": 3,
     "metadata": {},
     "output_type": "execute_result"
    }
   ],
   "source": [
    "# This code simply prints out each position in the VCF file and the genotypes\n",
    "# of each sample. Modify to return a list of positions of potential de novo\n",
    "# mutations. That is, positions where the child has an allele not seen in \n",
    "# either parent.\n",
    "\n",
    "import vcf\n",
    "\n",
    "# This code is using the PyVCF library to parse VCFs\n",
    "# See more here: https://pyvcf.readthedocs.io/en/latest/INTRO.html\n",
    "# You shouldn't have to deal directly with any PyVCF functions\n",
    "# in your solution.\n",
    "\n",
    "def GetDenovoPositions(printpos=False):\n",
    "    reader = vcf.Reader(open(os.path.join(BASEDIR, \"trio.vcf\"), \"r\"))\n",
    "    positions = []\n",
    "    \n",
    "    for record in reader:\n",
    "        chrom  = record.CHROM # e.g. chr6\n",
    "        pos = record.POS # e.g. 128414945\n",
    "        child_gt = record.genotype(\"Sample1\").gt_bases # e.g. 'T/T'\n",
    "        father_gt = record.genotype(\"Sample2\").gt_bases # e.g. 'T/A'\n",
    "        mother_gt = record.genotype(\"Sample3\").gt_bases # e.g. 'T/T'\n",
    "\n",
    "        # If the position is denovo, add pos to positions\n",
    "        if (child_gt != mother_gt) and (child_gt != father_gt):\n",
    "            positions.append(pos)\n",
    "        \n",
    "        \n",
    "        if printpos:\n",
    "            print(\"%s:%s:%s;%s;%s\"%(chrom, pos, child_gt, father_gt, mother_gt))\n",
    "        \n",
    "    return positions\n",
    "\n",
    "GetDenovoPositions(printpos=True)"
   ]
  },
  {
   "cell_type": "code",
   "execution_count": 4,
   "metadata": {
    "deletable": false,
    "editable": false,
    "nbgrader": {
     "checksum": "1d4d70f7dd114a1877ac0166b297acc7",
     "grade": true,
     "grade_id": "cell-e0b06a95370255a1",
     "locked": true,
     "points": 10,
     "schema_version": 1,
     "solution": false
    }
   },
   "outputs": [],
   "source": [
    "\"\"\" Check the list of positions returned\"\"\"\n",
    "positions = GetDenovoPositions(printpos=False)"
   ]
  },
  {
   "cell_type": "markdown",
   "metadata": {
    "deletable": false,
    "editable": false,
    "nbgrader": {
     "checksum": "8d367c14012713dea96ac3a6d9194dde",
     "grade": false,
     "grade_id": "browser",
     "locked": true,
     "schema_version": 1,
     "solution": false
    }
   },
   "source": [
    "Now let's figure out if the mutations identified are likely to have an impact on any particular genes. We'll use the UCSC Genome Browser (https://genome.ucsc.edu/) to help with this. Go to the genome browser home page. Then on the top menu bar, hover over \"Genomes\" and choose the hg19 reference genome.\n",
    "\n",
    "**Question 7 (5 pts)**: In the search bar, navigate to the position of each mutation. e.g. \"chr6:XXXX\" in the search bar. Does any mutation fall within a gene? If yes, determine whether it is predicted to change the amino acid structure (i.e. is this a synonymous variant? missense? nonsense?) of the protein and describe the change below. Make sure to determine which strand the gene is on! (forward vs. reverse)"
   ]
  },
  {
   "cell_type": "markdown",
   "metadata": {
    "deletable": false,
    "nbgrader": {
     "checksum": "369b90bf3ccf4976f1369bc3e9d249e6",
     "grade": true,
     "grade_id": "correct-browser",
     "locked": false,
     "points": 5,
     "schema_version": 1,
     "solution": true
    }
   },
   "source": [
    "Looking up the specific location on UCSD gene browser, position 128505804, falls within the gene PTPRK. The reference genome has the bp A while the variant in question is C. The current triplet that the position is a part of codes for the amino acid L (CUA -> Leucine). For the gene, it is on the reverse strand. If the variant is substituted instead the amino acid becomes R (CGA -> Arginine). This is a missense mutation."
   ]
  },
  {
   "cell_type": "markdown",
   "metadata": {
    "deletable": false,
    "editable": false,
    "nbgrader": {
     "checksum": "8fa397fe18cab93a5e0510384e7b609d",
     "grade": false,
     "grade_id": "cell-4c2db6b1607cdbed",
     "locked": true,
     "schema_version": 1,
     "solution": false
    }
   },
   "source": [
    "# 6. Additional challenge questions\n",
    "\n",
    "Provide short answers for each question below. Please no more than 3-5 sentences for each."
   ]
  },
  {
   "cell_type": "markdown",
   "metadata": {
    "deletable": false,
    "editable": false,
    "nbgrader": {
     "checksum": "e2bcc7a51ec5842bd23eccc880fe0e1f",
     "grade": false,
     "grade_id": "seqcov",
     "locked": true,
     "schema_version": 1,
     "solution": false
    }
   },
   "source": [
    "**Question 8 (5 pts)**: You sequenced the genome of a patient in your clinic with a suspected neurodevelopmental disorder and plotted the distribution of coverage across all bases of the genome. The mean coverage is around 40x, with most bases covered between 20-60 times. However you notice some bases are never covered (0 coverage) and other bases have extremely large coverages (1000x). Describe what could be happening at positions with extremely low or high coverage. "
   ]
  },
  {
   "cell_type": "markdown",
   "metadata": {
    "deletable": false,
    "nbgrader": {
     "checksum": "bd957131be48164301d48aab28b11fd3",
     "grade": true,
     "grade_id": "cell-468011b9b4311e6b",
     "locked": false,
     "points": 6,
     "schema_version": 1,
     "solution": true
    }
   },
   "source": [
    "There are many locations in the whole workflow where this error can come from. The first thing to look into would be the alignment of the fragments. There could be missaligned sequences that are congregating in similar spots causing some areas to have high reads as well as some having little to none. There could also be duplicate reads for parts of sequences as well as contamination/low quality in sequences causing the duplicates/misalignments. Another possiblity is the pcr amplification step."
   ]
  },
  {
   "cell_type": "markdown",
   "metadata": {
    "collapsed": true,
    "deletable": false,
    "editable": false,
    "nbgrader": {
     "checksum": "64eb7ff00decace9a7e4415ca41cbf18",
     "grade": false,
     "grade_id": "tlen",
     "locked": true,
     "schema_version": 1,
     "solution": false
    }
   },
   "source": [
    "**Question 9 (5 pts)**: For the same individual's genome, you plot the template length distribution (similar to how we did in Tuesday's lab.) If you plot the distribution over the entire genome, you see a mean template length of around 300bp. However, when you zoom in on region of the genome you expect is involved in the patient's disorder, you see a bimodal plot, with a peak at the expected 300bp and another at around 350bp. What could explain this?"
   ]
  },
  {
   "cell_type": "markdown",
   "metadata": {
    "deletable": false,
    "nbgrader": {
     "checksum": "ec5f0f7c2017f75e125e800998dee4bd",
     "grade": true,
     "grade_id": "cell-5110f3005032b938",
     "locked": false,
     "points": 6,
     "schema_version": 1,
     "solution": true
    }
   },
   "source": [
    "This could be cause by the workflow of how the sequences/fragments are produced. Different methods of sequncing (Sanger) and the quality of those runs."
   ]
  },
  {
   "cell_type": "markdown",
   "metadata": {
    "collapsed": true,
    "deletable": false,
    "editable": false,
    "nbgrader": {
     "checksum": "1f97245dfbaa27296371134fa6774529",
     "grade": false,
     "grade_id": "binom",
     "locked": true,
     "schema_version": 1,
     "solution": false
    }
   },
   "source": [
    "**Question 9 (5 pts)**: You are sequencing the genome of a tetraploid genome (4 copies of the genome, rather than 2 like diploid humans). At a position with 30x coverage where only one of the four copies of the genome contains a variant from the reference genome, how many reads do you expect on average to have the variant?"
   ]
  },
  {
   "cell_type": "markdown",
   "metadata": {
    "deletable": false,
    "nbgrader": {
     "checksum": "cf6c7db2a6615ad4018a94ffdf89b3ba",
     "grade": true,
     "grade_id": "correct-binom",
     "locked": false,
     "points": 6,
     "schema_version": 1,
     "solution": true
    }
   },
   "source": [
    "You would expect 7-8 of the reads to contain the variant. This is cound by 30(total reads)/4(tetraploid) = 7.5 or 25% of the reads."
   ]
  },
  {
   "cell_type": "markdown",
   "metadata": {
    "deletable": false,
    "editable": false,
    "nbgrader": {
     "checksum": "c07f8abef933de2f003e6b2fe7895bc0",
     "grade": false,
     "grade_id": "cell-96565e7ea0a57709",
     "locked": true,
     "schema_version": 1,
     "solution": false
    }
   },
   "source": [
    "## 7. Submit the assignment!\n",
    "\n",
    "Under the \"Assignment\" tab in JupyterHub, for the Lab1 assignment you should see buttons:\n",
    "\n",
    "* Validate: lets you check if your notebooks are passing all tests (including hidden tests)\n",
    "* Submit: will submit your assignment!\n",
    "\n",
    "Be sure to submit before lecture Monday (9am 4/8/19)"
   ]
  }
 ],
 "metadata": {
  "kernelspec": {
   "display_name": "Python 3",
   "language": "python",
   "name": "python3"
  },
  "language_info": {
   "codemirror_mode": {
    "name": "ipython",
    "version": 3
   },
   "file_extension": ".py",
   "mimetype": "text/x-python",
   "name": "python",
   "nbconvert_exporter": "python",
   "pygments_lexer": "ipython3",
   "version": "3.6.7"
  }
 },
 "nbformat": 4,
 "nbformat_minor": 2
}
