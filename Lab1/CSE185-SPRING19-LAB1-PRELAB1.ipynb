{
 "cells": [
  {
   "cell_type": "markdown",
   "metadata": {
    "deletable": false,
    "editable": false,
    "nbgrader": {
     "checksum": "228015c4474f6e4402bd8d4d8ee40a4b",
     "grade": false,
     "grade_id": "cell-3746f5a2b4a08ab3",
     "locked": true,
     "schema_version": 1,
     "solution": false
    }
   },
   "source": [
    "# Week 1 Lab: next generation sequencing and mutation hunting\n",
    "## Prelab 1\n",
    "**Due: Monday 4/8/19 9am**\n",
    "\n",
    "The following exercises will help prepare you to complete this week's lab assignment. All lab assignments will be completed using Jupyter notebooks.\n",
    "For our first prelab, we'll focus primarily on making sure you have access to the lab resources on JupyterHub.\n",
    "\n",
    "As a reminder, each week you will need to complete the following (4 total Jupyter notebooks):\n",
    "* Pre-lab assignments should be completed before the start of each lab. Each prelab assignment is worth 1% of your total grade.\n",
    "* Lab assignments (including prelab notebooks and parts 1 and 2 of the main lab) are collected the next Monday before the start of lecture. Each lab assignment is worth 10% of your total grade.\n",
    "\n",
    "Due dates will be posted at the top of each assignment and possible points for each section will be clearly marked."
   ]
  },
  {
   "cell_type": "markdown",
   "metadata": {
    "deletable": false,
    "editable": false,
    "nbgrader": {
     "checksum": "11b8f4bdf6a7ef0d92283f0c66b02812",
     "grade": false,
     "grade_id": "cell-c657f8e5291b9ede",
     "locked": true,
     "schema_version": 1,
     "solution": false
    }
   },
   "source": [
    "## 1. Jupyter Lab setup\n",
    "\n",
    "Navigate to [datahub.ucsd.edu](datahub.ucsd.edu) and spawn CSE185. \n",
    "\n",
    "First, we'll make sure you can run a Jupyter notebook. Click the \"Assignments\" tab. Then under released assignments, you should see \"Lab1\". Fetch the assignment. You should now see it under \"downloaded assignments\".\n",
    "\n",
    "Click on the prelab1 notebook to begin! We'll go over how to validate and submit assignments in lab this week.\n",
    "\n",
    "Now, edit the python code directly in the cell below to make the `HelloWorld` function return the string \"Hello world\"."
   ]
  },
  {
   "cell_type": "code",
   "execution_count": 1,
   "metadata": {
    "deletable": false,
    "nbgrader": {
     "checksum": "36c7fd0c225cb5db324225327bb607b6",
     "grade": false,
     "grade_id": "hello-world",
     "locked": false,
     "schema_version": 1,
     "solution": true
    }
   },
   "outputs": [],
   "source": [
    "# Write some python code to print out \"Hello world\" (5pts)\n",
    "def HelloWorld():\n",
    "    \"\"\"Print out the string Hello world\"\"\"\n",
    "    return \"Hello world\""
   ]
  },
  {
   "cell_type": "code",
   "execution_count": 2,
   "metadata": {
    "deletable": false,
    "editable": false,
    "nbgrader": {
     "checksum": "27332564a3efb267f7bd5a48eacbdaf4",
     "grade": true,
     "grade_id": "check-hello-world",
     "locked": true,
     "points": 5,
     "schema_version": 1,
     "solution": false
    }
   },
   "outputs": [],
   "source": [
    "\"\"\"Check that HelloWorld function works as planned\"\"\"\n",
    "assert(HelloWorld() == \"Hello world\")"
   ]
  },
  {
   "cell_type": "markdown",
   "metadata": {
    "deletable": false,
    "editable": false,
    "nbgrader": {
     "checksum": "909fe0c07b448b7d5bf8817e0727071a",
     "grade": false,
     "grade_id": "cell-da883dabbafe1c0e",
     "locked": true,
     "schema_version": 1,
     "solution": false
    }
   },
   "source": [
    "## 2. Course server login and basic UNIX navigation\n",
    "\n",
    "Now we will access the terminal that our Jupyter notebook is running on top of. Throughout the lab assignments, we will be switching back and forth between the terminal (where you will run command line tools to perform data analysis) and Jupyter notebooks (where you will complete the assignments and visualize your analysis results).\n",
    "\n",
    "You can access the terminal in two ways:\n",
    "\n",
    "* On the upper right corner, click \"New\" then choose \"Terminal\". This will open a new window with a terminal screen.\n",
    "* Alternatively (preferred), edit your URL to be https://datahub.ucsd.edu/user/yourusername/lab (rather than /tree) to enter the JupyterLab environment. In the Launcher you should see an option to choose \"Terminal\". JupyterLab is also convenient for viewing the directory structure and files that are available.\n",
    "\n",
    "Both of these will launch a terminal and put you in your home directory. Use `pwd` to print the current working directory:\n",
    "```shell\n",
    "pwd\n",
    "```\n",
    "\n",
    "Use `ls` (list) to see what’s in your home directory (it should be empty). You'll be saving assignment files here. \n",
    "```shell\n",
    "ls\n",
    "```\n",
    "\n",
    "Besides your home directory, the other directory you need to know about is the `/datasets/cs185s-sp19-public` directory which contains all datasets that will be needed for the assignments. To get to this directory, you use the `cd` (change directory) command. The general format for this command is:\n",
    "```shell\n",
    "cd [directory]\n",
    "```\n",
    "\n",
    "To use the command, replace the part in brackets , with the path to the directory that you’d like to change too. (We will use a similar format throughout the tutorials for code you will need to fill in.) This path can be absolute or relative. If you just type `cd` alone, the shell will take you to your home directory. To specify relative paths in the [directory] part of the command, a single period refers to the current directory and a double period refers to its parent.\n",
    "\n",
    "So to navigate to the high-level course directory from your home directory, you could also type:\n",
    "```shell\n",
    "cd ../../datasets/cs185s-sp19-public/\n",
    "```\n",
    "\n",
    "Now when you type `ls`, you should see the multiple directories, including a directory for each lab (e.g. `week1`, `week2`, etc. and a `genomes` directory with things like reference genomes. You only have access to read files from this directory. You have write access only to your home directory.\n",
    "\n",
    "<blockquote>\n",
    "**UNIX TIP**: Unix has an ‘autocomplete’ feature that will help you correctly type names and paths. If\n",
    "you start typing the command below and then press the tab key, unix will automatically fill in\n",
    "the rest of the directory name, and you can just hit enter. Try it. \n",
    "</blockquote>\n",
    "\n",
    "Go ahead and navigate to the `week1` folder:\n",
    "\n",
    "```shell\n",
    "cd week1/\n",
    "```\n",
    "\n",
    "<blockquote>\n",
    "**UNIX TIP CONTINUED**: If there are multiple options in a file that start with the same letters (ie `week1`\n",
    "and `week2`), when you press tab after you start typing, the shell will autocomplete the shared part,\n",
    "then beep (if the sound is on) and wait for you to specify the rest, then you can keep typing and\n",
    "tabbing. \n",
    "</blockquote>\n",
    "\n",
    "Use `ls` to see what’s in the public folder, and `pwd` to get the absolute path to the public folder. Here you should see 6 files. Fastq files (`*.fq`) contain raw Illumina sequencing reads from our samples (1 and 2 refer to forward and reverse, this was a paired end run). \n",
    "\n",
    "While you are in the `week1` folder, compare the size of each of these files with the disk usage `ls`\n",
    "command. The optional flag `-l` makes the output in \"long format\" and the `-h` makes the results human readable (in \n",
    "`-h` makes the results human readable (*e.g.*, 1K 234M 2G instead of number of bytes).\n",
    "\n",
    "```shell\n",
    "ls -lh\n",
    "```\n",
    "\n",
    "<blockquote>\n",
    "**IMPORTANT NOTE**: Data analysis you do in the class will all be done in your own home directory,\n",
    "and in most cases, you will use an absolute path to refer to the raw data location in the public folder,\n",
    "so lets just leave that data where it is, and cd back your home directory. Unless explicitly directed, **DO\n",
    "NOT copy** the raw sequencing files from the public folder into your folder. This is because they are\n",
    "very large and the server space for each account and the course\n",
    "as a whole is limited, so we won’t make copies unless we have to. \n",
    "</blockquote>"
   ]
  },
  {
   "cell_type": "markdown",
   "metadata": {},
   "source": [
    "**Question 2 (5 pts):** In the cell below, list the names and corresponding file sizes for each of the 6 files in the week1 directory."
   ]
  },
  {
   "cell_type": "markdown",
   "metadata": {},
   "source": [
    "dshak@dsmlp-jupyter-dshak:/datasets/cs185s-sp19-public/week1$ ls -lh\n",
    "\n",
    "-rw-rw-r-- 1 77076 58555 13M Mar 26 15:17 NA12878_child_1.fq <br>\n",
    "-rw-rw-r-- 1 77076 58555 13M Mar 26 15:17 NA12878_child_2.fq<br>\n",
    "-rw-rw-r-- 1 77076 58555 13M Mar 26 15:17 NA12891_father_1.fq<br>\n",
    "-rw-rw-r-- 1 77076 58555 13M Mar 26 15:17 NA12891_father_2.fq<br>\n",
    "-rw-rw-r-- 1 77076 58555 14M Mar 26 15:17 NA12892_mother_1.fq<br>\n",
    "-rw-rw-r-- 1 77076 58555 14M Mar 26 15:17 NA12892_mother_2.fq<br>"
   ]
  },
  {
   "cell_type": "markdown",
   "metadata": {
    "deletable": false,
    "nbgrader": {
     "checksum": "ce196b4ada3ec47709febdb13f1002cf",
     "grade": true,
     "grade_id": "file-sizs",
     "locked": false,
     "points": 5,
     "schema_version": 1,
     "solution": true
    }
   },
   "source": [
    "dshak@dsmlp-jupyter-dshak:/datasets/cs185s-sp19-public/week1$ ls -1 <br>\n",
    "NA12878_child_1.fq <br>\n",
    "NA12878_child_2.fq <br>\n",
    "NA12891_father_1.fq <br>\n",
    "NA12891_father_2.fq <br>\n",
    "NA12892_mother_1.fq <br>\n",
    "NA12892_mother_2.fq <br>"
   ]
  },
  {
   "cell_type": "markdown",
   "metadata": {
    "deletable": false,
    "editable": false,
    "nbgrader": {
     "checksum": "1ece6ce3468422dca17ca87e74af73eb",
     "grade": false,
     "grade_id": "cell-3749a54203f7f8c8",
     "locked": true,
     "schema_version": 1,
     "solution": false
    }
   },
   "source": [
    "That's it for the prelab. See you at lab 1 tomorrow!\n",
    "Don't worry if you had issues logging on. We will work to make sure tomorrow that everyone can get to JupyterHub and work out any access issues."
   ]
  }
 ],
 "metadata": {
  "kernelspec": {
   "display_name": "Python 3",
   "language": "python",
   "name": "python3"
  },
  "language_info": {
   "codemirror_mode": {
    "name": "ipython",
    "version": 3
   },
   "file_extension": ".py",
   "mimetype": "text/x-python",
   "name": "python",
   "nbconvert_exporter": "python",
   "pygments_lexer": "ipython3",
   "version": "3.6.7"
  }
 },
 "nbformat": 4,
 "nbformat_minor": 2
}
