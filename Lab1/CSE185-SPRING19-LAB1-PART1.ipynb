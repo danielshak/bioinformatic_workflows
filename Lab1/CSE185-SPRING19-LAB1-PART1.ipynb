{
 "cells": [
  {
   "cell_type": "markdown",
   "metadata": {
    "deletable": false,
    "editable": false,
    "nbgrader": {
     "checksum": "34a5b7bc7bf96d0825a97c033a2ab1be",
     "grade": false,
     "grade_id": "cell-5a3f6118a7e91a50",
     "locked": true,
     "schema_version": 1,
     "solution": false
    }
   },
   "source": [
    "# Week 1 Lab: next generation sequencing and mutation hunting\n",
    "\n",
    "## Part 1\n",
    "**Due: Monday 4/8/19 9am**\n",
    "\n",
    "**Partner: ** (optional. You must both turn in the assignment. You must choose a different partner each week.)\n",
    "\n",
    "Skills covered: basic UNIX navigation, intro to NGS, sequence alignment and variant calling, python plotting\n",
    "\n",
    "\n",
    "### Intro\n",
    "A patient arrives in your clinic with a rare disorder. You expect the condition is genetic (i.e. due to a mutation in her genome). However since the condition is not observed in any family members, you suspect it could be due to a *de novo* mutation that occurred in the germline (egg or sperm cells) of one of her parents.\n",
    "\n",
    "To look for potential disease-causing mutations, you perform whole genome sequencing on the patient and her parents (which together we call a \"trio\").\n",
    "\n",
    "This week, we will learn some key basics for processing next generation sequencing (NGS) data, including sequence alignment, variant calling, and standard file formats (FASTQ/BAM/VCF). For this week's assignment, many commands and template code are provided to you. In future labs, you'll be doing more of this set up on your own.\n",
    "\n",
    "Today, we'll get familiar with the datasets and align our reads to the reference genome. Thursday, we'll dive deeper and go look for candidate mutations."
   ]
  },
  {
   "cell_type": "markdown",
   "metadata": {
    "deletable": false,
    "editable": false,
    "nbgrader": {
     "checksum": "e134c731b3c9e28ac8e36113390c7f0a",
     "grade": false,
     "grade_id": "cell-111f1bb72becd04f",
     "locked": true,
     "schema_version": 1,
     "solution": false
    }
   },
   "source": [
    "## 1. Inspect raw data manually\n",
    "\n",
    "For this part, open up a separate window running a terminal where you can run the commands.\n",
    "\n",
    "Before running any analysis, it's a good practice to look manually at the data to make sure all the files are what you think they are. First, you should look at the sequence files to verify the format is correct. You don’t want to open the entire files, you will just do a quick inspection of the first few reads. Use the `head` command to look at the first 20 lines in the first fastq file for the child genome (`NA12878_child_1.fq`)\n",
    "your file (replace [file.format] with the actual file name). Recall from the prelab that the datafiles specific to this week's assignment can be found in the `/datasets/cs185s-sp19-public/week1` directory.\n",
    "\n",
    "```shell\n",
    "head -n 20 [file.format]\n",
    "```\n",
    "\n",
    "Take a look at each file. Each read has 4 lines of information, and then the next read starts on the\n",
    "following line. The first line starts with the \"@\" symbol, and contains identifiers and information about\n",
    "this read. The next line contains the actual sequence, then on line three there is a \"+\", which may\n",
    "sometimes have the identifier and info repeated. \n",
    "\n",
    "Line 4 contains the quality string, where ASCII characters encode the quality score for each base.\n",
    "The quality score ranges from 0 to about 40; the higher the number, the greater the confidence of the\n",
    "base call. To get the actual quality score, you need to figure out the value of the symbol, then subtract\n",
    "33 (this is called \"Sanger\" scaling type, because it's the same scaling that people use with traditional\n",
    "sanger sequencing). With some older Illumina data (pre version 1.8), you subtract other numbers, like\n",
    "64, for more info, see: \n",
    "\n",
    "http://drive5.com/usearch/manual/quality_score.html\n",
    "\n",
    "Also take a look at the second file, containing the second read in each read pair. Notice the reads are in the same order in each file. e.g. the first reads in `NA12878_child_1.fq` and in `NA12878_child_2.fq` are paired. They have identical read identifiers, with the exception of the suffix `<read id>/1` vs. `<read id>/2`."
   ]
  },
  {
   "cell_type": "markdown",
   "metadata": {
    "deletable": false,
    "editable": false,
    "nbgrader": {
     "checksum": "4b30891811e16ac499ac112a7798b0ce",
     "grade": false,
     "grade_id": "inspect-reads",
     "locked": true,
     "schema_version": 1,
     "solution": false
    }
   },
   "source": [
    "**Question 1 (2 pts)**: Look at the beginning of the `NA12878_child_1.fq` file, and find the third read. What is the read identifier? What is the quality symbol for the read's first base? Look up the value associated with this ASCII symbol online. What is the probability that this base is an error?"
   ]
  },
  {
   "cell_type": "markdown",
   "metadata": {
    "deletable": false,
    "nbgrader": {
     "checksum": "9cbd2aab53e10dabe805fb17bfea5d53",
     "grade": true,
     "grade_id": "correct-inspect-reads",
     "locked": false,
     "points": 2,
     "schema_version": 1,
     "solution": true
    }
   },
   "source": [
    "Command ran:<br>\n",
    "head -n 12 NA12878_child_1.fq\n",
    "\n",
    "Third read identifier: <br>\n",
    "@HSQ1004:134:C0D8DACXX:1:1101:1529:183767/1\n",
    "\n",
    "\n",
    "Quality Symbol for the read's first base: <br>\n",
    "C\n",
    "\n",
    "Probability that his base is an error (using modern ASCII_BASE 33): <br>\n",
    "P_error = 0.00040 <br>\n",
    "Q_score = 34\n"
   ]
  },
  {
   "cell_type": "markdown",
   "metadata": {
    "deletable": false,
    "editable": false,
    "nbgrader": {
     "checksum": "9e41eaa0815d9e098bfeeb62668d5f0e",
     "grade": false,
     "grade_id": "cell-0cbd374fa68bf831",
     "locked": true,
     "schema_version": 1,
     "solution": false
    }
   },
   "source": [
    "Now let's take a look at the human reference genome, which is stored in `/datasets/cs185s-sp19-public/genomes/hg19.fa`, and introduce a new UNIX command. We can use the `cat` command to print the contents of a file to the screen. \n",
    "\n",
    "The reference genome is a pretty big file (~3GB GB) so we don't want to look at the whole thing at once. Instead, we'll use a UNIX trick of \"piping\" (using the `|` symbol) which allows us to take the output of one command and use it as input to the next:\n",
    "\n",
    "```\n",
    "cat hg19.fa | head -n 10\n",
    "```\n",
    "\n",
    "This command first ran `cat` to print the file to the screen (which we call \"standard output\"). Then the command of `head` used the output of `cat` as its input rather than specifying a file directly as we did above. We refer to this as \"standard input\".\n",
    "\n",
    "<blockquote>\n",
    "**UNIX TIP**: If you accidently open (e.g. cat) a huge file and just see characters flying down your screen, matrix style, or if you think a process you are running may be stuck, you can press control+c to cancel the last command.\n",
    "</blockquote>\n",
    "\n",
    "We can string together a bunch of commands which can be pretty flexible. e.g. if you want look further down the file at lines 9990 through 10,000 you can do:\n",
    "\n",
    "```\n",
    "cat hg19.fa | head -n 10000 | tail -n 10\n",
    "```\n",
    "\n",
    "which prints the reference genome, takes the top (`head`) 10,000 lines, then the last (`tail`) 10 lines of that."
   ]
  },
  {
   "cell_type": "markdown",
   "metadata": {
    "deletable": false,
    "editable": false,
    "nbgrader": {
     "checksum": "92c209ec3ec7a92674a63581574e6408",
     "grade": false,
     "grade_id": "inspect-ref",
     "locked": true,
     "schema_version": 1,
     "solution": false
    }
   },
   "source": [
    "**Question 2 (1 pt)**: What is the name of the first chromosome listed in the reference genome? "
   ]
  },
  {
   "cell_type": "markdown",
   "metadata": {
    "deletable": false,
    "nbgrader": {
     "checksum": "03ceb1e85e18bad63de79c4437900824",
     "grade": true,
     "grade_id": "correct-inspect-ref",
     "locked": false,
     "points": 1,
     "schema_version": 1,
     "solution": true
    }
   },
   "source": [
    ">chr1"
   ]
  },
  {
   "cell_type": "markdown",
   "metadata": {
    "deletable": false,
    "editable": false,
    "nbgrader": {
     "checksum": "a390d4f91ef404f34b369fd27cb29778",
     "grade": false,
     "grade_id": "oneliner",
     "locked": true,
     "schema_version": 1,
     "solution": false
    }
   },
   "source": [
    "**Question 3 (2 pts)**: Write a one-line UNIX command to print out the read ID of the 100th read (and nothing else) from the file `NA12878_child_1.fq`. (Hint: remember each read takes up 4 lines)"
   ]
  },
  {
   "cell_type": "markdown",
   "metadata": {
    "deletable": false,
    "nbgrader": {
     "checksum": "8bdb8646cd70f540df50181af2896b85",
     "grade": true,
     "grade_id": "correct-oneliner",
     "locked": false,
     "points": 2,
     "schema_version": 1,
     "solution": true
    }
   },
   "source": [
    "head -n 397 NA12878_child_1.fq | tail -n 1"
   ]
  },
  {
   "cell_type": "markdown",
   "metadata": {
    "deletable": false,
    "editable": false,
    "nbgrader": {
     "checksum": "9e87151e2978226a175b7f49987a3ad9",
     "grade": false,
     "grade_id": "cell-8131e15f0cf13840",
     "locked": true,
     "schema_version": 1,
     "solution": false
    }
   },
   "source": [
    "We'll introduce one more helpful UNIX command before moving on. The tool `wc` includes a helpful option to count the number of lines in a file:\n",
    "\n",
    "```\n",
    "wc -l [filename]\n",
    "```\n",
    "\n",
    "<blockquote>\n",
    "If you want more details about a UNIX tool, you can try looking at the manual using `man`, e.g. `man wc -l`\n",
    "</blockquote>"
   ]
  },
  {
   "cell_type": "markdown",
   "metadata": {
    "deletable": false,
    "editable": false,
    "nbgrader": {
     "checksum": "1cda8eaaf585bc0d75af6dc356bfdba7",
     "grade": false,
     "grade_id": "readcount",
     "locked": true,
     "schema_version": 1,
     "solution": false
    }
   },
   "source": [
    "**Question 4 (1 pt)**: Using `wc -l`, determine how many read pairs we have for each of the three samples (child, mother, and father)"
   ]
  },
  {
   "cell_type": "markdown",
   "metadata": {
    "deletable": false,
    "nbgrader": {
     "checksum": "aef0d018d932854cc8973f0fec096592",
     "grade": true,
     "grade_id": "correct-readcount",
     "locked": false,
     "points": 1,
     "schema_version": 1,
     "solution": true
    }
   },
   "source": [
    "Child read pairs = 208148/4 = 52037 <br>\n",
    "Mother read pairs = 223596/4 = 55899 <br>\n",
    "Father read pairs = 211088/4 = 52772 <br>\n"
   ]
  },
  {
   "cell_type": "markdown",
   "metadata": {
    "deletable": false,
    "editable": false,
    "nbgrader": {
     "checksum": "ea478f811ab236918511fc1407197794",
     "grade": false,
     "grade_id": "cell-16a33ce9a46f9bff",
     "locked": true,
     "schema_version": 1,
     "solution": false
    }
   },
   "source": [
    "## 2.  Inspect raw sequencing data with fastqc\n",
    "\n",
    "Make sure you run the cell above. Then, in the terminal, `cd` into your home directory. Make a new directory `week1`. Use `ls` to confirm the `week1` directory is there, and `cd` into it.\n",
    "\n",
    "```\n",
    "ls\n",
    "cd week1\n",
    "```\n",
    "\n",
    "This is where you will be working for the rest of the week.\n",
    "\n",
    "Now you are ready to run `fastqc`, a simple fastq statistics analysis program. First, make sure the program is working and properly installed by typing the command below. You should see the manual page. Please ask a TA if this is not working.\n",
    "\n",
    "```\n",
    "fastqc -h\n",
    "```\n",
    "\n",
    "Run the program fastqc on the fastq files. You will have to specify the path to the `/datasets/cs185s-sp19-public/week1` folder, since you should leave the files there. You also have to tell `fastqc` to `-o` output the files to the current directory, which you indicate with a `.` The command to do all this is below, but you have to specify the full root path to each fastq file.\n",
    "\n",
    "```\n",
    "fastqc -o . NA12878_child_1.fq NA12878_child_2.fq NA12891_father_1.fq NA12891_father_2.fq NA12892_mother_1.fq NA12892_mother_2.fq\n",
    "```\n",
    "\n",
    "Check with `ls` that this generated some files. The html files contain the whole report. You can view them by going to the notebook view (https://datahub.ucsd.edu/user/yourusername/tree), navigating to your week1 directory, and clicking on the files.\n",
    "\n",
    "Open one of the files and take a look. Do the basic statistics match what you calculated for the number of reads? On the left, you’ll see a navigation window with green (normal), yellow (slightly abnormal), and red (very unusual) circles for several kinds of analyses. If you have any red circles, take note, and read the fastqc documentation on the analysis modules to try to learn what they mean.\n",
    "\n",
    "http://www.bioinformatics.babraham.ac.uk/projects/fastqc/Help/\n",
    "\n",
    "Our sequencing datasets are high quality and nothing should be flagged in red, indicating we're ready to move on to sequence alignment."
   ]
  },
  {
   "cell_type": "markdown",
   "metadata": {
    "deletable": false,
    "editable": false,
    "nbgrader": {
     "checksum": "bc471ff0ced99c443ba06976db97ff8b",
     "grade": false,
     "grade_id": "fastqc",
     "locked": true,
     "schema_version": 1,
     "solution": false
    }
   },
   "source": [
    "**Question 5 (3 pts)**: Look at the \"Per base sequence quality\" section of the `fastqc` output for one of the files. What happens to the quality scores as you get toward the end of the read? Propose an explanation for why. "
   ]
  },
  {
   "cell_type": "markdown",
   "metadata": {
    "deletable": false,
    "nbgrader": {
     "checksum": "4a349fd470176bcb0343c2029be3d8aa",
     "grade": true,
     "grade_id": "correct-fastqc",
     "locked": false,
     "points": 3,
     "schema_version": 1,
     "solution": true
    }
   },
   "source": [
    "The quality score decreases towards the end of the read. In addition, the uncertanty or variability in the read increases and is weighted lower with the error bar expanding towards lower scores. The scores decrease towards the end of the sequence because of the build up of errors and contaminants in the process of detection."
   ]
  },
  {
   "cell_type": "markdown",
   "metadata": {
    "deletable": false,
    "editable": false,
    "nbgrader": {
     "checksum": "1650513e74b66155ec7d42a414d1dce2",
     "grade": false,
     "grade_id": "cell-61973f16bc7dd5d3",
     "locked": true,
     "schema_version": 1,
     "solution": false
    }
   },
   "source": [
    "## 3. Aligning sequences to the reference genome\n",
    "\n",
    "To make sense out of these small sequences of DNA, we will map them to our reference sequence. Mapping works by taking each read and trying to find the closest matching sequence in the reference genome. \n",
    "\n",
    "There are many alignment programs (\"aligners\") available. The earliest alignment algorithms (Smith Waterman and Needleman-Wunsch) are still used today to compare small pieces of DNA one-by-one, but the computing power needed to map millions of short reads to genomes that are millions to billions of basepairs long requires special algorithms to speed up the process.\n",
    "\n",
    "Today we will use an aligner called BWA-MEM, which makes use of the Burrows-Wheeler transform for reversible data compression (the reference is summarized with a special reversible index, the index makes it faster to search). BWA-MEM is optimized for ‘long’ next-generation sequencing reads of 100bp or more, which may contain several mutations, insertions, or deletions, as it works by finding the ‘maximum exact match’ within a read to the reference, rather than forcing the entire read to match.\n",
    "\n",
    "First we need to index the reference file. This step takes a while, so **it has already been done for you**. We created the BWA-MEM index by running:\n",
    "\n",
    "```\n",
    "bwa index hg19.fa # don't run this!\n",
    "```\n",
    "\n",
    "This created several index files the program uses to rapidly search the genome. Do:\n",
    "```\n",
    "ls /datasets/cs185s-sp19-public/genomes/hg19.fa*\n",
    "```\n",
    "\n",
    "to see a list of those index files.\n",
    "\n",
    "Now we're ready to perform the alignment. We'll first look at the usage message for the tool to see how to run it. Simply type the name of the command.\n",
    "\n",
    "```\n",
    "bwa mem\n",
    "```\n",
    "\n",
    "Note the line at the top that says: \n",
    "```\n",
    "Usage: bwa mem [options] <idxbase> <in1.fq> [in2.fq]\n",
    "```\n",
    "\n",
    "This tells us what we need to run. The alignment command takes inputs in this order: first, specify the path to the fasta reference genome file used to create the index. Then specify the data files in fastq format. If the data is paired end, specify both of the fastq files. (Things in square brackets are optional.)\n",
    "\n",
    "BWA MEM outputs alignments to standard output. We can use the `>` operator to redirect the output to a file. e.g.:\n",
    "\n",
    "```\n",
    "bwa mem [options] <idxbase> <file1.fq> <file2.fq> > output.sam\n",
    "```"
   ]
  },
  {
   "cell_type": "markdown",
   "metadata": {
    "deletable": false,
    "editable": false,
    "nbgrader": {
     "checksum": "b94f733e8bdfd5e90771c4ed8f583ad9",
     "grade": false,
     "grade_id": "align-commands",
     "locked": true,
     "schema_version": 1,
     "solution": false
    }
   },
   "source": [
    "**Question 6 (5 pts)**: Based on the usage information above, align all three samples to the hg19 reference genome and output the alignments for each to a SAM file with an informative filename (e.g. NA12878_child.sam) in your home directory. Paste the commands you used to do this below."
   ]
  },
  {
   "cell_type": "markdown",
   "metadata": {
    "deletable": false,
    "nbgrader": {
     "checksum": "baa91aff2fc2829fb9723f90f9950762",
     "grade": true,
     "grade_id": "correct-align-commands",
     "locked": false,
     "points": 8,
     "schema_version": 1,
     "solution": true
    }
   },
   "source": [
    "bwa mem ../../../datasets/cs185s-sp19-public/genomes/hg19.fa ../../../datasets/cs185s-sp19-public/week1/NA12878_child_1.fq ../../../datasets/cs185s-sp19-public/week1/NA12878_child_2.fq > NA12878_child.sam\n",
    "\n",
    "bwa mem ../../../datasets/cs185s-sp19-public/genomes/hg19.fa ../../../datasets/cs185s-sp19-public/week1/NA12891_father_1.fq ../../../datasets/cs185s-sp19-public/week1/NA12891_father_2.fq > NA12891_father.sam\n",
    "\n",
    "bwa mem ../../../datasets/cs185s-sp19-public/genomes/hg19.fa ../../../datasets/cs185s-sp19-public/week1/NA12892_mother_1.fq ../../../datasets/cs185s-sp19-public/week1/NA12892_mother_2.fq > NA12892_mother.sam\n",
    "\n"
   ]
  },
  {
   "cell_type": "markdown",
   "metadata": {
    "deletable": false,
    "editable": false,
    "nbgrader": {
     "checksum": "9eca88313b6eedf78f2ebf0d6fc0c570",
     "grade": false,
     "grade_id": "cell-482a843aebf0d9f8",
     "locked": true,
     "schema_version": 1,
     "solution": false
    }
   },
   "source": [
    "**Alignment may take a few minutes, in the mean time, read about \"sam\":** BWA outputs data in the \"SAM\" format. We'll explore the data below, but to learn more about sam, check out: https://samtools.github.io/hts-specs/SAMv1.pdf"
   ]
  },
  {
   "cell_type": "markdown",
   "metadata": {
    "deletable": false,
    "editable": false,
    "nbgrader": {
     "checksum": "97a5775959ca156bda4ec4714db3ac2e",
     "grade": false,
     "grade_id": "cell-64cd9fcda1423953",
     "locked": true,
     "schema_version": 1,
     "solution": false
    }
   },
   "source": [
    "## 4. Meet SAM, inspect the alignment\n",
    "\n",
    "Look at first five lines of the child alignment of your new sam file with head:\n",
    "\n",
    "```\n",
    "head -n 50 NA12878_child.sam\n",
    "```\n",
    "\n",
    "The first chunk of lines beginning with `@` are part of the header. After that comes the actual alignments.\n",
    "\n",
    "Not all reads will be successfully aligned to the reference. The SAM file contains all reads, whether they successfully aligned or not. It's important to know what fraction of your reads aligned. If there are a lot reads that failed to align, that could indicate that your DNA was contaminated with some other source, or that something went wrong with the alignment.\n",
    "\n",
    "In the SAM format, each line (after the headers) starts with a unique read ID in the first \"field\". Fields are delimited (separated) regions of data, similar to columns on a chart. Sam uses tabs as the delimiters. In later classes we will get into what some of the different fields mean (you should be able to recognize the quality string and the base string).\n",
    "\n",
    "For now we are going to use the built in utilities of `samtools`, a program designed to read and parse sam files, to decode the samfile for us. Run the commands below to get some basis statistics.\n",
    "\n",
    "```\n",
    "samtools flagstat NA12878_child.sam\n",
    "samtools flagstat NA12891_father.sam\n",
    "samtools flagstat NA12892_mother.sam\n",
    "```\n",
    "\n",
    "Does the \"in total\" match the read count you computed earlier? You'll notice a slight discrepancy. Some reads will have multiple mappings (listed as secondary or supplementary) and for a couple reads only one read in the pair could be mapped. But the numbers should be pretty close."
   ]
  },
  {
   "cell_type": "markdown",
   "metadata": {
    "deletable": false,
    "editable": false,
    "nbgrader": {
     "checksum": "32818eb150854cf9c05c2cb085f6a35e",
     "grade": false,
     "grade_id": "flagstat",
     "locked": true,
     "schema_version": 1,
     "solution": false
    }
   },
   "source": [
    "**Question 7 (2 pts)**: What percentage of reads are mapped for each sample? "
   ]
  },
  {
   "cell_type": "markdown",
   "metadata": {
    "deletable": false,
    "nbgrader": {
     "checksum": "dfe628615a0877c0d445dacb3318223a",
     "grade": true,
     "grade_id": "correct-flagstat",
     "locked": false,
     "points": 2,
     "schema_version": 1,
     "solution": true
    }
   },
   "source": [
    "Child: 99.81% <br>\n",
    "Father: 99.91% <br>\n",
    "Mother: 99.88% <br>"
   ]
  },
  {
   "cell_type": "markdown",
   "metadata": {
    "deletable": false,
    "editable": false,
    "nbgrader": {
     "checksum": "b698244d81fd56be8430f5be8a166fa1",
     "grade": false,
     "grade_id": "cell-7480ebadbd9db21c",
     "locked": true,
     "schema_version": 1,
     "solution": false
    }
   },
   "source": [
    "Next, you need to compress and sort the SAM files with the commands below. A compressed SAM file is called a BAM file. Like the reference, BAM files need to be indexed. This gets the data ready for some of the next commands we will use.\n",
    "\n",
    "```\n",
    "samtools view -S -b NA12878_child.sam > NA12878_child.bam\n",
    "samtools sort NA12878_child.bam > NA12878_child.sorted.bam\n",
    "samtools index NA12878_child.sorted.bam\n",
    "```\n",
    "\n",
    "The index command will generate a file `NA12878_child.sorted.bam.bai`. Use `ls` to check that it's there."
   ]
  },
  {
   "cell_type": "markdown",
   "metadata": {
    "deletable": false,
    "editable": false,
    "nbgrader": {
     "checksum": "c066b55700097e87802c303c91c0de7b",
     "grade": false,
     "grade_id": "cell-sort",
     "locked": true,
     "schema_version": 1,
     "solution": false
    }
   },
   "source": [
    "**Question 8 (3 pts)**: Using the above as a guide, generate sorted and indexed BAM files for each family member. Paste the commands you use do so below."
   ]
  },
  {
   "cell_type": "markdown",
   "metadata": {
    "deletable": false,
    "nbgrader": {
     "checksum": "84eb626896b6dc83b9ee3db47dd11b6b",
     "grade": true,
     "grade_id": "cell-5938f490e02250e1",
     "locked": false,
     "points": 3,
     "schema_version": 1,
     "solution": true
    }
   },
   "source": [
    "samtools view -S -b NA12878_child.sam > NA12878_child.bam <br>\n",
    "samtools sort NA12878_child.bam > NA12878_child.sorted.bam <br>\n",
    "samtools index NA12878_child.sorted.bam <br>\n",
    "\n",
    "samtools view -S -b NA12891_father.sam > NA12891_father.bam <br>\n",
    "samtools sort NA12891_father.bam > NA12891_father.sorted.bam <br>\n",
    "samtools index NA12891_father.sorted.bam <br>\n",
    "\n",
    "samtools view -S -b NA12892_mother.sam > NA12892_mother.bam <br>\n",
    "samtools sort NA12892_mother.bam > NA12892_mother.sorted.bam <br>\n",
    "samtools index NA12892_mother.sorted.bam <br>"
   ]
  },
  {
   "cell_type": "markdown",
   "metadata": {
    "deletable": false,
    "editable": false,
    "nbgrader": {
     "checksum": "e9eb263788766f9504d324b00347cdc5",
     "grade": false,
     "grade_id": "cell-852dbd3e1321b9d3",
     "locked": true,
     "schema_version": 1,
     "solution": false
    }
   },
   "source": [
    "Note, to view the contents of a BAM file, you cannot simply do something like `cat file.bam`, since it is a binary (not plaintext) file. Instead, use the samtools view command. e.g.:\n",
    "\n",
    "```\n",
    "samtools view NA12878_child.sorted.bam | head\n",
    "```\n",
    "\n",
    "If you want to view only a particular region, you can add a chromosome and position range to the command:\n",
    "\n",
    "```\n",
    "samtools view NA12878_child.sorted.bam chr6:128405804-128605805 # you might want to pipe this to head!\n",
    "```\n",
    "\n",
    "Note, viewing a specific region only works on BAM files that have been indexed."
   ]
  },
  {
   "cell_type": "markdown",
   "metadata": {
    "deletable": false,
    "editable": false,
    "nbgrader": {
     "checksum": "7aa2f33651bd999bb49df4544a68fbdc",
     "grade": false,
     "grade_id": "cell-23371d1ce6231a6d",
     "locked": true,
     "schema_version": 1,
     "solution": false
    }
   },
   "source": [
    "## 5. Inspecting the template length distribution \n",
    "\n",
    "It is a good idea to do some basic quality checks on our BAM file.\n",
    "\n",
    "Since our data is paired end, reads should be aligned in pairs, where each pair of reads aligns pretty close to each other. The distance between paired reads allows us to infer the size of the fragment that was sequenced. Here we will inspect the distribution of fragment lengths in our data.\n",
    "\n",
    "First, we'll introduce a new UNIX command, `cut`. This command can extract different columns from a text file. e.g.:\n",
    "\n",
    "```\n",
    "cut -f 3,5 file.txt\n",
    "```\n",
    "\n",
    "will extract the 3rd and 5th columns of a tab-delimited file.\n",
    "\n",
    "If you look back to the SAM specification, you'll see the 9th column gives the observed template length. This will be equal to 0 for reads that are not properly paired."
   ]
  },
  {
   "cell_type": "markdown",
   "metadata": {
    "deletable": false,
    "editable": false,
    "nbgrader": {
     "checksum": "6c1e96929a782b03fef958762eb23515",
     "grade": false,
     "grade_id": "tlen",
     "locked": true,
     "schema_version": 1,
     "solution": false
    }
   },
   "source": [
    "**Question 9 (3 pts)**: For the child genome, write and execute a one line UNIX command to extract a list of template lengths from the region chr6:128405804-128605805 to a file named `child_template_lengths.txt`. Hint: you can pipe together a `samtools view` and `cut` command and use `>` to direct output to a file. Paste your command below and give the first 5 values in the file."
   ]
  },
  {
   "cell_type": "markdown",
   "metadata": {
    "deletable": false,
    "nbgrader": {
     "checksum": "9fa0a07342693c5b37ea6a685a6eaf47",
     "grade": true,
     "grade_id": "correct-extract-tlen",
     "locked": false,
     "points": 3,
     "schema_version": 1,
     "solution": true
    }
   },
   "source": [
    "samtools view NA12878_child.sorted.bam chr6:128405804-128605805 | cut -f 9 > child_template_lengths.txt\n",
    "\n",
    "head child_template_lengths.txt -n 5\n",
    "\n",
    "304\n",
    "\n",
    "316\n",
    "\n",
    "256\n",
    "\n",
    "337\n",
    "\n",
    "221"
   ]
  },
  {
   "cell_type": "markdown",
   "metadata": {
    "deletable": false,
    "editable": false,
    "nbgrader": {
     "checksum": "4e0223a4805240dbcc793b187a075d99",
     "grade": false,
     "grade_id": "cell-3d68559a3a17b7b4",
     "locked": true,
     "schema_version": 1,
     "solution": false
    }
   },
   "source": [
    "**Question 10 (5 pts)**: Finally, we'd like to visualize the distribution of template lengths. We can do this using python. Modify and run the code in the cell below to generate a histogram of template lengths and compute the median and median template lengths after removing 0's (indicating improperly paired reads). Hint, your histogram should have a bell curve shape and should not have any negative numbers."
   ]
  },
  {
   "cell_type": "code",
   "execution_count": 1,
   "metadata": {
    "deletable": false,
    "nbgrader": {
     "checksum": "ff493c235bbd3caf6f2e469a39f8db9c",
     "grade": false,
     "grade_id": "tlen-dist",
     "locked": false,
     "schema_version": 1,
     "solution": true
    }
   },
   "outputs": [
    {
     "name": "stdout",
     "output_type": "stream",
     "text": [
      "Populating the interactive namespace from numpy and matplotlib\n",
      "Mean template length: 317\n",
      "Median template length: 317\n"
     ]
    },
    {
     "data": {
      "text/plain": [
       "(317.15144202814281, 317.0)"
      ]
     },
     "execution_count": 1,
     "metadata": {},
     "output_type": "execute_result"
    },
    {
     "data": {
      "image/png": "[encoded data removed]",
      "text/plain": [
       "<Figure size 432x288 with 1 Axes>"
      ]
     },
     "metadata": {
      "needs_background": "light"
     },
     "output_type": "display_data"
    }
   ],
   "source": [
    "%pylab inline\n",
    "import os\n",
    "import numpy as np\n",
    "\n",
    "# All output files will be stored in a week1 folder in your home directory\n",
    "BASEDIR = os.path.join(os.environ[\"HOME\"], \"week1\")\n",
    "\n",
    "def PlotTlenDist(plot=False):\n",
    "    median_tlen = 0\n",
    "    mean_tlen = 0\n",
    "    \n",
    "    # Read template lengths into a list\n",
    "    tlens = open(os.path.join(BASEDIR, \"child_template_lengths.txt\")).readlines()\n",
    "    # Convert items in tlens list to integers\n",
    "    tlens = [abs(int(item.strip())) for item in tlens]\n",
    "    # Remove \"0\"\n",
    "    tlens = [item for item in tlens if item > 0]\n",
    "    \n",
    "    # Compute median and mean of tlens below\n",
    "    mean_tlen = np.mean(tlens)\n",
    "    median_tlen = np.median(tlens)\n",
    "    \n",
    "    # Plot. See https://matplotlib.org/api/_as_gen/matplotlib.pyplot.hist.html\n",
    "    print(\"Mean template length: %d\"%mean_tlen)\n",
    "    print(\"Median template length: %d\"%median_tlen)\n",
    "\n",
    "    if plot:\n",
    "        plt.hist(tlens, bins=25, color=\"lightblue\")\n",
    "        plt.xlabel(\"Fragment length\", size=15)\n",
    "        plt.ylabel(\"Number of fragments\", size=15);\n",
    "        plt.axvline(x=mean_tlen, color=\"red\");\n",
    "        \n",
    "    # Return stats \n",
    "    #return median_tlen, mean_tlen\n",
    "    #^^^^^\n",
    "    #I think this return order is wrong based off the function in the following cell\n",
    "    return mean_tlen, median_tlen\n",
    "    \n",
    "\n",
    "PlotTlenDist(plot=True)"
   ]
  },
  {
   "cell_type": "code",
   "execution_count": 2,
   "metadata": {
    "deletable": false,
    "editable": false,
    "nbgrader": {
     "checksum": "4b1fa1c18cdc57a9bf906523ff17a089",
     "grade": true,
     "grade_id": "correct-tlen-dist",
     "locked": true,
     "points": 5,
     "schema_version": 1,
     "solution": false
    }
   },
   "outputs": [
    {
     "name": "stdout",
     "output_type": "stream",
     "text": [
      "Mean template length: 317\n",
      "Median template length: 317\n"
     ]
    }
   ],
   "source": [
    "\"\"\"Check that PlotTlenDist function works\"\"\"\n",
    "mean, median = PlotTlenDist(plot=False)"
   ]
  }
 ],
 "metadata": {
  "kernelspec": {
   "display_name": "Python 3",
   "language": "python",
   "name": "python3"
  },
  "language_info": {
   "codemirror_mode": {
    "name": "ipython",
    "version": 3
   },
   "file_extension": ".py",
   "mimetype": "text/x-python",
   "name": "python",
   "nbconvert_exporter": "python",
   "pygments_lexer": "ipython3",
   "version": "3.6.7"
  }
 },
 "nbformat": 4,
 "nbformat_minor": 2
}
