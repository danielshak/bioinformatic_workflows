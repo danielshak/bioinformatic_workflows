{
 "cells": [
  {
   "cell_type": "markdown",
   "metadata": {},
   "source": [
    "# Week 5 Lab Report\n",
    "\n",
    "**Due: Monday 5/6/19 11:59pm**\n",
    "\n",
    "**Partner:** (optional)"
   ]
  },
  {
   "cell_type": "markdown",
   "metadata": {
    "deletable": false,
    "editable": false,
    "nbgrader": {
     "checksum": "9e49c19d8a364ff6cf05791b4aad0eca",
     "grade": false,
     "grade_id": "cell-eea66c09a42de138",
     "locked": true,
     "schema_version": 1,
     "solution": false
    }
   },
   "source": [
    "## Introduction\n",
    "\n",
    "**Background (<font color=\"red\">Intro-Q1</font> - 2 pts)**: Provide 3-5 sentences of background and motivation for the analysis you are doing in the lab. e.g. What transcription factors are we looking at, why are those important?"
   ]
  },
  {
   "cell_type": "markdown",
   "metadata": {
    "deletable": false,
    "nbgrader": {
     "checksum": "a2c121fb3b999c9d6547772ae6c87730",
     "grade": true,
     "grade_id": "correct-intro-q1",
     "locked": false,
     "points": 2,
     "schema_version": 1,
     "solution": true
    }
   },
   "source": [
    "The exercises done in this lab look into the general pipeline of ChIP-sequencing analysis. It shows how it is done, why it is important and most significantly what it tells you about the data. ChIP-sequencing is used to identify areas of the genome in noncoding regions and to determine what the sequences are as well as the function. The focus here is particualrly aimed at ChIP-sequence reads of three of the \"Yamanaka factors\" as well as a few other histone modification sites. The \"Yamanaka factors\" are a type of transcription factor and it has been shown that treatment of cells with these specific transcription factors can make cells \"pluripotent\" again. This means that they can unspecialize what a cell is such that it can be reprogrammed to any cell in its cell lines. "
   ]
  },
  {
   "cell_type": "markdown",
   "metadata": {},
   "source": [
    "**Summary of your findings (<font color=\"red\">Intro-Q2</font> - 2 pts)**: Provide 3-5 sentences summarizing the datasets you analyzed and the findings of your analyses. For example: describe where the different transcription factors and histone modifications are binding and any interesting patterns you found in your motif analysis."
   ]
  },
  {
   "cell_type": "markdown",
   "metadata": {
    "deletable": false,
    "nbgrader": {
     "checksum": "0b956aadefcc270684c1460fa1080708",
     "grade": true,
     "grade_id": "correct-intro-q2",
     "locked": false,
     "points": 2,
     "schema_version": 1,
     "solution": true
    }
   },
   "source": [
    "The analysis comes from the three transcription factors, Oct4, Klf4, and Sox2, as well as from two histone modifications, H3K27ac and H3K4me2. For each case motifs are identified as well as the possible sequence. The statistical significance for each identified site, motif and sequence comes from comparison with the control and reference genome GRCm38.\n",
    "\n",
    "The results of the motfis identified match very similarly with those on the HOCOMOCO website. Further anaylsis had to be done bewteen the Oct4 and Sox2 tf's since they were both outputting the same motif. The differential analysis identified the motif's that were specific to Sox2 by taking values where fold change was greater than two. It is also interesting to see that there are many location along the whole genome that match the motif pattern found from Oct4. However there are is a very small percentage of those total matches where binding actually occurs.\n"
   ]
  },
  {
   "cell_type": "markdown",
   "metadata": {
    "deletable": false,
    "editable": false,
    "nbgrader": {
     "checksum": "39dc1567f9ab06c14d0db4ef71096d1f",
     "grade": false,
     "grade_id": "cell-3383b41ef592a10d",
     "locked": true,
     "schema_version": 1,
     "solution": false
    }
   },
   "source": [
    "## Methods\n",
    "\n",
    "**Dataset description (<font color=\"red\">Methods-Q1</font> - 2 pts)**: Summarize the datasets we are starting with: what samples are we analyzing? Where did they come from? How many reads are there in each dataset, and what is the read length?"
   ]
  },
  {
   "cell_type": "markdown",
   "metadata": {
    "deletable": false,
    "nbgrader": {
     "checksum": "6efb85fce0bec360878d903f0df07766",
     "grade": true,
     "grade_id": "correct-methods-q1",
     "locked": false,
     "points": 2,
     "schema_version": 1,
     "solution": true
    }
   },
   "source": [
    "For each transcrption factor and histone modification, reads from ChIP-sequencing are available. These exist as standard DNA fragment reads in fastq files. The only difference is that specific DNA framgents are targeted by using antibodies to pull down fragments with specific sequences. For all the datasets there is also a control which is generated in the standard DNa fragmentation pipeline, ie. no antibody pulldown for specific sequences. The control is used to compare to and shows what would exist if the antibody pulldown wasn't used. Furthermore we have the reference genome GRCm38 and Oct4_motif file for the motif anaylsis. The following datasets are described below and analyzed with fastqc:\n",
    "\n",
    "* Oct4.esc.fastq: Total sequences = 1999998, Sequence length = 50\n",
    "* Klf4.esc.fastq: Total sequences = 1999998, Sequence length = 50\n",
    "* Sox2.esc.fastq: Total sequences = 1999998, Sequence length = 50\n",
    "* H3K27ac.esc.fastq: Total sequences = 1711167, Sequence length = 50\n",
    "* H3K4me2.esc.fastq: Total sequences = 1999998, Sequence length = 50\n",
    "* input.esc.fastq: Total sequences = 1999998, Sequence length = 50"
   ]
  },
  {
   "cell_type": "markdown",
   "metadata": {
    "deletable": false,
    "editable": false,
    "nbgrader": {
     "checksum": "8c7dc93f4ab3ae9a55dd5581ab4ef06e",
     "grade": false,
     "grade_id": "cell-15f1f24a0b24f3ea",
     "locked": true,
     "schema_version": 1,
     "solution": false
    }
   },
   "source": [
    "**Alignment (<font color=\"red\">Methods-Q2</font> - 2 pts)**: Summarize the methods you used to align the data. What aligner and version did you use? What build of the reference genome?"
   ]
  },
  {
   "cell_type": "markdown",
   "metadata": {
    "deletable": false,
    "nbgrader": {
     "checksum": "ba216e50d84da025fec9e58d54d934ff",
     "grade": true,
     "grade_id": "correct-methods-q2",
     "locked": false,
     "points": 2,
     "schema_version": 1,
     "solution": true
    }
   },
   "source": [
    "To align the data to the reference genome first an index of the genome is created. This is already done for us since it takes a lot of time. The alignment and indexing is done with bwa mem (the version can be checked from the bam file output header using samtools, version used here is: VN:0.7.17-r1198-dirty). The output of bwa mem is .sam file, but a lot of tools (sorting and indexing) to analyze the alignment run on the compressed or binary formats of these alignments. Hence samtools (version 1.9) is used to compress the alignments (.sam) to .bam files.\n",
    "\n",
    "Align the fastq files and compress them with Samtools. The reference genome used in the scenario is GRCm38.fa (mouse genome mm10). Using 6 threads significantly increases the processing time.\n",
    "\n",
    "```shell\n",
    "for prefix in Oct4 Klf4 Sox2 H3K27ac H3K4me2 input\n",
    "\n",
    "do\n",
    "    bwa mem -t 6 /datasets/cs185s-sp19-public/genomes/GRCm38.fa /datasets/cs185s-sp19-public/week5/${prefix}.esc.fastq | samtools view -bS > ${prefix}.bam\n",
    "done\n",
    "```"
   ]
  },
  {
   "cell_type": "markdown",
   "metadata": {
    "deletable": false,
    "editable": false,
    "nbgrader": {
     "checksum": "cf743c6ab9af7648f2f77fff7c82668a",
     "grade": false,
     "grade_id": "cell-e949acd9824657b9",
     "locked": true,
     "schema_version": 1,
     "solution": false
    }
   },
   "source": [
    "**Peak calling (<font color=\"red\">Methods-Q3</font> - 2 pts)**: Summarize the methods you used to call peaks for each sample the data. What tool(s) did you use? Did you use any non-default parameters? Did you use a different command for transcription factors vs. histone modifications?"
   ]
  },
  {
   "cell_type": "markdown",
   "metadata": {
    "deletable": false,
    "nbgrader": {
     "checksum": "07ebda65b6c2a250f5125e3b98b6d662",
     "grade": true,
     "grade_id": "correct-methods-q3",
     "locked": false,
     "points": 2,
     "schema_version": 1,
     "solution": true
    }
   },
   "source": [
    "A tool called Homer is used to call peaks or identify where the peaks in our data exist. The threshold that identifies peaks is if there is a four-fold larger number of alignments to any given position when compared with the control experiment. In order to make use of Homer first tag directories are created (similar idea to indexing). This is done below.\n",
    "\n",
    "```shell\n",
    "for prefix in Oct4 Klf4 Sox2 H3K27ac H3K4me2 input\n",
    "\n",
    "do\n",
    "    makeTagDirectory ~/week5/tagdirs/${prefix} ~/week5/bam_files/${prefix}.bam\n",
    "done\n",
    "```\n",
    "\n",
    "Once the tag directories are created we can use them to find the peaks for each file. The commands to do so are shown below as well. For transcription factors the style 'factor' is specified ('histone' for histone modifications) to indicate which type of peak to look for. Histone peaks are more narrow when comapred to histones in general. The output for the peak detection for transcription factors is a peaks.txt file and for histones it is a regions.txt file. The commands for histones and transcription factors are as follows:\n",
    "\n",
    "\n",
    "```shell\n",
    "for prefix in Oct4 Klf4 Sox2\n",
    "\n",
    "do\n",
    "    findPeaks ~/week5/tagdirs/${prefix} -i ~/week5/tagdirs/input -style factor -o auto\n",
    "done\n",
    "\n",
    "for prefix in H3K27ac H3K4me2\n",
    "\n",
    "do\n",
    "    findPeaks ~/week5/tagdirs/${prefix} -i ~/week5/tagdirs/input -style histone -o auto\n",
    "done\n",
    "```"
   ]
  },
  {
   "cell_type": "markdown",
   "metadata": {
    "deletable": false,
    "editable": false,
    "nbgrader": {
     "checksum": "482b7ed054a4f2ddccdd3837703b9176",
     "grade": false,
     "grade_id": "cell-2ce9f6fad76d5b8b",
     "locked": true,
     "schema_version": 1,
     "solution": false
    }
   },
   "source": [
    "**Annotating peak regions (<font color=\"red\">Methods-Q4</font> - 3 pts)**: Summarize the methods you used to annotate peaks for each sample the data and visualize read counts around transcription start sites. What tool did you use? What reference genome and gene annotations? What library did you use for plotting your results?"
   ]
  },
  {
   "cell_type": "markdown",
   "metadata": {
    "deletable": false,
    "nbgrader": {
     "checksum": "67719afac74bd5f9c21950d212b16707",
     "grade": true,
     "grade_id": "correct-methods-q4",
     "locked": false,
     "points": 3,
     "schema_version": 1,
     "solution": true
    }
   },
   "source": [
    "The Homer utility annotatePeaks.pl is used to learn where the peaks are falling. It is used to visualize read counts around the promoter regions.\n",
    "The mouse genome GRCm38.fa is used along with the annotation file GRCm38.75.gtf. Then the libraries Pandas and Matplotlib.pyplot is used to import and plot the data in Python.\n",
    "\n",
    "The command run to annotate peaks is:\n",
    "\n",
    "```shell\n",
    "annotatePeaks.pl tss \\\n",
    "  /datasets/cs185s-sp19-public/genomes/GRCm38.fa \\\n",
    "  -size 8000 \\\n",
    "  -hist 10 \\\n",
    "  -d ~/week5/tagdirs/Oct4 ~/week5/tagdirs/Sox2 ~/week5/tagdirs/Klf4 ~/week5/tagdirs/H3K4me2 ~/week5/tagdirs/H3K27ac \\\n",
    "  -gtf /datasets/cs185s-sp19-public/genomes/GRCm38.75.gtf > ~/week5/annotations/tss_histogram.txt\n",
    "```\n",
    "\n",
    "In the above command the first argument tss indicates to look at regions centered on transcription start sites. Then the reference genome, gene annotations and tag directories are indicated. The -size option tells the command to look at 8000 bp centered at each transcription start site. Lastly the -hist option gives the bin size when formatting into histogram format."
   ]
  },
  {
   "cell_type": "markdown",
   "metadata": {
    "deletable": false,
    "editable": false,
    "nbgrader": {
     "checksum": "e2b9583a3816a391edff4a25fdf6ff69",
     "grade": false,
     "grade_id": "cell-ea6c2d1199093516",
     "locked": true,
     "schema_version": 1,
     "solution": false
    }
   },
   "source": [
    "**Motif finding (<font color=\"red\">Methods-Q5</font> - 3 pts)**: Summarize the methods you used to perform motif finding in each transcription factor. What tool did you use? Which version? Where did you get known motifs for comparison?"
   ]
  },
  {
   "cell_type": "markdown",
   "metadata": {
    "deletable": false,
    "nbgrader": {
     "checksum": "440dabcfe6daa275617d674441e0e48a",
     "grade": true,
     "grade_id": "correct-methods-q5",
     "locked": false,
     "points": 3,
     "schema_version": 1,
     "solution": true
    }
   },
   "source": [
    "The HOMER tool findMotifsGenome.pl is used to find the motifs in each specific transcription factor. The version for this tool is the same as the version for the whole HOMER suite which is 4.10. This tool takes in the peaks.txt file which was generated by the other HOMER tool findpeaks. It also takes in the reference mouse genome (GRCm38.fa) as well as the flags to mask repeats and only look at regions of size 100.\n",
    "\n",
    "Command run:\n",
    "\n",
    "```shell\n",
    "for prefix in Oct4 Klf4 Sox2\n",
    "\n",
    "do\n",
    "findMotifsGenome.pl \\\n",
    " ~/week5/tagdirs/${prefix}/peaks.txt \\\n",
    " /datasets/cs185s-sp19-public/genomes/GRCm38.fa \\\n",
    " ~/week5/motifs/${prefix} \\\n",
    " -mask -size 100 -p 5\n",
    "done\n",
    "```\n",
    "\n",
    "This generates a .html file for each transcription factor. These can the be cross referenced and validated looking through the database at HOCOMOCO."
   ]
  },
  {
   "cell_type": "markdown",
   "metadata": {
    "deletable": false,
    "editable": false,
    "nbgrader": {
     "checksum": "cfd42d2d35a945cc2df39f2aeeb7a9d7",
     "grade": false,
     "grade_id": "cell-22b70d62461d1426",
     "locked": true,
     "schema_version": 1,
     "solution": false
    }
   },
   "source": [
    "**Sox2 paek analysis (<font color=\"red\">Methods-Q6</font> - 3 pts)**: Summarize the methods you used to analyze peaks specific to Sox2 (and not Oct4). What tools did you use? How did you extract Sox2-specific peaks?"
   ]
  },
  {
   "cell_type": "markdown",
   "metadata": {
    "deletable": false,
    "nbgrader": {
     "checksum": "a022524abc73ee720bcf4ac3ad21eba3",
     "grade": true,
     "grade_id": "correct-methods-q6",
     "locked": false,
     "points": 3,
     "schema_version": 1,
     "solution": true
    }
   },
   "source": [
    "To analyze the peaks specific to Sox2 first the peak sets from both Sox2 and Oct4 are merged using the Homer tool mergePeaks. This is run as:\n",
    "\n",
    "```shell\n",
    "mergePeaks ~/week5/tagdirs/Oct4/peaks.txt ~/week5/tagdirs/Sox2/peaks.txt > ~/week5/overlap/oct4_sox2_peaks_merged.txt\n",
    "```\n",
    "\n",
    "Then the annotate peaks function is run again on this merged dataset. Command is:\n",
    "\n",
    "```shell\n",
    "annotatePeaks.pl \\\n",
    "   ~/week5/overlap/oct4_sox2_peaks_merged.txt \\\n",
    "  /datasets/cs185s-sp19-public/genomes/GRCm38.fa \\\n",
    "  -d ~/week5/tagdirs/Oct4 ~/week5/tagdirs/Sox2 > ~/week5/overlap/oct4_sox2_scatter.txt\n",
    "```\n",
    "\n",
    "This generates a normalized counts in the last two columns of Oct4 and Sox2 values. Using these two columns we can look for the specific ones where the fold change is greater than two using pandas. The values with fold change greater than two can then be outputted into a bed file and new motif analysis run on that."
   ]
  },
  {
   "cell_type": "markdown",
   "metadata": {
    "deletable": false,
    "editable": false,
    "nbgrader": {
     "checksum": "7a284808c21eb346fcbf1ccd2f327374",
     "grade": false,
     "grade_id": "cell-8d8157118c918294",
     "locked": true,
     "schema_version": 1,
     "solution": false
    }
   },
   "source": [
    "**Oct4 motif occurrences (<font color=\"red\">Methods-Q7</font> - 3 pts)**: Summarize the methods you used to scan chr17 for matches to the Oct4 motif and overlap with ChIP-seq peaks for Oct4."
   ]
  },
  {
   "cell_type": "markdown",
   "metadata": {
    "deletable": false,
    "nbgrader": {
     "checksum": "e7b0f922f6f1e83cda286e38ab04fda3",
     "grade": true,
     "grade_id": "correct-methods-q7",
     "locked": false,
     "points": 3,
     "schema_version": 1,
     "solution": true
    }
   },
   "source": [
    "First we can find all of the motifs that occur on chrm 17 using fimo. The command to do so is:\n",
    "\n",
    "```shell\n",
    "fimo /datasets/cs185s-sp19-public/week5/OCT4_motif.meme /datasets/cs185s-sp19-public/week5/GRCm38.chr17.fa\n",
    "```\n",
    "\n",
    "This generates a few files. It gives a usefult html to visualize the results. It also gives a few files that contain the matched motifs and their positions. This file can be used to compare with the motifs found from our peaks. These peaked ones are the locations where the motif is actually bound to. Meaning that the TFs were in regions accessible to the antibodies.\n",
    "\n",
    "To find the overlap, intersectBed can be used. The commands to run this is:\n",
    "\n",
    "```shell\n",
    "awk -F'\\t' NR>1'{OFS=FS}{$1=17; print $0;}' fimo.gff > fimo.bed\n",
    "sed -i '1d' fimo.bed\n",
    "intersectBed -a ~/week5/tagdirs/Oct4/Oct4.peaks.bed -b ~/week5/bind/fimo_out/fimo.bed > overlaps.txt\n",
    "wc -l overlaps.txt\n",
    "```\n",
    "\n",
    "The first command is to conver the .gff to a format that is comprable with the Oct4.peaks.bed. In order to do that simply remove the chr off the front of chr17 for the first column of the .gff file with awk. Then the sed command is used to remove the first line of the new .bed file. The intersection command is then run and the outputs are pipped to a text file where each line represents the overlap. wc -l overlaps.txt then tells how many lines there are indicating the number of matches to binded sites."
   ]
  },
  {
   "cell_type": "markdown",
   "metadata": {
    "deletable": false,
    "editable": false,
    "nbgrader": {
     "checksum": "f7c4a3254a1dbb1582ce723ce2415e89",
     "grade": false,
     "grade_id": "cell-ed71b98c83870950",
     "locked": true,
     "schema_version": 1,
     "solution": false
    }
   },
   "source": [
    "## Results\n",
    "\n",
    "**Alignment results (<font color=\"red\">Results-Q1</font> - 2 pts)**: What percentage of reads from each experiment aligned to the reference genome?"
   ]
  },
  {
   "cell_type": "markdown",
   "metadata": {
    "deletable": false,
    "nbgrader": {
     "checksum": "b93001140ca81e8386a620e835e86569",
     "grade": true,
     "grade_id": "correct-results-q1",
     "locked": false,
     "points": 2,
     "schema_version": 1,
     "solution": true
    }
   },
   "source": [
    "To check the results of the alignment samtools flagstat {prefix}.bam can be run on each outputted bam file. The total alignment results are very low for the ChIP-seq results. This makes sense since we are only targetting very specific sequences. \n",
    "\n",
    "* Oct4: 99.87% alignment\n",
    "* Klf4: 99.61% alignment\n",
    "* Sox2: 99.63% alignment\n",
    "* H3K27ac: 99.72% alignment\n",
    "* H3K4me2: 99.62% alignment\n",
    "* input: 99.54% alignment"
   ]
  },
  {
   "cell_type": "markdown",
   "metadata": {},
   "source": [
    "**Description of ChIP-seq signals (<font color=\"red\">Results-Q2</font> - 5 pts)**: Based on visual inspection of the datasets on IGV, where are the peaks for each of the datasets falling (promoters? gene regions? exons? elsewhere?). How do the signals for the transcripton factors (Oct4, Sox2, and Klf4) compare to the signals for the two histone modifications? What does the input signal look like? Include a screenshot of the IGV visualization in your report."
   ]
  },
  {
   "cell_type": "markdown",
   "metadata": {
    "deletable": false,
    "nbgrader": {
     "checksum": "b6d42e092d177bbb53d7e45f1736b143",
     "grade": true,
     "grade_id": "correct-results-q2",
     "locked": false,
     "points": 5,
     "schema_version": 1,
     "solution": true
    }
   },
   "source": [
    "First make Homer tag directories with a bash for loop (similar idea to indexing files).\n",
    "\n",
    "```shell\n",
    "for prefix in Oct4 Klf4 Sox2 H3K27ac H3K4me2 input\n",
    "\n",
    "do\n",
    "    makeTagDirectory ~/week5/tagdirs/${prefix} ~/week5/bam_files/${prefix}.bam\n",
    "done\n",
    "```\n",
    "\n",
    "Then have to create the bedGraph files using the makeUCSCfile from Homer the command to do so is as follows:\n",
    "\n",
    "\"all you need to do is specify the tag directory and specify -o auto for the command to automatically save the bedGraph file inside the tag directory\"\n",
    "\n",
    "```shell\n",
    "for prefix in Oct4 Klf4 Sox2 H3K27ac H3K4me2 input\n",
    "\n",
    "do\n",
    "    makeUCSCfile ~/week5/tagdirs/${prefix} -o auto\n",
    "done\n",
    "```\n",
    "Once the bedGraph.gz files are created they can be visualized in IGV browser as shown below.\n",
    "\n",
    "This image shows the whole mapped region of chrm17.\n",
    "![caption](chrm17.PNG)\n",
    "\n",
    "\n",
    "\n",
    "This image shows the region specific to gene Pouf51. It is interesting to see that for the transcription factors, the majority of the reads are falling in the noncoding regions of the sequence (upstream from Pou5f1). This makes sense since transcription factors are used in regulating the expression of genes. These areas hence can be promoter/enhacer regions. It is even more interesting to see that the histone modification reads are almost the inverse of the transcription factors. Areas where the histone modifications have large peaks the tf's are low and vice versa. The histone modifications also have peaks that fall into both the intron and exon portions of the gene Pou5f1. Lastly the control is shown to have reads mapped all over the place. Although there are some natural peaks occuring in similar spots as the tf's and histone sites. This makes sense since maybe these ares are just naturally more reachable and available to sequence and fragment. \n",
    "\n",
    "![caption](Pou5f1.PNG)\n"
   ]
  },
  {
   "cell_type": "markdown",
   "metadata": {
    "deletable": false,
    "editable": false,
    "nbgrader": {
     "checksum": "61701bb72e12a17543eda9209d3f0cb4",
     "grade": false,
     "grade_id": "cell-042723fa83e1e3d5",
     "locked": true,
     "schema_version": 1,
     "solution": false
    }
   },
   "source": [
    "**Peak calling (<font color=\"red\">Results-Q3</font> - 4 pts)**: Summarize peak-finding results: what was the IP efficiency reported for each dataset? How many peaks did you find for each? What is the average peak size (length) for each? Note you should only have 5 peak sets, since you won't have peaks for the input control. You may present your results as a table."
   ]
  },
  {
   "cell_type": "markdown",
   "metadata": {
    "deletable": false,
    "nbgrader": {
     "checksum": "814d7228547cb8ab52acd6f2307ae34b",
     "grade": true,
     "grade_id": "correct-results-q3",
     "locked": false,
     "points": 4,
     "schema_version": 1,
     "solution": true
    }
   },
   "source": [
    "| Dataset | IP efficiency | Number of Peaks | Avg Peak Size (length) |\n",
    "| --- | --- | --- | --- |\n",
    "| Oct4 | 2.65% | 2203 | 75 |\n",
    "| Klf4 | 3.12% | 3020 | 75 |\n",
    "| Sox2 | 2.74% | 2236 | 75 |\n",
    "| H3K27ac | 28.57% | 2102 | 500 |\n",
    "| H3K4me2 | 70.02% | 3060 | 500 |\n",
    "\n",
    "\n",
    "Convert the 'peak' file to a bed file for viewing.\n",
    "\n",
    "```shell\n",
    "for prefix in Oct4 Klf4 Sox2 \n",
    "\n",
    "do\n",
    "    pos2bed.pl ${prefix}/peaks.txt > ${prefix}/${prefix}.peaks.bed\n",
    "done\n",
    "\n",
    "\n",
    "for prefix in H3K27ac H3K4me2\n",
    "\n",
    "do\n",
    "    pos2bed.pl ${prefix}/regions.txt > ${prefix}/${prefix}.regions.bed\n",
    "done\n",
    "```\n",
    "\n",
    "Visualizing the peaks below in IGV:\n",
    "\n",
    "![caption](bed_files.PNG)\n",
    "\n",
    "The coverage profile with high ip efficiency scores show lots large peaks as demonstrated with the large blue line. The histones in general have larger peaks where as the transcription factors are very narrowed peaked."
   ]
  },
  {
   "cell_type": "markdown",
   "metadata": {
    "deletable": false,
    "editable": false,
    "nbgrader": {
     "checksum": "4ec92a5012892f94e61f0d27314869f2",
     "grade": false,
     "grade_id": "cell-a2243a907091c836",
     "locked": true,
     "schema_version": 1,
     "solution": false
    }
   },
   "source": [
    "**Peak annotation (<font color=\"red\">Results-Q4</font> - 5 pts)**: Generate a composite plot showing the distribution of all five datasets around TSSs. Be sure to label your axes and provide a legend or description of which color denotes which dataset. Plot transcription factors and histone modifications on separate plots to more easily see differences."
   ]
  },
  {
   "cell_type": "code",
   "execution_count": 3,
   "metadata": {
    "deletable": false,
    "nbgrader": {
     "checksum": "ca6ce4e4c2a742d4b6d495e6c59bceaf",
     "grade": true,
     "grade_id": "correct-results-q5",
     "locked": false,
     "points": 5,
     "schema_version": 1,
     "solution": true
    }
   },
   "outputs": [
    {
     "name": "stdout",
     "output_type": "stream",
     "text": [
      "Populating the interactive namespace from numpy and matplotlib\n"
     ]
    },
    {
     "data": {
      "text/html": [
       "<div>\n",
       "<style scoped>\n",
       "    .dataframe tbody tr th:only-of-type {\n",
       "        vertical-align: middle;\n",
       "    }\n",
       "\n",
       "    .dataframe tbody tr th {\n",
       "        vertical-align: top;\n",
       "    }\n",
       "\n",
       "    .dataframe thead th {\n",
       "        text-align: right;\n",
       "    }\n",
       "</style>\n",
       "<table border=\"1\" class=\"dataframe\">\n",
       "  <thead>\n",
       "    <tr style=\"text-align: right;\">\n",
       "      <th></th>\n",
       "      <th>dist.from.tss</th>\n",
       "      <th>Oct4</th>\n",
       "      <th>Sox2</th>\n",
       "      <th>Klf4</th>\n",
       "      <th>H3K4me2</th>\n",
       "      <th>H3K27ac</th>\n",
       "    </tr>\n",
       "  </thead>\n",
       "  <tbody>\n",
       "    <tr>\n",
       "      <th>0</th>\n",
       "      <td>-4000</td>\n",
       "      <td>0.894853</td>\n",
       "      <td>0.816687</td>\n",
       "      <td>0.929456</td>\n",
       "      <td>1.465848</td>\n",
       "      <td>1.165416</td>\n",
       "    </tr>\n",
       "    <tr>\n",
       "      <th>1</th>\n",
       "      <td>-3990</td>\n",
       "      <td>0.890395</td>\n",
       "      <td>0.807531</td>\n",
       "      <td>0.927906</td>\n",
       "      <td>1.467393</td>\n",
       "      <td>1.170515</td>\n",
       "    </tr>\n",
       "    <tr>\n",
       "      <th>2</th>\n",
       "      <td>-3980</td>\n",
       "      <td>0.881561</td>\n",
       "      <td>0.804261</td>\n",
       "      <td>0.920969</td>\n",
       "      <td>1.469015</td>\n",
       "      <td>1.171071</td>\n",
       "    </tr>\n",
       "    <tr>\n",
       "      <th>3</th>\n",
       "      <td>-3970</td>\n",
       "      <td>0.888774</td>\n",
       "      <td>0.802299</td>\n",
       "      <td>0.920071</td>\n",
       "      <td>1.469324</td>\n",
       "      <td>1.171164</td>\n",
       "    </tr>\n",
       "    <tr>\n",
       "      <th>4</th>\n",
       "      <td>-3960</td>\n",
       "      <td>0.882209</td>\n",
       "      <td>0.792080</td>\n",
       "      <td>0.915256</td>\n",
       "      <td>1.482844</td>\n",
       "      <td>1.179044</td>\n",
       "    </tr>\n",
       "  </tbody>\n",
       "</table>\n",
       "</div>"
      ],
      "text/plain": [
       "   dist.from.tss      Oct4      Sox2      Klf4   H3K4me2   H3K27ac\n",
       "0          -4000  0.894853  0.816687  0.929456  1.465848  1.165416\n",
       "1          -3990  0.890395  0.807531  0.927906  1.467393  1.170515\n",
       "2          -3980  0.881561  0.804261  0.920969  1.469015  1.171071\n",
       "3          -3970  0.888774  0.802299  0.920071  1.469324  1.171164\n",
       "4          -3960  0.882209  0.792080  0.915256  1.482844  1.179044"
      ]
     },
     "metadata": {},
     "output_type": "display_data"
    },
    {
     "data": {
      "image/png": "[encoded data removed]",
      "text/plain": [
       "<Figure size 504x216 with 1 Axes>"
      ]
     },
     "metadata": {
      "needs_background": "light"
     },
     "output_type": "display_data"
    },
    {
     "data": {
      "image/png": "[encoded data removed]",
      "text/plain": [
       "<Figure size 504x216 with 1 Axes>"
      ]
     },
     "metadata": {
      "needs_background": "light"
     },
     "output_type": "display_data"
    }
   ],
   "source": [
    "%pylab inline\n",
    "import pandas as pd\n",
    "\n",
    "data = pd.read_csv(\"~/week5/annotations/tss_histogram.txt\", sep=\"\\t\")\n",
    "\n",
    "# Reset column headers to make them easier to deal with\n",
    "marks = [\"Oct4\",\"Sox2\",\"Klf4\",\"H3K4me2\",\"H3K27ac\"]\n",
    "\n",
    "colnames = [\"dist.from.tss\"]\n",
    "for m in marks: colnames.extend([\"%s\"%m,\"%s:+\"%m,\"%s:-\"%m])\n",
    "data.columns = colnames\n",
    "data = data[[\"dist.from.tss\"]+marks]\n",
    "\n",
    "# Peek at the dataframe\n",
    "display(data.head())\n",
    "\n",
    "fig = plt.figure()\n",
    "fig.set_size_inches((7, 3))\n",
    "ax = fig.add_subplot(111)\n",
    "ax.plot(data[\"dist.from.tss\"], data[\"Oct4\"], label=\"Oct4\");\n",
    "ax.plot(data[\"dist.from.tss\"], data[\"Sox2\"], label=\"Sox2\");\n",
    "ax.plot(data[\"dist.from.tss\"], data[\"Klf4\"], label=\"Klf4\");\n",
    "ax.set_xlabel(\"Distance from TSS\")\n",
    "ax.set_ylabel(\"Relative read count\")\n",
    "ax.legend(loc=\"upper left\");\n",
    "\n",
    "fig = plt.figure()\n",
    "fig.set_size_inches((7, 3))\n",
    "ax = fig.add_subplot(111)\n",
    "ax.plot(data[\"dist.from.tss\"], data[\"H3K4me2\"], label=\"H3K4me2\");\n",
    "ax.plot(data[\"dist.from.tss\"], data[\"H3K27ac\"], label=\"H3K27ac\");\n",
    "ax.set_xlabel(\"Distance from TSS\")\n",
    "ax.set_ylabel(\"Relative read count\")\n",
    "ax.legend(loc=\"upper left\");"
   ]
  },
  {
   "cell_type": "markdown",
   "metadata": {
    "deletable": false,
    "editable": false,
    "nbgrader": {
     "checksum": "47adcefbbaaca10594c51c7c1afdce33",
     "grade": false,
     "grade_id": "cell-8a1f1d224e012b06",
     "locked": true,
     "schema_version": 1,
     "solution": false
    }
   },
   "source": [
    "**Motif results (<font color=\"red\">Results-Q5</font> - 8 pts)**: Which motifs did you find to be most enriched for each factor? Include a figure comparing the top motif logos you found compared to published logos for those factors. How similar are they?"
   ]
  },
  {
   "cell_type": "markdown",
   "metadata": {
    "deletable": false,
    "nbgrader": {
     "checksum": "31bfba92686a1685201c83fd1644eb7a",
     "grade": true,
     "grade_id": "correct-results-q7",
     "locked": false,
     "points": 8,
     "schema_version": 1,
     "solution": true
    }
   },
   "source": [
    "## Top 3 motifs for Oct4:\n",
    "![caption](top_motifsOct4.PNG)\n",
    "\n",
    "## The top motif listed from HOCOMOCO (forward and reverse complement):\n",
    "Forward complement\n",
    "![caption](oct4_forward.png)\n",
    "\n",
    "Reverse complement\n",
    "![caption](oct4_reverse.png)\n"
   ]
  },
  {
   "cell_type": "markdown",
   "metadata": {},
   "source": [
    "We see that the top motifs match in the location of big T's and A's. The motif from HOCOMOCO is longer than the one given from the HOMER analysis. You have to compare the same bases to see the similarity."
   ]
  },
  {
   "cell_type": "markdown",
   "metadata": {},
   "source": [
    "## Top 3 motifs for Klf4:\n",
    "![caption](top_motifsklf4.PNG)\n",
    "\n",
    "## The top motif listed from HOCOMOCO (forward and reverse complement):\n",
    "Forward complement\n",
    "![caption](klf4_forward.png)\n",
    "\n",
    "Reverse complement\n",
    "![caption](klf4_reverse.png)"
   ]
  },
  {
   "cell_type": "markdown",
   "metadata": {},
   "source": [
    "It seems that the top motif from the HOMER analysis actually matches the reverse complement found online with HOCOMOCO."
   ]
  },
  {
   "cell_type": "markdown",
   "metadata": {},
   "source": [
    "## Top 3 motifs for Sox2:\n",
    "![caption](top_motifssox2.PNG)\n",
    "\n",
    "## The top motif listed from HOCOMOCO (forward and reverse complement):\n",
    "Forward complement\n",
    "![caption](sox2_forward.png)\n",
    "\n",
    "Reverse complement\n",
    "![caption](sox2_reverse.png)"
   ]
  },
  {
   "cell_type": "markdown",
   "metadata": {},
   "source": [
    "The top motif found in the HOMER analysis matches the top motif from HOCOMOCO. Have to take into account for the different motif lengths. It is interesting to see that the top motif of Oct4 is very similar to that of sox2. Furthermore the 2nd top motif for both Oct4 and klf4 are very similar as well."
   ]
  },
  {
   "cell_type": "markdown",
   "metadata": {
    "deletable": false,
    "editable": false,
    "nbgrader": {
     "checksum": "2da83f73ba75d0c9ec418b0e752c1b9b",
     "grade": false,
     "grade_id": "cell-a6054c40affe7f32",
     "locked": true,
     "schema_version": 1,
     "solution": false
    }
   },
   "source": [
    "**Cooperative binding (<font color=\"red\">Results-Q6</font> - 6 pts)**: Draw a scatter plot of Oct4 vs. Sox2 binding based on the output of `annotatePeaks.pl` on the merge dpeak set. Color points corresponding to peaks with more than two-fold higher binding in Sox2 vs. Oct4. "
   ]
  },
  {
   "cell_type": "code",
   "execution_count": 24,
   "metadata": {
    "deletable": false,
    "nbgrader": {
     "checksum": "bd5170ee034d14551da06d638f9973e5",
     "grade": true,
     "grade_id": "correct-results-coop",
     "locked": false,
     "points": 6,
     "schema_version": 1,
     "solution": true
    }
   },
   "outputs": [
    {
     "data": {
      "text/plain": [
       "Text(0,0.5,'Sox2 Normalized')"
      ]
     },
     "execution_count": 24,
     "metadata": {},
     "output_type": "execute_result"
    },
    {
     "data": {
      "image/png": "[encoded data removed]",
      "text/plain": [
       "<Figure size 432x288 with 1 Axes>"
      ]
     },
     "metadata": {
      "needs_background": "light"
     },
     "output_type": "display_data"
    }
   ],
   "source": [
    "overlap = pd.read_csv('../week5/overlap/oct4_sox2_scatter.txt', sep='\\t')\n",
    "indexes = 2*overlap.iloc[:,-1]>overlap.iloc[:,-2]\n",
    "\n",
    "#-1 is sox2, -2 is Oct4\n",
    "background = overlap[~indexes]\n",
    "fold2 = overlap[indexes]\n",
    "\n",
    "fig = plt.figure()\n",
    "fig.set_size_inches((6, 4))\n",
    "ax = fig.add_subplot(111)\n",
    "ax.scatter(background.iloc[:,-2], background.iloc[:,-1], s=2, alpha=0.5, label='background',color='b')\n",
    "ax.scatter(fold2.iloc[:,-2], fold2.iloc[:,-1], s=2, alpha=0.5, label='2foldchange',color='r')\n",
    "ax.set_xlabel(\"Oct4 Normalized\")\n",
    "ax.set_ylabel(\"Sox2 Normalized\")"
   ]
  },
  {
   "cell_type": "markdown",
   "metadata": {
    "deletable": false,
    "editable": false,
    "nbgrader": {
     "checksum": "43762a30366428e8ec6b1c0068b1fa2d",
     "grade": false,
     "grade_id": "cell-e2c18633f3f5dede",
     "locked": true,
     "schema_version": 1,
     "solution": false
    }
   },
   "source": [
    "**Cooperative binding (<font color=\"red\">Results-Q7</font> - 8 pts)**: Repeat motif finding, but this time using only the peaks that were unique to Sox2 (fold change >2). Report the motif you found. Is this different than the motif you found when analyzing *all* Sox2 peaks? Does this match to published motifs for Sox2?"
   ]
  },
  {
   "cell_type": "code",
   "execution_count": 22,
   "metadata": {},
   "outputs": [],
   "source": [
    "#Method used to filter for sox2 values with fold change >2 and output to bed file for motif analysis\n",
    "filt_foldchange = pd.read_csv('../week5/overlap/oct4_sox2_scatter.txt', sep='\\t')\n",
    "indexes = 2*filt_foldchange.iloc[:,-1]>filt_foldchange.iloc[:,-2]\n",
    "outfile = filt_foldchange[indexes]\n",
    "outfile.to_csv('sox2_2foldchange.bed',sep='\\t',index=False)"
   ]
  },
  {
   "cell_type": "markdown",
   "metadata": {
    "deletable": false,
    "nbgrader": {
     "checksum": "3a3ee3cedf14ae7d5ef1df74d7002aa3",
     "grade": true,
     "grade_id": "correct-results-q7-coop",
     "locked": false,
     "points": 8,
     "schema_version": 1,
     "solution": true
    }
   },
   "source": [
    "Command to run on the outputted bed file using sox2 values with greater than 2 fold change when compared with Oct4.\n",
    "\n",
    "```shell\n",
    "prefix=Oct4 \n",
    "findMotifsGenome.pl ~/Lab5/sox2_2foldchange.bed \\\n",
    "/datasets/cs185s-sp19-public/genomes/GRCm38.fa \\\n",
    "~/week5/motifs/sox2_2foldchange \\\n",
    "-mask -size 100\n",
    "```"
   ]
  },
  {
   "cell_type": "markdown",
   "metadata": {},
   "source": [
    "Generated motifs comapred against HOCOMOCO motifs.\n",
    "\n",
    "2Fold change output results:\n",
    "\n",
    "HOCOMOCO:\n",
    "![caption](sox2_fold2.PNG)\n",
    "\n",
    "Forward complement\n",
    "![caption](sox2_forward.png)\n",
    "\n",
    "Reverse complement\n",
    "![caption](sox2_reverse.png)"
   ]
  },
  {
   "cell_type": "markdown",
   "metadata": {},
   "source": [
    "The top motif is still somewhat similar to that found from Oct4. However the rank2 motif better matches the reverse complement of that published on HOCOMOCO. The forward complement still matches though. So now we get better results for both the forward and reverse complement."
   ]
  },
  {
   "cell_type": "markdown",
   "metadata": {
    "deletable": false,
    "editable": false,
    "nbgrader": {
     "checksum": "8c9e8faf77b2c5148f38d7a8d2cf1f1b",
     "grade": false,
     "grade_id": "cell-a14bf47a56ae69c2",
     "locked": true,
     "schema_version": 1,
     "solution": false
    }
   },
   "source": [
    "**Oct4 motif occurrences (<font color=\"red\">Results-Q8</font> - 7 pts)**: How many instances of the Oct4 motif did you find on chr17? How many of those were actually bound (i.e. overlapped a peak in our ChIP-seq data?"
   ]
  },
  {
   "cell_type": "markdown",
   "metadata": {
    "deletable": false,
    "nbgrader": {
     "checksum": "5a324690aa7a165c2bf77d67faa8374d",
     "grade": true,
     "grade_id": "correct-results-q8",
     "locked": false,
     "points": 7,
     "schema_version": 1,
     "solution": true
    }
   },
   "source": [
    "Instances of the Oct4 motif on chr17 = 40712\n",
    "\n",
    "Instances actually bound to in ChIP-seq = 669"
   ]
  },
  {
   "cell_type": "markdown",
   "metadata": {
    "deletable": false,
    "editable": false,
    "nbgrader": {
     "checksum": "2aa57577dc609f2cfbfcc7544609b751",
     "grade": false,
     "grade_id": "cell-0d04bac215f0bb56",
     "locked": true,
     "schema_version": 1,
     "solution": false
    }
   },
   "source": [
    "## Discussion"
   ]
  },
  {
   "cell_type": "markdown",
   "metadata": {
    "deletable": false,
    "editable": false,
    "nbgrader": {
     "checksum": "7da161a496248d8c52e18bf6da2c56ea",
     "grade": false,
     "grade_id": "cell-db6fbc1162b84125",
     "locked": true,
     "schema_version": 1,
     "solution": false
    }
   },
   "source": [
    "**<font color=\"red\">Discussion-Q1</font> - 3 pts**: You should find that two of the transcription factors have very similar motifs to each other. Which two? Read about these factors (e.g. wikipedia) and hypothesize why we found these factors binding to the same motif."
   ]
  },
  {
   "cell_type": "markdown",
   "metadata": {
    "deletable": false,
    "nbgrader": {
     "checksum": "8ed5548878daf4afad5b640ad3951abb",
     "grade": true,
     "grade_id": "correct-discussion-q1",
     "locked": false,
     "points": 3,
     "schema_version": 1,
     "solution": true
    }
   },
   "source": [
    "The two transcription factors that are very similar are Oct4 and Sox2. These two transcription factors are used in the same function. Oct4 is needed in the reproduction 'self-renewal' of undifferentiated stem cells. In comparison Sox2 is needed in maintaining the reproduction 'self-renewal' of undifferentiated embryonic stem cells. They are both needed at the same time hence it makse sense that they would have similar tf binding motifs becuase only slight modifications are needed to make more of each."
   ]
  },
  {
   "cell_type": "markdown",
   "metadata": {
    "deletable": false,
    "editable": false,
    "nbgrader": {
     "checksum": "3c397c437ecbd8d90019161df9077254",
     "grade": false,
     "grade_id": "cell-d97b0e2fc922ffe0",
     "locked": true,
     "schema_version": 1,
     "solution": false
    }
   },
   "source": [
    "**<font color=\"red\">Discussion-Q2</font> - 3 pts**: You likely noticed some key differences between how transcription factors and histone modifications bind close to TSSs (see Results-Q5 above). Why do you think one of them shows a significant dip in signal right on top of TSSs?"
   ]
  },
  {
   "cell_type": "markdown",
   "metadata": {
    "deletable": false,
    "nbgrader": {
     "checksum": "3fc4c3b21c25919db5f4a158656aa570",
     "grade": true,
     "grade_id": "correct-discussion-q2",
     "locked": false,
     "points": 3,
     "schema_version": 1,
     "solution": true
    }
   },
   "source": [
    "The histone modifications might show a significant dip in signal right on top of the transcription factor sites simply because that is where the tfs go. They might be used at the same time hence there would be no place for the histone modification to be since the site is already occupied by a tf."
   ]
  },
  {
   "cell_type": "markdown",
   "metadata": {
    "deletable": false,
    "editable": false,
    "nbgrader": {
     "checksum": "86691387315431a6e10f56ae423c53f8",
     "grade": false,
     "grade_id": "cell-2fa71db9d4fa7b83",
     "locked": true,
     "schema_version": 1,
     "solution": false
    }
   },
   "source": [
    "**<font color=\"red\">Discussion-Q3</font> - 4 pts**: In your analysis of Oct4 motif occurrences on chr17, you likely found that there are many Oct4 motifs in the genome that are not actually bound by the Oct4 TF. Why do you think that is? Besides motif occurrence, what else do you think we could use to determine whether a TF is bound to a particular motif? (There are many possible answers)."
   ]
  },
  {
   "cell_type": "markdown",
   "metadata": {
    "deletable": false,
    "nbgrader": {
     "checksum": "59f7cfbf73f12d274f08d3356cb88b51",
     "grade": true,
     "grade_id": "correct-discussion-q3",
     "locked": false,
     "points": 4,
     "schema_version": 1,
     "solution": true
    }
   },
   "source": [
    "There are many locations where the Oct4 motif matches on the chr17 for potentially different reasons. A big reason could just be by random chance. We are looking over a huge sequence of bases where repeats can be similar for short motifs. This would likely result in the same pattern found at numerous points in the chromosome. This might not explain for all of the matches along the chromosome however. Another reason could be the specific combination of amino acids (bases of 3) is very common among different proteins and family of proteins. These locations would be in coding regions of the chromosome. The motifs might also show up because other tf sites have similar sequenecs as well."
   ]
  },
  {
   "cell_type": "markdown",
   "metadata": {
    "deletable": false,
    "editable": false,
    "nbgrader": {
     "checksum": "8835951f94cfa8b1ceb2e91e1795a524",
     "grade": false,
     "grade_id": "cell-e0a9b3f0b0a69e7e",
     "locked": true,
     "schema_version": 1,
     "solution": false
    }
   },
   "source": [
    "## References\n",
    "\n",
    "**References (<font color=\"red\">References-Q1</font> - 3 pts)**: Provide at least 2 works that you cite in your report. For example, you will likely reference Homer and the paper by Chronis et al. where the data is taken from."
   ]
  },
  {
   "cell_type": "markdown",
   "metadata": {
    "deletable": false,
    "nbgrader": {
     "checksum": "c24b1f98769ea61909bfab340c74ea36",
     "grade": true,
     "grade_id": "correct-refs-q1",
     "locked": false,
     "points": 3,
     "schema_version": 1,
     "solution": true
    }
   },
   "source": [
    "* HOMOER: Heinz S, Benner C, Spann N, Bertolino E et al. Simple Combinations of Lineage-Determining Transcription Factors Prime cis-Regulatory Elements Required for Macrophage and B Cell Identities. Mol Cell 2010 May 28;38(4):576-589. PMID: 20513432\n",
    "\n",
    "* HOCOMOCO: towards a complete collection of transcription factor binding models for human and mouse via large-scale ChIP-Seq analysis Ivan V. Kulakovskiy; Ilya E. Vorontsov; Ivan S. Yevshin; Ruslan N. Sharipov; Alla D. Fedorova; Eugene I. Rumynskiy; Yulia A. Medvedeva; Arturo Magana-Mora; Vladimir B. Bajic; Dmitry A. Papatsenko; Fedor A. Kolpakov; Vsevolod J. Makeev Nucl. Acids Res., Database issue, gkx1106 (11 November 2017) doi: 10.1093/nar/gkx1106\n",
    "\n",
    "* Chronis C., Fiziev P., Papp B. et al. (2017) Cooperative binding of transcription factors orchestrates reprogramming. Cell, 168, 442–459e20.\n",
    "\n",
    "* IGV: James T. Robinson, Helga Thorvaldsdóttir, Wendy Winckler, Mitchell Guttman, Eric S. Lander, Gad Getz, Jill P. Mesirov. Integrative Genomics Viewer. Nature Biotechnology 29, 24–26 (2011)\n",
    "\n",
    "* Takahashi K, Yamanaka S. Induction of pluripotent stem cells from mouse embryonic and adult fibroblast cultures by defined factors. Cell. (2006) 126:663–76. 10.1016/j.cell.2006.07.024"
   ]
  }
 ],
 "metadata": {
  "kernelspec": {
   "display_name": "Python 3",
   "language": "python",
   "name": "python3"
  },
  "language_info": {
   "codemirror_mode": {
    "name": "ipython",
    "version": 3
   },
   "file_extension": ".py",
   "mimetype": "text/x-python",
   "name": "python",
   "nbconvert_exporter": "python",
   "pygments_lexer": "ipython3",
   "version": "3.6.7"
  }
 },
 "nbformat": 4,
 "nbformat_minor": 2
}
