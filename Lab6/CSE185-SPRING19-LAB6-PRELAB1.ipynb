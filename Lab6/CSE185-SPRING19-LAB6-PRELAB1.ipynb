{
 "cells": [
  {
   "cell_type": "markdown",
   "metadata": {
    "deletable": false,
    "editable": false,
    "nbgrader": {
     "checksum": "29182bf692df3a415c4ed303abdf419e",
     "grade": false,
     "grade_id": "cell-16e32ecf9293d9b6",
     "locked": true,
     "schema_version": 1,
     "solution": false
    }
   },
   "source": [
    "# Week 6 \n",
    "## Prelab 1\n",
    "\n",
    "**Due: Monday 5/13/19 11:59PM**\n",
    "\n",
    "In this prelab, we will explore some issues to consider when designing single cell RNA-seq experiments.\n",
    "\n",
    "## 1. Droplet tuning\n",
    "\n",
    "When performing scRNA-seq, we would like to design our experiment such that most of the time, each droplet will get exactly one bead and one cell. Then, we will get what we want: one unique barcode to denote each individual cell that was sequenced.\n",
    "\n",
    "But occassionally, things can go wrong. For instance:\n",
    "\n",
    "* Sometimes a droplet might not get a bead. Or it might not get a cell. If it doesn't get both of these things, we won't get any good data from that droplet.\n",
    "* Sometimes, we might end up with two or more beads in a single droplet. This will result in some transcripts from the same cell being labeled with different barcodes.\n",
    "* Sometimes, we might end up with two or more cells in a single droplet, which will both get the same barcode. This is called a ***technical doublet***.\n",
    "* We might also end up with multiple different beads containing the same barcode in different droplets. If barcodes get repeated across droplets, we can get another form of doublets, called ***synthetic doublets***. In the data, this looks similar to the situation above: two cells got the same barcode.\n",
    "\n",
    "Both beads and cells get loaded into droplets at a rate that follows a Poisson distribution:\n",
    "\n",
    "$$ P(\\text{droplet has j beads})  = \\frac{e^{-\\mu} \\mu^j}{j!}$$\n",
    "where $\\mu$ is the mean number of beads loaded per droplet. Similarly:\n",
    "\n",
    "\n",
    "$$ P(\\text{droplet has k cells})  = \\frac{e^{-\\lambda} \\lambda^k}{k!}$$\n",
    "where $\\lambda$ is the mean number of cells loaded per droplet. \n",
    "\n",
    "Then we can define:\n",
    "\n",
    "* **cell capture rate**: is the probability that a droplet gets at least one bead. This is $1-P(\\text{droplet has 0 beads})$, or $1-e^{-\\mu}$ using the Poisson rate formula above\n",
    "* **cell duplicate rate**: is the rate at which cells are associated with two ore more different barcodes. That is, what fraction of all droplets with at least one barcode actually have more than one barcode. This is equal to $\\frac{P(\\text{droplet has 2+ beads})}{P(\\text{droplet has 1+ beads})}$, or $$\\frac{1-e^{-\\mu}-\\mu e^{-\\mu}}{1-e^{-\\mu}}$$\n",
    "\n",
    "We'd like to not waste any reagents, and make sure as many droplets as possible get a bead. On the other hand, we'd like to avoid putting more than one bead in a droplet, which will make our data messy. So, you can see we have a tradeoff! Too few beads is bad. Too many beads is also bad. The plot below illustratse this tradeoff:"
   ]
  },
  {
   "cell_type": "code",
   "execution_count": 1,
   "metadata": {
    "deletable": false,
    "editable": false,
    "nbgrader": {
     "checksum": "85e5de8a18186dd0bcdda5f57a73e17c",
     "grade": false,
     "grade_id": "cell-1154c3e145aea111",
     "locked": true,
     "schema_version": 1,
     "solution": false
    }
   },
   "outputs": [
    {
     "name": "stdout",
     "output_type": "stream",
     "text": [
      "Populating the interactive namespace from numpy and matplotlib\n"
     ]
    },
    {
     "name": "stderr",
     "output_type": "stream",
     "text": [
      "/opt/conda/lib/python3.6/site-packages/ipykernel_launcher.py:6: RuntimeWarning: invalid value encountered in double_scalars\n",
      "  \n"
     ]
    },
    {
     "data": {
      "image/png": "[encoded data removed]",
      "text/plain": [
       "<Figure size 432x288 with 1 Axes>"
      ]
     },
     "metadata": {
      "needs_background": "light"
     },
     "output_type": "display_data"
    }
   ],
   "source": [
    "%pylab inline\n",
    "import numpy as np\n",
    "mus = np.arange(0, 2, 0.1)\n",
    "\n",
    "capture_rates = [1-np.exp(-1*mu) for mu in mus]\n",
    "dup_rates = [(1-np.exp(-1*mu)-mu*np.exp(-1*mu))/(1-np.exp(-1*mu)) for mu in mus]\n",
    "\n",
    "fig = plt.figure()\n",
    "ax = fig.add_subplot(111)\n",
    "ax.plot(capture_rates, dup_rates)\n",
    "ax.set_xlabel(\"Capture rate\")\n",
    "ax.set_ylabel(\"Duplicate rate\");"
   ]
  },
  {
   "cell_type": "markdown",
   "metadata": {
    "deletable": false,
    "editable": false,
    "nbgrader": {
     "checksum": "8ffedf4ddfee0600ae1fa690eca86425",
     "grade": false,
     "grade_id": "cell-f904db627268df15",
     "locked": true,
     "schema_version": 1,
     "solution": false
    }
   },
   "source": [
    "A similar tradeoff exists when determining the number of cells per droplet (above the plot considers how many beads to use)."
   ]
  },
  {
   "cell_type": "markdown",
   "metadata": {
    "deletable": false,
    "editable": false,
    "nbgrader": {
     "checksum": "10c948ac9eb51544573df2e482300b09",
     "grade": false,
     "grade_id": "cell-6d0f7b2e159f85ce",
     "locked": true,
     "schema_version": 1,
     "solution": false
    }
   },
   "source": [
    "**Question 1 (2 pts)**: If we design our experiment such that on average each droplet gets 0.5 beads, how many droplets will get at least one bead? (i.e., what is the cell capture rate?)"
   ]
  },
  {
   "cell_type": "code",
   "execution_count": 4,
   "metadata": {
    "deletable": false,
    "nbgrader": {
     "checksum": "6a2c6fef8a43c8abfb9ee5dd9eedd213",
     "grade": true,
     "grade_id": "cell-37319f4f92189570",
     "locked": false,
     "points": 2,
     "schema_version": 1,
     "solution": true
    }
   },
   "outputs": [
    {
     "name": "stdout",
     "output_type": "stream",
     "text": [
      "Probability is: 0.393469340287\n"
     ]
    }
   ],
   "source": [
    "avg = 0.5\n",
    "#is the probability that a droplet gets at least one bead, ie that a cell gets a barcode\n",
    "#is probability of everythingg (1) minus probability of getting none -> j=0\n",
    "prob = 1-np.exp(-avg)\n",
    "print(\"Probability is:\", prob)"
   ]
  },
  {
   "cell_type": "markdown",
   "metadata": {
    "deletable": false,
    "editable": false,
    "nbgrader": {
     "checksum": "3f06682a21e0b82b9cece5cf47d3d78c",
     "grade": false,
     "grade_id": "cell-d9d6a3827c0a722a",
     "locked": true,
     "schema_version": 1,
     "solution": false
    }
   },
   "source": [
    "**Question 2 (2 pts)**: For the same experiment, what will be the cell duplicate rate?"
   ]
  },
  {
   "cell_type": "code",
   "execution_count": 5,
   "metadata": {
    "deletable": false,
    "nbgrader": {
     "checksum": "2f18152c7704a747e9586d2ad53e7e0d",
     "grade": true,
     "grade_id": "cell-e1d3661eb0ebcc9a",
     "locked": false,
     "points": 2,
     "schema_version": 1,
     "solution": true
    }
   },
   "outputs": [
    {
     "name": "stdout",
     "output_type": "stream",
     "text": [
      "Probability is: 0.229252958732\n"
     ]
    }
   ],
   "source": [
    "#Cell duplicate rate is the probability that the cells that do get at least one droplet end up getting more than one.\n",
    "#This is the conditional probability, given all droplets with at least 1+ bead, what is probability that they have 2+\n",
    "#This is simply joint probability of having 1+ bead and 2 or more beads divided by the probability of 1+ bead\n",
    "# P(j1=1+,j2=2+)/P(j1=1+)\n",
    "avg = 0.5\n",
    "prob = (1-np.exp(-avg) - avg*np.exp(-avg))/(1-np.exp(-avg))\n",
    "print(\"Probability is:\", prob)"
   ]
  },
  {
   "cell_type": "markdown",
   "metadata": {
    "deletable": false,
    "editable": false,
    "nbgrader": {
     "checksum": "318b826f513924f73308df580ab9e7f0",
     "grade": false,
     "grade_id": "cell-dff99648a29ee408",
     "locked": true,
     "schema_version": 1,
     "solution": false
    }
   },
   "source": [
    "**Question 3 (2 pts)**: You would like to design an experiment with capture rate of 0.4. You will generate 1 million droplets. How many beads should you use? Hint: $\\mu$ is equal to the number of beads divided by the number of droplets."
   ]
  },
  {
   "cell_type": "code",
   "execution_count": 9,
   "metadata": {
    "deletable": false,
    "nbgrader": {
     "checksum": "ff2480a068dd2dcaeea1e38d96f1419c",
     "grade": true,
     "grade_id": "cell-a10cc7e93440c9e6",
     "locked": false,
     "points": 2,
     "schema_version": 1,
     "solution": true
    }
   },
   "outputs": [
    {
     "name": "stdout",
     "output_type": "stream",
     "text": [
      "Number of beads is: 510825.623766\n"
     ]
    }
   ],
   "source": [
    "droplets = 1e6\n",
    "rate = 0.4\n",
    "u = -np.log(1-rate)\n",
    "beads = u * droplets\n",
    "print(\"Number of beads is:\",beads)"
   ]
  },
  {
   "cell_type": "markdown",
   "metadata": {
    "deletable": false,
    "editable": false,
    "nbgrader": {
     "checksum": "497ab904e02e4c2e9a47bc811117cc4a",
     "grade": false,
     "grade_id": "cell-ddd1adc6c92a7124",
     "locked": true,
     "schema_version": 1,
     "solution": false
    }
   },
   "source": [
    "## 2. Barcode design\n",
    "\n",
    "There are several issues to keep in mind when designing barcodes for single cell experiments.\n",
    "\n",
    "First, let's consider how many possible barcodes can be generated for a given length $L$. 10X barcodes are $L$=16bp long. In theory, that means we could have:\n",
    "\n",
    "$$4^{16} \\approx 4.3 \\text{ billion}$$\n",
    "\n",
    "possible barcodes. Note, we don't want to use every possibly barcode. Instead, we want to choose barcodes such that even when there is a sequencing error reading the barcode, we would be able to tell there was an error and either discard or fix that barcode. One possible way to choose barcodes is to require that each pair of barcodes differ by at least two base pairs. That way, if there is a sequencing error changing one base, it won't match to any real barcodes and will be discarded. In practice, 10X uses around 750,000 barcodes.\n",
    "\n",
    "Second, we would like to design barcodes such that it is highly unlikely that two cells will be captured separately by different beads containing the same barcode. Consider that we have $N$ cells and $M$ barcodes. The **barcode collision rate** is the expected percent of cells that do not have a unique barcode.\n",
    "\n",
    "To compute this, let $p=1/M$. Then the probability that the same barcode is asociated with $k$ cells is:\n",
    "$${N \\choose k}p^k(1-p)^{N-k}$$\n",
    "since each cell has $1-p$ chance to get a particular barcode $b$. So the probability a particular barcode is associated with exactly one cell is then:\n",
    "\n",
    "$${N\\choose 1}p(1-p)^{N-1} = \\frac{N}{M}(1-\\frac{1}{M})^{N-1}$$\n",
    "\n",
    "Since there are $M$ possible barcodes, the expected number of cells with a unique barcode is:\n",
    "$$N(1-\\frac{1}{M})^{N-1}$$\n",
    "\n",
    "and the collision rate is:\n",
    "$$(1-\\frac{1}{M})^{N-1} \\approx 1-(\\frac{1}{e})^{\\frac{N}{M}}$$\n",
    "\n",
    "So, the value of $\\frac{N}{M}$ is key to determining the collision rate (or **synthetic doublet rate** using the terminology above). This value $\\frac{N}{M}$ is referred to as the **relative barcode diversity**.\n",
    "\n",
    "If this number is very high, we have many cells and few barcodes, so many barcodes will be repeated across cells resulting in many doublets. So we should try to keep this number low.\n",
    "\n",
    "**Question 4 (2 pts)**: If we are sequencing 1 million cells and have 750,000 barcodes available, what percent of cells will not have a unique barcode? i.e. will the collision rate be (approximately)? Would you consider this acceptable?"
   ]
  },
  {
   "cell_type": "code",
   "execution_count": 15,
   "metadata": {
    "deletable": false,
    "nbgrader": {
     "checksum": "bf7151268e0e43fac66fee60b92a4a39",
     "grade": true,
     "grade_id": "cell-7370baac08aeef0f",
     "locked": false,
     "points": 2,
     "schema_version": 1,
     "solution": true
    }
   },
   "outputs": [
    {
     "name": "stdout",
     "output_type": "stream",
     "text": [
      "Collision rate:  0.7364028618842732\n"
     ]
    }
   ],
   "source": [
    "#expected percent of cells that do not have a unique barcode\n",
    "N=1e6\n",
    "M=750000\n",
    "collision_Rate = 1-(1/np.e)**(N/M)\n",
    "print(\"Collision rate: \",collision_Rate)"
   ]
  },
  {
   "cell_type": "markdown",
   "metadata": {},
   "source": [
    "The above collision rate is aroudn 73%. This is not acceptable for experimentation in terms of single cell analysis. There will be a lot of mixed and non pure data values."
   ]
  },
  {
   "cell_type": "markdown",
   "metadata": {
    "deletable": false,
    "editable": false,
    "nbgrader": {
     "checksum": "46e8f7eec2af63144f1456529a0b9192",
     "grade": false,
     "grade_id": "cell-2ba8be192d0d7fac",
     "locked": true,
     "schema_version": 1,
     "solution": false
    }
   },
   "source": [
    "Recall that for a barcode of length $L$, we can generate $4^L$ possible unique barcodes. \n",
    "\n",
    "A question of interest is for a certain target collision rate, what is the minimum length barcode we can use?\n",
    "\n",
    "Consider we would like a collision rate of at most 2%. A 2% doublet rate requires a barcode diversity rate of around 2%. Then based on the formula above we require the number of barcoes to be around 50 times the number of cells (so that $\\frac{N}{M}=0.02$)\n",
    "\n",
    "**Question 5 (2 pts)**: To assay 1 million cells with a collision rate of 2%, what is the minimum length of barcode we can use?"
   ]
  },
  {
   "cell_type": "code",
   "execution_count": 26,
   "metadata": {
    "deletable": false,
    "nbgrader": {
     "checksum": "e0cda7ae80fdd77d3bd95da3b81033d6",
     "grade": true,
     "grade_id": "cell-821234b593e2a1b6",
     "locked": false,
     "points": 2,
     "schema_version": 1,
     "solution": true
    }
   },
   "outputs": [
    {
     "name": "stdout",
     "output_type": "stream",
     "text": [
      "Need 49498317.0 different barcodes\n",
      "The minimum length barcode is:  13.0\n"
     ]
    }
   ],
   "source": [
    "N = 1e6\n",
    "M = N*np.log(1/np.e)/np.log(0.98)\n",
    "L = np.log(M)/np.log(4)\n",
    "print(\"Need {} different barcodes\".format(np.ceil(M)))\n",
    "print(\"The minimum length barcode is: \", np.ceil(L))"
   ]
  },
  {
   "cell_type": "markdown",
   "metadata": {},
   "source": [
    "To get a collision rate of 2% we would have to use a barcode of length 13. However as seen in the example above, we do not typically use all of the available barcodes from a specific sequence (16 bp gives 750k barcodes). In our example we need 49498317 different barcodes to achieve the desired collision rate. Hence if the trend from the first example continues we would need a significantly longer barcode in practice. 13 just gives the theoretical minimum."
   ]
  },
  {
   "cell_type": "markdown",
   "metadata": {
    "deletable": false,
    "editable": false,
    "nbgrader": {
     "checksum": "1e21991a276023fa6f9a8768dff0ed7b",
     "grade": false,
     "grade_id": "cell-032200ce336f0f17",
     "locked": true,
     "schema_version": 1,
     "solution": false
    }
   },
   "source": [
    "To see more info on these topics, see https://liorpachter.wordpress.com/2019/02/, where some of the material here was adapted from."
   ]
  }
 ],
 "metadata": {
  "kernelspec": {
   "display_name": "Python 3",
   "language": "python",
   "name": "python3"
  },
  "language_info": {
   "codemirror_mode": {
    "name": "ipython",
    "version": 3
   },
   "file_extension": ".py",
   "mimetype": "text/x-python",
   "name": "python",
   "nbconvert_exporter": "python",
   "pygments_lexer": "ipython3",
   "version": "3.6.7"
  }
 },
 "nbformat": 4,
 "nbformat_minor": 2
}
