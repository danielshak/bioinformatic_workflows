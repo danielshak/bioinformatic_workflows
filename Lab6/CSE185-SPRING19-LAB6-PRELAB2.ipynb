{
 "cells": [
  {
   "cell_type": "markdown",
   "metadata": {
    "deletable": false,
    "editable": false,
    "nbgrader": {
     "checksum": "fb212f5f384972bd3d97f62cb260f775",
     "grade": false,
     "grade_id": "cell-b760628ecc908de9",
     "locked": true,
     "schema_version": 1,
     "solution": false
    }
   },
   "source": [
    "# Week 6 \n",
    "## Prelab 2\n",
    "\n",
    "**Due: Monday 5/13/19 11:59PM**\n",
    "\n",
    "Today's lab is a review for quiz 3, which will be Thursday 5/9/19 in lab! These are the types of questions you can expect.\n",
    "\n",
    "So that you can know if your answers are correct, in some cases the actual answers are revealed in the autograder tests. But please make sure you understand how the answer was computed so you know how to do it for the quiz! Not all questions are autograded. Ask a TA, friend, or piazza if you have questions about these before the quiz.\n",
    "\n",
    "Note the actual quiz will have only five questions and you will be given 25 minutes."
   ]
  },
  {
   "cell_type": "markdown",
   "metadata": {
    "deletable": false,
    "editable": false,
    "nbgrader": {
     "checksum": "9c4c43909a1e81ac58520b4df43d18eb",
     "grade": false,
     "grade_id": "part1_head",
     "locked": true,
     "schema_version": 1,
     "solution": false
    }
   },
   "source": [
    "## Part 1: ChIP-seq and motifs"
   ]
  },
  {
   "cell_type": "markdown",
   "metadata": {
    "deletable": false,
    "editable": false,
    "nbgrader": {
     "checksum": "023f90828b9cfe4a8661ce43c3d487a2",
     "grade": false,
     "grade_id": "cell-d93b233144c7514a",
     "locked": true,
     "schema_version": 1,
     "solution": false
    }
   },
   "source": [
    "**Question 1 (1 pt)**: Compute the **6th column** of Position Weight Matrix (PWM) from the following Position Frequency Matrix (PFM). Assume in random sequences we will see a nucleotide frequency of 25% for each nucleotide. Note there are no 0 entries here, so no need for a pseudocount.\n",
    "\n",
    "| * | 1 | 2 | 3 | 4 | 5 | 6 | 7 | 8 | 9 | 10 | 11 | 12 | 13 | 14 |\n",
    "|---|---|---|---|---|---|---|---|---|---|----|----|----|----|----|\n",
    "| A | 1 | 4 | 4 | 1 | 3 | 7 | 4 | 3 | 5 | 4  | 2  | 1  | 1  | 4  |\n",
    "| C | 3 | 1 | 4 | 8 | 1 | 1 | 1 | 3 | 1 | 1  | 1  | 1  | 2  | 4  |\n",
    "| G | 2 | 3 | 1 | 1 | 1 | 1 | 1 | 1 | 1 | 1  | 6  | 8  | 5  | 1  |\n",
    "| T | 3 | 1 | 1 | 1 | 5 | 1 | 4 | 2 | 2 | 4  | 1  | 1  | 1  | 1  |\n",
    "\n",
    "Note: 4th column has been precomputed for you to check your answer. Report your answer rounded to at least 3 decimal places."
   ]
  },
  {
   "cell_type": "code",
   "execution_count": 5,
   "metadata": {
    "deletable": false,
    "nbgrader": {
     "checksum": "a1830e51653035ed020985aaab57840a",
     "grade": false,
     "grade_id": "cell-8e188817f55c7b4e",
     "locked": false,
     "schema_version": 1,
     "solution": true
    }
   },
   "outputs": [
    {
     "name": "stdout",
     "output_type": "stream",
     "text": [
      "[-1.459  1.541 -1.459 -1.459]\n",
      "[ 1.485 -1.322 -1.322 -1.322]\n"
     ]
    }
   ],
   "source": [
    "import numpy as np\n",
    "pwm_col_4 = np.log2(np.array([1/11,8/11,1/11,1/11])/0.25)\n",
    "print(np.around(pwm_col_4, decimals=3))\n",
    "pwm_col_6 = np.log2(np.array([7/10,1/10,1/10,1/10])/0.25)\n",
    "print(np.around(pwm_col_6, decimals=3))"
   ]
  },
  {
   "cell_type": "code",
   "execution_count": 6,
   "metadata": {
    "deletable": false,
    "editable": false,
    "nbgrader": {
     "checksum": "8897bd0e55bb7a0abc9c75557b1c33ca",
     "grade": true,
     "grade_id": "cell-4a4bafdf45006635",
     "locked": true,
     "points": 1,
     "schema_version": 1,
     "solution": false
    }
   },
   "outputs": [],
   "source": [
    "\"\"\"Check value of pwm_col_4 and pwm_col_6\"\"\"\n",
    "import numpy as np\n",
    "# (test for pwm_col_6 is hidden)\n",
    "answer_col4 = [-1.459,1.541,-1.459,-1.459]\n",
    "for i in range(4):\n",
    "    assert(round(pwm_col_4[i], 3) == answer_col4[i])"
   ]
  },
  {
   "cell_type": "markdown",
   "metadata": {
    "deletable": false,
    "editable": false,
    "nbgrader": {
     "checksum": "acfd6a32b39e9e4365a4de02b13a4772",
     "grade": false,
     "grade_id": "cell-0324b3914e08264a",
     "locked": true,
     "schema_version": 1,
     "solution": false
    }
   },
   "source": [
    "**Question 2 (1 pt)**: You are analyzing a transcription factor that binds the following motif:\n",
    "<img src=motif_q2.png width=400>\n",
    "\n",
    "You have performed ChIP-sequencing for the TF in a group of people and have identified a location in the genome with the sequence “CAACTAAAAAAGCA”, which is bound by the TF in most people. \n",
    "\n",
    "However, a subset of people do not show evidence that the TF is bound to this location (no peak in the ChIP-seq data), and others show only weak binding. You suspect it could be due to a common SNP in this region. \n",
    "\n",
    "Describe what type of mutation (position and change, e.g. a “C->T change at position 8”) at this region would likely cause the TF not to bind? Why?\n"
   ]
  },
  {
   "cell_type": "markdown",
   "metadata": {
    "deletable": false,
    "nbgrader": {
     "checksum": "d381255b1703d840cc95438c34e8e924",
     "grade": true,
     "grade_id": "cell-447149da81149759",
     "locked": false,
     "points": 1,
     "schema_version": 1,
     "solution": true
    }
   },
   "source": [
    "Motfis show the maximum entropy distirbution between the possible bases. The larger entropy values which comes from the pwm matrix supply the weighting of the motif shown above. This means that the larger values in the logo shows the bases that are more certain for a specific location. Hence mutations at sites 4 and 12 would have a large detrimental affect causing the TF not to bind. Specifically a mutation of C-> T and G -> A. Other mutations that would greatly affect binding as well would be insertions or deletions causing frame shifts affecting the binding at sites 4 and 12."
   ]
  },
  {
   "cell_type": "markdown",
   "metadata": {
    "deletable": false,
    "editable": false,
    "nbgrader": {
     "checksum": "fb1d52ef248d9f8cca3d3d7a68cee3cd",
     "grade": false,
     "grade_id": "cell-bf171278a1290b72",
     "locked": true,
     "schema_version": 1,
     "solution": false
    }
   },
   "source": [
    "**Question 3 (1 pt)**: You are interested in a TF that usually binds the sequence `GGGGGCGGG`\n",
    "\n",
    "You create two separate PWMs for the TF: one using intronic regions as the background (with about equal representation of all 4 nucleotides) and another using promoter regions as the background (which are very GC rich). You then score a sequence that exactly matches the known motif, `GGGGGCGGG`, using both PWMs. For which one (intron or promoter as background) will the sequence have a higher score, and why?\n"
   ]
  },
  {
   "cell_type": "markdown",
   "metadata": {
    "deletable": false,
    "nbgrader": {
     "checksum": "4b3a79007d0b2cb6373cbb1c11471748",
     "grade": true,
     "grade_id": "cell-95478cbaed127d14",
     "locked": false,
     "points": 1,
     "schema_version": 1,
     "solution": true
    }
   },
   "source": [
    "The sequence using the intronic regions as the background will have a higher score. This makse sense in that the pwm score is a measure of entropy or how variation from the background. It gives an idea of how likely we are to such base given what noise/background is. A 'C' of 'G' taken from a background with a lot of GC content is not as surprising as say taking a 'C' or 'G' with equal proability of all bases. This is seen in the math equation of the pwm scores. \n",
    "\n",
    "$$ pwm[i,j] = p[i,j]/p[i] $$\n",
    "\n",
    "In the case of the intronic regions p[i] is smaller for bases 'C' and 'G' when compared to the promoter regions. Hence dividing by a smaller score will result in a larger value."
   ]
  },
  {
   "cell_type": "markdown",
   "metadata": {
    "deletable": false,
    "editable": false,
    "nbgrader": {
     "checksum": "1f70bf32994bceecf5e5e9b436b2c8a8",
     "grade": false,
     "grade_id": "part2_head",
     "locked": true,
     "schema_version": 1,
     "solution": false
    }
   },
   "source": [
    "## Part 2: Single Cell"
   ]
  },
  {
   "cell_type": "markdown",
   "metadata": {
    "deletable": false,
    "editable": false,
    "nbgrader": {
     "checksum": "ba230761313232b4136248f4ba0dda20",
     "grade": false,
     "grade_id": "cell-710fcf73f3e4cdba",
     "locked": true,
     "schema_version": 1,
     "solution": false
    }
   },
   "source": [
    "**Question 4 (1 pt)**: Describe the difference between a UMI, barcode, and index (in the context of scRNA-seq). Which one is specific per molecule? per cell? per sample?"
   ]
  },
  {
   "cell_type": "markdown",
   "metadata": {
    "deletable": false,
    "nbgrader": {
     "checksum": "78c20db5fb1160fcd56a88ef4d560f29",
     "grade": true,
     "grade_id": "cell-e3d6a98752d30747",
     "locked": false,
     "points": 1,
     "schema_version": 1,
     "solution": true
    }
   },
   "source": [
    "* UMI - UMI stands for Unique molecular identifier. These are specific per molecule and are used to aid in the correction and error reduction during PCR amplification.\n",
    "* Barcode - The barcode is unique per each cell. These are used to identify reads that originate from the same cell.\n",
    "* Index - The index are basepair indicators that specify from which experiment the samples come from. They are a per sample identifier differentiating different libraries."
   ]
  },
  {
   "cell_type": "markdown",
   "metadata": {
    "deletable": false,
    "editable": false,
    "nbgrader": {
     "checksum": "9b59db20eaf0e497a84710c6e31f50af",
     "grade": false,
     "grade_id": "cell-d603b14c4fd9a471",
     "locked": true,
     "schema_version": 1,
     "solution": false
    }
   },
   "source": [
    "**Question 5 (1 pt)**: You are designing a single cell RNAseq experiment using technology similar to 10X Genomics. Based on the number of beads and droplets you input into your experiment, you estimate that each droplet gets on average 1 bead. Assuming beads are loaded into droplets at a Poisson rate, what percent of droplets should have at least one bead?"
   ]
  },
  {
   "cell_type": "markdown",
   "metadata": {
    "deletable": false,
    "nbgrader": {
     "checksum": "6a0f83b1f8862c995efd7acaec66f3a6",
     "grade": true,
     "grade_id": "cell-1d15fc91699991ac",
     "locked": false,
     "points": 1,
     "schema_version": 1,
     "solution": true
    }
   },
   "source": [
    "This is the cell capture rate.\n",
    "\n",
    "$$ P(\\text{droplet has j beads})  = \\frac{e^{-\\mu} \\mu^j}{j!}$$\n",
    "\n",
    "Hence following $1-P(\\text{droplet has 0 beads})$ which is the probability that we get at least 1 bead per droplet using an average of 1:\n",
    "\n",
    "$$ 1-e^{-1} = 0.632 $$"
   ]
  },
  {
   "cell_type": "markdown",
   "metadata": {
    "deletable": false,
    "editable": false,
    "nbgrader": {
     "checksum": "4213257bf3fcecb4f9c1702bbdabf42b",
     "grade": false,
     "grade_id": "part3_head",
     "locked": true,
     "schema_version": 1,
     "solution": false
    }
   },
   "source": [
    "## Part 3: Command line tools\n",
    "\n",
    "These are not autograded. But please actually check your answers on the command line to make sure they will run!"
   ]
  },
  {
   "cell_type": "markdown",
   "metadata": {
    "deletable": false,
    "editable": false,
    "nbgrader": {
     "checksum": "4292cfd7226bac162f1d34e064caa144",
     "grade": false,
     "grade_id": "cell-b9d1dbe709262905",
     "locked": true,
     "schema_version": 1,
     "solution": false
    }
   },
   "source": [
    "**Question 6 (1 pt)**: The file `integers.txt` contains integers from 1 to 20, one per line. The file `even.txt` contains even numbers from 2 to 20, one per line. Write a UNIX one-liner to find all the odd numbers in the file integers.txt and print the result to standard output (the terminal screen)"
   ]
  },
  {
   "cell_type": "markdown",
   "metadata": {
    "deletable": false,
    "nbgrader": {
     "checksum": "d549f69ba94b5287be03ae1002b4c839",
     "grade": true,
     "grade_id": "cell-b26dca19167da671",
     "locked": false,
     "points": 1,
     "schema_version": 1,
     "solution": true
    }
   },
   "source": [
    "```shell\n",
    "awk '$1%2 !=0 {print}' integers.txt\n",
    "```"
   ]
  },
  {
   "cell_type": "markdown",
   "metadata": {
    "deletable": false,
    "editable": false,
    "nbgrader": {
     "checksum": "a7cd0e9dd42951830362a86839261265",
     "grade": false,
     "grade_id": "cell-91d3da6e7ff44400",
     "locked": true,
     "schema_version": 1,
     "solution": false
    }
   },
   "source": [
    "**Question 7 (1 pt)**: You have a directory `/fastqs` containing the following fastq files: `rep_1.fastq`, `rep_2.fastq`, `rep_3.fastq`\n",
    "Write a bash for loop that will print out the number of reads in each fastq file.\n"
   ]
  },
  {
   "cell_type": "markdown",
   "metadata": {
    "deletable": false,
    "nbgrader": {
     "checksum": "93bd493adfeb7568a181032ff862a919",
     "grade": true,
     "grade_id": "cell-7b4fbb4b498e5fc9",
     "locked": false,
     "points": 1,
     "schema_version": 1,
     "solution": true
    }
   },
   "source": [
    "```shell\n",
    "for file in Oct4 Klf4 Sox2\n",
    "do\n",
    "echo $(( $(wc -l < ${file}.esc.fastq) / 4 ))\n",
    "done\n",
    "```"
   ]
  },
  {
   "cell_type": "markdown",
   "metadata": {
    "deletable": false,
    "editable": false,
    "nbgrader": {
     "checksum": "6b5d248baaa9217a6cd25b6371a4934f",
     "grade": false,
     "grade_id": "cell-d6eddd43ca86ec4c",
     "locked": true,
     "schema_version": 1,
     "solution": false
    }
   },
   "source": [
    "**Question 8 (1 pt)**: The file `/datasets/cs185s-sp19-public/genomes/GRCm38.75.gtf` contains the Mouse Ensembl v75 gene annotations. Write a one-line UNIX command that prints the gene_id (and only the gene_id! No spaces, quotes, etc.) of all lines annotated as “protein_coding” in column 2."
   ]
  },
  {
   "cell_type": "markdown",
   "metadata": {
    "deletable": false,
    "nbgrader": {
     "checksum": "9ba094b8df4025f3b23278f92cfc6c1f",
     "grade": true,
     "grade_id": "cell-51fb2863164e7231",
     "locked": false,
     "points": 1,
     "schema_version": 1,
     "solution": true
    }
   },
   "source": [
    "```shell\n",
    "awk '$2 == \"protein_coding\" {print $10}' GRCm38.75.gtf | cut -d '\"' -f2\n",
    "```\n"
   ]
  },
  {
   "cell_type": "markdown",
   "metadata": {
    "deletable": false,
    "editable": false,
    "nbgrader": {
     "checksum": "13ef14b936d20ac6feda3f24c2eb1f97",
     "grade": false,
     "grade_id": "cell-c963ccb870970c02",
     "locked": true,
     "schema_version": 1,
     "solution": false
    }
   },
   "source": [
    "**Question 9 (1 pt)**: The file `results.csv` contains columns: 1=chrom, 2=start, 3=end, 4=p-value, with columns separated by commas. It has 100 lines.\n",
    "Write a command that outputs the chrom, start, and end for the lines with the 5 smallest p-values."
   ]
  },
  {
   "cell_type": "markdown",
   "metadata": {
    "deletable": false,
    "nbgrader": {
     "checksum": "4c2bc18654d801dba4123535df5ac0ef",
     "grade": true,
     "grade_id": "cell-c87ea7fd3bc3477a",
     "locked": false,
     "points": 1,
     "schema_version": 1,
     "solution": true
    }
   },
   "source": [
    "```shell\n",
    "sort -t, -k4 -n results.csv | head -n 5 | cut -d',' -f1,2,3\n",
    "```"
   ]
  },
  {
   "cell_type": "markdown",
   "metadata": {
    "deletable": false,
    "editable": false,
    "nbgrader": {
     "checksum": "def7e6a5b8e4efcfcf84cfbe1af40dda",
     "grade": false,
     "grade_id": "cell-bd025db71d305d36",
     "locked": true,
     "schema_version": 1,
     "solution": false
    }
   },
   "source": [
    "**Question 10 (1 pt):** You are running alignment of your RNA-seq data but the command is taking forever and you need to close your computer. How can you get your job to keep running even after you’ve disconnected from the server?"
   ]
  },
  {
   "cell_type": "markdown",
   "metadata": {
    "deletable": false,
    "nbgrader": {
     "checksum": "b96d660d1b6eed99d41ac91f7dade50f",
     "grade": true,
     "grade_id": "cell-5939dc7ad5f2386d",
     "locked": false,
     "points": 1,
     "schema_version": 1,
     "solution": true
    }
   },
   "source": [
    "You can use nohup as the prefix to any of your commands. Another method would be to form a tmux session."
   ]
  }
 ],
 "metadata": {
  "kernelspec": {
   "display_name": "Python 3",
   "language": "python",
   "name": "python3"
  },
  "language_info": {
   "codemirror_mode": {
    "name": "ipython",
    "version": 3
   },
   "file_extension": ".py",
   "mimetype": "text/x-python",
   "name": "python",
   "nbconvert_exporter": "python",
   "pygments_lexer": "ipython3",
   "version": "3.6.7"
  }
 },
 "nbformat": 4,
 "nbformat_minor": 2
}
