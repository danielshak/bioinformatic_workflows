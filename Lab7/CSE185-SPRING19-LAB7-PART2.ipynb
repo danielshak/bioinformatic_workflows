{
 "cells": [
  {
   "cell_type": "markdown",
   "metadata": {
    "deletable": false,
    "editable": false,
    "nbgrader": {
     "checksum": "e416d165cd0a98aed3a764c0974a26a9",
     "grade": false,
     "grade_id": "cell-bafda78a56b3edf4",
     "locked": true,
     "schema_version": 1,
     "solution": false
    }
   },
   "source": [
    "# Week 7 Lab: Proteomics\n",
    "\n",
    "## Part 2: Database search for protein identification\n",
    "**Due: Monday 5/20/19 11:59PM**\n",
    "\n",
    "Skills covered: mass spectrometry, database search\n",
    "\n",
    "In part 1, we focused on the problem of *de novo peptide sequencing*. In reality, this is quite hard (and often impossible) with real data. Usually, we would want to aid our protein identification with the use of a database. Instead of (or in addition to) relying on de novo reconstruction, we can look at (or compute) a bunch of spectra for known peptides and see which one our peptide matches to. This works reasonably well in practice, as long as your target peptide is in the database.\n",
    "\n",
    "For this lab, we will focus on *real* spectra. We have provided spectra resulting from performing tandem MS on proteins isolated from telomere regions. Recall, telomeres are highly repetitive regions at the ends of chromosomes. Telomeres serve many important functions, including protecting the ends of chromosomes, helping organize chromosomes in the nucleus, and allowing chromosomes to replicate properly. Each time a cell divides, telomeres shorten in length by 25-200bp. Eventually, after telomeres get too short, a cell will undergo programmed cell death (apoptosis). Thus, telomeres are an important marker for aging: generally the longer the telomeres the younger a cell. The data provided here was produced by isolating proteins associated with telomere regions in mice. Tandem mass spec was performed on the resulting pool of proteins with the goal of identifying which proteins are in the mixture. \n",
    "\n",
    "In this lab, we will:\n",
    "1. Implement our own version of database search to determine the identity of a single mystery peptide from this experiment.\n",
    "2. Perform database search using a real search engine (mascot) on a group of peptides to determine a list of proteins represented in our sample.\n",
    "\n",
    "The following datasets area available for part II in the `week7` directory:\n",
    "\n",
    "* `telomere_proteins_683.mgf`: The spectrum (real data) for the mystery peptide.\n",
    "* `mouse_proteins.fa`: A fasta file of protein sequences for several example mouse proteins.\n",
    "* `telomere_proteins.mgf`: A collection of spectra obtained from tandem mass spec."
   ]
  },
  {
   "cell_type": "markdown",
   "metadata": {
    "deletable": false,
    "editable": false,
    "nbgrader": {
     "checksum": "2393c1ee096ae17b596bd432dfdea0ce",
     "grade": false,
     "grade_id": "cell-fc4c1c672a829c28",
     "locked": true,
     "schema_version": 1,
     "solution": false
    }
   },
   "source": [
    "## 0. The data\n",
    "\n",
    "The cell below plots the mystery spectrum we will try to identify. You may find this useful later for plotting the mystery spectrum vs. the top match in your database."
   ]
  },
  {
   "cell_type": "code",
   "execution_count": 136,
   "metadata": {
    "deletable": false,
    "editable": false,
    "nbgrader": {
     "checksum": "2e22914be63b53416d16392cd0846da9",
     "grade": false,
     "grade_id": "cell-c5ea118713105bd2",
     "locked": true,
     "schema_version": 1,
     "solution": false
    }
   },
   "outputs": [
    {
     "name": "stdout",
     "output_type": "stream",
     "text": [
      "Populating the interactive namespace from numpy and matplotlib\n"
     ]
    },
    {
     "data": {
      "image/png": "[encoded data removed]",
      "text/plain": [
       "<Figure size 432x216 with 1 Axes>"
      ]
     },
     "metadata": {
      "needs_background": "light"
     },
     "output_type": "display_data"
    }
   ],
   "source": [
    "%pylab inline\n",
    "from pyteomics import mgf\n",
    "\n",
    "reader = mgf.read('/datasets/cs185s-sp19-public/week7/telomere_proteins_683.mgf')\n",
    "for spectrum in reader:\n",
    "    mz = spectrum[\"m/z array\"]\n",
    "    intensities = spectrum[\"intensity array\"]\n",
    "    fig = plt.figure()\n",
    "    fig.set_size_inches((6, 3))\n",
    "    ax = fig.add_subplot(111)\n",
    "    for i in range(len(mz)):\n",
    "        ax.plot([mz[i],mz[i]], [0, intensities[i]], color=\"black\")\n",
    "    ax.set_xlabel(\"m/z\")\n",
    "    ax.set_ylabel(\"Intensity\")"
   ]
  },
  {
   "cell_type": "markdown",
   "metadata": {
    "deletable": false,
    "editable": false,
    "nbgrader": {
     "checksum": "b7be5dc78febb07ba8e57f1e7e8e77d4",
     "grade": false,
     "grade_id": "cell-82a8be915572a29e",
     "locked": true,
     "schema_version": 1,
     "solution": false
    }
   },
   "source": [
    "## 1. Implementing database search\n",
    "\n",
    "First, we will implement a mini-version of database search. You have been given a list of amino acid sequences for three mouse proteins (`mouse_proteins.fa`) and the spectrum in MGF format for a mystery peptide (`telomere_proteins_683.mgf`) coming from one of those three proteins. Your goal is to determine which protein the peptide came from, and what the sequence of the peptide is.\n",
    "\n",
    "We will implement the following steps:\n",
    "* 1.1 Create a database (question 1)\n",
    "* 1.2 Create a scoring metric to compare our spectrum to the database (question 2)\n",
    "* 1.3 Search the database for matching peptides, using our scoring function (questions 3-4)\n",
    "* 1.4 Plot the spectra to compare and interpret the results (questions 5-7)\n",
    "\n",
    "### 1.1 Creating the database\n",
    "First, we will create a database of possible spectra based on peptides from our reference set of proteins. We will want to create a database storing theoretical spectra of all possible tryptic peptides (i.e., peptides ending in \"K\" or \"R\"). For simplicity here we'll assume all ionized peptide fragments (the b and y ions) will have charge of +1 (even though the precursor ions may have higher charges).\n",
    "\n",
    "**Question 1 (15 pts)**: Complete the function `BuildDatabase` below which should:\n",
    "* Take in a dictionary of protein name -> protein sequence\n",
    "* Determine all tryptic peptides within a given mass range\n",
    "* Outputs a dictionary of \"proteinname_peptideseq\" -> spectrum. Each spectrum is a list of the m/z values for each peak.\n",
    "\n",
    "Implementation notes:\n",
    "* [pyteomics.parser.cleave](https://pyteomics.readthedocs.io/en/latest/api/parser.html#pyteomics.parser.cleave) has functionality to cleave peptides by imitating the trypsinization process.\n",
    "* You should use your function `ComputeSpectrum(peptide)` from part 1 to compute the spectra of each peptide.\n",
    "* [pyteomics.mass.calculate_mass](https://pyteomics.readthedocs.io/en/latest/mass.html) can be used to compute the mass of a peptide.\n",
    "\n",
    "The autograder tests will make sure your function is outputting things in the right format and run a couple of test examples."
   ]
  },
  {
   "cell_type": "code",
   "execution_count": 123,
   "metadata": {
    "deletable": false,
    "nbgrader": {
     "checksum": "63031739477800ab4790a96509c729b6",
     "grade": false,
     "grade_id": "cell-e6a78592cd416556",
     "locked": false,
     "schema_version": 1,
     "solution": true
    }
   },
   "outputs": [
    {
     "name": "stdout",
     "output_type": "stream",
     "text": [
      "23 spectra compute\n"
     ]
    }
   ],
   "source": [
    "import numpy as np\n",
    "from pyteomics import fasta, mass, parser\n",
    "\n",
    "def ComputeSpectrum(peptide):\n",
    "    peaks = []\n",
    "    for i in range(len(peptide)):\n",
    "        seq_b = sum([mass.calculate_mass(amino)-18 for amino in peptide[0:len(peptide)-i]])+1\n",
    "        seq_y = sum([mass.calculate_mass(amino)-18 for amino in peptide[i:]])+19\n",
    "        peaks.append(seq_b)\n",
    "        peaks.append(seq_y)\n",
    "#         seq_b = peptide[0:len(peptide)-i]\n",
    "#         seq_y = peptide[i:]\n",
    "#         peaks.append(mass.calculate_mass(sequence=seq_b, ion_type='b', charge=1))\n",
    "#         peaks.append(mass.calculate_mass(sequence=seq_y, ion_type='y', charge=1))\n",
    "    return sorted(peaks)\n",
    "\n",
    "def BuildDatabase(protein_data, minmass=0, maxmass=np.inf):\n",
    "    '''\n",
    "    -Take in a dictionary of protein name -> protein sequence\n",
    "    -Determine all tryptic peptides within a given mass range\n",
    "    -Outputs a dictionary of \"proteinname_peptideseq\" -> spectrum. Each \n",
    "    spectrum is a list of the m/z values for each peak.\n",
    "    '''\n",
    "    spectra = {}\n",
    "    for key,protein in zip(protein_data.keys(),protein_data.values()):\n",
    "        peptides = parser.cleave(protein,'trypsin')\n",
    "        \n",
    "        mass_thresh = []\n",
    "        for pep in peptides:\n",
    "            pep_mass = mass.calculate_mass(sequence=pep, ion_type='b', charge=1)-1\n",
    "            if pep_mass>=minmass and pep_mass<=maxmass:\n",
    "                mass_thresh.append(pep)\n",
    "            \n",
    "        for pep in mass_thresh:\n",
    "            spectra[f'{key}_{pep}'] = ComputeSpectrum(pep)\n",
    "            \n",
    "    return spectra\n",
    "\n",
    "# Get protein data\n",
    "protein_data = {}\n",
    "fastafile = \"/datasets/cs185s-sp19-public/week7/mouse_proteins.fa\"\n",
    "for name, sequence in fasta.read(open(fastafile)):\n",
    "    protein_data[name] = sequence\n",
    "    \n",
    "# Build database from proteins\n",
    "database_spectra = BuildDatabase(protein_data, minmass=900, maxmass=1100)\n",
    "\n",
    "print(\"%s spectra compute\"%len(database_spectra))"
   ]
  },
  {
   "cell_type": "code",
   "execution_count": 124,
   "metadata": {
    "deletable": false,
    "editable": false,
    "nbgrader": {
     "checksum": "1b678a8cfbbf21bda7dac5536a5b49b3",
     "grade": true,
     "grade_id": "correct-db",
     "locked": true,
     "points": 15,
     "schema_version": 1,
     "solution": false
    }
   },
   "outputs": [],
   "source": [
    "\"\"\"Check output of BuildDatabase\"\"\"\n",
    "test_protein_data = {\"test1\": \"AGGTYKLLLIIIRLLLWEK\", \"test2\": \"PEPTIDEK\"}\n",
    "test_db = BuildDatabase(test_protein_data)\n",
    "assert(len(test_db)==4) # number of peptides\n",
    "db_peptides = []\n",
    "for pep in test_db:\n",
    "    pepseq = pep.split(\"_\")[1]\n",
    "    db_peptides.append(pepseq)\n",
    "for pep in ['LLLWEK', 'LLLIIIR', 'AGGTYK', 'PEPTIDEK']:\n",
    "    assert(pep in db_peptides) # are all the peptides there?\n",
    "for pep in test_db:\n",
    "    assert(type(test_db[pep])==list)\n",
    "    assert(test_db[pep]==ComputeSpectrum(pep.split(\"_\")[1])) # does the db contain spectra in list format?"
   ]
  },
  {
   "cell_type": "markdown",
   "metadata": {
    "deletable": false,
    "editable": false,
    "nbgrader": {
     "checksum": "bc9dbfca0ae3b5214b5504ff2a8a40e5",
     "grade": false,
     "grade_id": "cell-0d066c6ebd237ee2",
     "locked": true,
     "schema_version": 1,
     "solution": false
    }
   },
   "source": [
    "### 1.2 Scoring matches\n",
    "\n",
    "\n",
    "Now that we have a database of peptides, we'll want a way to score how well our query spectrum matches each spectrum in the database.\n",
    "\n",
    "**Question 2 (10 pts)**: Implement `Score(my_spec,th_spec)` that scores how well your spectrum  (`my_spec`) matches a theoretical spectrum (`th_spec`). As above, here each spectrum is represented as a list of peak values (ignore intensities. But in the real world those also matter). Devise an appropriate metric. You may base this off of the lecture material or come up with your own metric. But scores should be between 0 and 1, where 1 means a perfect match.\n",
    "\n",
    "You should describe how your metric works in the cell below, then implement it in the cell after that."
   ]
  },
  {
   "cell_type": "markdown",
   "metadata": {
    "deletable": false,
    "nbgrader": {
     "checksum": "478e33f9dfd1c1012e22cd489f911f32",
     "grade": true,
     "grade_id": "cell-3f48259f8c9532b5",
     "locked": false,
     "points": 5,
     "schema_version": 1,
     "solution": true
    }
   },
   "source": [
    "I am using the metric of percent of peak overlap between theoretical and target. The metric takes the number of peaks matched from the theoretical to the target and divides by the larger total number of peaks in either the theoretical or the unknown. If all of the peaks match and they are the same length then it is simply the number of peaks in the target divided by the number of peaks in the target which is simply 1. To account for round off error or minor differences from mass calculations when comparing peaks I will allow for +-0.25 to be considered a match. I may need to adjust this threshold value depending on the results that I get later on."
   ]
  },
  {
   "cell_type": "code",
   "execution_count": 125,
   "metadata": {
    "deletable": false,
    "nbgrader": {
     "checksum": "af8401136ff3754eae0c983b02565191",
     "grade": false,
     "grade_id": "cell-de23a7eaaafd1300",
     "locked": false,
     "schema_version": 1,
     "solution": true
    }
   },
   "outputs": [
    {
     "name": "stdout",
     "output_type": "stream",
     "text": [
      "1.0\n",
      "0.0\n",
      "0.3333333333333333\n",
      "1.0\n"
     ]
    }
   ],
   "source": [
    "def Score(my_spec, th_spec):\n",
    "    score = -1; matches = 0\n",
    "    for th_peak in th_spec:\n",
    "        if any([abs(th_peak-peak)<0.25 for peak in my_spec]):\n",
    "            matches += 1\n",
    "    score = matches/len(th_spec)#max(len(my_spec),len(th_spec))\n",
    "    return score\n",
    "\n",
    "print(Score([100,200,300],[100,200,300]))\n",
    "print(Score([110,220,330],[100,200,300]))\n",
    "print(Score([100],[100,200,300]))\n",
    "print(Score([100,200,300],[100]))"
   ]
  },
  {
   "cell_type": "code",
   "execution_count": 126,
   "metadata": {
    "deletable": false,
    "editable": false,
    "nbgrader": {
     "checksum": "c807690369c106cc572d41ef58ce9df2",
     "grade": true,
     "grade_id": "correct-score",
     "locked": true,
     "points": 5,
     "schema_version": 1,
     "solution": false
    }
   },
   "outputs": [],
   "source": [
    "\"\"\"Test output of Score\"\"\"\n",
    "# Not comprehensive tests. Just make sure output makes some sense\n",
    "th_spec = [100,200,300]\n",
    "my_spec = [100,200,300]\n",
    "assert(Score(my_spec, th_spec)==1)\n",
    "my_spec = [1000,200,300]\n",
    "assert(Score(my_spec, th_spec)<1)\n",
    "assert(Score(my_spec, th_spec)>0)\n",
    "my_spec1 = [110,200,300]\n",
    "my_spec2 = [110,220,300]\n",
    "assert(Score(my_spec1, th_spec)>Score(my_spec2, th_spec))"
   ]
  },
  {
   "cell_type": "markdown",
   "metadata": {
    "deletable": false,
    "editable": false,
    "nbgrader": {
     "checksum": "50164a79c255dcbe522e29cf36d80e15",
     "grade": false,
     "grade_id": "cell-74fa7aa59c2f42e7",
     "locked": true,
     "schema_version": 1,
     "solution": false
    }
   },
   "source": [
    "### 1.3 Searching the database\n",
    "\n",
    "Now that we have a database and a scoring function, we will use these to determine which peptides in the database match our mystery peptide.\n",
    "\n",
    "**Question 3 (10 pts)**: Complete the function `SearchDatabase`, which takes as input your database, and a mystery spectrum,  and uses your scoring function to output a ranked list of matches in the database.\n",
    "\n",
    "(Note, this is not autograded. But the code at the bottom of the cell will make sure your function outputs data in the right formats and put the list of peptides and scores together into a pandas data frame)."
   ]
  },
  {
   "cell_type": "code",
   "execution_count": 127,
   "metadata": {
    "deletable": false,
    "nbgrader": {
     "checksum": "e967cb119d255ee92576ed96c9d5da49",
     "grade": true,
     "grade_id": "cell-a657f38d679b135e",
     "locked": false,
     "points": 10,
     "schema_version": 1,
     "solution": true
    }
   },
   "outputs": [
    {
     "data": {
      "text/html": [
       "<div>\n",
       "<style scoped>\n",
       "    .dataframe tbody tr th:only-of-type {\n",
       "        vertical-align: middle;\n",
       "    }\n",
       "\n",
       "    .dataframe tbody tr th {\n",
       "        vertical-align: top;\n",
       "    }\n",
       "\n",
       "    .dataframe thead th {\n",
       "        text-align: right;\n",
       "    }\n",
       "</style>\n",
       "<table border=\"1\" class=\"dataframe\">\n",
       "  <thead>\n",
       "    <tr style=\"text-align: right;\">\n",
       "      <th></th>\n",
       "      <th>ID</th>\n",
       "      <th>score</th>\n",
       "    </tr>\n",
       "  </thead>\n",
       "  <tbody>\n",
       "    <tr>\n",
       "      <th>1</th>\n",
       "      <td>test2</td>\n",
       "      <td>0.666667</td>\n",
       "    </tr>\n",
       "    <tr>\n",
       "      <th>0</th>\n",
       "      <td>test</td>\n",
       "      <td>0.000000</td>\n",
       "    </tr>\n",
       "  </tbody>\n",
       "</table>\n",
       "</div>"
      ],
      "text/plain": [
       "      ID     score\n",
       "1  test2  0.666667\n",
       "0   test  0.000000"
      ]
     },
     "execution_count": 127,
     "metadata": {},
     "output_type": "execute_result"
    }
   ],
   "source": [
    "import pandas as pd\n",
    "from pyteomics import mgf\n",
    "def SearchDatabase(database_spectra, target_spectrum):\n",
    "    match_items = [] # List of names of spectra in the database\n",
    "    match_scores = [] # list of scores for each spectra in the database\n",
    "   \n",
    "    for pep in database_spectra.keys():\n",
    "        match_items.append(pep)\n",
    "        match_scores.append(Score(target_spectrum,database_spectra[pep]))\n",
    "\n",
    "    assert(len(match_items)==len(match_scores))\n",
    "    data = {\"ID\": match_items, \"score\": match_scores}\n",
    "    return pd.DataFrame(data).sort_values(\"score\", ascending=False)\n",
    "\n",
    "# Test the function with dummy data\n",
    "database_spectra = {\"test\": [0,1,2],\"test2\": [100,200,300]}\n",
    "target_spectrum = [100,201,300]\n",
    "dbres = SearchDatabase(database_spectra, target_spectrum)\n",
    "assert(type(dbres)==pd.DataFrame)\n",
    "assert(dbres.shape[0] == 2)\n",
    "assert(dbres[\"ID\"].values[0]==\"test2\") # our spectrum matches most closely to \"test2\" in the mock database\n",
    "\n",
    "dbres.head()"
   ]
  },
  {
   "cell_type": "markdown",
   "metadata": {
    "deletable": false,
    "editable": false,
    "nbgrader": {
     "checksum": "65bd291389c07e83e3edfa3a05b6c945",
     "grade": false,
     "grade_id": "cell-404e76fe5d289d94",
     "locked": true,
     "schema_version": 1,
     "solution": false
    }
   },
   "source": [
    "**Question 4 (15 pts)**: Now, use the functions you've built to search for our mystery spectrum in the database. What peptide does it match most closely? Which protein did the peptide come from?\n",
    "\n",
    "You'll need to:\n",
    "* Use `BuildDatabase` to build a database from the given fastq file (there is already code to do this above).\n",
    "* Load the peak locations of the mystery peptide from the MGF file into a list.\n",
    "* Use `SearchDatabase` to search the mystery spectrum against the database you built.\n",
    "* You will want to narrow down your search by restricting the database based on the predicted mass of the mystery peptide (see the MGF file. but note the charge is +2). Or at least don't include super short peptides (e.g. 2 amino acids) in your answer. These typically wouldn't be profiled by MS anyway.\n",
    "\n",
    "Include your code for doing this below. In the cell below that one, describe your answer (describe your code in words, and also clearly state your answer for what peptide/protein this spectrum most likely came from)."
   ]
  },
  {
   "cell_type": "code",
   "execution_count": 129,
   "metadata": {
    "deletable": false,
    "nbgrader": {
     "checksum": "b4e16747bc2f023b2d5484d2099a73cb",
     "grade": true,
     "grade_id": "correct-db-real",
     "locked": false,
     "points": 10,
     "schema_version": 1,
     "solution": true
    },
    "scrolled": true
   },
   "outputs": [
    {
     "data": {
      "text/html": [
       "<div>\n",
       "<style scoped>\n",
       "    .dataframe tbody tr th:only-of-type {\n",
       "        vertical-align: middle;\n",
       "    }\n",
       "\n",
       "    .dataframe tbody tr th {\n",
       "        vertical-align: top;\n",
       "    }\n",
       "\n",
       "    .dataframe thead th {\n",
       "        text-align: right;\n",
       "    }\n",
       "</style>\n",
       "<table border=\"1\" class=\"dataframe\">\n",
       "  <thead>\n",
       "    <tr style=\"text-align: right;\">\n",
       "      <th></th>\n",
       "      <th>ID</th>\n",
       "      <th>score</th>\n",
       "    </tr>\n",
       "  </thead>\n",
       "  <tbody>\n",
       "    <tr>\n",
       "      <th>14</th>\n",
       "      <td>DHX9_MOUSE_LGGIGQFLAK</td>\n",
       "      <td>0.850000</td>\n",
       "    </tr>\n",
       "    <tr>\n",
       "      <th>3</th>\n",
       "      <td>NUCL_MOUSE_LELQGSNSR</td>\n",
       "      <td>0.611111</td>\n",
       "    </tr>\n",
       "    <tr>\n",
       "      <th>6</th>\n",
       "      <td>NUCL_MOUSE_GIAYIEFK</td>\n",
       "      <td>0.562500</td>\n",
       "    </tr>\n",
       "    <tr>\n",
       "      <th>11</th>\n",
       "      <td>DHX9_MOUSE_MSGEEAEIR</td>\n",
       "      <td>0.500000</td>\n",
       "    </tr>\n",
       "    <tr>\n",
       "      <th>20</th>\n",
       "      <td>DHX9_MOUSE_DFVNYLVR</td>\n",
       "      <td>0.500000</td>\n",
       "    </tr>\n",
       "    <tr>\n",
       "      <th>10</th>\n",
       "      <td>DHX9_MOUSE_GYGGGYFGQGR</td>\n",
       "      <td>0.454545</td>\n",
       "    </tr>\n",
       "    <tr>\n",
       "      <th>8</th>\n",
       "      <td>NUCL_MOUSE_VPQNPHGKPK</td>\n",
       "      <td>0.450000</td>\n",
       "    </tr>\n",
       "    <tr>\n",
       "      <th>4</th>\n",
       "      <td>NUCL_MOUSE_FAISELFAK</td>\n",
       "      <td>0.444444</td>\n",
       "    </tr>\n",
       "    <tr>\n",
       "      <th>0</th>\n",
       "      <td>EF1A1_MOUSE_IGGIGTVPVGR</td>\n",
       "      <td>0.409091</td>\n",
       "    </tr>\n",
       "    <tr>\n",
       "      <th>7</th>\n",
       "      <td>NUCL_MOUSE_GGGGDFKPQGK</td>\n",
       "      <td>0.409091</td>\n",
       "    </tr>\n",
       "    <tr>\n",
       "      <th>9</th>\n",
       "      <td>NUCL_MOUSE_VTLDWAKPK</td>\n",
       "      <td>0.388889</td>\n",
       "    </tr>\n",
       "    <tr>\n",
       "      <th>2</th>\n",
       "      <td>NUCL_MOUSE_NDLAVVDVR</td>\n",
       "      <td>0.388889</td>\n",
       "    </tr>\n",
       "    <tr>\n",
       "      <th>21</th>\n",
       "      <td>DHX9_MOUSE_LAHFEPSQR</td>\n",
       "      <td>0.388889</td>\n",
       "    </tr>\n",
       "    <tr>\n",
       "      <th>12</th>\n",
       "      <td>DHX9_MOUSE_YDNGSGYR</td>\n",
       "      <td>0.375000</td>\n",
       "    </tr>\n",
       "    <tr>\n",
       "      <th>13</th>\n",
       "      <td>DHX9_MOUSE_NNFGGDYR</td>\n",
       "      <td>0.375000</td>\n",
       "    </tr>\n",
       "    <tr>\n",
       "      <th>18</th>\n",
       "      <td>DHX9_MOUSE_MTPAYEIR</td>\n",
       "      <td>0.375000</td>\n",
       "    </tr>\n",
       "    <tr>\n",
       "      <th>17</th>\n",
       "      <td>DHX9_MOUSE_LNQYFQK</td>\n",
       "      <td>0.357143</td>\n",
       "    </tr>\n",
       "    <tr>\n",
       "      <th>15</th>\n",
       "      <td>DHX9_MOUSE_YGDGPRPPK</td>\n",
       "      <td>0.333333</td>\n",
       "    </tr>\n",
       "    <tr>\n",
       "      <th>1</th>\n",
       "      <td>EF1A1_MOUSE_LPLQDVYK</td>\n",
       "      <td>0.312500</td>\n",
       "    </tr>\n",
       "    <tr>\n",
       "      <th>5</th>\n",
       "      <td>NUCL_MOUSE_TSTWSGESK</td>\n",
       "      <td>0.277778</td>\n",
       "    </tr>\n",
       "    <tr>\n",
       "      <th>19</th>\n",
       "      <td>DHX9_MOUSE_GNYGGGGGGYR</td>\n",
       "      <td>0.272727</td>\n",
       "    </tr>\n",
       "    <tr>\n",
       "      <th>16</th>\n",
       "      <td>DHX9_MOUSE_NFLYAWCGK</td>\n",
       "      <td>0.222222</td>\n",
       "    </tr>\n",
       "    <tr>\n",
       "      <th>22</th>\n",
       "      <td>DHX9_MOUSE_LSMSQLNEK</td>\n",
       "      <td>0.222222</td>\n",
       "    </tr>\n",
       "  </tbody>\n",
       "</table>\n",
       "</div>"
      ],
      "text/plain": [
       "                         ID     score\n",
       "14    DHX9_MOUSE_LGGIGQFLAK  0.850000\n",
       "3      NUCL_MOUSE_LELQGSNSR  0.611111\n",
       "6       NUCL_MOUSE_GIAYIEFK  0.562500\n",
       "11     DHX9_MOUSE_MSGEEAEIR  0.500000\n",
       "20      DHX9_MOUSE_DFVNYLVR  0.500000\n",
       "10   DHX9_MOUSE_GYGGGYFGQGR  0.454545\n",
       "8     NUCL_MOUSE_VPQNPHGKPK  0.450000\n",
       "4      NUCL_MOUSE_FAISELFAK  0.444444\n",
       "0   EF1A1_MOUSE_IGGIGTVPVGR  0.409091\n",
       "7    NUCL_MOUSE_GGGGDFKPQGK  0.409091\n",
       "9      NUCL_MOUSE_VTLDWAKPK  0.388889\n",
       "2      NUCL_MOUSE_NDLAVVDVR  0.388889\n",
       "21     DHX9_MOUSE_LAHFEPSQR  0.388889\n",
       "12      DHX9_MOUSE_YDNGSGYR  0.375000\n",
       "13      DHX9_MOUSE_NNFGGDYR  0.375000\n",
       "18      DHX9_MOUSE_MTPAYEIR  0.375000\n",
       "17       DHX9_MOUSE_LNQYFQK  0.357143\n",
       "15     DHX9_MOUSE_YGDGPRPPK  0.333333\n",
       "1      EF1A1_MOUSE_LPLQDVYK  0.312500\n",
       "5      NUCL_MOUSE_TSTWSGESK  0.277778\n",
       "19   DHX9_MOUSE_GNYGGGGGGYR  0.272727\n",
       "16     DHX9_MOUSE_NFLYAWCGK  0.222222\n",
       "22     DHX9_MOUSE_LSMSQLNEK  0.222222"
      ]
     },
     "execution_count": 129,
     "metadata": {},
     "output_type": "execute_result"
    }
   ],
   "source": [
    "# Get protein data\n",
    "protein_data = {}\n",
    "fastafile = \"/datasets/cs185s-sp19-public/week7/mouse_proteins.fa\"\n",
    "for name, sequence in fasta.read(open(fastafile)):\n",
    "    protein_data[name] = sequence\n",
    "    #ComputeSpectrum(peptide)\n",
    "# Build database from proteins\n",
    "database_spectra = BuildDatabase(protein_data, minmass=900, maxmass=1100)\n",
    "\n",
    "#Load the peak locations of the mystery peptide from the MGF file into a list\n",
    "reader = mgf.read('/datasets/cs185s-sp19-public/week7/telomere_proteins_683.mgf')\n",
    "for spectrum in reader:\n",
    "    mz = spectrum[\"m/z array\"]\n",
    "    intensities = spectrum[\"intensity array\"]\n",
    "    level1 = spectrum['params'][\"pepmass\"][0]\n",
    "    level1_chrg = spectrum['params'][\"charge\"][0]\n",
    "    #minmass/maxmass range is adequate since pepmass is 502,\n",
    "    #but since its charge 2, to convert to charge 1 it is 1004.\n",
    "    #hence the range gives +-100\n",
    "    \n",
    "dbres = SearchDatabase(database_spectra, mz)\n",
    "dbres"
   ]
  },
  {
   "cell_type": "code",
   "execution_count": 133,
   "metadata": {},
   "outputs": [
    {
     "data": {
      "text/plain": [
       "{'DHX9_MOUSE_DFVNYLVR': [116.03750770753001,\n",
       "  175.11167570729998,\n",
       "  263.11648630421996,\n",
       "  274.19065430398996,\n",
       "  362.19546490090994,\n",
       "  387.28528296482,\n",
       "  476.24895702575,\n",
       "  550.35917618107,\n",
       "  639.322850242,\n",
       "  664.41266830591,\n",
       "  752.41747890283,\n",
       "  763.4916469026,\n",
       "  851.49645749952,\n",
       "  910.5706254992899,\n",
       "  1007.60813320682,\n",
       "  1025.60813320682],\n",
       " 'DHX9_MOUSE_GNYGGGGGGYR': [58.032028404269994,\n",
       "  172.08552052911,\n",
       "  175.11167570729998,\n",
       "  335.15941374536,\n",
       "  338.18556892354997,\n",
       "  392.19144214963,\n",
       "  395.21759732781993,\n",
       "  449.22347055390003,\n",
       "  452.24962573208995,\n",
       "  506.25549895817005,\n",
       "  509.2816541363599,\n",
       "  563.2875273624401,\n",
       "  566.31368254063,\n",
       "  620.31955576671,\n",
       "  623.3457109449,\n",
       "  677.35158417098,\n",
       "  680.3777393491699,\n",
       "  840.42547738723,\n",
       "  843.4516325654199,\n",
       "  957.5051246902599,\n",
       "  996.5371530945299,\n",
       "  1014.5371530945299],\n",
       " 'DHX9_MOUSE_GYGGGYFGQGR': [58.032028404269994,\n",
       "  175.11167570729998,\n",
       "  221.10592162051998,\n",
       "  232.14370411156997,\n",
       "  278.13795002479,\n",
       "  335.16997842905994,\n",
       "  360.2128463005499,\n",
       "  392.20200683332996,\n",
       "  417.24487470481995,\n",
       "  555.27590004958,\n",
       "  564.3238533015099,\n",
       "  702.35487864627,\n",
       "  727.39774651776,\n",
       "  759.3869070505399,\n",
       "  784.42977492203,\n",
       "  841.4618033262999,\n",
       "  887.4560492395199,\n",
       "  898.4938317305698,\n",
       "  944.4880776437899,\n",
       "  1061.56772494682,\n",
       "  1100.59975335109,\n",
       "  1118.59975335109],\n",
       " 'DHX9_MOUSE_LAHFEPSQR': [114.09462866083001,\n",
       "  175.11167570729998,\n",
       "  185.14230712924,\n",
       "  303.18081789627996,\n",
       "  322.21178367139004,\n",
       "  390.22341098425,\n",
       "  469.29076226808,\n",
       "  487.28673951679997,\n",
       "  598.34392003975,\n",
       "  616.33989728847,\n",
       "  695.4072485723,\n",
       "  763.4188758851599,\n",
       "  782.44984166027,\n",
       "  900.48835242731,\n",
       "  910.5189838492499,\n",
       "  971.5360308957199,\n",
       "  1066.63065955655,\n",
       "  1084.63065955655],\n",
       " 'DHX9_MOUSE_LGGIGQFLAK': [114.09462866083001,\n",
       "  147.10552769769998,\n",
       "  171.1266570651,\n",
       "  218.15320616610998,\n",
       "  228.15868546937,\n",
       "  331.24783482694,\n",
       "  341.2533141302,\n",
       "  398.28534253447003,\n",
       "  478.32681342362997,\n",
       "  526.35448472345,\n",
       "  606.3959556126099,\n",
       "  663.4279840168799,\n",
       "  673.4334633201399,\n",
       "  776.52261267771,\n",
       "  786.52809198097,\n",
       "  833.5546410819799,\n",
       "  857.57577044938,\n",
       "  890.58666948625,\n",
       "  985.68129814708,\n",
       "  1003.68129814708],\n",
       " 'DHX9_MOUSE_LNQYFQK': [114.09462866083001,\n",
       "  147.10552769769998,\n",
       "  228.14812078567002,\n",
       "  275.17466988667996,\n",
       "  356.21726297465,\n",
       "  422.25364848336994,\n",
       "  519.2911561909,\n",
       "  585.3275416996199,\n",
       "  666.3701347875899,\n",
       "  713.3966838885999,\n",
       "  794.4392769765699,\n",
       "  827.4501760134399,\n",
       "  922.5448046742699,\n",
       "  940.5448046742699],\n",
       " 'DHX9_MOUSE_LSMSQLNEK': [114.09462866083001,\n",
       "  147.10552769769998,\n",
       "  201.13722174880002,\n",
       "  276.15868546936997,\n",
       "  332.18827134549,\n",
       "  390.21217759420995,\n",
       "  419.23086443346006,\n",
       "  503.30680625504,\n",
       "  547.30000662244,\n",
       "  631.37594844402,\n",
       "  660.3946352832701,\n",
       "  718.4185415319898,\n",
       "  774.44812740811,\n",
       "  849.4695911286799,\n",
       "  903.5012851797801,\n",
       "  936.51218421665,\n",
       "  1031.60681287748,\n",
       "  1049.60681287748],\n",
       " 'DHX9_MOUSE_MSGEEAEIR': [132.05104959669,\n",
       "  175.11167570729998,\n",
       "  219.09364268466,\n",
       "  276.12567108893,\n",
       "  288.20630436812996,\n",
       "  405.1788288606,\n",
       "  417.2594621398,\n",
       "  488.30714060821,\n",
       "  534.23198663227,\n",
       "  605.2796651006801,\n",
       "  617.3602983798801,\n",
       "  734.3328228723501,\n",
       "  746.41345615155,\n",
       "  803.44548455582,\n",
       "  847.4274515331799,\n",
       "  890.4880776437899,\n",
       "  1003.53912724048,\n",
       "  1021.53912724048],\n",
       " 'DHX9_MOUSE_MTPAYEIR': [132.05104959669,\n",
       "  175.11167570729998,\n",
       "  233.1092927488,\n",
       "  288.20630436812996,\n",
       "  330.17262128134996,\n",
       "  401.22029974976,\n",
       "  417.2594621398,\n",
       "  564.29419296601,\n",
       "  580.3333553560499,\n",
       "  651.38103382446,\n",
       "  693.34735073768,\n",
       "  748.44436235701,\n",
       "  806.4419793985101,\n",
       "  849.50260550912,\n",
       "  962.5536551058099,\n",
       "  980.5536551058099],\n",
       " 'DHX9_MOUSE_NFLYAWCGK': [115.05349212484,\n",
       "  147.10552769769998,\n",
       "  204.13755610196998,\n",
       "  262.13247072153,\n",
       "  307.15730557038,\n",
       "  375.22709938236005,\n",
       "  493.24718320394,\n",
       "  538.30099259861,\n",
       "  564.29486167235,\n",
       "  609.3486710670201,\n",
       "  727.3687548885998,\n",
       "  795.43854870058,\n",
       "  840.4633835494301,\n",
       "  898.45829816899,\n",
       "  955.49032657326,\n",
       "  987.5423621461199,\n",
       "  1083.59585427096,\n",
       "  1101.59585427096],\n",
       " 'DHX9_MOUSE_NNFGGDYR': [115.05349212484,\n",
       "  175.11167570729998,\n",
       "  229.10698424968,\n",
       "  338.18556892354997,\n",
       "  376.18596284637,\n",
       "  433.21799125064,\n",
       "  453.22307663108,\n",
       "  490.25001965491003,\n",
       "  510.25510503534997,\n",
       "  567.28713343962,\n",
       "  605.2875273624401,\n",
       "  714.3661120363099,\n",
       "  768.3614205786901,\n",
       "  828.4196041611501,\n",
       "  924.47309628599,\n",
       "  942.47309628599],\n",
       " 'DHX9_MOUSE_YDNGSGYR': [164.07389321624999,\n",
       "  175.11167570729998,\n",
       "  279.11140092378,\n",
       "  338.18556892354997,\n",
       "  393.16489304862,\n",
       "  395.21759732781993,\n",
       "  450.19692145289,\n",
       "  482.26019041578996,\n",
       "  537.23951454086,\n",
       "  539.29221882006,\n",
       "  594.27154294513,\n",
       "  653.3457109449,\n",
       "  757.34543616138,\n",
       "  768.3832186524301,\n",
       "  913.4571118686799,\n",
       "  931.4571118686799],\n",
       " 'DHX9_MOUSE_YGDGPRPPK': [147.10552769769998,\n",
       "  164.07389321624999,\n",
       "  221.10592162051998,\n",
       "  244.16885623025,\n",
       "  336.14342932805,\n",
       "  341.2321847628,\n",
       "  393.17545773231996,\n",
       "  490.23878626487,\n",
       "  497.34386047009997,\n",
       "  594.4071890026501,\n",
       "  646.35046197217,\n",
       "  651.4392174069201,\n",
       "  743.41379050472,\n",
       "  766.4767251144499,\n",
       "  823.5087535187199,\n",
       "  840.47711903727,\n",
       "  968.58264673497,\n",
       "  986.58264673497],\n",
       " 'EF1A1_MOUSE_IGGIGTVPVGR': [114.09462866083001,\n",
       "  171.1266570651,\n",
       "  175.11167570729998,\n",
       "  228.15868546937,\n",
       "  232.14370411156997,\n",
       "  331.22268270826,\n",
       "  341.2533141302,\n",
       "  398.28534253447003,\n",
       "  428.28601124081,\n",
       "  499.34358568658,\n",
       "  527.3649898374999,\n",
       "  598.42256428327,\n",
       "  628.4232329896099,\n",
       "  685.4552613938799,\n",
       "  695.4858928158201,\n",
       "  794.5648714125101,\n",
       "  798.54989005471,\n",
       "  851.5968998167801,\n",
       "  855.58191845898,\n",
       "  912.61394686325,\n",
       "  1007.7085755240801,\n",
       "  1025.70857552408],\n",
       " 'EF1A1_MOUSE_LPLQDVYK': [114.09462866083001,\n",
       "  147.10552769769998,\n",
       "  211.15795719338,\n",
       "  310.17942091394997,\n",
       "  324.25258585421,\n",
       "  409.25839951063995,\n",
       "  452.32172804319,\n",
       "  524.29590721817,\n",
       "  567.35923575072,\n",
       "  652.36504940715,\n",
       "  666.43821434741,\n",
       "  765.4596780679799,\n",
       "  829.51210756366,\n",
       "  862.5230066005299,\n",
       "  957.61763526136,\n",
       "  975.61763526136],\n",
       " 'NUCL_MOUSE_FAISELFAK': [147.10552769769998,\n",
       "  148.07897859668998,\n",
       "  218.15320616610998,\n",
       "  219.12665706509998,\n",
       "  332.22128572593,\n",
       "  365.2321847628,\n",
       "  419.26387881389996,\n",
       "  478.32681342362997,\n",
       "  548.3170365855699,\n",
       "  607.3799711953,\n",
       "  661.4116652463999,\n",
       "  694.42256428327,\n",
       "  807.5171929441001,\n",
       "  808.4906438430899,\n",
       "  878.5648714125099,\n",
       "  879.5383223115,\n",
       "  1007.6438500091999,\n",
       "  1025.6438500092],\n",
       " 'NUCL_MOUSE_GGGGDFKPQGK': [58.032028404269994,\n",
       "  115.06405680853999,\n",
       "  147.10552769769998,\n",
       "  172.09608521280998,\n",
       "  204.13755610196998,\n",
       "  229.12811361707998,\n",
       "  332.20669829094993,\n",
       "  344.16562132461,\n",
       "  429.27002682349996,\n",
       "  491.2445999213,\n",
       "  557.3755545212,\n",
       "  619.350127619,\n",
       "  704.4545331178899,\n",
       "  716.4134561515499,\n",
       "  819.49204082542,\n",
       "  844.4825983405299,\n",
       "  876.52406922969,\n",
       "  901.5146267447999,\n",
       "  933.5560976339598,\n",
       "  990.58812603823,\n",
       "  1029.6201544424998,\n",
       "  1047.6201544424998],\n",
       " 'NUCL_MOUSE_GIAYIEFK': [58.032028404269994,\n",
       "  147.10552769769998,\n",
       "  171.1266570651,\n",
       "  242.17433553351,\n",
       "  294.18450629438996,\n",
       "  405.24822874975996,\n",
       "  423.23766406605995,\n",
       "  518.34285741059,\n",
       "  536.33229272689,\n",
       "  647.39601518226,\n",
       "  699.4061859431399,\n",
       "  770.4538644115498,\n",
       "  794.47499377895,\n",
       "  883.5484930723799,\n",
       "  922.5805214766499,\n",
       "  940.5805214766499],\n",
       " 'NUCL_MOUSE_LELQGSNSR': [114.09462866083001,\n",
       "  175.11167570729998,\n",
       "  243.1477864325,\n",
       "  262.15426879527,\n",
       "  356.24241509333,\n",
       "  376.20776092011,\n",
       "  463.25035400808,\n",
       "  484.31155728231,\n",
       "  520.28238241235,\n",
       "  541.34358568658,\n",
       "  628.38617877455,\n",
       "  648.3515246013299,\n",
       "  742.43967089939,\n",
       "  761.4461532621599,\n",
       "  829.48226398736,\n",
       "  890.4993110338299,\n",
       "  985.5939396946601,\n",
       "  1003.5939396946601],\n",
       " 'NUCL_MOUSE_NDLAVVDVR': [115.05349212484,\n",
       "  175.11167570729998,\n",
       "  230.09099983237002,\n",
       "  274.19065430398996,\n",
       "  343.18562849320006,\n",
       "  389.22816201152,\n",
       "  414.2333069616101,\n",
       "  488.30714060821,\n",
       "  513.3122855583001,\n",
       "  587.3861192049,\n",
       "  612.3912641549902,\n",
       "  658.43379767331,\n",
       "  727.4287718625202,\n",
       "  771.52842633414,\n",
       "  826.50775045921,\n",
       "  886.5659340416701,\n",
       "  982.61942616651,\n",
       "  1000.61942616651],\n",
       " 'NUCL_MOUSE_TSTWSGESK': [102.05824315211,\n",
       "  147.10552769769998,\n",
       "  189.10083624008,\n",
       "  234.14812078567,\n",
       "  290.15907939219,\n",
       "  363.20127855733995,\n",
       "  420.23330696160997,\n",
       "  476.24895702575,\n",
       "  507.27590004958,\n",
       "  563.29155011372,\n",
       "  620.32357851799,\n",
       "  693.3657776831401,\n",
       "  749.3767362896599,\n",
       "  794.4240208352501,\n",
       "  836.41932937763,\n",
       "  881.4666139232199,\n",
       "  964.5248570753299,\n",
       "  982.5248570753299],\n",
       " 'NUCL_MOUSE_VPQNPHGKPK': [100.07897859668999,\n",
       "  147.10552769769998,\n",
       "  197.14230712924,\n",
       "  244.16885623025,\n",
       "  325.21144931822,\n",
       "  372.27438392795,\n",
       "  429.30641233221996,\n",
       "  439.26494144306,\n",
       "  536.32826997561,\n",
       "  566.37588887437,\n",
       "  663.4392174069201,\n",
       "  673.3977465177601,\n",
       "  730.4297749220301,\n",
       "  777.49270953176,\n",
       "  858.53530261973,\n",
       "  905.5618517207399,\n",
       "  955.5986311522801,\n",
       "  1002.62518025329,\n",
       "  1083.70415884998,\n",
       "  1101.70415884998],\n",
       " 'NUCL_MOUSE_VTLDWAKPK': [100.07897859668999,\n",
       "  147.10552769769998,\n",
       "  201.1372217488,\n",
       "  244.16885623025,\n",
       "  314.23185040963,\n",
       "  372.27438392795,\n",
       "  429.26935811716,\n",
       "  443.32206239635997,\n",
       "  615.35923575072,\n",
       "  629.4119400299198,\n",
       "  686.40691421913,\n",
       "  744.4494477374499,\n",
       "  814.5124419168301,\n",
       "  857.5440763982799,\n",
       "  911.5757704493799,\n",
       "  958.6023195503899,\n",
       "  1039.6812981470798,\n",
       "  1057.6812981470798]}"
      ]
     },
     "execution_count": 133,
     "metadata": {},
     "output_type": "execute_result"
    }
   ],
   "source": [
    "database_spectra"
   ]
  },
  {
   "cell_type": "markdown",
   "metadata": {
    "deletable": false,
    "nbgrader": {
     "checksum": "ff2c08e5300d441f3e4efe92254b4985",
     "grade": true,
     "grade_id": "correct-db-real-desc",
     "locked": false,
     "points": 5,
     "schema_version": 1,
     "solution": true
    }
   },
   "source": [
    "To score the unkown peptide with database search first the database is created using the earlier function \"BuildDatabase\". This takes in the protein_data which is a dictinoary of the amino acid sequences. The thresholds for the max/min cutoffs is set. This value is determined by the level 1 mass/charge value which is indicated in the mgf file for the unkown peptide. It is important to pay attention to the charge value. Here it is a charge of +2 hence to covnert to what our sequence are made in we multiply by 2 in order to get the mass/charge with respect to a charge of +1. This 1004, hence the given thresholds of 900 and 1100 give +-100 which is a good threshold. The database is then sent to the database search which scores each theoretical level 1 peptide fragment against our mystery peptide and a given score is returned. The score is determined by the amount of overlap from the theoretical frament to the unknown. Using this method we see that the highest scoring peptide fragment is DHX9_MOUSE_LGGIGQFLAK. This is a fragment of amino acid sequence LGGIGQFLAK from the DHX9_MOUSE protein."
   ]
  },
  {
   "cell_type": "markdown",
   "metadata": {
    "deletable": false,
    "editable": false,
    "nbgrader": {
     "checksum": "37231db66136da36e44e447e249a1378",
     "grade": false,
     "grade_id": "cell-8e4f1e10f17fba16",
     "locked": true,
     "schema_version": 1,
     "solution": false
    }
   },
   "source": [
    "**Question 5 (3 pts)**: Finally, to visually determine whether this looks like a good match, plot the spectrum of your mystery peptide on the same plot as the theoretical spectrum of the top match."
   ]
  },
  {
   "cell_type": "code",
   "execution_count": 134,
   "metadata": {
    "deletable": false,
    "nbgrader": {
     "checksum": "e6bffa6da6c2ff5847913e543a62ea32",
     "grade": true,
     "grade_id": "correct-db-real-plot",
     "locked": false,
     "points": 3,
     "schema_version": 1,
     "solution": true
    }
   },
   "outputs": [
    {
     "data": {
      "text/plain": [
       "Text(0, 0.5, 'Intensity')"
      ]
     },
     "execution_count": 134,
     "metadata": {},
     "output_type": "execute_result"
    },
    {
     "data": {
      "image/png": "[encoded data removed]",
      "text/plain": [
       "<Figure size 432x216 with 1 Axes>"
      ]
     },
     "metadata": {
      "needs_background": "light"
     },
     "output_type": "display_data"
    }
   ],
   "source": [
    "fig = plt.figure()\n",
    "fig.set_size_inches((6, 3))\n",
    "ax = fig.add_subplot(111)\n",
    "\n",
    "for i in range(len(mz)):\n",
    "    ax.plot([mz[i],mz[i]], [0, intensities[i]], color=\"black\")\n",
    "    \n",
    "top = ComputeSpectrum('LGGIGQFLAK')\n",
    "for i in range(len(top)):\n",
    "    ax.plot([top[i],top[i]], [0, 1000], color=\"orange\")    \n",
    "\n",
    "ax.set_xlabel(\"m/z\")\n",
    "ax.set_ylabel(\"Intensity\")"
   ]
  },
  {
   "cell_type": "markdown",
   "metadata": {
    "deletable": false,
    "editable": false,
    "nbgrader": {
     "checksum": "47287e74bf17c4b0ebe6dbb852cea2c1",
     "grade": false,
     "grade_id": "cell-92f354b47b35d9e9",
     "locked": true,
     "schema_version": 1,
     "solution": false
    }
   },
   "source": [
    "**Question 6 (2 pts)**: You will see several peaks that are in the theoretical spectrum. but not in your real spectrum. Identify and explain at least one of these and why it might be missing. (e.g. \"b3 ion is missing because...\")"
   ]
  },
  {
   "cell_type": "code",
   "execution_count": 135,
   "metadata": {},
   "outputs": [
    {
     "name": "stdout",
     "output_type": "stream",
     "text": [
      "20\n"
     ]
    },
    {
     "data": {
      "text/plain": [
       "[114.09462866083001,\n",
       " 147.10552769769998,\n",
       " 171.1266570651,\n",
       " 218.15320616610998,\n",
       " 228.15868546937,\n",
       " 331.24783482694,\n",
       " 341.2533141302,\n",
       " 398.28534253447003,\n",
       " 478.32681342362997,\n",
       " 526.35448472345,\n",
       " 606.3959556126099,\n",
       " 663.4279840168799,\n",
       " 673.4334633201399,\n",
       " 776.52261267771,\n",
       " 786.52809198097,\n",
       " 833.5546410819799,\n",
       " 857.57577044938,\n",
       " 890.58666948625,\n",
       " 985.68129814708,\n",
       " 1003.68129814708]"
      ]
     },
     "execution_count": 135,
     "metadata": {},
     "output_type": "execute_result"
    }
   ],
   "source": [
    "print(len(top))\n",
    "top"
   ]
  },
  {
   "cell_type": "markdown",
   "metadata": {
    "deletable": false,
    "nbgrader": {
     "checksum": "559e6b30e883390903cfe3c680347406",
     "grade": true,
     "grade_id": "cell-b12e199ec64e3f6b",
     "locked": false,
     "points": 2,
     "schema_version": 1,
     "solution": true
    }
   },
   "source": [
    "The majority of the missing values come at both of the extreme ends of the spectrum. It appears that b1, y1, and b10 are missing from the real spectrum. This could happen due to the way that the level 2 spectrum is created or the CID fragmentation. It could be that these fragments are more unlikely to occur though the CID fragmentation and hence they do not appear in the real data. It could also be that they do occur but in very low numbers such that when the data is thresholded those values are lost."
   ]
  },
  {
   "cell_type": "markdown",
   "metadata": {
    "deletable": false,
    "editable": false,
    "nbgrader": {
     "checksum": "5d3be4af442ce3a41b746e08ad826f67",
     "grade": false,
     "grade_id": "cell-cdc0c44b9059c56f",
     "locked": true,
     "schema_version": 1,
     "solution": false
    }
   },
   "source": [
    "**Question 7 (2 pts)**: You will also see many peaks in the real data that are not present in the theoretical spectrum. Identify at least one of these and explain where it came from."
   ]
  },
  {
   "cell_type": "markdown",
   "metadata": {
    "deletable": false,
    "nbgrader": {
     "checksum": "1951eeb033ad82aedadedd7f014a7459",
     "grade": true,
     "grade_id": "cell-a00c06ca3bef5291",
     "locked": false,
     "points": 2,
     "schema_version": 1,
     "solution": true
    }
   },
   "source": [
    "The peak values that are in the real data but not in the theoretical data could just come from noise. Where certain fragment measurments are slightly off. Furthermore the additional peaks could come from post translation modifications on the protein that we are unaware of in the theoretical values. These ptms will very much add additional peaks."
   ]
  },
  {
   "cell_type": "markdown",
   "metadata": {
    "deletable": false,
    "editable": false,
    "nbgrader": {
     "checksum": "e69ef90ef27223488793f3254715246c",
     "grade": false,
     "grade_id": "cell-3097909e55b6ebb0",
     "locked": true,
     "schema_version": 1,
     "solution": false
    }
   },
   "source": [
    "## 2. Performing database search with existing tools\n",
    "\n",
    "Now that we have an idea of how database search works, we will try out a widely used tool, Mascot, for searching spectra against a database. In theory this works similar to our toy example above, with some important differences. For example: it has much larger databases and also takes into account many possible protein modifications that can heavily influence the answer.\n",
    "\n",
    "In this part we will:\n",
    "* 2.1: Use Mascot to check our answer from part 1 (question 8).\n",
    "* 2.2: Use Mascot to query a list of spectra from the telomere experiment (quetions 9-10).\n",
    "\n",
    "### 2.1 Check our answer with mascot\n",
    "\n",
    "Mascot is implemented as a web application, where we can upload a spectrum or spectra of interest to search against many possible databases. We will first use this to check our answer from part 1.\n",
    "\n",
    "You will need to download the mystery spectrum `telomere_proteins_683.mgf` file to your local computer. Then, navigate to: http://www.matrixscience.com/cgi/search_form.pl?FORMVER=2&SEARCH=MIS (you may need to register your email the first time you do this).\n",
    "\n",
    "To search, enter:\n",
    "* Your name, email, and a search title\n",
    "* Select the SwissProt database and \"contaminants\"\n",
    "* Set the taxonomy to Mus Musculus.\n",
    "* Set the digestion enzyme to trypsin\n",
    "* Set peptide charge to 2+ or 3+.\n",
    "* Check monoisotopic.\n",
    "* Upload your mystery `.mgf` file.\n",
    "Click \"search\".\n",
    "\n",
    "**Question 8 (4 pts)**: Use Mascot as described above to query our mystery peptide. What was the top hit on mascot? What was its score? Does this match what you expected?"
   ]
  },
  {
   "cell_type": "markdown",
   "metadata": {
    "deletable": false,
    "nbgrader": {
     "checksum": "823d42cdebbc666471bcdaf6c4f0d938",
     "grade": true,
     "grade_id": "cell-39fbec5cad5ec012",
     "locked": false,
     "points": 4,
     "schema_version": 1,
     "solution": true
    }
   },
   "source": [
    "The top hit on mascot is DHX9_MOUSE with peptide R.LGGIGQFLAK.A. This matches what we got from part 1. The score for this hit is 71 from mascot. This score is lower than the score achieved from our results. This probably occurs because the mascot scoring system is more complex. It takes into account more factors such as contaminants or protein modifications."
   ]
  },
  {
   "cell_type": "markdown",
   "metadata": {
    "deletable": false,
    "editable": false,
    "nbgrader": {
     "checksum": "b94196632d5aa96344177bbff4b8ee27",
     "grade": false,
     "grade_id": "cell-a9dc330b71899a80",
     "locked": true,
     "schema_version": 1,
     "solution": false
    }
   },
   "source": [
    "### 2.2 Mascot database search\n",
    "\n",
    "Now, use Mascot to search for our whole library of spectra in `telomere_proteins.mgf` to identify proteins in our sample. You'll want to use the following mascot settings:\n",
    "\n",
    "* Your name, email, and a search title\n",
    "* Select the SwissProt database and \"contaminants\"\n",
    "* Set the taxonomy to Mus Musculus.\n",
    "* Set the digestion enzyme to trypsin\n",
    "* Set peptide charge to 2+ or 3+.\n",
    "* Add \"variable modifications\": Oxidation (M), Acetyl (N-term). These are common modifications to amino acids. The more modifications you allow, the greater the search space (and run time) becomes.\n",
    "* Peptide mass tolerance: +/- 10ppm (count a peak match if the m/z ratio is within 10 parts per million of the database peak).\n",
    "* Fragment mass tolerance: +/- 0.8 Da (only look for peptides within this range of the mass of our peptide).\n",
    "* Max missed cleavages: 5 (sometimes, trypsin misses a \"K\" or \"R\").\n",
    "* Check monoisotopic.\n",
    "* Upload `telomere_proteins.mgf` and click \"search\"\n",
    "\n",
    "**Question 9 (4 pts)**: What was the top hit? Do you think this is an artifact, or an actual protein binding to telomeres?"
   ]
  },
  {
   "cell_type": "markdown",
   "metadata": {
    "deletable": false,
    "nbgrader": {
     "checksum": "f94649a63683eeaec93d8ae9d29e076d",
     "grade": true,
     "grade_id": "cell-67e26e793a271626",
     "locked": false,
     "points": 4,
     "schema_version": 1,
     "solution": true
    }
   },
   "source": [
    "The top hit or highest scoring protein found is actually Trypsin. This is an artifact since Trypsin is a protease or an enzyme. This is what is used to fragment the amino acid chains. Hence the Trypsin is just an artifact of the fragmentation process. The database knows this and already labels this as a contaminant."
   ]
  },
  {
   "cell_type": "markdown",
   "metadata": {
    "deletable": false,
    "editable": false,
    "nbgrader": {
     "checksum": "660bda70d3d24bed0734d1afc426408a",
     "grade": false,
     "grade_id": "cell-a5ef77d6a3027b0c",
     "locked": true,
     "schema_version": 1,
     "solution": false
    }
   },
   "source": [
    "**Question 10 (5 pts)**: What are the top five scoring proteins (not contaminants)? How many peptides from the sample map to each of these proteins? Briefly investigate what these proteins do. Does it make sense that we found them in our sample of proteins isolated from telomere regions?"
   ]
  },
  {
   "cell_type": "markdown",
   "metadata": {
    "deletable": false,
    "nbgrader": {
     "checksum": "2a6a978c29f577efa492540300dd9c9b",
     "grade": true,
     "grade_id": "cell-4665d88117e724e5",
     "locked": false,
     "points": 5,
     "schema_version": 1,
     "solution": true
    }
   },
   "source": [
    "The top five scoring proteins are:\n",
    "* NUCL_MOUSE with 7 matches\n",
    "    * We see that this protein is associated when DNA is translated into RNA. Has some telemoere interactinos.\n",
    "    * From https://www.uniprot.org/uniprot/P09405 Nucleolin is the major nucleolar protein of growing eukaryotic cells. It is found associated with intranucleolar chromatin and pre-ribosomal particles. It induces chromatin decondensation by binding to histone H1. It is thought to play a role in pre-rRNA transcription and ribosome assembly. May play a role in the process of transcriptional elongation. Binds RNA oligonucleotides with 5'-UUAGGG-3' repeats more tightly than the telomeric single-stranded DNA 5'-TTAGGG-3' repeats \n",
    "* DHX9_MOUSE with 4 matches\n",
    "    * We see that this protein is associated with DNA processes which many come across processes dealing with telemere regions.\n",
    "    * from https://www.uniprot.org/uniprot/O70133 Multifunctional ATP-dependent nucleic acid helicase that unwinds DNA and RNA in a 3' to 5' direction and that plays important roles in many processes, such as DNA replication, transcriptional activation, post-transcriptional RNA regulation, mRNA translation and RNA-mediated gene silencing\n",
    "* TR150_MOUSE with 5 matches\n",
    "    * Thyroid hormone receptor-associated protein 3 OS=Mus musculus OX=10090 GN=Thrap3 PE=1 SV=1\n",
    "* EF1A1_MOUSE with 4 matches\n",
    "    * Associated with elongation \n",
    "    * Elongation factor 1-alpha 1 OS=Mus musculus OX=10090 GN=Eef1a1 PE=1 SV=3\n",
    "* PRP8_MOUSE with 8 matches\n",
    "    * Pre-mRNA-processing-splicing factor 8 OS=Mus musculus OX=10090 GN=Prpf8 PE=1 SV=2\n",
    "    * https://www.uniprot.org/uniprot/Q99PV0 Functions as scaffold that positions spliceosomal U2, U5 and U6 snRNAs at splice sites on pre-mRNA substrates, so that splicing can occur. Interacts with both the 5' and the 3' splice site\n",
    "    \n",
    "It makes sense to see these proteins since the majority of them deal with processes of DNA alteration such as translation, elongation, scaffolding, chromatin interactions. All of these processes are likely to deal with telemere regions if the chromosomes are to be unwound from their condensed form or deal with unwinding or splicing of DNA. "
   ]
  }
 ],
 "metadata": {
  "kernelspec": {
   "display_name": "Python 3",
   "language": "python",
   "name": "python3"
  },
  "language_info": {
   "codemirror_mode": {
    "name": "ipython",
    "version": 3
   },
   "file_extension": ".py",
   "mimetype": "text/x-python",
   "name": "python",
   "nbconvert_exporter": "python",
   "pygments_lexer": "ipython3",
   "version": "3.6.7"
  }
 },
 "nbformat": 4,
 "nbformat_minor": 2
}
