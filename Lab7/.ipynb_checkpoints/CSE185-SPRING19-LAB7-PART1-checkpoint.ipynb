{
 "cells": [
  {
   "cell_type": "markdown",
   "metadata": {
    "deletable": false,
    "editable": false,
    "nbgrader": {
     "checksum": "22898d9113f01d821dc4f45a7d653212",
     "grade": false,
     "grade_id": "cell-05a62c92e0a6807e",
     "locked": true,
     "schema_version": 1,
     "solution": false
    }
   },
   "source": [
    "# Week 7 Lab: Proteomics\n",
    "\n",
    "## Part 1: De novo peptide sequencing\n",
    "**Due: Monday 5/20/19 11:59PM**\n",
    "\n",
    "Skills covered: mass spectrometry, de novo peptide identification\n",
    "\n",
    "<br><font color=\"red\">**REMINDER**: If you haven't already, please identify who you will be working with for the final project on the Google sheet (link sent on Piazza). Remember proposals are due end of next week!\n",
    "</font>\n",
    "\n",
    "<br><font color=\"red\">**NOTE**: This week is a \"mini-lab\" with no prelab! There are two notebooks to complete. (part 1 = 30 pts, part 2 = 70 pts)\n",
    "</font>\n",
    "\n",
    "Lab 7 is a gentle introduction to proteomics analysis of mass spectrometry (mass spec) data. In part 1 of the lab, we will explore how to use mass spec for sequencing peptides. Part 1 uses simulated or toy data examples. In part 2, we'll consider how to perform database search to identify what protein a spectrum comes from based on comparing to a database of possible spectra. Part 2 uses real spectra (which you'll see are messier than theoretical spectra!)\n",
    "\n",
    "For part 1 (de novo peptide sequencing), we will consider two directions:\n",
    "1. Peptide->spectra (easy): we will compute the spectrum of a known peptide to better understand the underlying data coming from a tandem mass spec experiment.\n",
    "2. Spectra->peptide (hard): we will then try to go the other direction: starting with a spectrum, what was the peptide used to generate it? Doing this without the help of a database is called *de novo peptide sequencing* (as opposed to database searching, see part 2).\n",
    "\n",
    "You'll work on writing methods yourself to complete both of these tasks, but can then check your answers with existing tools.\n",
    "\n",
    "### Summary of tools covered\n",
    "In this lab we'll be using or referring to the following tools:\n",
    "\n",
    "* [pyteomics](https://pyteomics.readthedocs.io/en/latest/): a Python library for performing various types of proteomics analyses. Used in parts 1 and 2.\n",
    "* [mascot](http://www.matrixscience.com/cgi/search_form.pl?FORMVER=2&SEARCH=MIS): a tool for performing database search on mass spectra. Used in part 2.\n",
    "\n",
    "You may also find the [PRIDE Inspector](https://github.com/PRIDE-Toolsuite/pride-inspector) tool useful (kind of like IGV but for mass spec data). While we do not explicitly require using it, it is a convenient way to visually explore spectra in your data. You can directly load mgf files we use here to the inspector.\n",
    "\n",
    "### Summary of data provided\n",
    "Data for this week can be found in `/datasets/cs185s-sp19-public/week7`. Only one file will be used for part I:\n",
    "\n",
    "* `spectrum.mgf`: The spectrum (simulated data) for which you will try to identify the peptide it came from"
   ]
  },
  {
   "cell_type": "markdown",
   "metadata": {
    "deletable": false,
    "editable": false,
    "nbgrader": {
     "checksum": "69d900b4b1432c47a8725b09344230a0",
     "grade": false,
     "grade_id": "cell-2e2905b4e8fd4458",
     "locked": true,
     "schema_version": 1,
     "solution": false
    }
   },
   "source": [
    "## 0. Review + resources on how to go from peptide -> spectrum\n",
    "\n",
    "As a refresher from lecture, we'll go through how to generate the peptide of an example peptide for a particular charge.\n",
    "\n",
    "It is a good idea to keep referring to the diagram below as you build up your spectra:\n",
    "\n",
    "<img src=\"peptide_seq_example.png\" width=300>\n",
    "\n",
    "We'll use the following table of masses for each amino acid. To avoid hard-coding these, you can also use the `pyteomics` library as described below.\n",
    "\n",
    "| Mass shift (Da) | Name | Abbreviation |\n",
    "|-----------------|-------|------------|\n",
    "|57.021464|Glycine|G|\n",
    "|71.037114|Alanine|A|\n",
    "|87.032028|Serine|S|\n",
    "|97.052764|Proline|P|\n",
    "|99.068414|Valine|V|\n",
    "|101.047679|Threonine|T|\n",
    "|103.009185|Cysteine|C|\n",
    "|113.084064|Isoleucine|I|\n",
    "|113.0841|Leucine|L|\n",
    "|114.042927|Asparagine|N|\n",
    "|115.02694|Aspartic acid|D|\n",
    "|128.058578|Glutamine|Q|\n",
    "|128.094963|Lysine|K|\n",
    "|129.04259|Glutamic acid|E|\n",
    "|131.040485|Methionine|M|\n",
    "|137.05891|Histidine|H|\n",
    "|147.068414|Phenylalanine|F|\n",
    "|156.10111|Arginine|R|\n",
    "|163.063329|Tyrosine|Y|\n",
    "|186.079313|Tryptophan|W|\n",
    "\n",
    "Note some amino acids have very similar masses! e.g., Isoleucine and Leucine will be pretty impossible for us to tell apart! Also, Asparagine is pretty close to 2 * Glycine. So we won't be able to completely resolve some sequences.\n",
    "\n",
    "In addition to these masses, we'll have to adjust for a mass of 1 (extra H atom) for the N-terminal amino acid (farthest right amino acid in the y-series, farthest left in the b-series) and 19 (extra OH group plus 2 extra hydrogens) for the C-terminal amino acid (fatherest left in the y-series, farthest right in the b-series).\n",
    "\n",
    "Let's go through a really simple example peptide: SGEK. We can fill in the masses we expect using the following table. For the b-series, we'll work from the top to the bottom of the table. For the y-series, you should work from the bottom to the top.\n",
    "\n",
    "| Amino acid | Position (b-series) | Position (y-series) | Peak (b) | Peak (y) |\n",
    "|---|----|----|---|---|\n",
    "| S | 1| 4| Mass(S)+1 = 88| 333+Mass(S)=333+87=420|\n",
    "| G | 2 | 3 | 88+Mass(G) = 88+57=145| 276+Mass(G)=276+57=333|\n",
    "| E | 3 | 2 | 145+Mass(E) = 145+129=274| 147+Mass(E)=147+129=276|\n",
    "| K | 4 | 1 | 274+Mass(K) = 274+128=402| Mass(K)+19=147|\n",
    "\n",
    "Thus from this peptide assuming a charge of 1 we would get peaks at: 88, 145, 147, 274, 276, 333, 402, 420.\n",
    "Note, $b_1$ ions are rarely seen, so we probably wouldn't see a peak at 88. Depending on the technology used, some peaks at the lower end may not be seen (e.g. below 200 m/z ratio).\n",
    "\n",
    "You can use online tools like [FragIonServlet](http://db.systemsbiology.net:8080/proteomicsToolkit/FragIonServlet.htm) to check our reults. This site let's you input a peptide and get out peaks based on a specified ion series and charge. Try it out to check our answer above!"
   ]
  },
  {
   "cell_type": "markdown",
   "metadata": {
    "deletable": false,
    "editable": false,
    "nbgrader": {
     "checksum": "3fb48e3e5e220e858fa90c92195e5392",
     "grade": false,
     "grade_id": "cell-1cf6a2a4d6c6cf35",
     "locked": true,
     "schema_version": 1,
     "solution": false
    }
   },
   "source": [
    "## 1. Constructing a peptide from a spectrum\n",
    "\n",
    "In this section, we will write a function to compute the spectrum of a singly charged peptide. We will use our function to compute the theoretical spectrum for a peptide: **SGFLEEDELK**.\n",
    "\n",
    "**Question 1 (10 pts)**: Complete the function `ComputeSpectrum(peptide)` which should compute the peak values you would expect from the combination of the y- and b- ion series. Assume a charge of 1 for all ions. \n",
    "\n",
    "Note, to avoid having to hardcode mass values of amino acids the function `mass.calculate_mass(X)` will compute the mass of amino acid X. e.g. to get the same values as in the table above:\n",
    "\n",
    "```python\n",
    "from pyteomics import mass\n",
    "mass.calculate_mass(\"S\") - 18 # for S=serine. should give 87.04, same as table above\n",
    "```\n",
    "\n",
    "If you want to use the `pyteomics`, you'll first have to run `pip install --user pyteomics` at the command line to install it.\n",
    "\n",
    "You may use several sources to check your answers:\n",
    "\n",
    "* http://db.systemsbiology.net:8080/proteomicsToolkit/FragIonServlet.html: let's you input a peptide and get out peaks based on a specified ion series and charge.\n",
    "* The autograder will test your answer for \"SGEK\" above and for \"SGFLEEDELK\"."
   ]
  },
  {
   "cell_type": "code",
   "execution_count": 1,
   "metadata": {
    "deletable": false,
    "nbgrader": {
     "checksum": "2064b6e39004f98579c5a472fb2eb14d",
     "grade": false,
     "grade_id": "cell-1e34eb1c653626a4",
     "locked": false,
     "schema_version": 1,
     "solution": true
    }
   },
   "outputs": [
    {
     "name": "stdout",
     "output_type": "stream",
     "text": [
      "[88.04259308797, 145.07462149224, 147.10552769769998, 274.12777926391, 276.15868546936997, 333.19071387364, 402.23330696160997, 420.23330696160997]\n"
     ]
    }
   ],
   "source": [
    "from pyteomics import mass\n",
    "\n",
    "def ComputeSpectrum(peptide):\n",
    "    peaks = []\n",
    "    for i in range(len(peptide)):\n",
    "        seq_b = sum([mass.calculate_mass(amino)-18 for amino in peptide[0:len(peptide)-i]])+1\n",
    "        seq_y = sum([mass.calculate_mass(amino)-18 for amino in peptide[i:]])+19\n",
    "        peaks.append(seq_b)\n",
    "        peaks.append(seq_y)\n",
    "#         seq_b = peptide[0:len(peptide)-i]\n",
    "#         seq_y = peptide[i:]\n",
    "#         peaks.append(mass.calculate_mass(sequence=seq_b, ion_type='b', charge=1))\n",
    "#         peaks.append(mass.calculate_mass(sequence=seq_y, ion_type='y', charge=1))\n",
    "    return sorted(peaks)\n",
    "\n",
    "print(ComputeSpectrum(\"SGEK\"))\n",
    "#print(ComputeSpectrum(\"SGFLEEDELK\"))"
   ]
  },
  {
   "cell_type": "code",
   "execution_count": 2,
   "metadata": {
    "deletable": false,
    "editable": false,
    "nbgrader": {
     "checksum": "9f73944d28d8b291599a9be539bb34ff",
     "grade": true,
     "grade_id": "correct-spectra",
     "locked": true,
     "points": 10,
     "schema_version": 1,
     "solution": false
    }
   },
   "outputs": [],
   "source": [
    "\"\"\" Check output of ComputeSpectrum\"\"\"\n",
    "true_SGEK = sorted([88.03935,145.06081,274.10341,402.19837,420.20893,333.17691,276.15544,147.11285])\n",
    "test_SGEK = ComputeSpectrum(\"SGEK\")\n",
    "assert(len(test_SGEK)==len(true_SGEK))\n",
    "for i in range(len(test_SGEK)):\n",
    "    assert(round(test_SGEK[i])==round(true_SGEK[i]))\n",
    "    \n",
    "true_SGFLEEDELK = sorted([88.04259308797, 145.07462149224, 147.10552769769998, 260.20015635852997, 292.15360008893, 389.25331413019995, 405.24822874975996, 504.29082183772994, 534.30138652143, 633.3439796093999, 663.3545442930999, 762.3971373810698, 778.39205200063, 875.4917660418998, 907.4452097722999, 1020.53983843313, 1022.5707446385898, 1079.6027730428598, 1148.6453661308299, 1166.6453661308299])\n",
    "test_SGFLEEDELK = ComputeSpectrum(\"SGFLEEDELK\")\n",
    "assert(len(test_SGFLEEDELK)==len(true_SGFLEEDELK))\n",
    "for i in range(len(test_SGFLEEDELK)):\n",
    "    assert(round(test_SGFLEEDELK[i])==round(true_SGFLEEDELK[i]))"
   ]
  },
  {
   "cell_type": "markdown",
   "metadata": {
    "deletable": false,
    "editable": false,
    "nbgrader": {
     "checksum": "114bef3d2c476c6a5247179a75b67b2a",
     "grade": false,
     "grade_id": "cell-c1731bf563273955",
     "locked": true,
     "schema_version": 1,
     "solution": false
    }
   },
   "source": [
    "## 2. De novo peptide sequencing\n",
    "\n",
    "Now that we've seen how to go from peptide to spectrum, we'll work on going the other way around. This is much harder!\n",
    "\n",
    "We have provided an example spectrum in `spectrum.mgf` in the week7 directory. This is the theoretical spectrum of a tryptic peptide. Your goal is to determine what peptide was used to make this spectrum!\n",
    "\n",
    "The spectrum is given as an \"mgf\" file. Take a look at the file. The format is simple: mostly just a list of peaks (column 1) and their intensities (column 2). The first several lines give a name for the spectrum, the charge of the precursor ion, and the m/z value of the precursor ion. Note, you can put several spectra in the same mgf file, bookending each one with `BEGIN IONS` and `END IONS`. This file contains only a single spectrum.\n",
    "\n",
    "The code below shows how to plot the spectrum, using pyteomics to parse the mgf file:"
   ]
  },
  {
   "cell_type": "code",
   "execution_count": 3,
   "metadata": {
    "deletable": false,
    "editable": false,
    "nbgrader": {
     "checksum": "0c8ce060ac248715eb6dd4411eb10bf5",
     "grade": false,
     "grade_id": "cell-459eefd4305d274c",
     "locked": true,
     "schema_version": 1,
     "solution": false
    }
   },
   "outputs": [
    {
     "name": "stdout",
     "output_type": "stream",
     "text": [
      "Populating the interactive namespace from numpy and matplotlib\n"
     ]
    },
    {
     "data": {
      "image/png": "[encoded data removed]",
      "text/plain": [
       "<Figure size 432x288 with 1 Axes>"
      ]
     },
     "metadata": {
      "needs_background": "light"
     },
     "output_type": "display_data"
    }
   ],
   "source": [
    "%pylab inline\n",
    "from pyteomics import mgf\n",
    "\n",
    "def PlotSpectrum(mz, intensities):\n",
    "    fig = plt.figure()\n",
    "    ax = fig.add_subplot(111)\n",
    "    for i in range(len(mz)):\n",
    "        ax.plot([mz[i],mz[i]], [0, intensities[i]], color=\"black\")\n",
    "    ax.set_ylim(bottom=0, top=100)\n",
    "    ax.set_xlabel(\"m/z\")\n",
    "    ax.set_ylabel(\"Intensity\")\n",
    "\n",
    "reader = mgf.read('/datasets/cs185s-sp19-public/week7/spectrum.mgf')\n",
    "for spectrum in reader:\n",
    "    mz = spectrum[\"m/z array\"]\n",
    "    intensities = spectrum[\"intensity array\"]\n",
    "    PlotSpectrum(mz, intensities)"
   ]
  },
  {
   "cell_type": "markdown",
   "metadata": {
    "deletable": false,
    "editable": false,
    "nbgrader": {
     "checksum": "9f360c0ca907ecb678dd70546c019d14",
     "grade": false,
     "grade_id": "cell-ac3a592d8d0f7131",
     "locked": true,
     "schema_version": 1,
     "solution": false
    }
   },
   "source": [
    "**Question 2 (20 pts)**: Figure out the sequence of the peptide used to generate this spectrum! Show your work below. Some notes:\n",
    "\n",
    "* Only b and y ions are provided. This is a theoretical spectrum, so all ions are present.\n",
    "* The peptide has a +1 charge, so m/z values correspond to the mass of each fragment.\n",
    "* This is a tryptic peptide, so it will end with either a \"K\" or an \"R\".\n",
    "* Since this is a perfect spectrum, all peaks are present, and you can already tell how long the peptide is (number of peaks/2).\n",
    "\n",
    "We walked through this manually to figure it out. You can also try to find a tool to check your answer. You'll know you if got the answer right (it should spell an actual word).\n",
    "\n",
    "The following steps can serve as a guide:\n",
    "\n",
    "**Make a table**\n",
    "Make a table to assign each peak to the corresponding ion (e.g. b1, b2, y1, y2, etc.) so you can keep track of which peaks have been assigned and which haven't. An example table has been started below.\n",
    "\n",
    "**Following the \"b\" ion series**\n",
    "* Look for the last (“C” terminal) amino acid, which is usually either lysine (K, “y” peak at 147) or arginine (R, “y” peak at 175). Once you know the last amino acid, you can find the last \"b\" peak at (parent mass-18-mass(K)) or (parent mass-18-mass(R)).\n",
    "* Look for the next “b” ion in the series by calculating the next peak for every possible amino acid.\n",
    "* Every time you find a “b” peak, also calculate the corresponding “y” peak in the other direction.\n",
    "\n",
    "**Following the “y” ion series**\n",
    "* After following “b” ions, you should have some “y” filled in.\n",
    "* Similarly to for “b” ions, for a given “y” peak calculate all possible shifts and determine which amino acid shift the next peak corresponds to.\n",
    "\n",
    "**Example table:**\n",
    "\n",
    "We see a characteristic peak at ~147, so you can be pretty sure that is the $y_1$ ion (corresponding to the last amino acid). You can also be pretty sure the peaks before that are $b$ ions. Since all peaks are present, the lass peak corresponds to the last $y$ ion. As you assign the peaks, you can figure out the sequence for each position based on the offset between peaks in each series.\n",
    "\n",
    "| Peak | assignment | amino acid |\n",
    "|----|-----|---|\n",
    "| 72.04767846841 | $b_1$ | A (mass(A)+1=72)|\n",
    "| 143.09535693682 | $b_2$ | |\n",
    "| 147.10552769769998 | $y_1$| |\n",
    "| 299.20703264412 | | \n",
    "|... |...| |\n",
    "|868.5884008217499 | | \n",
    "| 886.5884008217499 | $y_n$| |\n",
    "\n",
    "You may use whatever method you want. Show your work below."
   ]
  },
  {
   "cell_type": "code",
   "execution_count": 4,
   "metadata": {},
   "outputs": [],
   "source": [
    "reader = mgf.read('/datasets/cs185s-sp19-public/week7/spectrum.mgf')\n",
    "for spectrum in reader:\n",
    "    mz = spectrum[\"m/z array\"]"
   ]
  },
  {
   "cell_type": "markdown",
   "metadata": {},
   "source": [
    "Look for the last (“C” terminal) amino acid, which is usually either lysine (K, “y” peak at 147) or arginine (R, “y” peak at 175). Once you know the last amino acid, you can find the last \"b\" peak at (parent mass-18-mass(K)) or (parent mass-18-mass(R))."
   ]
  },
  {
   "cell_type": "code",
   "execution_count": 5,
   "metadata": {},
   "outputs": [
    {
     "data": {
      "text/plain": [
       "16"
      ]
     },
     "execution_count": 5,
     "metadata": {},
     "output_type": "execute_result"
    }
   ],
   "source": [
    "len(mz)"
   ]
  },
  {
   "cell_type": "code",
   "execution_count": 8,
   "metadata": {},
   "outputs": [
    {
     "data": {
      "text/plain": [
       "740.4934408217499"
      ]
     },
     "execution_count": 8,
     "metadata": {},
     "output_type": "execute_result"
    }
   ],
   "source": [
    "y_full = max(mz)\n",
    "y_full - mass.std_aa_mass['K'] -18"
   ]
  },
  {
   "cell_type": "code",
   "execution_count": 9,
   "metadata": {},
   "outputs": [
    {
     "data": {
      "text/plain": [
       "740.48287312405"
      ]
     },
     "execution_count": 9,
     "metadata": {},
     "output_type": "execute_result"
    }
   ],
   "source": [
    "y_full = max(mz)\n",
    "start = mass.calculate_mass(\"K\")\n",
    "y_full - start"
   ]
  },
  {
   "cell_type": "code",
   "execution_count": 10,
   "metadata": {},
   "outputs": [
    {
     "data": {
      "text/plain": [
       "array([ 72.04767847, 143.09535694, 147.1055277 , 299.20703264,\n",
       "       303.2172034 , 374.26488187, 414.24454035, 473.34386047,\n",
       "       513.32351895, 584.37119742, 588.38136818, 740.48287312,\n",
       "       744.49304388, 815.54072235, 868.58840082, 886.58840082])"
      ]
     },
     "execution_count": 10,
     "metadata": {},
     "output_type": "execute_result"
    }
   ],
   "source": [
    "mz"
   ]
  },
  {
   "cell_type": "code",
   "execution_count": 11,
   "metadata": {},
   "outputs": [
    {
     "data": {
      "text/plain": [
       "{'A': 71.03711,\n",
       " 'C': 103.00919,\n",
       " 'D': 115.02694,\n",
       " 'E': 129.04259,\n",
       " 'F': 147.06841,\n",
       " 'G': 57.02146,\n",
       " 'H': 137.05891,\n",
       " 'I': 113.08406,\n",
       " 'K': 128.09496,\n",
       " 'L': 113.08406,\n",
       " 'M': 131.04049,\n",
       " 'N': 114.04293,\n",
       " 'O': 255.15829,\n",
       " 'P': 97.05276,\n",
       " 'Q': 128.05858,\n",
       " 'R': 156.10111,\n",
       " 'S': 87.03203,\n",
       " 'T': 101.04768,\n",
       " 'U': 150.95364,\n",
       " 'V': 99.06841,\n",
       " 'W': 186.07931,\n",
       " 'Y': 163.06333}"
      ]
     },
     "execution_count": 11,
     "metadata": {},
     "output_type": "execute_result"
    }
   ],
   "source": [
    "mass.std_aa_mass"
   ]
  },
  {
   "cell_type": "code",
   "execution_count": 12,
   "metadata": {},
   "outputs": [
    {
     "name": "stdout",
     "output_type": "stream",
     "text": [
      "['A', 'A', 'R', 'D', 'V', 'A', 'R', 'K']\n"
     ]
    }
   ],
   "source": [
    "y_full = max(mz)\n",
    "start = mass.calculate_mass(\"K\")\n",
    "\n",
    "amino_acids = []\n",
    "for i in range(7):\n",
    "    b = y_full - start    \n",
    "    diffs = []; keys = []\n",
    "    for name in mass.std_aa_mass.keys():\n",
    "        keys.append(name)\n",
    "        diffs.append(b - mass.std_aa_mass[name])\n",
    "    if i != 6:\n",
    "        amino_acids.append(keys[np.argmin(np.array([min(abs(mz-m)) for m in diffs]))])\n",
    "    else:\n",
    "        amino_acids.append(keys[np.argmin(np.array(np.abs(diffs)))])\n",
    "        \n",
    "    start = start + mass.std_aa_mass[amino_acids[-1]]\n",
    "amino_acids.insert(0,'K')\n",
    "print(amino_acids[::-1])"
   ]
  },
  {
   "cell_type": "code",
   "execution_count": 13,
   "metadata": {},
   "outputs": [
    {
     "data": {
      "text/plain": [
       "'AARDVARK'"
      ]
     },
     "execution_count": 13,
     "metadata": {},
     "output_type": "execute_result"
    }
   ],
   "source": [
    "peptide = ''.join(amino_acids[::-1])\n",
    "peptide"
   ]
  },
  {
   "cell_type": "code",
   "execution_count": 14,
   "metadata": {},
   "outputs": [
    {
     "data": {
      "text/plain": [
       "[[72.04767846841, 'A'],\n",
       " [143.09535693682, 'AA'],\n",
       " [147.10552769769998, 'K'],\n",
       " [299.20703264412, 'AAR'],\n",
       " [303.21720340499996, 'RK'],\n",
       " [374.26488187341, 'ARK'],\n",
       " [414.24454035165, 'AARD'],\n",
       " [473.34386047009997, 'VARK'],\n",
       " [513.32351894834, 'AARDV'],\n",
       " [584.3711974167501, 'AARDVA'],\n",
       " [588.38136817763, 'DVARK'],\n",
       " [740.48287312405, 'AARDVAR'],\n",
       " [744.4930438849299, 'RDVARK'],\n",
       " [815.5407223533398, 'ARDVARK'],\n",
       " [868.5884008217499, 'AARDVARK'],\n",
       " [886.5884008217499, 'AARDVARK']]"
      ]
     },
     "execution_count": 14,
     "metadata": {},
     "output_type": "execute_result"
    }
   ],
   "source": [
    "def ComputeSpectrum(peptide):\n",
    "    peaks = []\n",
    "    for i in range(len(peptide)):\n",
    "        seq_b = sum([mass.calculate_mass(amino)-18 for amino in peptide[0:len(peptide)-i]])+1\n",
    "        seq_y = sum([mass.calculate_mass(amino)-18 for amino in peptide[i:]])+19\n",
    "        peaks.append([seq_b,peptide[0:len(peptide)-i]])\n",
    "        peaks.append([seq_y,peptide[i:]])\n",
    "#         seq_b = peptide[0:len(peptide)-i]\n",
    "#         seq_y = peptide[i:]\n",
    "#         peaks.append(mass.calculate_mass(sequence=seq_b, ion_type='b', charge=1))\n",
    "#         peaks.append(mass.calculate_mass(sequence=seq_y, ion_type='y', charge=1))\n",
    "    return sorted(peaks)\n",
    "\n",
    "ComputeSpectrum(peptide)"
   ]
  },
  {
   "cell_type": "markdown",
   "metadata": {
    "deletable": false,
    "nbgrader": {
     "checksum": "49b17e5581c78c5d127dad5d2fb475a8",
     "grade": true,
     "grade_id": "cell-53ee4662f356ff07",
     "locked": false,
     "points": 20,
     "schema_version": 1,
     "solution": true
    }
   },
   "source": [
    "16 mass/charge values hence our peptide is 8 amino acids long.\n",
    "\n",
    "\n",
    "| Peak | assignment | amino acid |\n",
    "|----|-----|---|\n",
    "| 72.04767846841 | $b_1$ | A mass(A)+1 = 72|\n",
    "| 143.09535693682 | $b_2$ | AA |\n",
    "| 147.10552769769998 | $y_1$| K mass(k)+19 = 147 |\n",
    "| 299.20703264412 | $b_3$ | AAR | \n",
    "| 303.21720340499996 | $y_2$ | RK | \n",
    "| 374.26488187341 | $y_3$ | ARK | \n",
    "| 414.24454035165 | $b_4$ | AARD |\n",
    "| 473.34386047009997 | $y_4$ | VARK |\n",
    "| 513.32351894834 | $b_5$ | AARDV |\n",
    "| 584.3711974167501 | $b_6$ | AARDVA | \n",
    "| 588.38136817763 | $y_5$ | DVARK |\n",
    "| 740.48287312405 | $b_7$ | AARDVAR |\n",
    "| 744.4930438849299 | $y_6$ | RDVARK |\n",
    "| 815.5407223533398 | $y_7$ | ARDVARK |\n",
    "| 868.5884008217499 | $b_8$ | AARDVARK |\n",
    "| 886.5884008217499 | $y_8$ | AARDVARK |"
   ]
  },
  {
   "cell_type": "markdown",
   "metadata": {
    "deletable": false,
    "editable": false,
    "nbgrader": {
     "checksum": "f680dd8c9d97589392dabb64eb8931d1",
     "grade": false,
     "grade_id": "cell-9c30bf949369533a",
     "locked": true,
     "schema_version": 1,
     "solution": false
    }
   },
   "source": [
    "That was pretty tedious! De novo peptide sequencing is hard. And this was a perfect case. Most real-world examples are not perfect! In part 2, we'll work with real data, but we will explore how to use database search to make this much easier."
   ]
  }
 ],
 "metadata": {
  "kernelspec": {
   "display_name": "Python 3",
   "language": "python",
   "name": "python3"
  },
  "language_info": {
   "codemirror_mode": {
    "name": "ipython",
    "version": 3
   },
   "file_extension": ".py",
   "mimetype": "text/x-python",
   "name": "python",
   "nbconvert_exporter": "python",
   "pygments_lexer": "ipython3",
   "version": "3.6.7"
  }
 },
 "nbformat": 4,
 "nbformat_minor": 2
}
