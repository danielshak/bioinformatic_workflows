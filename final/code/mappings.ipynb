{
 "cells": [
  {
   "cell_type": "markdown",
   "metadata": {},
   "source": [
    "Proteome Database at ftp://ftp.pride.ebi.ac.uk/pride/data/archive/2019/02/PXD010154/ <br>\n",
    "Paper at https://www.ncbi.nlm.nih.gov/pmc/articles/PMC6379049/pdf/MSB-15-e8503.pdf <br>\n",
    "RNA fastqs database ftp://ftp.sra.ebi.ac.uk/vol1/fastq/ERR315/ <br>\n",
    "rna expression https://www.ebi.ac.uk/arrayexpress/experiments/E-MTAB-2836/ <br>"
   ]
  },
  {
   "cell_type": "code",
   "execution_count": 1,
   "metadata": {},
   "outputs": [],
   "source": [
    "import pandas as pd\n",
    "from gtfparse import read_gtf\n",
    "import numpy as np\n",
    "import matplotlib.pyplot as plt\n",
    "import time\n",
    "import os\n",
    "import time\n",
    "from collections import Counter"
   ]
  },
  {
   "cell_type": "markdown",
   "metadata": {},
   "source": [
    "### RNA seq processing"
   ]
  },
  {
   "cell_type": "code",
   "execution_count": null,
   "metadata": {},
   "outputs": [],
   "source": [
    "rna = pd.read_csv('../RNA-seq/E-MTAB-2836-query-results_trans.tpms.tsv',sep='\\t',skiprows =4,index_col=0)\n",
    "rna = rna.drop(columns=['Gene Name','bone marrow', 'skeletal muscle tissue','zone of skin'])\n",
    "rna = rna.fillna(0) #converts nan to 0\n",
    "\n",
    "rna.head()\n",
    "#length 45946"
   ]
  },
  {
   "cell_type": "code",
   "execution_count": 2,
   "metadata": {
    "scrolled": false
   },
   "outputs": [
    {
     "data": {
      "text/html": [
       "<div>\n",
       "<style scoped>\n",
       "    .dataframe tbody tr th:only-of-type {\n",
       "        vertical-align: middle;\n",
       "    }\n",
       "\n",
       "    .dataframe tbody tr th {\n",
       "        vertical-align: top;\n",
       "    }\n",
       "\n",
       "    .dataframe thead th {\n",
       "        text-align: right;\n",
       "    }\n",
       "</style>\n",
       "<table border=\"1\" class=\"dataframe\">\n",
       "  <thead>\n",
       "    <tr style=\"text-align: right;\">\n",
       "      <th></th>\n",
       "      <th>Gene name</th>\n",
       "      <th>Adrenal gland</th>\n",
       "      <th>Appendix</th>\n",
       "      <th>Brain</th>\n",
       "      <th>Colon</th>\n",
       "      <th>Duodenum</th>\n",
       "      <th>Endometrium</th>\n",
       "      <th>Esophagus</th>\n",
       "      <th>Fallopian tube</th>\n",
       "      <th>Fat</th>\n",
       "      <th>...</th>\n",
       "      <th>Spleen</th>\n",
       "      <th>Stomach</th>\n",
       "      <th>Testis</th>\n",
       "      <th>Thyroid</th>\n",
       "      <th>Tonsil</th>\n",
       "      <th>Urinary bladder</th>\n",
       "      <th>Tissue enriched</th>\n",
       "      <th>Group enriched</th>\n",
       "      <th>Tissue enhance</th>\n",
       "      <th>Classification</th>\n",
       "    </tr>\n",
       "    <tr>\n",
       "      <th>Gene ID</th>\n",
       "      <th></th>\n",
       "      <th></th>\n",
       "      <th></th>\n",
       "      <th></th>\n",
       "      <th></th>\n",
       "      <th></th>\n",
       "      <th></th>\n",
       "      <th></th>\n",
       "      <th></th>\n",
       "      <th></th>\n",
       "      <th></th>\n",
       "      <th></th>\n",
       "      <th></th>\n",
       "      <th></th>\n",
       "      <th></th>\n",
       "      <th></th>\n",
       "      <th></th>\n",
       "      <th></th>\n",
       "      <th></th>\n",
       "      <th></th>\n",
       "      <th></th>\n",
       "    </tr>\n",
       "  </thead>\n",
       "  <tbody>\n",
       "    <tr>\n",
       "      <th>ENSG00000000003</th>\n",
       "      <td>TSPAN6</td>\n",
       "      <td>16.26</td>\n",
       "      <td>4.82</td>\n",
       "      <td>15.67</td>\n",
       "      <td>50.18</td>\n",
       "      <td>18.84</td>\n",
       "      <td>22.48</td>\n",
       "      <td>29.71</td>\n",
       "      <td>66.47</td>\n",
       "      <td>16.70</td>\n",
       "      <td>...</td>\n",
       "      <td>7.69</td>\n",
       "      <td>16.45</td>\n",
       "      <td>51.02</td>\n",
       "      <td>13.63</td>\n",
       "      <td>8.38</td>\n",
       "      <td>14.84</td>\n",
       "      <td>Fallopian tube</td>\n",
       "      <td>NaN</td>\n",
       "      <td>NaN</td>\n",
       "      <td>Expressed in all</td>\n",
       "    </tr>\n",
       "    <tr>\n",
       "      <th>ENSG00000000005</th>\n",
       "      <td>TNMD</td>\n",
       "      <td>0.00</td>\n",
       "      <td>0.00</td>\n",
       "      <td>0.00</td>\n",
       "      <td>1.06</td>\n",
       "      <td>0.00</td>\n",
       "      <td>0.00</td>\n",
       "      <td>0.00</td>\n",
       "      <td>0.00</td>\n",
       "      <td>4.39</td>\n",
       "      <td>...</td>\n",
       "      <td>0.00</td>\n",
       "      <td>0.00</td>\n",
       "      <td>0.00</td>\n",
       "      <td>0.00</td>\n",
       "      <td>0.00</td>\n",
       "      <td>0.00</td>\n",
       "      <td>Placenta</td>\n",
       "      <td>Colon;Fat;Placenta</td>\n",
       "      <td>NaN</td>\n",
       "      <td>Group enriched</td>\n",
       "    </tr>\n",
       "    <tr>\n",
       "      <th>ENSG00000000419</th>\n",
       "      <td>DPM1</td>\n",
       "      <td>42.32</td>\n",
       "      <td>34.59</td>\n",
       "      <td>14.85</td>\n",
       "      <td>32.06</td>\n",
       "      <td>26.30</td>\n",
       "      <td>36.88</td>\n",
       "      <td>35.89</td>\n",
       "      <td>31.67</td>\n",
       "      <td>31.11</td>\n",
       "      <td>...</td>\n",
       "      <td>25.96</td>\n",
       "      <td>24.92</td>\n",
       "      <td>37.45</td>\n",
       "      <td>47.41</td>\n",
       "      <td>43.15</td>\n",
       "      <td>32.92</td>\n",
       "      <td>Thyroid</td>\n",
       "      <td>NaN</td>\n",
       "      <td>NaN</td>\n",
       "      <td>Expressed in all</td>\n",
       "    </tr>\n",
       "    <tr>\n",
       "      <th>ENSG00000000457</th>\n",
       "      <td>SCYL3</td>\n",
       "      <td>4.48</td>\n",
       "      <td>5.95</td>\n",
       "      <td>3.14</td>\n",
       "      <td>7.47</td>\n",
       "      <td>5.04</td>\n",
       "      <td>5.05</td>\n",
       "      <td>4.59</td>\n",
       "      <td>5.81</td>\n",
       "      <td>1.65</td>\n",
       "      <td>...</td>\n",
       "      <td>5.34</td>\n",
       "      <td>6.58</td>\n",
       "      <td>5.48</td>\n",
       "      <td>4.48</td>\n",
       "      <td>7.70</td>\n",
       "      <td>5.48</td>\n",
       "      <td>Lymph node</td>\n",
       "      <td>NaN</td>\n",
       "      <td>NaN</td>\n",
       "      <td>Mixed</td>\n",
       "    </tr>\n",
       "    <tr>\n",
       "      <th>ENSG00000000460</th>\n",
       "      <td>C1orf112</td>\n",
       "      <td>1.06</td>\n",
       "      <td>2.25</td>\n",
       "      <td>0.00</td>\n",
       "      <td>2.82</td>\n",
       "      <td>0.00</td>\n",
       "      <td>2.31</td>\n",
       "      <td>0.00</td>\n",
       "      <td>0.00</td>\n",
       "      <td>0.00</td>\n",
       "      <td>...</td>\n",
       "      <td>0.00</td>\n",
       "      <td>0.00</td>\n",
       "      <td>3.86</td>\n",
       "      <td>0.00</td>\n",
       "      <td>4.00</td>\n",
       "      <td>0.93</td>\n",
       "      <td>Tonsil</td>\n",
       "      <td>NaN</td>\n",
       "      <td>Testis;Tonsil</td>\n",
       "      <td>Tissue enhanced</td>\n",
       "    </tr>\n",
       "  </tbody>\n",
       "</table>\n",
       "<p>5 rows × 34 columns</p>\n",
       "</div>"
      ],
      "text/plain": [
       "                Gene name  Adrenal gland  Appendix  Brain  Colon  Duodenum  \\\n",
       "Gene ID                                                                      \n",
       "ENSG00000000003    TSPAN6          16.26      4.82  15.67  50.18     18.84   \n",
       "ENSG00000000005      TNMD           0.00      0.00   0.00   1.06      0.00   \n",
       "ENSG00000000419      DPM1          42.32     34.59  14.85  32.06     26.30   \n",
       "ENSG00000000457     SCYL3           4.48      5.95   3.14   7.47      5.04   \n",
       "ENSG00000000460  C1orf112           1.06      2.25   0.00   2.82      0.00   \n",
       "\n",
       "                 Endometrium  Esophagus  Fallopian tube    Fat  \\\n",
       "Gene ID                                                          \n",
       "ENSG00000000003        22.48      29.71           66.47  16.70   \n",
       "ENSG00000000005         0.00       0.00            0.00   4.39   \n",
       "ENSG00000000419        36.88      35.89           31.67  31.11   \n",
       "ENSG00000000457         5.05       4.59            5.81   1.65   \n",
       "ENSG00000000460         2.31       0.00            0.00   0.00   \n",
       "\n",
       "                       ...         Spleen  Stomach  Testis  Thyroid  Tonsil  \\\n",
       "Gene ID                ...                                                    \n",
       "ENSG00000000003        ...           7.69    16.45   51.02    13.63    8.38   \n",
       "ENSG00000000005        ...           0.00     0.00    0.00     0.00    0.00   \n",
       "ENSG00000000419        ...          25.96    24.92   37.45    47.41   43.15   \n",
       "ENSG00000000457        ...           5.34     6.58    5.48     4.48    7.70   \n",
       "ENSG00000000460        ...           0.00     0.00    3.86     0.00    4.00   \n",
       "\n",
       "                 Urinary bladder  Tissue enriched      Group enriched  \\\n",
       "Gene ID                                                                 \n",
       "ENSG00000000003            14.84   Fallopian tube                 NaN   \n",
       "ENSG00000000005             0.00         Placenta  Colon;Fat;Placenta   \n",
       "ENSG00000000419            32.92          Thyroid                 NaN   \n",
       "ENSG00000000457             5.48       Lymph node                 NaN   \n",
       "ENSG00000000460             0.93           Tonsil                 NaN   \n",
       "\n",
       "                 Tissue enhance    Classification  \n",
       "Gene ID                                            \n",
       "ENSG00000000003             NaN  Expressed in all  \n",
       "ENSG00000000005             NaN    Group enriched  \n",
       "ENSG00000000419             NaN  Expressed in all  \n",
       "ENSG00000000457             NaN             Mixed  \n",
       "ENSG00000000460   Testis;Tonsil   Tissue enhanced  \n",
       "\n",
       "[5 rows x 34 columns]"
      ]
     },
     "execution_count": 2,
     "metadata": {},
     "output_type": "execute_result"
    }
   ],
   "source": [
    "#Reading new fpkm excel file\n",
    "\n",
    "rna_fpkm = pd.read_excel('../RNA-seq/Table_EV2.xlsx',sheet_name='B. Genes',index_col=0)\n",
    "rna_fpkm_subset = rna_fpkm.drop(labels=['Gene name','Tissue enriched','Group enriched','Tissue enhance','Classification'],axis=1)\n",
    "rna_fpkm.head()"
   ]
  },
  {
   "cell_type": "markdown",
   "metadata": {},
   "source": [
    "### GTF Reference file processing\n"
   ]
  },
  {
   "cell_type": "code",
   "execution_count": 3,
   "metadata": {},
   "outputs": [
    {
     "name": "stderr",
     "output_type": "stream",
     "text": [
      "INFO:root:Extracted GTF attributes: ['gene_id', 'gene_version', 'gene_name', 'gene_source', 'gene_biotype', 'havana_gene', 'havana_gene_version', 'transcript_id', 'transcript_version', 'transcript_name', 'transcript_source', 'transcript_biotype', 'havana_transcript', 'havana_transcript_version', 'tag', 'transcript_support_level', 'exon_number', 'exon_id', 'exon_version', 'ccds_id', 'protein_id', 'protein_version']\n"
     ]
    },
    {
     "name": "stdout",
     "output_type": "stream",
     "text": [
      "156.12447571754456\n"
     ]
    }
   ],
   "source": [
    "start = time.time()\n",
    "#df = read_gtf('../Genomes/Homo_sapiens.GRCh38.79.gtf')\n",
    "df = read_gtf('../Genomes/Homo_sapiens.GRCh38.83.gtf')\n",
    "print(time.time()-start)"
   ]
  },
  {
   "cell_type": "code",
   "execution_count": 4,
   "metadata": {},
   "outputs": [],
   "source": [
    "#Gets unique gene to protein mappings, can have duplicated genes since isoforms\n",
    "mappings = df[['gene_id','transcript_id','protein_id','protein_version']] \n",
    "matched_unique_proteins = mappings[mappings['protein_id']!=''].drop_duplicates(subset='protein_id') #empty columns values are empty string ''\n",
    "#length 100778\n",
    "#if you remove duplicated genes, then 22489 unique genes"
   ]
  },
  {
   "cell_type": "code",
   "execution_count": 5,
   "metadata": {},
   "outputs": [],
   "source": [
    "#Gets all unique genes, with or without matching proteins\n",
    "all_genes = mappings.drop_duplicates(subset='gene_id') \n",
    "#length 65217"
   ]
  },
  {
   "cell_type": "markdown",
   "metadata": {},
   "source": [
    "#### Unique genes in both rna and all genes, checks that all genes in rna-seq are actually in reference"
   ]
  },
  {
   "cell_type": "code",
   "execution_count": null,
   "metadata": {},
   "outputs": [],
   "source": [
    "len(set(rna.index)&set(all_genes['gene_id'])) "
   ]
  },
  {
   "cell_type": "code",
   "execution_count": 6,
   "metadata": {},
   "outputs": [
    {
     "data": {
      "text/plain": [
       "18072"
      ]
     },
     "execution_count": 6,
     "metadata": {},
     "output_type": "execute_result"
    }
   ],
   "source": [
    "len(set(rna_fpkm.index)&set(all_genes['gene_id'])) "
   ]
  },
  {
   "cell_type": "markdown",
   "metadata": {},
   "source": [
    "#### Genes in both rna and matched unique proteins, paper has 18,072 using a cutoff of 1 fpkm"
   ]
  },
  {
   "cell_type": "code",
   "execution_count": null,
   "metadata": {},
   "outputs": [],
   "source": [
    "len(set(rna.index)&set(matched_unique_proteins['gene_id'])) "
   ]
  },
  {
   "cell_type": "code",
   "execution_count": 7,
   "metadata": {},
   "outputs": [
    {
     "data": {
      "text/plain": [
       "18072"
      ]
     },
     "execution_count": 7,
     "metadata": {},
     "output_type": "execute_result"
    }
   ],
   "source": [
    "len(set(rna_fpkm.index)&set(matched_unique_proteins['gene_id'])) "
   ]
  },
  {
   "cell_type": "code",
   "execution_count": 10,
   "metadata": {},
   "outputs": [
    {
     "data": {
      "text/plain": [
       "18004"
      ]
     },
     "execution_count": 10,
     "metadata": {},
     "output_type": "execute_result"
    }
   ],
   "source": [
    "#Thresholding for FPKM\n",
    "thresh=1\n",
    "rna_thresh = rna_fpkm_subset[(rna_fpkm_subset<=thresh).sum(axis=1)!=29] #removes genes that have expression level for ALL TISSUES less than or equal to thresh\n",
    "missing_thresh_genes = set(rna_thresh.index)-set(matched_unique_proteins['gene_id'])\n",
    "matched_thresh_genes = set(rna_thresh.index)&set(matched_unique_proteins['gene_id'])\n",
    "rna_missing = rna_thresh.loc[list(missing_thresh_genes)]\n",
    "rna_thresh = rna_thresh.loc[list(matched_thresh_genes)]\n",
    "len(matched_thresh_genes)"
   ]
  },
  {
   "cell_type": "code",
   "execution_count": null,
   "metadata": {},
   "outputs": [],
   "source": [
    "#value depending on TPM threshold, since nan is replace with 0 setting really small threshold\n",
    "#is required to remove nan values (nan values only is 19498 overlapping)\n",
    "thresh = 2\n",
    "rna_thresh = rna[(rna<=thresh).sum(axis=1)!=29] #removes genes that have expression level for ALL TISSUES less than or equal to thresh\n",
    "missing_thresh_genes = set(rna_thresh.index)-set(matched_unique_proteins['gene_id'])\n",
    "matched_thresh_genes = set(rna_thresh.index)&set(matched_unique_proteins['gene_id'])\n",
    "rna_missing = rna_thresh.loc[list(missing_thresh_genes)]\n",
    "rna_thresh = rna_thresh.loc[list(matched_thresh_genes)]\n",
    "len(matched_thresh_genes)"
   ]
  },
  {
   "cell_type": "markdown",
   "metadata": {},
   "source": [
    "#### Numer of unique genes per tissue above threshold (keep threshold same as above)"
   ]
  },
  {
   "cell_type": "code",
   "execution_count": 11,
   "metadata": {},
   "outputs": [
    {
     "name": "stdout",
     "output_type": "stream",
     "text": [
      "runtime 95.77426171302795\n"
     ]
    }
   ],
   "source": [
    "#Comment out line below if using original matrix\n",
    "#rna_thresh = rna_fpkm_subset.copy()\n",
    "\n",
    "start=time.time()\n",
    "col_names=['all','t_enhanced','t_enriched','mixed','g_enriched']\n",
    "rna_thresh_classified = pd.DataFrame(index=rna_thresh.index,columns=col_names)\n",
    "for gene in rna_thresh_classified.index:\n",
    "    #Gene can only fall into 1 of the 5 categories, but can have multiple tisues for it\n",
    "    # 1 Expressed in all -> tpm above thresh for all tissuse\n",
    "    # 2 tissue-enriched, a single tissue, 5 fold higher than the rest of tissues\n",
    "    # 3 group-enriched, 5-fold higher average TPM value in a group of 2-7 tissues compared to all other tissues\n",
    "    # 4 tissue-enhanced - 5-fold higher in a tissue compared to avg of all other tissues\n",
    "    # 5 mixed - genes with tpm>thresh and not fitting into any of the categories above\n",
    "    \n",
    "    #rank the expression level of each tissue, used in conditions below\n",
    "    ranked = rna_thresh.loc[gene].sort_values(ascending=False)\n",
    "    \n",
    "    #avg of top groups,7,6,...2, descending order\n",
    "    group_means = [ranked[0:7-i].mean() for i in range(7)]\n",
    "    \n",
    "    #average over all values\n",
    "    avg = np.mean(ranked)\n",
    "    \n",
    "    if all(rna_thresh.loc[gene]>thresh):\n",
    "        rna_thresh_classified.at[gene,'all']=1\n",
    "        \n",
    "    elif all(ranked[0]>=5*ranked[1::]):\n",
    "        rna_thresh_classified.at[gene,'t_enriched']=ranked.index[0]\n",
    "        \n",
    "    elif any([all(avg>=5*ranked[7-i::]) for i,avg in enumerate(group_means)]):\n",
    "        for i in range(7):\n",
    "            if all(group_means[i]>=5*ranked[7-i::]):\n",
    "                rna_thresh_classified.at[gene,'g_enriched']=','.join(ranked.index[0:7-i])\n",
    "                break\n",
    "                \n",
    "    elif any([val>5*avg for val in ranked]):\n",
    "        genes=[]\n",
    "        for i, val in enumerate(ranked):\n",
    "            if val>=5*avg:\n",
    "                genes.append(ranked.index[i])\n",
    "        rna_thresh_classified.at[gene,'t_enhanced']=','.join(genes)\n",
    "    \n",
    "    else:\n",
    "        genes=[]\n",
    "        for i, val in enumerate(ranked):\n",
    "            if val>thresh:\n",
    "                genes.append(ranked.index[i])\n",
    "        rna_thresh_classified.at[gene,'mixed']=','.join(genes)\n",
    "\n",
    "print(f'runtime {time.time()-start}')"
   ]
  },
  {
   "cell_type": "markdown",
   "metadata": {},
   "source": [
    "##### Expressed in all"
   ]
  },
  {
   "cell_type": "code",
   "execution_count": 12,
   "metadata": {},
   "outputs": [
    {
     "data": {
      "text/plain": [
       "6765"
      ]
     },
     "execution_count": 12,
     "metadata": {},
     "output_type": "execute_result"
    }
   ],
   "source": [
    "exp_all = sum(~rna_thresh_classified['all'].isnull())\n",
    "exp_all"
   ]
  },
  {
   "cell_type": "code",
   "execution_count": 15,
   "metadata": {},
   "outputs": [],
   "source": [
    "#tissue enriched\n",
    "tis_enriched=','.join(rna_thresh_classified['t_enriched'][~rna_thresh_classified['t_enriched'].isnull()])\n",
    "tis_enriched = tis_enriched.split(',')\n",
    "tis_enriched_counted = Counter(tis_enriched)\n",
    "#tis_enriched_counted"
   ]
  },
  {
   "cell_type": "code",
   "execution_count": 16,
   "metadata": {},
   "outputs": [],
   "source": [
    "#group enriched\n",
    "grp_enriched=','.join(rna_thresh_classified['g_enriched'][~rna_thresh_classified['g_enriched'].isnull()])\n",
    "grp_enriched = grp_enriched.split(',')\n",
    "grp_enriched_counted = Counter(grp_enriched)\n",
    "#grp_enriched_counted"
   ]
  },
  {
   "cell_type": "code",
   "execution_count": 17,
   "metadata": {
    "scrolled": true
   },
   "outputs": [],
   "source": [
    "#tissue enhanced\n",
    "tis_enhanced = ','.join(rna_thresh_classified['t_enhanced'][~rna_thresh_classified['t_enhanced'].isnull()])\n",
    "tis_enhanced = tis_enhanced.split(',')\n",
    "tis_enhanced_counted = Counter(tis_enhanced)\n",
    "#tis_enhanced_counted"
   ]
  },
  {
   "cell_type": "code",
   "execution_count": 18,
   "metadata": {},
   "outputs": [],
   "source": [
    "#Mixed\n",
    "mixed = ','.join(rna_thresh_classified['mixed'][~rna_thresh_classified['mixed'].isnull()])\n",
    "mixed = mixed.split(',')\n",
    "mixed_counted = Counter(mixed)\n",
    "#mixed_counted"
   ]
  },
  {
   "cell_type": "code",
   "execution_count": 19,
   "metadata": {},
   "outputs": [],
   "source": [
    "#Number of significantly detected genes per tissue\n",
    "tissue_genes_thresh = {}\n",
    "for tis in rna_thresh.columns:\n",
    "    tissue_genes_thresh[tis] = sum(rna_thresh[tis]>thresh)\n",
    "#tissue_genes_thresh"
   ]
  },
  {
   "cell_type": "code",
   "execution_count": 20,
   "metadata": {},
   "outputs": [],
   "source": [
    "#Categorized groupings\n",
    "total = tis_enriched_counted + grp_enriched_counted + tis_enhanced_counted + mixed_counted\n",
    "for index in total.keys():\n",
    "    total[index] += exp_all\n",
    "#total"
   ]
  },
  {
   "cell_type": "code",
   "execution_count": 21,
   "metadata": {},
   "outputs": [
    {
     "data": {
      "text/html": [
       "<div>\n",
       "<style scoped>\n",
       "    .dataframe tbody tr th:only-of-type {\n",
       "        vertical-align: middle;\n",
       "    }\n",
       "\n",
       "    .dataframe tbody tr th {\n",
       "        vertical-align: top;\n",
       "    }\n",
       "\n",
       "    .dataframe thead th {\n",
       "        text-align: right;\n",
       "    }\n",
       "</style>\n",
       "<table border=\"1\" class=\"dataframe\">\n",
       "  <thead>\n",
       "    <tr style=\"text-align: right;\">\n",
       "      <th></th>\n",
       "      <th>all</th>\n",
       "      <th>mixed</th>\n",
       "      <th>tis_enhanced</th>\n",
       "      <th>grp_enriched</th>\n",
       "      <th>tis_enriched</th>\n",
       "    </tr>\n",
       "  </thead>\n",
       "  <tbody>\n",
       "    <tr>\n",
       "      <th>Adrenal gland</th>\n",
       "      <td>6765</td>\n",
       "      <td>3155</td>\n",
       "      <td>85</td>\n",
       "      <td>515</td>\n",
       "      <td>57</td>\n",
       "    </tr>\n",
       "    <tr>\n",
       "      <th>Appendix</th>\n",
       "      <td>6765</td>\n",
       "      <td>3194</td>\n",
       "      <td>94</td>\n",
       "      <td>1798</td>\n",
       "      <td>15</td>\n",
       "    </tr>\n",
       "    <tr>\n",
       "      <th>Brain</th>\n",
       "      <td>6765</td>\n",
       "      <td>2933</td>\n",
       "      <td>279</td>\n",
       "      <td>1609</td>\n",
       "      <td>320</td>\n",
       "    </tr>\n",
       "    <tr>\n",
       "      <th>Colon</th>\n",
       "      <td>6765</td>\n",
       "      <td>3087</td>\n",
       "      <td>58</td>\n",
       "      <td>1277</td>\n",
       "      <td>6</td>\n",
       "    </tr>\n",
       "    <tr>\n",
       "      <th>Duodenum</th>\n",
       "      <td>6765</td>\n",
       "      <td>3110</td>\n",
       "      <td>84</td>\n",
       "      <td>863</td>\n",
       "      <td>13</td>\n",
       "    </tr>\n",
       "  </tbody>\n",
       "</table>\n",
       "</div>"
      ],
      "text/plain": [
       "                all  mixed  tis_enhanced  grp_enriched  tis_enriched\n",
       "Adrenal gland  6765   3155            85           515            57\n",
       "Appendix       6765   3194            94          1798            15\n",
       "Brain          6765   2933           279          1609           320\n",
       "Colon          6765   3087            58          1277             6\n",
       "Duodenum       6765   3110            84           863            13"
      ]
     },
     "execution_count": 21,
     "metadata": {},
     "output_type": "execute_result"
    }
   ],
   "source": [
    "exp_all_dict={}\n",
    "for tissue in list(rna_thresh.columns):\n",
    "    exp_all_dict[tissue] = exp_all\n",
    "    if tissue not in tis_enriched_counted.keys():\n",
    "        tis_enriched_counted[tissue]=0\n",
    "    if tissue not in grp_enriched_counted.keys():\n",
    "        grp_enriched_counted[tissue]=0\n",
    "    if tissue not in tis_enhanced_counted.keys():\n",
    "        tis_enhanced_counted[tissue]=0\n",
    "    if tissue not in mixed_counted.keys():\n",
    "        mixed_counted[tissue]=0\n",
    "exp_all_dict = Counter(exp_all_dict)\n",
    "\n",
    "classified = pd.DataFrame([exp_all_dict,mixed_counted,tis_enhanced_counted,grp_enriched_counted,tis_enriched_counted]).T\n",
    "classified.columns=['all','mixed','tis_enhanced','grp_enriched','tis_enriched']\n",
    "running_sum=classified.cumsum(axis=1)\n",
    "classified.head()"
   ]
  },
  {
   "cell_type": "code",
   "execution_count": null,
   "metadata": {},
   "outputs": [],
   "source": [
    "#TPM FIGURE\n",
    "fig = plt.figure()\n",
    "ax = fig.add_subplot(111)\n",
    "fig.set_size_inches((10,10))\n",
    "\n",
    "ax.barh(classified.index,classified['all'],color='paleturquoise')\n",
    "ax.barh(classified.index,classified['mixed'],left=running_sum['all'],color='mediumturquoise')\n",
    "ax.barh(classified.index,classified['tis_enhanced'],left=running_sum['mixed'],color='deepskyblue')\n",
    "ax.barh(classified.index,classified['grp_enriched'],left=running_sum['tis_enhanced'],color='steelblue')\n",
    "ax.barh(classified.index,classified['tis_enriched'],left=running_sum['grp_enriched'],color='navy')\n",
    "ax.invert_yaxis()\n",
    "ax.set_title(\"TPM Thresholded Classified Transcripts Per Tissue (122 sample database)\")\n",
    "box = ax.get_position()\n",
    "ax.set_position([box.x0, box.y0, box.width * 0.8, box.height])\n",
    "ax.legend(['All','Mixed','Tissue Enhanced','Group Enhanced','Tissue Enriched'],loc='center left', bbox_to_anchor=(1, 0.5))\n",
    "#fig.savefig('TPM_thresholded.png',bbox_inches='tight')"
   ]
  },
  {
   "cell_type": "code",
   "execution_count": 23,
   "metadata": {
    "scrolled": false
   },
   "outputs": [
    {
     "data": {
      "image/png": "[encoded data removed]",
      "text/plain": [
       "<Figure size 720x720 with 1 Axes>"
      ]
     },
     "metadata": {
      "needs_background": "light"
     },
     "output_type": "display_data"
    }
   ],
   "source": [
    "#FPKM DATABASE\n",
    "fig = plt.figure()\n",
    "ax = fig.add_subplot(111)\n",
    "fig.set_size_inches((10,10))\n",
    "\n",
    "ax.barh(classified.index,classified['all'],color='paleturquoise')\n",
    "ax.barh(classified.index,classified['mixed'],left=running_sum['all'],color='mediumturquoise')\n",
    "ax.barh(classified.index,classified['tis_enhanced'],left=running_sum['mixed'],color='deepskyblue')\n",
    "ax.barh(classified.index,classified['grp_enriched'],left=running_sum['tis_enhanced'],color='steelblue')\n",
    "ax.barh(classified.index,classified['tis_enriched'],left=running_sum['grp_enriched'],color='navy')\n",
    "ax.invert_yaxis()\n",
    "ax.set_title(\"FPKM Thresholded Classified Transcripts Per Tissue\")\n",
    "box = ax.get_position()\n",
    "ax.set_position([box.x0, box.y0, box.width * 0.8, box.height])\n",
    "ax.legend(['All','Mixed','Tissue Enhanced','Group Enhanced','Tissue Enriched'],loc='center left', bbox_to_anchor=(1, 0.5))\n",
    "#fig.savefig('FPKMclassified_transcripts.png',bbox_inches='tight')"
   ]
  },
  {
   "cell_type": "code",
   "execution_count": 75,
   "metadata": {
    "scrolled": true
   },
   "outputs": [
    {
     "data": {
      "text/html": [
       "<div>\n",
       "<style scoped>\n",
       "    .dataframe tbody tr th:only-of-type {\n",
       "        vertical-align: middle;\n",
       "    }\n",
       "\n",
       "    .dataframe tbody tr th {\n",
       "        vertical-align: top;\n",
       "    }\n",
       "\n",
       "    .dataframe thead th {\n",
       "        text-align: right;\n",
       "    }\n",
       "</style>\n",
       "<table border=\"1\" class=\"dataframe\">\n",
       "  <thead>\n",
       "    <tr style=\"text-align: right;\">\n",
       "      <th></th>\n",
       "      <th>Adrenal gland</th>\n",
       "      <th>Appendix</th>\n",
       "      <th>Brain</th>\n",
       "      <th>Colon</th>\n",
       "      <th>Duodenum</th>\n",
       "      <th>Endometrium</th>\n",
       "      <th>Esophagus</th>\n",
       "      <th>Fallopian tube</th>\n",
       "      <th>Fat</th>\n",
       "      <th>Gallbladder</th>\n",
       "      <th>...</th>\n",
       "      <th>Rectum</th>\n",
       "      <th>Salivary gland</th>\n",
       "      <th>Small intestine</th>\n",
       "      <th>Smooth muscle</th>\n",
       "      <th>Spleen</th>\n",
       "      <th>Stomach</th>\n",
       "      <th>Testis</th>\n",
       "      <th>Thyroid</th>\n",
       "      <th>Tonsil</th>\n",
       "      <th>Urinary bladder</th>\n",
       "    </tr>\n",
       "    <tr>\n",
       "      <th>Gene ID</th>\n",
       "      <th></th>\n",
       "      <th></th>\n",
       "      <th></th>\n",
       "      <th></th>\n",
       "      <th></th>\n",
       "      <th></th>\n",
       "      <th></th>\n",
       "      <th></th>\n",
       "      <th></th>\n",
       "      <th></th>\n",
       "      <th></th>\n",
       "      <th></th>\n",
       "      <th></th>\n",
       "      <th></th>\n",
       "      <th></th>\n",
       "      <th></th>\n",
       "      <th></th>\n",
       "      <th></th>\n",
       "      <th></th>\n",
       "      <th></th>\n",
       "      <th></th>\n",
       "    </tr>\n",
       "  </thead>\n",
       "  <tbody>\n",
       "    <tr>\n",
       "      <th>ENSG00000000003</th>\n",
       "      <td>8.300694e+06</td>\n",
       "      <td>3.282850e+05</td>\n",
       "      <td>7.492897e+06</td>\n",
       "      <td>1.431124e+07</td>\n",
       "      <td>6.085574e+07</td>\n",
       "      <td>2.974373e+06</td>\n",
       "      <td>0.000000e+00</td>\n",
       "      <td>3.262757e+07</td>\n",
       "      <td>0.000000e+00</td>\n",
       "      <td>1.638398e+07</td>\n",
       "      <td>...</td>\n",
       "      <td>4.796333e+06</td>\n",
       "      <td>5.775487e+08</td>\n",
       "      <td>1.312179e+07</td>\n",
       "      <td>1.742112e+06</td>\n",
       "      <td>0.000000e+00</td>\n",
       "      <td>3.196343e+07</td>\n",
       "      <td>7.855154e+07</td>\n",
       "      <td>3.965517e+07</td>\n",
       "      <td>0.000000e+00</td>\n",
       "      <td>1.524580e+07</td>\n",
       "    </tr>\n",
       "    <tr>\n",
       "      <th>ENSG00000000419</th>\n",
       "      <td>1.322339e+08</td>\n",
       "      <td>2.289544e+07</td>\n",
       "      <td>4.387436e+07</td>\n",
       "      <td>5.015452e+07</td>\n",
       "      <td>9.750477e+07</td>\n",
       "      <td>7.904211e+07</td>\n",
       "      <td>6.746994e+07</td>\n",
       "      <td>9.495969e+07</td>\n",
       "      <td>5.360681e+07</td>\n",
       "      <td>5.777141e+07</td>\n",
       "      <td>...</td>\n",
       "      <td>6.904815e+07</td>\n",
       "      <td>1.912209e+08</td>\n",
       "      <td>9.732075e+07</td>\n",
       "      <td>2.223469e+07</td>\n",
       "      <td>5.744411e+07</td>\n",
       "      <td>9.072282e+07</td>\n",
       "      <td>8.709471e+07</td>\n",
       "      <td>2.795720e+08</td>\n",
       "      <td>6.998812e+07</td>\n",
       "      <td>6.019055e+07</td>\n",
       "    </tr>\n",
       "    <tr>\n",
       "      <th>ENSG00000000457</th>\n",
       "      <td>3.383521e+06</td>\n",
       "      <td>2.172961e+06</td>\n",
       "      <td>9.726954e+05</td>\n",
       "      <td>9.940334e+05</td>\n",
       "      <td>1.844087e+06</td>\n",
       "      <td>2.827983e+05</td>\n",
       "      <td>1.542231e+06</td>\n",
       "      <td>9.242209e+05</td>\n",
       "      <td>9.788292e+05</td>\n",
       "      <td>1.713525e+06</td>\n",
       "      <td>...</td>\n",
       "      <td>1.517526e+06</td>\n",
       "      <td>1.392025e+07</td>\n",
       "      <td>2.835576e+06</td>\n",
       "      <td>7.198355e+04</td>\n",
       "      <td>6.991312e+05</td>\n",
       "      <td>3.971557e+06</td>\n",
       "      <td>2.616668e+05</td>\n",
       "      <td>1.427336e+06</td>\n",
       "      <td>3.410576e+06</td>\n",
       "      <td>1.412363e+06</td>\n",
       "    </tr>\n",
       "    <tr>\n",
       "      <th>ENSG00000000460</th>\n",
       "      <td>0.000000e+00</td>\n",
       "      <td>0.000000e+00</td>\n",
       "      <td>1.151876e+06</td>\n",
       "      <td>0.000000e+00</td>\n",
       "      <td>4.862468e+04</td>\n",
       "      <td>0.000000e+00</td>\n",
       "      <td>0.000000e+00</td>\n",
       "      <td>0.000000e+00</td>\n",
       "      <td>0.000000e+00</td>\n",
       "      <td>0.000000e+00</td>\n",
       "      <td>...</td>\n",
       "      <td>6.653662e+04</td>\n",
       "      <td>0.000000e+00</td>\n",
       "      <td>0.000000e+00</td>\n",
       "      <td>0.000000e+00</td>\n",
       "      <td>0.000000e+00</td>\n",
       "      <td>0.000000e+00</td>\n",
       "      <td>7.228066e+05</td>\n",
       "      <td>0.000000e+00</td>\n",
       "      <td>3.223105e+04</td>\n",
       "      <td>0.000000e+00</td>\n",
       "    </tr>\n",
       "    <tr>\n",
       "      <th>ENSG00000000938</th>\n",
       "      <td>1.871070e+06</td>\n",
       "      <td>8.920061e+07</td>\n",
       "      <td>0.000000e+00</td>\n",
       "      <td>3.279481e+07</td>\n",
       "      <td>2.121059e+05</td>\n",
       "      <td>6.437665e+04</td>\n",
       "      <td>2.258924e+06</td>\n",
       "      <td>4.874992e+06</td>\n",
       "      <td>2.760374e+07</td>\n",
       "      <td>1.281084e+06</td>\n",
       "      <td>...</td>\n",
       "      <td>1.804000e+07</td>\n",
       "      <td>1.252372e+05</td>\n",
       "      <td>3.258188e+06</td>\n",
       "      <td>3.427881e+05</td>\n",
       "      <td>2.676863e+07</td>\n",
       "      <td>5.809931e+06</td>\n",
       "      <td>3.230289e+05</td>\n",
       "      <td>7.116572e+05</td>\n",
       "      <td>2.505728e+07</td>\n",
       "      <td>1.676871e+07</td>\n",
       "    </tr>\n",
       "  </tbody>\n",
       "</table>\n",
       "<p>5 rows × 29 columns</p>\n",
       "</div>"
      ],
      "text/plain": [
       "                 Adrenal gland      Appendix         Brain         Colon  \\\n",
       "Gene ID                                                                    \n",
       "ENSG00000000003   8.300694e+06  3.282850e+05  7.492897e+06  1.431124e+07   \n",
       "ENSG00000000419   1.322339e+08  2.289544e+07  4.387436e+07  5.015452e+07   \n",
       "ENSG00000000457   3.383521e+06  2.172961e+06  9.726954e+05  9.940334e+05   \n",
       "ENSG00000000460   0.000000e+00  0.000000e+00  1.151876e+06  0.000000e+00   \n",
       "ENSG00000000938   1.871070e+06  8.920061e+07  0.000000e+00  3.279481e+07   \n",
       "\n",
       "                     Duodenum   Endometrium     Esophagus  Fallopian tube  \\\n",
       "Gene ID                                                                     \n",
       "ENSG00000000003  6.085574e+07  2.974373e+06  0.000000e+00    3.262757e+07   \n",
       "ENSG00000000419  9.750477e+07  7.904211e+07  6.746994e+07    9.495969e+07   \n",
       "ENSG00000000457  1.844087e+06  2.827983e+05  1.542231e+06    9.242209e+05   \n",
       "ENSG00000000460  4.862468e+04  0.000000e+00  0.000000e+00    0.000000e+00   \n",
       "ENSG00000000938  2.121059e+05  6.437665e+04  2.258924e+06    4.874992e+06   \n",
       "\n",
       "                          Fat   Gallbladder       ...               Rectum  \\\n",
       "Gene ID                                           ...                        \n",
       "ENSG00000000003  0.000000e+00  1.638398e+07       ...         4.796333e+06   \n",
       "ENSG00000000419  5.360681e+07  5.777141e+07       ...         6.904815e+07   \n",
       "ENSG00000000457  9.788292e+05  1.713525e+06       ...         1.517526e+06   \n",
       "ENSG00000000460  0.000000e+00  0.000000e+00       ...         6.653662e+04   \n",
       "ENSG00000000938  2.760374e+07  1.281084e+06       ...         1.804000e+07   \n",
       "\n",
       "                 Salivary gland  Small intestine  Smooth muscle        Spleen  \\\n",
       "Gene ID                                                                         \n",
       "ENSG00000000003    5.775487e+08     1.312179e+07   1.742112e+06  0.000000e+00   \n",
       "ENSG00000000419    1.912209e+08     9.732075e+07   2.223469e+07  5.744411e+07   \n",
       "ENSG00000000457    1.392025e+07     2.835576e+06   7.198355e+04  6.991312e+05   \n",
       "ENSG00000000460    0.000000e+00     0.000000e+00   0.000000e+00  0.000000e+00   \n",
       "ENSG00000000938    1.252372e+05     3.258188e+06   3.427881e+05  2.676863e+07   \n",
       "\n",
       "                      Stomach        Testis       Thyroid        Tonsil  \\\n",
       "Gene ID                                                                   \n",
       "ENSG00000000003  3.196343e+07  7.855154e+07  3.965517e+07  0.000000e+00   \n",
       "ENSG00000000419  9.072282e+07  8.709471e+07  2.795720e+08  6.998812e+07   \n",
       "ENSG00000000457  3.971557e+06  2.616668e+05  1.427336e+06  3.410576e+06   \n",
       "ENSG00000000460  0.000000e+00  7.228066e+05  0.000000e+00  3.223105e+04   \n",
       "ENSG00000000938  5.809931e+06  3.230289e+05  7.116572e+05  2.505728e+07   \n",
       "\n",
       "                 Urinary bladder  \n",
       "Gene ID                           \n",
       "ENSG00000000003     1.524580e+07  \n",
       "ENSG00000000419     6.019055e+07  \n",
       "ENSG00000000457     1.412363e+06  \n",
       "ENSG00000000460     0.000000e+00  \n",
       "ENSG00000000938     1.676871e+07  \n",
       "\n",
       "[5 rows x 29 columns]"
      ]
     },
     "execution_count": 75,
     "metadata": {},
     "output_type": "execute_result"
    }
   ],
   "source": [
    "#Reading new fpkm excel file, matched genes from proteome\n",
    "genes_proteome = pd.read_excel('../Proteome/Table_EV1.xlsx',sheet_name='C. Genes',index_col=0)\n",
    "genes_proteome_subset = genes_proteome.drop(labels=['Gene name','Tissue enriched','Group enriched','Tissue enhanced','Classification'],axis=1)\n",
    "genes_proteome_subset.head()"
   ]
  },
  {
   "cell_type": "code",
   "execution_count": 81,
   "metadata": {},
   "outputs": [
    {
     "data": {
      "text/plain": [
       "13413"
      ]
     },
     "execution_count": 81,
     "metadata": {},
     "output_type": "execute_result"
    }
   ],
   "source": [
    "protein_rna_genes = set(genes_proteome_subset.index)&set(rna_fpkm_subset.index) #length of 13413\n",
    "protein_rna_genes_subset = rna_fpkm_subset.loc[protein_rna_genes]\n",
    "len(protein_rna_genes_subset)"
   ]
  },
  {
   "cell_type": "code",
   "execution_count": 82,
   "metadata": {},
   "outputs": [
    {
     "data": {
      "text/plain": [
       "13405"
      ]
     },
     "execution_count": 82,
     "metadata": {},
     "output_type": "execute_result"
    }
   ],
   "source": [
    "#Thresholding for FPKM\n",
    "thresh=1\n",
    "rna_thresh = protein_rna_genes_subset[(protein_rna_genes_subset<=thresh).sum(axis=1)!=29] #removes genes that have expression level for ALL TISSUES less than or equal to thresh\n",
    "missing_thresh_genes = set(rna_thresh.index)-set(matched_unique_proteins['gene_id'])\n",
    "matched_thresh_genes = set(rna_thresh.index)&set(matched_unique_proteins['gene_id'])\n",
    "rna_missing = rna_thresh.loc[list(missing_thresh_genes)]\n",
    "rna_thresh = rna_thresh.loc[list(matched_thresh_genes)]\n",
    "len(matched_thresh_genes)"
   ]
  },
  {
   "cell_type": "code",
   "execution_count": 83,
   "metadata": {},
   "outputs": [
    {
     "name": "stdout",
     "output_type": "stream",
     "text": [
      "runtime 70.17542243003845\n"
     ]
    }
   ],
   "source": [
    "#Comment out line below if using original matrix\n",
    "start=time.time()\n",
    "col_names=['all','t_enhanced','t_enriched','mixed','g_enriched']\n",
    "rna_thresh_classified = pd.DataFrame(index=rna_thresh.index,columns=col_names)\n",
    "for gene in rna_thresh_classified.index:\n",
    "    #Gene can only fall into 1 of the 5 categories, but can have multiple tisues for it\n",
    "    # 1 Expressed in all -> tpm above thresh for all tissuse\n",
    "    # 2 tissue-enriched, a single tissue, 5 fold higher than the rest of tissues\n",
    "    # 3 group-enriched, 5-fold higher average TPM value in a group of 2-7 tissues compared to all other tissues\n",
    "    # 4 tissue-enhanced - 5-fold higher in a tissue compared to avg of all other tissues\n",
    "    # 5 mixed - genes with tpm>thresh and not fitting into any of the categories above\n",
    "    \n",
    "    #rank the expression level of each tissue, used in conditions below\n",
    "    ranked = rna_thresh.loc[gene].sort_values(ascending=False)\n",
    "    \n",
    "    #avg of top groups,7,6,...2, descending order\n",
    "    group_means = [ranked[0:7-i].mean() for i in range(7)]\n",
    "    \n",
    "    #average over all values\n",
    "    avg = np.mean(ranked)\n",
    "    \n",
    "    if all(rna_thresh.loc[gene]>thresh):\n",
    "        rna_thresh_classified.at[gene,'all']=1\n",
    "        \n",
    "    elif all(ranked[0]>=5*ranked[1::]):\n",
    "        rna_thresh_classified.at[gene,'t_enriched']=ranked.index[0]\n",
    "        \n",
    "    elif any([all(avg>=5*ranked[7-i::]) for i,avg in enumerate(group_means)]):\n",
    "        for i in range(7):\n",
    "            if all(group_means[i]>=5*ranked[7-i::]):\n",
    "                rna_thresh_classified.at[gene,'g_enriched']=','.join(ranked.index[0:7-i])\n",
    "                break\n",
    "                \n",
    "    elif any([val>5*avg for val in ranked]):\n",
    "        genes=[]\n",
    "        for i, val in enumerate(ranked):\n",
    "            if val>=5*avg:\n",
    "                genes.append(ranked.index[i])\n",
    "        rna_thresh_classified.at[gene,'t_enhanced']=','.join(genes)\n",
    "    \n",
    "    else:\n",
    "        genes=[]\n",
    "        for i, val in enumerate(ranked):\n",
    "            if val>thresh:\n",
    "                genes.append(ranked.index[i])\n",
    "        rna_thresh_classified.at[gene,'mixed']=','.join(genes)\n",
    "\n",
    "print(f'runtime {time.time()-start}')"
   ]
  },
  {
   "cell_type": "code",
   "execution_count": 88,
   "metadata": {},
   "outputs": [
    {
     "data": {
      "image/png": "[encoded data removed]",
      "text/plain": [
       "<Figure size 720x720 with 1 Axes>"
      ]
     },
     "metadata": {
      "needs_background": "light"
     },
     "output_type": "display_data"
    }
   ],
   "source": [
    "exp_all = sum(~rna_thresh_classified['all'].isnull())\n",
    "\n",
    "#tissue enriched\n",
    "tis_enriched=','.join(rna_thresh_classified['t_enriched'][~rna_thresh_classified['t_enriched'].isnull()])\n",
    "tis_enriched = tis_enriched.split(',')\n",
    "tis_enriched_counted = Counter(tis_enriched)\n",
    "\n",
    "#group enriched\n",
    "grp_enriched=','.join(rna_thresh_classified['g_enriched'][~rna_thresh_classified['g_enriched'].isnull()])\n",
    "grp_enriched = grp_enriched.split(',')\n",
    "grp_enriched_counted = Counter(grp_enriched)\n",
    "\n",
    "#tissue enhanced\n",
    "tis_enhanced = ','.join(rna_thresh_classified['t_enhanced'][~rna_thresh_classified['t_enhanced'].isnull()])\n",
    "tis_enhanced = tis_enhanced.split(',')\n",
    "tis_enhanced_counted = Counter(tis_enhanced)\n",
    "\n",
    "#Mixed\n",
    "mixed = ','.join(rna_thresh_classified['mixed'][~rna_thresh_classified['mixed'].isnull()])\n",
    "mixed = mixed.split(',')\n",
    "mixed_counted = Counter(mixed)\n",
    "\n",
    "exp_all_dict={}\n",
    "for tissue in list(rna_thresh.columns):\n",
    "    exp_all_dict[tissue] = exp_all\n",
    "    if tissue not in tis_enriched_counted.keys():\n",
    "        tis_enriched_counted[tissue]=0\n",
    "    if tissue not in grp_enriched_counted.keys():\n",
    "        grp_enriched_counted[tissue]=0\n",
    "    if tissue not in tis_enhanced_counted.keys():\n",
    "        tis_enhanced_counted[tissue]=0\n",
    "    if tissue not in mixed_counted.keys():\n",
    "        mixed_counted[tissue]=0\n",
    "exp_all_dict = Counter(exp_all_dict)\n",
    "\n",
    "classified = pd.DataFrame([exp_all_dict,mixed_counted,tis_enhanced_counted,grp_enriched_counted,tis_enriched_counted]).T\n",
    "classified.columns=['all','mixed','tis_enhanced','grp_enriched','tis_enriched']\n",
    "running_sum=classified.cumsum(axis=1)\n",
    "\n",
    "fig = plt.figure()\n",
    "ax = fig.add_subplot(111)\n",
    "fig.set_size_inches((10,10))\n",
    "\n",
    "ax.barh(classified.index,classified['all'],color='paleturquoise')\n",
    "ax.barh(classified.index,classified['mixed'],left=running_sum['all'],color='mediumturquoise')\n",
    "ax.barh(classified.index,classified['tis_enhanced'],left=running_sum['mixed'],color='deepskyblue')\n",
    "ax.barh(classified.index,classified['grp_enriched'],left=running_sum['tis_enhanced'],color='steelblue')\n",
    "ax.barh(classified.index,classified['tis_enriched'],left=running_sum['grp_enriched'],color='navy')\n",
    "ax.invert_yaxis()\n",
    "ax.set_title(\"FPKM Thresholded Classified Transcripts Found in Proteome Per Tissue\")\n",
    "box = ax.get_position()\n",
    "ax.set_position([box.x0, box.y0, box.width * 0.8, box.height])\n",
    "ax.legend(['All','Mixed','Tissue Enhanced','Group Enhanced','Tissue Enriched'],loc='center left', bbox_to_anchor=(1, 0.5))\n",
    "#fig.savefig('FPKMclassified_transcripts_protein.png',bbox_inches='tight')"
   ]
  },
  {
   "cell_type": "markdown",
   "metadata": {},
   "source": []
  },
  {
   "cell_type": "code",
   "execution_count": 90,
   "metadata": {},
   "outputs": [],
   "source": [
    "rna_fpkm_6725 = rna_fpkm[rna_fpkm['Classification']=='Expressed in all'].index"
   ]
  },
  {
   "cell_type": "code",
   "execution_count": 92,
   "metadata": {},
   "outputs": [],
   "source": [
    "rna_above_trhesh = rna_fpkm_subset[(rna_fpkm_subset>1).sum(axis=1)==29].index"
   ]
  },
  {
   "cell_type": "code",
   "execution_count": 94,
   "metadata": {},
   "outputs": [
    {
     "data": {
      "text/plain": [
       "6765"
      ]
     },
     "execution_count": 94,
     "metadata": {},
     "output_type": "execute_result"
    }
   ],
   "source": [
    "len(rna_above_trhesh)"
   ]
  },
  {
   "cell_type": "code",
   "execution_count": 98,
   "metadata": {
    "scrolled": true
   },
   "outputs": [
    {
     "data": {
      "text/plain": [
       "{'ENSG00000000971',\n",
       " 'ENSG00000014641',\n",
       " 'ENSG00000023330',\n",
       " 'ENSG00000072042',\n",
       " 'ENSG00000073060',\n",
       " 'ENSG00000076351',\n",
       " 'ENSG00000076555',\n",
       " 'ENSG00000084693',\n",
       " 'ENSG00000085662',\n",
       " 'ENSG00000086619',\n",
       " 'ENSG00000090382',\n",
       " 'ENSG00000100577',\n",
       " 'ENSG00000101608',\n",
       " 'ENSG00000102755',\n",
       " 'ENSG00000103994',\n",
       " 'ENSG00000104812',\n",
       " 'ENSG00000106351',\n",
       " 'ENSG00000109846',\n",
       " 'ENSG00000113790',\n",
       " 'ENSG00000115414',\n",
       " 'ENSG00000115486',\n",
       " 'ENSG00000119711',\n",
       " 'ENSG00000119927',\n",
       " 'ENSG00000125730',\n",
       " 'ENSG00000126709',\n",
       " 'ENSG00000129757',\n",
       " 'ENSG00000130203',\n",
       " 'ENSG00000130208',\n",
       " 'ENSG00000130707',\n",
       " 'ENSG00000132541',\n",
       " 'ENSG00000134531',\n",
       " 'ENSG00000135046',\n",
       " 'ENSG00000135919',\n",
       " 'ENSG00000135929',\n",
       " 'ENSG00000136811',\n",
       " 'ENSG00000136867',\n",
       " 'ENSG00000137714',\n",
       " 'ENSG00000137801',\n",
       " 'ENSG00000140263',\n",
       " 'ENSG00000140416',\n",
       " 'ENSG00000143153',\n",
       " 'ENSG00000143499',\n",
       " 'ENSG00000146674',\n",
       " 'ENSG00000149476',\n",
       " 'ENSG00000151726',\n",
       " 'ENSG00000151729',\n",
       " 'ENSG00000152620',\n",
       " 'ENSG00000159713',\n",
       " 'ENSG00000160213',\n",
       " 'ENSG00000163110',\n",
       " 'ENSG00000163220',\n",
       " 'ENSG00000165113',\n",
       " 'ENSG00000165410',\n",
       " 'ENSG00000165507',\n",
       " 'ENSG00000166333',\n",
       " 'ENSG00000168209',\n",
       " 'ENSG00000169136',\n",
       " 'ENSG00000169442',\n",
       " 'ENSG00000169738',\n",
       " 'ENSG00000170899',\n",
       " 'ENSG00000171621',\n",
       " 'ENSG00000171766',\n",
       " 'ENSG00000172831',\n",
       " 'ENSG00000173786',\n",
       " 'ENSG00000175197',\n",
       " 'ENSG00000178104',\n",
       " 'ENSG00000178234',\n",
       " 'ENSG00000182809',\n",
       " 'ENSG00000182919',\n",
       " 'ENSG00000184481',\n",
       " 'ENSG00000184575',\n",
       " 'ENSG00000185000',\n",
       " 'ENSG00000188643',\n",
       " 'ENSG00000196177',\n",
       " 'ENSG00000197930',\n",
       " 'ENSG00000197971',\n",
       " 'ENSG00000204389',\n",
       " 'ENSG00000205403',\n",
       " 'ENSG00000211445',\n",
       " 'ENSG00000228253',\n",
       " 'ENSG00000240038',\n",
       " 'ENSG00000240184',\n",
       " 'ENSG00000242110',\n",
       " 'ENSG00000243989',\n",
       " 'ENSG00000256235',\n",
       " 'ENSG00000278535'}"
      ]
     },
     "execution_count": 98,
     "metadata": {},
     "output_type": "execute_result"
    }
   ],
   "source": [
    "set(rna_above_trhesh)-set(rna_fpkm_6725)"
   ]
  },
  {
   "cell_type": "code",
   "execution_count": 95,
   "metadata": {},
   "outputs": [
    {
     "data": {
      "text/plain": [
       "False"
      ]
     },
     "execution_count": 95,
     "metadata": {},
     "output_type": "execute_result"
    }
   ],
   "source": [
    "'ENSG00000014641' in rna_fpkm_6725"
   ]
  },
  {
   "cell_type": "code",
   "execution_count": 102,
   "metadata": {
    "scrolled": true
   },
   "outputs": [
    {
     "data": {
      "text/plain": [
       "Gene name                         ALAS1\n",
       "Adrenal gland                    560.77\n",
       "Appendix                          17.62\n",
       "Brain                             14.04\n",
       "Colon                             34.73\n",
       "Duodenum                          30.96\n",
       "Endometrium                       15.87\n",
       "Esophagus                         24.32\n",
       "Fallopian tube                    11.89\n",
       "Fat                               19.97\n",
       "Gallbladder                       20.72\n",
       "Heart                             88.29\n",
       "Kidney                            27.01\n",
       "Liver                            343.38\n",
       "Lung                              44.91\n",
       "Lymph node                        16.42\n",
       "Ovary                             11.34\n",
       "Pancreas                           7.81\n",
       "Placenta                          22.98\n",
       "Prostate                          19.26\n",
       "Rectum                            26.82\n",
       "Salivary gland                    35.17\n",
       "Small intestine                   31.93\n",
       "Smooth muscle                     16.26\n",
       "Spleen                            11.74\n",
       "Stomach                           26.67\n",
       "Testis                            20.39\n",
       "Thyroid                           10.54\n",
       "Tonsil                            20.19\n",
       "Urinary bladder                   26.94\n",
       "Tissue enriched           Adrenal gland\n",
       "Group enriched     Liver;Adrenal gland;\n",
       "Tissue enhance                      NaN\n",
       "Classification           Group enriched\n",
       "Name: ENSG00000023330, dtype: object"
      ]
     },
     "execution_count": 102,
     "metadata": {},
     "output_type": "execute_result"
    }
   ],
   "source": [
    "rna_fpkm.loc['ENSG00000023330']"
   ]
  }
 ],
 "metadata": {
  "kernelspec": {
   "display_name": "Python 3",
   "language": "python",
   "name": "python3"
  },
  "language_info": {
   "codemirror_mode": {
    "name": "ipython",
    "version": 3
   },
   "file_extension": ".py",
   "mimetype": "text/x-python",
   "name": "python",
   "nbconvert_exporter": "python",
   "pygments_lexer": "ipython3",
   "version": "3.6.7"
  }
 },
 "nbformat": 4,
 "nbformat_minor": 2
}
