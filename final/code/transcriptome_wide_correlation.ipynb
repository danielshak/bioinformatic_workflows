{
 "cells": [
  {
   "cell_type": "code",
   "execution_count": 68,
   "metadata": {},
   "outputs": [],
   "source": [
    "import pandas as pd\n",
    "import numpy as np\n",
    "import matplotlib.pyplot as plt\n",
    "from matplotlib.patches import Rectangle\n",
    "\n",
    "from scipy import stats"
   ]
  },
  {
   "cell_type": "code",
   "execution_count": 2,
   "metadata": {},
   "outputs": [],
   "source": [
    "#transcriptome\n",
    "threshold=1\n",
    "rna = pd.read_excel('../RNA-seq/Table_EV2.xlsx',sheet_name='B. Genes',index_col=0)\n",
    "rna.drop(columns=['Classification','Tissue enhance', 'Group enriched','Tissue enriched'],inplace=True)\n",
    "rna.head()\n",
    "rna_vals = rna.drop(columns='Gene name')\n"
   ]
  },
  {
   "cell_type": "code",
   "execution_count": 3,
   "metadata": {},
   "outputs": [],
   "source": [
    "#proteome\n",
    "proteome = pd.read_excel('../RNA-seq/Table_EV1.xlsx',sheet_name='C. Genes',index_col=0)\n",
    "proteome.drop(columns=['Classification','Tissue enhanced', 'Group enriched','Tissue enriched'],inplace=True)\n",
    "proteome.head()\n",
    "proteome_vals = proteome.drop(columns='Gene name')\n"
   ]
  },
  {
   "cell_type": "markdown",
   "metadata": {},
   "source": [
    "### Overlapping genes"
   ]
  },
  {
   "cell_type": "code",
   "execution_count": 4,
   "metadata": {},
   "outputs": [],
   "source": [
    "genes = set(rna_vals.index)&set(proteome_vals.index)"
   ]
  },
  {
   "cell_type": "code",
   "execution_count": 5,
   "metadata": {},
   "outputs": [],
   "source": [
    "spearman_r = rna_vals.loc[genes].corrwith(proteome_vals.loc[genes],axis=1,method='spearman')"
   ]
  },
  {
   "cell_type": "code",
   "execution_count": 17,
   "metadata": {},
   "outputs": [],
   "source": [
    "corr = []\n",
    "for gene in genes:\n",
    "    corr.append(stats.spearmanr(rna_vals.loc[gene], proteome_vals.loc[gene]))"
   ]
  },
  {
   "cell_type": "code",
   "execution_count": 21,
   "metadata": {},
   "outputs": [],
   "source": [
    "rho=[]\n",
    "p=[]\n",
    "for val in corr:\n",
    "    if val[0]<1:\n",
    "        rho.append(val[0])\n",
    "        p.append(val[1])"
   ]
  },
  {
   "cell_type": "code",
   "execution_count": 36,
   "metadata": {},
   "outputs": [
    {
     "data": {
      "text/plain": [
       "array([-0.59593285, -0.56937649, -0.54282012, -0.51626376, -0.4897074 ,\n",
       "       -0.46315103, -0.43659467, -0.41003831, -0.38348194, -0.35692558,\n",
       "       -0.33036921, -0.30381285, -0.27725649, -0.25070012, -0.22414376,\n",
       "       -0.19758739, -0.17103103, -0.14447467, -0.1179183 , -0.09136194,\n",
       "       -0.06480557, -0.03824921, -0.01169285,  0.01486352,  0.04141988,\n",
       "        0.06797624,  0.09453261,  0.12108897,  0.14764534,  0.1742017 ,\n",
       "        0.20075806,  0.22731443,  0.25387079,  0.28042716,  0.30698352,\n",
       "        0.33353988,  0.36009625,  0.38665261,  0.41320897,  0.43976534,\n",
       "        0.4663217 ,  0.49287807,  0.51943443,  0.54599079,  0.57254716,\n",
       "        0.59910352,  0.62565989,  0.65221625,  0.67877261,  0.70532898,\n",
       "        0.73188534,  0.7584417 ,  0.78499807,  0.81155443,  0.8381108 ,\n",
       "        0.86466716,  0.89122352,  0.91777989,  0.94433625,  0.97089262,\n",
       "        0.99744898])"
      ]
     },
     "execution_count": 36,
     "metadata": {},
     "output_type": "execute_result"
    }
   ],
   "source": [
    "bins"
   ]
  },
  {
   "cell_type": "code",
   "execution_count": 82,
   "metadata": {},
   "outputs": [
    {
     "data": {
      "image/png": "[encoded data removed]",
      "text/plain": [
       "<Figure size 576x576 with 1 Axes>"
      ]
     },
     "metadata": {
      "needs_background": "light"
     },
     "output_type": "display_data"
    }
   ],
   "source": [
    "fig, ax = plt.subplots()\n",
    "fig.set_size_inches((8,8))\n",
    "N, bins, patches = ax.hist(rho,bins=60)\n",
    "\n",
    "low = 'darkgrey'\n",
    "high = 'cornflowerblue'\n",
    "\n",
    "for i in range(len(N)):\n",
    "    if bins[i]<0:\n",
    "        patches[i].set_facecolor('darkgrey')\n",
    "        patches[i].set_label('12% negative correlation')\n",
    "    elif bins[i]>=0:\n",
    "        patches[i].set_facecolor('cornflowerblue')\n",
    "        patches[i].set_label('88% positive correlation')\n",
    "        \n",
    "handles = [Rectangle((0,0),1,1,color=c,ec=\"k\") for c in [low, high]]\n",
    "labels= [\"11% negative correlation\", \"89% positive correlation\"]\n",
    "ax.legend(handles, labels)\n",
    "ax.set_title(\"Correlation Between All Matching Genes (13,413)\")\n",
    "ax.set_xlabel(\"Spearman Correlation (rho)\")\n",
    "ax.set_ylabel(\"# of genes\")\n",
    "#fig.savefig('Correlation_all_genes')"
   ]
  },
  {
   "cell_type": "code",
   "execution_count": 71,
   "metadata": {},
   "outputs": [
    {
     "data": {
      "text/plain": [
       "array([  1.,   0.,   0.,   1.,   0.,   3.,   2.,  12.,  14.,  14.,  19.,\n",
       "        23.,  35.,  48.,  64.,  78.,  85., 101., 134., 178., 187., 208.,\n",
       "       222., 255., 285., 346., 367., 407., 422., 427., 519., 513., 521.,\n",
       "       524., 593., 551., 533., 578., 519., 520., 461., 460., 452., 345.,\n",
       "       353., 291., 306., 307., 228., 237., 158., 152., 127.,  81.,  49.,\n",
       "        31.,   9.,   6.,   0.,   3.])"
      ]
     },
     "execution_count": 71,
     "metadata": {},
     "output_type": "execute_result"
    }
   ],
   "source": [
    "N\n"
   ]
  },
  {
   "cell_type": "code",
   "execution_count": 73,
   "metadata": {},
   "outputs": [],
   "source": [
    "pos=0\n",
    "neg=0\n",
    "for val,num in zip(bins,N):\n",
    "    if val<0:\n",
    "        neg+=num\n",
    "    else:\n",
    "        pos+=num"
   ]
  },
  {
   "cell_type": "code",
   "execution_count": 76,
   "metadata": {},
   "outputs": [
    {
     "data": {
      "text/plain": [
       "0.893078937523382"
      ]
     },
     "execution_count": 76,
     "metadata": {},
     "output_type": "execute_result"
    }
   ],
   "source": [
    "pos/sum(N)"
   ]
  },
  {
   "cell_type": "code",
   "execution_count": 77,
   "metadata": {},
   "outputs": [
    {
     "data": {
      "text/plain": [
       "0.10692106247661803"
      ]
     },
     "execution_count": 77,
     "metadata": {},
     "output_type": "execute_result"
    }
   ],
   "source": [
    "neg/sum(N)"
   ]
  },
  {
   "cell_type": "code",
   "execution_count": 88,
   "metadata": {},
   "outputs": [
    {
     "data": {
      "text/plain": [
       "(array([9077]),)"
      ]
     },
     "execution_count": 88,
     "metadata": {},
     "output_type": "execute_result"
    }
   ],
   "source": [
    "np.where(proteome['Gene name']=='SYK')"
   ]
  },
  {
   "cell_type": "code",
   "execution_count": 87,
   "metadata": {},
   "outputs": [
    {
     "data": {
      "text/plain": [
       "(array([10910]),)"
      ]
     },
     "execution_count": 87,
     "metadata": {},
     "output_type": "execute_result"
    }
   ],
   "source": [
    "np.where(rna['Gene name']=='SYK') #ENSG00000165025"
   ]
  },
  {
   "cell_type": "code",
   "execution_count": 90,
   "metadata": {},
   "outputs": [
    {
     "data": {
      "text/plain": [
       "(array([7755]),)"
      ]
     },
     "execution_count": 90,
     "metadata": {},
     "output_type": "execute_result"
    }
   ],
   "source": [
    "np.where(rna['Gene name']=='EIF4A3') #ENSG00000141543"
   ]
  },
  {
   "cell_type": "code",
   "execution_count": 96,
   "metadata": {},
   "outputs": [],
   "source": [
    "SYK = {}\n",
    "SYK['rna']=np.log10(rna_vals.loc['ENSG00000165025'])\n",
    "SYK['protein']=np.log10(proteome_vals.loc['ENSG00000165025'])\n",
    "\n",
    "EIF4A3 = {}\n",
    "EIF4A3['rna']=np.log10(rna_vals.loc['ENSG00000141543'])\n",
    "EIF4A3['protein']=np.log10(proteome_vals.loc['ENSG00000141543'])\n"
   ]
  },
  {
   "cell_type": "code",
   "execution_count": 150,
   "metadata": {},
   "outputs": [
    {
     "data": {
      "image/png": "[encoded data removed]",
      "text/plain": [
       "<Figure size 360x360 with 1 Axes>"
      ]
     },
     "metadata": {
      "needs_background": "light"
     },
     "output_type": "display_data"
    }
   ],
   "source": [
    "fig = plt.figure()\n",
    "ax = fig.add_subplot(111)\n",
    "fig.set_size_inches((5,5))\n",
    "\n",
    "rho,p = stats.spearmanr(SYK['rna'],SYK['protein'])\n",
    "plt.text(.25,6.25,f'rho={rho:.2f}, p_val={p:.2f}')\n",
    "ax.scatter(SYK['rna'],SYK['protein'],marker='o',alpha=.75,edgecolors='black',c='g')\n",
    "ax.set_xlim(0,2.25)\n",
    "ax.set_ylim(6,9.5)\n",
    "ax.set_ylabel('Log10 [iBAQ]')\n",
    "ax.set_xlabel('Log10 [FPKM]')\n",
    "ax.set_title('SYK gene to protein correlation')\n",
    "#fig.savefig('SYK_correlation')"
   ]
  },
  {
   "cell_type": "code",
   "execution_count": 151,
   "metadata": {},
   "outputs": [
    {
     "data": {
      "image/png": "[encoded data removed]",
      "text/plain": [
       "<Figure size 360x360 with 1 Axes>"
      ]
     },
     "metadata": {
      "needs_background": "light"
     },
     "output_type": "display_data"
    }
   ],
   "source": [
    "fig = plt.figure()\n",
    "ax = fig.add_subplot(111)\n",
    "fig.set_size_inches((5,5))\n",
    "\n",
    "rho,p = stats.spearmanr(EIF4A3['rna'],EIF4A3['protein'])\n",
    "\n",
    "\n",
    "ax.scatter(EIF4A3['rna'],EIF4A3['protein'],marker='o',alpha=.75,edgecolors='black',c='g')\n",
    "#ax.legend((rho[0],p[0]),('rho','p_value'))\n",
    "ax.set_xlim(0,2.25)\n",
    "ax.set_ylim()\n",
    "ax.set_ylim(6,9.5)\n",
    "ax.set_ylabel('Log10 [iBAQ]')\n",
    "ax.set_xlabel('Log10 [FPKM]')\n",
    "plt.text(.25,6.25,f'rho={rho:.2f}, p_val={p:.2f}')\n",
    "ax.set_title('EIF4A3 gene to protein correlation')\n",
    "#fig.savefig('EIF4A3_correlation')"
   ]
  },
  {
   "cell_type": "code",
   "execution_count": null,
   "metadata": {},
   "outputs": [],
   "source": []
  }
 ],
 "metadata": {
  "kernelspec": {
   "display_name": "Python 3",
   "language": "python",
   "name": "python3"
  },
  "language_info": {
   "codemirror_mode": {
    "name": "ipython",
    "version": 3
   },
   "file_extension": ".py",
   "mimetype": "text/x-python",
   "name": "python",
   "nbconvert_exporter": "python",
   "pygments_lexer": "ipython3",
   "version": "3.6.7"
  }
 },
 "nbformat": 4,
 "nbformat_minor": 2
}
