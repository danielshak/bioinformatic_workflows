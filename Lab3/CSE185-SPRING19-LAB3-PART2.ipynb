{
 "cells": [
  {
   "cell_type": "markdown",
   "metadata": {},
   "source": [
    "# Week 3 Lab: Population genetics (How tall should I be?)\n",
    "\n",
    "\n",
    "## Part 2\n",
    "**Due: Monday 4/22/19 11:59pm**\n",
    "\n",
    "**Partner: ** (optional. You must both turn in the assignment.)\n",
    "\n",
    "Skills covered: GWAS, plink, p-values, plotting\n",
    "\n",
    "Height is a great example of a *complex trait*: On one hand, we know height has some genetic component. For example, height is about 80% correlated between identical twins. On the other hand, height is influenced by many other factors, like diet for example.\n",
    "\n",
    "There is no single gene that controls height. Rather, literally thousands of SNPs and other types of variants in our genome work together to help determine how tall any individual person will be.\n",
    "\n",
    "We would like to determine which positions in the genome are responsible for height. We have collected a cohort of people with diverse backgrounds (the same set of people from Tuesday's lab) and have also measured their height. The goal of today's lab is to perform a GWAS on these samples to find specific SNPs that are correlated with height. We'll also explore the effects of confounding factors including sex and ancestry on our analysis.\n",
    "\n",
    "## 1. Meet plink, the swiss army knife for population genetics\n",
    "\n",
    "For our GWAS and related analyses, we'll primarily be using the [plink](https://www.cog-genomics.org/plink/1.9) package, which is a general toolkit for doing all kinds of operations on genetic datasets.\n",
    "\n",
    "Plink can do dozens of different things, which is great but can be a little overwhelming. We won't be using most options available in plink so will walk through the specific flags in most cases. \n",
    "\n",
    "Before diving in, let's get familiar with the plink (yet another) file format. On Tuesday, our genotypes were in VCF format. Plink mostly uses its own format to store genotypes, which is just another way to store the kind of info available in VCF files. \n",
    "\n",
    "Almost every plink command takes `--file` as an argument, which gives a prefix to the following files:\n",
    "* `$PREFIX.ped`: This file contains all the genotype information. There is one row per individual. The columns are described [here](https://www.cog-genomics.org/plink2/formats#ped). There are 2V+6 fields, where V is the number of variants. The first 6 columns contain: family id, sample id, id of father (if known), id of mother (if known), sex code, and phenotype value. Each column after that gives the genotype for each variant in each sample. There are two columns giving the two alleles of each sample.\n",
    "* `$PREFIX.map`: This file describes the variants whose genotypes are given in the .ped file. It has four columns: chromosome, SNP ID, position in centimorgans (or 0 if ignored), and genomic position.\n",
    "* `$PREFIX.fam`: Same as the first 6 columns of the .ped file.\n",
    "\n",
    "We will have one additional file with phenotype information, which could have alternatively been stored in the .ped file:\n",
    "* `$PREFIX.phen`: This file has 3 columns: family id, sample id, and phenotype. \n",
    "\n",
    "Here our samples aren't related, so we don't need to worry about family IDs. We have just set those to be the same as the sample IDs.\n",
    "\n",
    "Since it takes a while, we have already gone ahead and converted the genotypes from our cohort to plink format. We used the command below to make plink files in the `week3` directory (**don't run this though!**)\n",
    "\n",
    "```shell\n",
    "# Don't run this! Just shown FYI\n",
    "plink --snps-only --vcf gtdata_1000Genomes.vcf.gz --recode --out gtdata_1000Genomes\n",
    "```\n",
    "\n",
    "This produced `gtdata_1000Genomes.ped` and `gtdata_1000Genomes.map`. We also have added a `gtdata_1000Genomes.fam` which includes the sex of each sample, as well as `gtdata_1000Genomes.phen` which includes the phenotype. Here the phenotype (height) is a quantitative value (which may be negative, since it has been normalized to have mean 0 and variance 1).\n",
    "\n",
    "`plink` is very helpful for performing many different operations on genetics datasets, including subsetting samples or variants, computing quality control metrics, and performing association tests. To get started, we will first create a new dataset consisting only of European samples. While we could analyze all samples together, as we'll see below the more homogeneous our data is the better power our GWAS will have in general.\n",
    "\n",
    "**Question 1 (3 pts)**: First create a file at `~/week3/eur_samples.keep` containing the family and sample ids (first two columns of the FAM file) for all samples with ancestries CEU, FIN, GBR, or TSI (these are all European sub populations). Recall you can look up population codes in the file `gtdata_sample_labels.csv` [here](http://www.internationalgenome.org/category/population/). You should be able to do this using UNIX commands. Paste your command(s) below. How many European samples are in your list?\n",
    "\n",
    "Hints (there are many ways to do this):\n",
    "* You could first create a file with European sample IDs by grepping for the corresponding European population groups.\n",
    "* You can then search the `.fam` file for matches to those samples and output only the first two columns (family and sample id).\n",
    "* `grep -f<file.txt>` searches for lines matching any pattern given in `file.txt`"
   ]
  },
  {
   "cell_type": "markdown",
   "metadata": {
    "deletable": false,
    "nbgrader": {
     "checksum": "b0bf03da43657df2b38dae0a780f1e79",
     "grade": true,
     "grade_id": "cell-dbc163b7ddc8f1d7",
     "locked": false,
     "points": 3,
     "schema_version": 1,
     "solution": true
    }
   },
   "source": [
    "To generate text file with European sample IDS:\n",
    "\n",
    "cat ../../../datasets/cs185s-sp19-public/week3/gtdata_sample_labels.csv | grep -E \"GBR|CEU|FIN|TSI\" | cut -d ',' -f1 > eur_sampleIDS.txt\n",
    "\n",
    "Using text file to filter .fam file for sample and family id:\n",
    "\n",
    "cat ../../../datasets/cs185s-sp19-public/week3/gtdata_1000Genomes.fam | grep -f eur_sampleIDS.txt | cut -f 1,2 > eur_samples.keep"
   ]
  },
  {
   "cell_type": "markdown",
   "metadata": {
    "deletable": false,
    "editable": false,
    "nbgrader": {
     "checksum": "e10d7fba75d47aa5d10b499893883897",
     "grade": false,
     "grade_id": "cell-332c23919ced459c",
     "locked": true,
     "schema_version": 1,
     "solution": false
    }
   },
   "source": [
    "**Question 2 (1 pt)**: Now, let's use `plink` to extract data for only these samples. See the [plink page on input filtering](https://www.cog-genomics.org/plink/1.9/filter) to see how to filter a set of samples (hint, using the file we made above) by **modifying** the command below. Paste the command you used in the cell below.\n",
    "\n",
    "```shell\n",
    "plink --file /datasets/cs185s-sp19-public/week3/gtdata_1000Genomes --make-bed --out ~/week3/gtdata_EUR\n",
    "```\n",
    "\n",
    "<font color=\"red\">Note, this can take a while to run. If it is taking too long, we have precomputed the results for you here: `/datasets/cs185s-sp19-public/week3/precomputed/gtdata_EUR*`. You can copy those to your `~/week3` directory if your command is taking too long. But you still need to paste the command you tried to use below!</font>"
   ]
  },
  {
   "cell_type": "markdown",
   "metadata": {
    "deletable": false,
    "nbgrader": {
     "checksum": "f51250a45742ce09c36453b522a48cb1",
     "grade": true,
     "grade_id": "correct-plink-eur",
     "locked": false,
     "points": 1,
     "schema_version": 1,
     "solution": true
    }
   },
   "source": [
    "plink --file /datasets/cs185s-sp19-public/week3/gtdata_1000Genomes --keep eur_samples.keep --make-bed --out ~/week3/gtdata_EUR"
   ]
  },
  {
   "cell_type": "markdown",
   "metadata": {
    "deletable": false,
    "editable": false,
    "nbgrader": {
     "checksum": "9619471411898791bf9ef11f5cd7e406",
     "grade": false,
     "grade_id": "cell-4cde91451b242c0e",
     "locked": true,
     "schema_version": 1,
     "solution": false
    }
   },
   "source": [
    "Note, by including options `--make-bed --out ~/week3/gtdata_EUR`, we are telling `plink` to output files to prefix `~/week3/gtdata_EUR` and to make *binary* files rather than plain text files. Plink binary files consist of a `.bim` and `.bed` file, which contain the same info as the `.ped` and `.map` files (similar to SAM vs. BAM files). (Unfortunately there's not an easy way we know of to look at these binary files similar to `samtools view` for BAM.)\n",
    "\n",
    "For `plink` commands using the binary format, you'll use `--bfile <prefix>` rather than `--file <prefix>` to specify the input files.\n",
    "\n",
    "By the way, these bed files are *different than the BED format we saw on Tuesday* despite having the same name (confusing, I know)."
   ]
  },
  {
   "cell_type": "markdown",
   "metadata": {
    "deletable": false,
    "editable": false,
    "nbgrader": {
     "checksum": "7222fb924b4ed996788c05b7e32054b5",
     "grade": false,
     "grade_id": "cell-a47088e9c5af7b08",
     "locked": true,
     "schema_version": 1,
     "solution": false
    }
   },
   "source": [
    "## 2. Preprocessing the phenotype data\n",
    "\n",
    "Before running your GWAS, it is a good idea to take a look at the phenotype data. The file `gtdata_1000Genomes.phen` in the `week3` directory contains the adjusted height values for each of our samples. Look at the head of the file to see the columns (family ID, sample ID, and phenotype):\n",
    "\n",
    "```\n",
    "head /datasets/cs185s-sp19-public/week3/gtdata_1000Genomes.phen\n",
    "```\n",
    "\n",
    "**Question 3 (1 pt):** Make a new phenotype file at `~/week3/gtdata_EUR.phen` with the phenotype data *only* for the same set of European samples. Paste any command(s) you used to do this below."
   ]
  },
  {
   "cell_type": "markdown",
   "metadata": {
    "deletable": false,
    "nbgrader": {
     "checksum": "55dd3e68dff9770e753a87043ede97cf",
     "grade": true,
     "grade_id": "correct-subset",
     "locked": false,
     "points": 1,
     "schema_version": 1,
     "solution": true
    }
   },
   "source": [
    "cat /datasets/cs185s-sp19-public/week3/gtdata_1000Genomes.phen | grep -f eur_sampleIDS.txt > ~/week3/gtdata_EUR.phen"
   ]
  },
  {
   "cell_type": "markdown",
   "metadata": {
    "deletable": false,
    "editable": false,
    "nbgrader": {
     "checksum": "c7bfd5e224f893812a01fe3f25492865",
     "grade": false,
     "grade_id": "cell-cda2bbda31a0dca2",
     "locked": true,
     "schema_version": 1,
     "solution": false
    }
   },
   "source": [
    "Now, let's plot a histogram of the data to see how it's distributed:"
   ]
  },
  {
   "cell_type": "code",
   "execution_count": 1,
   "metadata": {
    "deletable": false,
    "editable": false,
    "nbgrader": {
     "checksum": "deaa85dac0505a14700702273052f4e1",
     "grade": false,
     "grade_id": "cell-7041cd843a237ebe",
     "locked": true,
     "schema_version": 1,
     "solution": false
    }
   },
   "outputs": [
    {
     "name": "stdout",
     "output_type": "stream",
     "text": [
      "Populating the interactive namespace from numpy and matplotlib\n"
     ]
    },
    {
     "data": {
      "image/png": "[encoded data removed]",
      "text/plain": [
       "<Figure size 432x288 with 1 Axes>"
      ]
     },
     "metadata": {
      "needs_background": "light"
     },
     "output_type": "display_data"
    }
   ],
   "source": [
    "%pylab inline\n",
    "\n",
    "import pandas as pd\n",
    "import os\n",
    "\n",
    "# Load phenotyope data\n",
    "pt = pd.read_csv(os.path.join(os.environ[\"HOME\"], \"week3\",\"gtdata_EUR.phen\"),\n",
    "                delim_whitespace=True, names=[\"FID\",\"sample\",\"phen\"])\n",
    "\n",
    "fig = plt.figure()\n",
    "ax = fig.add_subplot(111)\n",
    "ax.hist(pt[\"phen\"], bins=50)\n",
    "ax.set_xlabel(\"Height\")\n",
    "ax.set_ylabel(\"Frequency\");"
   ]
  },
  {
   "cell_type": "markdown",
   "metadata": {
    "deletable": false,
    "editable": false,
    "nbgrader": {
     "checksum": "dd62b6193b9d2d1067701b4a26d9811a",
     "grade": false,
     "grade_id": "cell-af3c34dd74e71523",
     "locked": true,
     "schema_version": 1,
     "solution": false
    }
   },
   "source": [
    "This should look pretty reasonable, kind of like a bell shaped curve.\n",
    "\n",
    "However we should still think about potential confounding factors before proceeding. One major factor affecting height is sex: males are typically several inches taller than females. This is for the most part not directly related to genetics, but rather is due to biological differences between sexes.\n",
    "\n",
    "Let's visualize the height distribution separately for males and females.\n",
    "\n",
    "Luckily we have recorded sex information in the fam file. The code below merges the fam file information with our phenotypes dataframe:"
   ]
  },
  {
   "cell_type": "code",
   "execution_count": 2,
   "metadata": {
    "deletable": false,
    "editable": false,
    "nbgrader": {
     "checksum": "865a384c48d8c7dd02c8a8159155bacd",
     "grade": false,
     "grade_id": "cell-a14939a38e734e9d",
     "locked": true,
     "schema_version": 1,
     "solution": false
    }
   },
   "outputs": [
    {
     "data": {
      "text/html": [
       "<div>\n",
       "<style scoped>\n",
       "    .dataframe tbody tr th:only-of-type {\n",
       "        vertical-align: middle;\n",
       "    }\n",
       "\n",
       "    .dataframe tbody tr th {\n",
       "        vertical-align: top;\n",
       "    }\n",
       "\n",
       "    .dataframe thead th {\n",
       "        text-align: right;\n",
       "    }\n",
       "</style>\n",
       "<table border=\"1\" class=\"dataframe\">\n",
       "  <thead>\n",
       "    <tr style=\"text-align: right;\">\n",
       "      <th></th>\n",
       "      <th>sample</th>\n",
       "      <th>Sex</th>\n",
       "      <th>FID</th>\n",
       "      <th>phen</th>\n",
       "    </tr>\n",
       "  </thead>\n",
       "  <tbody>\n",
       "    <tr>\n",
       "      <th>0</th>\n",
       "      <td>NA06984</td>\n",
       "      <td>1</td>\n",
       "      <td>NA06984</td>\n",
       "      <td>2.393471</td>\n",
       "    </tr>\n",
       "    <tr>\n",
       "      <th>1</th>\n",
       "      <td>NA06989</td>\n",
       "      <td>2</td>\n",
       "      <td>NA06989</td>\n",
       "      <td>0.749486</td>\n",
       "    </tr>\n",
       "    <tr>\n",
       "      <th>2</th>\n",
       "      <td>NA12347</td>\n",
       "      <td>1</td>\n",
       "      <td>NA12347</td>\n",
       "      <td>2.715316</td>\n",
       "    </tr>\n",
       "    <tr>\n",
       "      <th>3</th>\n",
       "      <td>NA12348</td>\n",
       "      <td>2</td>\n",
       "      <td>NA12348</td>\n",
       "      <td>1.188012</td>\n",
       "    </tr>\n",
       "    <tr>\n",
       "      <th>4</th>\n",
       "      <td>NA06986</td>\n",
       "      <td>1</td>\n",
       "      <td>NA06986</td>\n",
       "      <td>2.197843</td>\n",
       "    </tr>\n",
       "  </tbody>\n",
       "</table>\n",
       "</div>"
      ],
      "text/plain": [
       "    sample  Sex      FID      phen\n",
       "0  NA06984    1  NA06984  2.393471\n",
       "1  NA06989    2  NA06989  0.749486\n",
       "2  NA12347    1  NA12347  2.715316\n",
       "3  NA12348    2  NA12348  1.188012\n",
       "4  NA06986    1  NA06986  2.197843"
      ]
     },
     "execution_count": 2,
     "metadata": {},
     "output_type": "execute_result"
    }
   ],
   "source": [
    "# Load the fam file into a pandas data frame\n",
    "fam = pd.read_csv(\"/datasets/cs185s-sp19-public/week3/gtdata_1000Genomes.fam\",\n",
    "                 delim_whitespace=True, names=[\"FID\",\"sample\",\"MID\",\"PID\",\"Sex\",\"x\"])\n",
    "# Merge the pt and fam data frame\n",
    "data = pd.merge(fam[[\"sample\",\"Sex\"]], pt, on=[\"sample\"])\n",
    "# Peek at the head of the file to make sure it merged correctly.\n",
    "data.head()"
   ]
  },
  {
   "cell_type": "markdown",
   "metadata": {
    "deletable": false,
    "editable": false,
    "nbgrader": {
     "checksum": "8d01524a7b34dd2608ffe2ea65f93b04",
     "grade": false,
     "grade_id": "cell-179e674848a70159",
     "locked": true,
     "schema_version": 1,
     "solution": false
    }
   },
   "source": [
    "You can use `pandas` to easily take subsets of your data based on different columns. For example, to extract only the male samples:"
   ]
  },
  {
   "cell_type": "code",
   "execution_count": 3,
   "metadata": {
    "deletable": false,
    "editable": false,
    "nbgrader": {
     "checksum": "afff00a48d101c4e9affd23aba0449ca",
     "grade": false,
     "grade_id": "cell-ee8ad43baada4dcf",
     "locked": true,
     "schema_version": 1,
     "solution": false
    }
   },
   "outputs": [
    {
     "data": {
      "text/html": [
       "<div>\n",
       "<style scoped>\n",
       "    .dataframe tbody tr th:only-of-type {\n",
       "        vertical-align: middle;\n",
       "    }\n",
       "\n",
       "    .dataframe tbody tr th {\n",
       "        vertical-align: top;\n",
       "    }\n",
       "\n",
       "    .dataframe thead th {\n",
       "        text-align: right;\n",
       "    }\n",
       "</style>\n",
       "<table border=\"1\" class=\"dataframe\">\n",
       "  <thead>\n",
       "    <tr style=\"text-align: right;\">\n",
       "      <th></th>\n",
       "      <th>sample</th>\n",
       "      <th>Sex</th>\n",
       "      <th>FID</th>\n",
       "      <th>phen</th>\n",
       "    </tr>\n",
       "  </thead>\n",
       "  <tbody>\n",
       "    <tr>\n",
       "      <th>0</th>\n",
       "      <td>NA06984</td>\n",
       "      <td>1</td>\n",
       "      <td>NA06984</td>\n",
       "      <td>2.393471</td>\n",
       "    </tr>\n",
       "    <tr>\n",
       "      <th>2</th>\n",
       "      <td>NA12347</td>\n",
       "      <td>1</td>\n",
       "      <td>NA12347</td>\n",
       "      <td>2.715316</td>\n",
       "    </tr>\n",
       "    <tr>\n",
       "      <th>4</th>\n",
       "      <td>NA06986</td>\n",
       "      <td>1</td>\n",
       "      <td>NA06986</td>\n",
       "      <td>2.197843</td>\n",
       "    </tr>\n",
       "    <tr>\n",
       "      <th>6</th>\n",
       "      <td>NA07051</td>\n",
       "      <td>1</td>\n",
       "      <td>NA07051</td>\n",
       "      <td>2.281699</td>\n",
       "    </tr>\n",
       "    <tr>\n",
       "      <th>7</th>\n",
       "      <td>NA12340</td>\n",
       "      <td>1</td>\n",
       "      <td>NA12340</td>\n",
       "      <td>2.826855</td>\n",
       "    </tr>\n",
       "  </tbody>\n",
       "</table>\n",
       "</div>"
      ],
      "text/plain": [
       "    sample  Sex      FID      phen\n",
       "0  NA06984    1  NA06984  2.393471\n",
       "2  NA12347    1  NA12347  2.715316\n",
       "4  NA06986    1  NA06986  2.197843\n",
       "6  NA07051    1  NA07051  2.281699\n",
       "7  NA12340    1  NA12340  2.826855"
      ]
     },
     "execution_count": 3,
     "metadata": {},
     "output_type": "execute_result"
    }
   ],
   "source": [
    "males = data[data[\"Sex\"]==1]\n",
    "males.head()"
   ]
  },
  {
   "cell_type": "markdown",
   "metadata": {
    "deletable": false,
    "editable": false,
    "nbgrader": {
     "checksum": "1603844b1b71b95f636e3fe4cc27fa2c",
     "grade": false,
     "grade_id": "cell-44726618b2aa9d23",
     "locked": true,
     "schema_version": 1,
     "solution": false
    }
   },
   "source": [
    "**Question 4 (3 pts)**: Create a new histogram that plots male and female heights separately on the same plot using different colors for each. (Note, you can add `alpha=0.5` to your `hist` command to make the histograms transparent, which will allow you to see both histograms at once even if parts of them overlap)."
   ]
  },
  {
   "cell_type": "code",
   "execution_count": 4,
   "metadata": {},
   "outputs": [
    {
     "data": {
      "text/html": [
       "<div>\n",
       "<style scoped>\n",
       "    .dataframe tbody tr th:only-of-type {\n",
       "        vertical-align: middle;\n",
       "    }\n",
       "\n",
       "    .dataframe tbody tr th {\n",
       "        vertical-align: top;\n",
       "    }\n",
       "\n",
       "    .dataframe thead th {\n",
       "        text-align: right;\n",
       "    }\n",
       "</style>\n",
       "<table border=\"1\" class=\"dataframe\">\n",
       "  <thead>\n",
       "    <tr style=\"text-align: right;\">\n",
       "      <th></th>\n",
       "      <th>sample</th>\n",
       "      <th>Sex</th>\n",
       "      <th>FID</th>\n",
       "      <th>phen</th>\n",
       "    </tr>\n",
       "  </thead>\n",
       "  <tbody>\n",
       "    <tr>\n",
       "      <th>1</th>\n",
       "      <td>NA06989</td>\n",
       "      <td>2</td>\n",
       "      <td>NA06989</td>\n",
       "      <td>0.749486</td>\n",
       "    </tr>\n",
       "    <tr>\n",
       "      <th>3</th>\n",
       "      <td>NA12348</td>\n",
       "      <td>2</td>\n",
       "      <td>NA12348</td>\n",
       "      <td>1.188012</td>\n",
       "    </tr>\n",
       "    <tr>\n",
       "      <th>5</th>\n",
       "      <td>NA07037</td>\n",
       "      <td>2</td>\n",
       "      <td>NA07037</td>\n",
       "      <td>-0.349468</td>\n",
       "    </tr>\n",
       "    <tr>\n",
       "      <th>8</th>\n",
       "      <td>NA12341</td>\n",
       "      <td>2</td>\n",
       "      <td>NA12341</td>\n",
       "      <td>0.510765</td>\n",
       "    </tr>\n",
       "    <tr>\n",
       "      <th>12</th>\n",
       "      <td>NA07000</td>\n",
       "      <td>2</td>\n",
       "      <td>NA07000</td>\n",
       "      <td>0.300667</td>\n",
       "    </tr>\n",
       "  </tbody>\n",
       "</table>\n",
       "</div>"
      ],
      "text/plain": [
       "     sample  Sex      FID      phen\n",
       "1   NA06989    2  NA06989  0.749486\n",
       "3   NA12348    2  NA12348  1.188012\n",
       "5   NA07037    2  NA07037 -0.349468\n",
       "8   NA12341    2  NA12341  0.510765\n",
       "12  NA07000    2  NA07000  0.300667"
      ]
     },
     "execution_count": 4,
     "metadata": {},
     "output_type": "execute_result"
    }
   ],
   "source": [
    "females = data[data[\"Sex\"]==2]\n",
    "females.head()"
   ]
  },
  {
   "cell_type": "code",
   "execution_count": 7,
   "metadata": {},
   "outputs": [
    {
     "data": {
      "text/plain": [
       "395"
      ]
     },
     "execution_count": 7,
     "metadata": {},
     "output_type": "execute_result"
    }
   ],
   "source": [
    "males.shape[0] + females.shape[0]"
   ]
  },
  {
   "cell_type": "code",
   "execution_count": 14,
   "metadata": {
    "deletable": false,
    "nbgrader": {
     "checksum": "0f7b3dd73ee9c06efdcaa54de423b122",
     "grade": true,
     "grade_id": "cell-e9ebd712f254b163",
     "locked": false,
     "points": 3,
     "schema_version": 1,
     "solution": true
    }
   },
   "outputs": [
    {
     "data": {
      "image/png": "[encoded data removed]",
      "text/plain": [
       "<Figure size 432x288 with 1 Axes>"
      ]
     },
     "metadata": {
      "needs_background": "light"
     },
     "output_type": "display_data"
    }
   ],
   "source": [
    "fig = plt.figure()\n",
    "ax = fig.add_subplot(111)\n",
    "ax.hist(males[\"phen\"], bins=50, color = 'blue',alpha=0.5, label=\"Males\")\n",
    "ax.hist(females[\"phen\"], bins=50, color = 'red',alpha=0.5, label=\"Females\")\n",
    "ax.legend()\n",
    "ax.set_xlabel(\"Height\")\n",
    "ax.set_ylabel(\"Frequency\");"
   ]
  },
  {
   "cell_type": "markdown",
   "metadata": {
    "deletable": false,
    "editable": false,
    "nbgrader": {
     "checksum": "b99e62793ef72ce725e7f5a655b5cc1f",
     "grade": false,
     "grade_id": "cell-c6e43304caab47df",
     "locked": true,
     "schema_version": 1,
     "solution": false
    }
   },
   "source": [
    "You should have found that the male curve is shifted quite a bit to the right. Since we are only interested in finding genetic factors not related to sex in our analysis, let's first mean-center the male and female data separately to put them on the same scale.\n",
    "\n",
    "The code below (1) scales the male and female data to have mean 0, (2) generates a new histogram plotting the two separately like you did above, and (3) outputs a modified phenotype file to `~/week3/gtdata_EUR_adj.phen` with the adjusted phenotypes we will use in our GWAS analysis."
   ]
  },
  {
   "cell_type": "code",
   "execution_count": 111,
   "metadata": {
    "deletable": false,
    "editable": false,
    "nbgrader": {
     "checksum": "44886dd5df7ffb1e7e964100bf512dad",
     "grade": false,
     "grade_id": "cell-bf9e79d3376e6221",
     "locked": true,
     "schema_version": 1,
     "solution": false
    }
   },
   "outputs": [
    {
     "data": {
      "image/png": "[encoded data removed]",
      "text/plain": [
       "<Figure size 432x288 with 1 Axes>"
      ]
     },
     "metadata": {
      "needs_background": "light"
     },
     "output_type": "display_data"
    }
   ],
   "source": [
    "mean_male = np.mean(data[data[\"Sex\"]==1][\"phen\"])\n",
    "mean_female = np.mean(data[data[\"Sex\"]==2][\"phen\"])\n",
    "\n",
    "data[\"phen.centered\"] = 0 # Replace with mean-centered phenotypes, scaled separately for males and females\n",
    "\n",
    "# Below, adjust phenotypes for males and females and set to column data[\"phen.centered\"]\n",
    "# This gets applied to each row of the data frame\n",
    "# x[col] accesses the value of col for that row\n",
    "def CenterPhenotype(x, mean_female, mean_male):\n",
    "    if x[\"Sex\"]==1: return x[\"phen\"]-mean_male\n",
    "    elif x[\"Sex\"]==2: return x[\"phen\"]-mean_female\n",
    "    else: return None\n",
    "    \n",
    "# df.apply(lambda x: f(x, ..._, 1) applies a function separately to each row of the dataframe\n",
    "data[\"phen.centered\"] = data.apply(lambda x: CenterPhenotype(x, mean_female, mean_male), 1)\n",
    "\n",
    "# Plot histogram\n",
    "fig = plt.figure()\n",
    "ax = fig.add_subplot(111)\n",
    "ax.hist(data[data[\"Sex\"]==1][\"phen.centered\"], bins=50, color=\"blue\", alpha=0.5)\n",
    "ax.hist(data[data[\"Sex\"]==2][\"phen.centered\"], bins=50, color=\"red\", alpha=0.5)\n",
    "ax.set_xlabel(\"Height\")\n",
    "ax.set_ylabel(\"Frequency\");\n",
    "\n",
    "# Output phenotype file\n",
    "data[[\"FID\",\"sample\",\"phen.centered\"]].to_csv(os.path.join(os.environ[\"HOME\"], \"week3\",\"gtdata_EUR_adj.phen\"), \n",
    "                                              sep=\" \", index=False, header=False)"
   ]
  },
  {
   "cell_type": "markdown",
   "metadata": {
    "deletable": false,
    "editable": false,
    "nbgrader": {
     "checksum": "e10e6fb7d6a2c61c51844501f882afc0",
     "grade": false,
     "grade_id": "cell-b660d93c097cd992",
     "locked": true,
     "schema_version": 1,
     "solution": false
    }
   },
   "source": [
    "## 3. Performing the GWAS!\n",
    "\n",
    "Now, let's go ahead and perform a GWAS on our data! We can do this using `plink`. We'll use a command of the form:\n",
    "\n",
    "```\n",
    "plink --bfile <prefix> --pheno <phenfile> --out <outprefix> --linear --allow-no-sex --maf 0.05\n",
    "```\n",
    "\n",
    "where:\n",
    "* `--bfile` is the prefix to our `.bim` and `.bed` files as described above.\n",
    "* `--pheno` is hthe path to our phenotype file. Be sure to use the adjusted phenotypes from part 2!.\n",
    "* `--out` is the prefix to name output files. Use a prefix in your `~/week3` directory.\n",
    "* `--linear` tells plink to perform linear regression.\n",
    "* `--allow-no-sex` ignores samples without sex specified (since plink may have overwritten sex labels when subsetting your data. No worries since we already performed our own sex adjustment above).\n",
    "* `--maf 0.05` will only analyze variants with minor allele frequency at least 5% in our cohort.\n",
    "\n",
    "**Question 5 (2 pts)**: Run a GWAS by modifying the `plink` command above. Paste your command below."
   ]
  },
  {
   "cell_type": "markdown",
   "metadata": {
    "deletable": false,
    "nbgrader": {
     "checksum": "f9bac3a61383d2d3ad41ec2e92061d62",
     "grade": true,
     "grade_id": "correct-gwas1",
     "locked": false,
     "points": 2,
     "schema_version": 1,
     "solution": true
    }
   },
   "source": [
    "plink --bfile gtdata_EUR --pheno gtdata_EUR_adj.phen --out ~/week3/gwas_eur --linear --allow-no-sex --maf 0.05"
   ]
  },
  {
   "cell_type": "markdown",
   "metadata": {
    "deletable": false,
    "editable": false,
    "nbgrader": {
     "checksum": "405b0173eaa12b58ff9181dcbb7db866",
     "grade": false,
     "grade_id": "cell-034f8972559e7304",
     "locked": true,
     "schema_version": 1,
     "solution": false
    }
   },
   "source": [
    "This should generate a file `<outprefix>.assoc.linear`. Take a look at this file. The format is described here: https://www.cog-genomics.org/plink2/formats#assoc. Below shows how to load this file in `pandas` and filter variants with p-value undefined."
   ]
  },
  {
   "cell_type": "code",
   "execution_count": 114,
   "metadata": {
    "deletable": false,
    "nbgrader": {
     "checksum": "1bae2b8102c380ce43b9d433b2963901",
     "grade": true,
     "grade_id": "correct-qq",
     "locked": false,
     "points": 5,
     "schema_version": 1,
     "solution": true
    }
   },
   "outputs": [],
   "source": [
    "# gwas_lin = pd.read_csv(\"../week3/gwas_eur.assoc.linear\", sep='\\s+')\n",
    "# gwas_lin.head()\n",
    "# #indicies to remove\n",
    "# gwas_lin.loc[np.isnan(gwas_lin['P'])]"
   ]
  },
  {
   "cell_type": "code",
   "execution_count": 123,
   "metadata": {},
   "outputs": [
    {
     "data": {
      "text/html": [
       "<div>\n",
       "<style scoped>\n",
       "    .dataframe tbody tr th:only-of-type {\n",
       "        vertical-align: middle;\n",
       "    }\n",
       "\n",
       "    .dataframe tbody tr th {\n",
       "        vertical-align: top;\n",
       "    }\n",
       "\n",
       "    .dataframe thead th {\n",
       "        text-align: right;\n",
       "    }\n",
       "</style>\n",
       "<table border=\"1\" class=\"dataframe\">\n",
       "  <thead>\n",
       "    <tr style=\"text-align: right;\">\n",
       "      <th></th>\n",
       "      <th>CHR</th>\n",
       "      <th>SNP</th>\n",
       "      <th>BP</th>\n",
       "      <th>A1</th>\n",
       "      <th>TEST</th>\n",
       "      <th>NMISS</th>\n",
       "      <th>BETA</th>\n",
       "      <th>STAT</th>\n",
       "      <th>P</th>\n",
       "    </tr>\n",
       "  </thead>\n",
       "  <tbody>\n",
       "    <tr>\n",
       "      <th>0</th>\n",
       "      <td>2</td>\n",
       "      <td>rs113106463</td>\n",
       "      <td>11320</td>\n",
       "      <td>A</td>\n",
       "      <td>ADD</td>\n",
       "      <td>395</td>\n",
       "      <td>-0.007166</td>\n",
       "      <td>-0.1046</td>\n",
       "      <td>0.91670</td>\n",
       "    </tr>\n",
       "    <tr>\n",
       "      <th>1</th>\n",
       "      <td>2</td>\n",
       "      <td>rs13390778</td>\n",
       "      <td>11842</td>\n",
       "      <td>G</td>\n",
       "      <td>ADD</td>\n",
       "      <td>395</td>\n",
       "      <td>0.019420</td>\n",
       "      <td>0.1841</td>\n",
       "      <td>0.85400</td>\n",
       "    </tr>\n",
       "    <tr>\n",
       "      <th>2</th>\n",
       "      <td>2</td>\n",
       "      <td>rs10172644</td>\n",
       "      <td>11985</td>\n",
       "      <td>G</td>\n",
       "      <td>ADD</td>\n",
       "      <td>395</td>\n",
       "      <td>-0.057890</td>\n",
       "      <td>-0.5536</td>\n",
       "      <td>0.58010</td>\n",
       "    </tr>\n",
       "    <tr>\n",
       "      <th>3</th>\n",
       "      <td>2</td>\n",
       "      <td>rs10171150</td>\n",
       "      <td>12091</td>\n",
       "      <td>G</td>\n",
       "      <td>ADD</td>\n",
       "      <td>395</td>\n",
       "      <td>0.061930</td>\n",
       "      <td>0.6008</td>\n",
       "      <td>0.54830</td>\n",
       "    </tr>\n",
       "    <tr>\n",
       "      <th>4</th>\n",
       "      <td>2</td>\n",
       "      <td>rs72770995</td>\n",
       "      <td>13241</td>\n",
       "      <td>C</td>\n",
       "      <td>ADD</td>\n",
       "      <td>395</td>\n",
       "      <td>0.247500</td>\n",
       "      <td>2.2940</td>\n",
       "      <td>0.02231</td>\n",
       "    </tr>\n",
       "  </tbody>\n",
       "</table>\n",
       "</div>"
      ],
      "text/plain": [
       "   CHR          SNP     BP A1 TEST  NMISS      BETA    STAT        P\n",
       "0    2  rs113106463  11320  A  ADD    395 -0.007166 -0.1046  0.91670\n",
       "1    2   rs13390778  11842  G  ADD    395  0.019420  0.1841  0.85400\n",
       "2    2   rs10172644  11985  G  ADD    395 -0.057890 -0.5536  0.58010\n",
       "3    2   rs10171150  12091  G  ADD    395  0.061930  0.6008  0.54830\n",
       "4    2   rs72770995  13241  C  ADD    395  0.247500  2.2940  0.02231"
      ]
     },
     "execution_count": 123,
     "metadata": {},
     "output_type": "execute_result"
    }
   ],
   "source": [
    "assoc = pd.read_csv(os.path.join(os.environ[\"HOME\"], \"week3\", \"gwas_eur.assoc.linear\"), delim_whitespace=True)\n",
    "assoc = assoc[~np.isnan(assoc[\"P\"])]\n",
    "assoc.head()"
   ]
  },
  {
   "cell_type": "markdown",
   "metadata": {
    "deletable": false,
    "editable": false,
    "nbgrader": {
     "checksum": "81dad4d1586301fc39c7942d82c6f636",
     "grade": false,
     "grade_id": "cell-8d4bd6679a52fb4f",
     "locked": true,
     "schema_version": 1,
     "solution": false
    }
   },
   "source": [
    "Here:\n",
    "* `CHR` gives the chromosme and `BP` gives the position of each variant.\n",
    "* `SNP` gives the rsID\n",
    "* `A1` gives the minor allele\n",
    "* `TEST` tells us we were doing an \"additive test\" (just standard linear regression)\n",
    "* `BETA` gives the effect size (regression coefficient) and `P` gives the p-value.\n",
    "\n",
    "We'll first want to make some visualizations to get a sense of whether our GWAS is working correctly. \n",
    "\n",
    "**Question 6 (5 pts)**: Generate a QQ Plot to visualize the distribution of p-value association statistics. Also plot a diagonal line to easily compare your p-values to the expected null distribution."
   ]
  },
  {
   "cell_type": "code",
   "execution_count": 124,
   "metadata": {
    "deletable": false,
    "nbgrader": {
     "checksum": "f1a0eb5ceac80c9003cfec49d7279581",
     "grade": true,
     "grade_id": "cell-06a554ede62cd2c8",
     "locked": false,
     "points": 5,
     "schema_version": 1,
     "solution": true
    }
   },
   "outputs": [
    {
     "data": {
      "text/plain": [
       "Text(0,0.5,'Observed -log10(P)')"
      ]
     },
     "execution_count": 124,
     "metadata": {},
     "output_type": "execute_result"
    },
    {
     "data": {
      "image/png": "[encoded data removed]",
      "text/plain": [
       "<Figure size 432x288 with 1 Axes>"
      ]
     },
     "metadata": {
      "needs_background": "light"
     },
     "output_type": "display_data"
    }
   ],
   "source": [
    "#plt.plot(-np.log10(assoc[\"P\"]))\n",
    "pvals = assoc[\"P\"]\n",
    "pvals = pvals.sort_values()\n",
    "unif = list(np.random.uniform(0, 1, size=len(pvals)))\n",
    "unif.sort()\n",
    "\n",
    "fig = plt.figure()\n",
    "ax = fig.add_subplot(111)\n",
    "ax.scatter(-1*np.log10(unif), -1*np.log10(pvals), s=5, color=\"black\")\n",
    "ax.plot([0, 8], [0,8])\n",
    "ax.set_xlim(left=0, right=8)\n",
    "ax.set_ylim(bottom=0, top=max(-1*np.log10([item for item in pvals if item >0])))\n",
    "ax.set_xlabel(\"Expected -log10(P)\")\n",
    "ax.set_ylabel(\"Observed -log10(P)\")"
   ]
  },
  {
   "cell_type": "markdown",
   "metadata": {
    "deletable": false,
    "editable": false,
    "nbgrader": {
     "checksum": "2ebaf1f50ca35d66c5429dab377a079a",
     "grade": false,
     "grade_id": "cell-fe060ab7f1d19e61",
     "locked": true,
     "schema_version": 1,
     "solution": false
    }
   },
   "source": [
    "**Question 7 (2 pts):** Based on your QQ plot, do you think the p-values from our GWAS are reliable? Why or why not?"
   ]
  },
  {
   "cell_type": "markdown",
   "metadata": {
    "deletable": false,
    "nbgrader": {
     "checksum": "da24e027f06208adcdaf47238af77efd",
     "grade": true,
     "grade_id": "cell-a82ae2edea33f629",
     "locked": false,
     "points": 2,
     "schema_version": 1,
     "solution": true
    }
   },
   "source": [
    "This is not quite what we want since we see that there is a large divergence from the diagonal line very early on. This indicates that there are a lot (too many) of variants that are affecting our values. This does not single out a few snps. The overall tred is okay, but too much does not follow the association line. The p-values are somewhat inflated."
   ]
  },
  {
   "cell_type": "markdown",
   "metadata": {
    "deletable": false,
    "editable": false,
    "nbgrader": {
     "checksum": "8bd7695a38d1ba77858526e165d4529e",
     "grade": false,
     "grade_id": "cell-2dc080ea9571216b",
     "locked": true,
     "schema_version": 1,
     "solution": false
    }
   },
   "source": [
    "Let's also make a Manhattan to visualize our data. The cell below does this for you, separately for each chromosome. (You'll have to make your own Manhattan plots below so it's worth looking through this to make sure you understand what it's doing)."
   ]
  },
  {
   "cell_type": "code",
   "execution_count": 125,
   "metadata": {
    "deletable": false,
    "editable": false,
    "nbgrader": {
     "checksum": "5900a4044ce40e6bbcc06dfce683c73b",
     "grade": false,
     "grade_id": "cell-8bcb6c78a1153b9a",
     "locked": true,
     "schema_version": 1,
     "solution": false
    }
   },
   "outputs": [
    {
     "data": {
      "image/png": "[encoded data removed]",
      "text/plain": [
       "<Figure size 720x288 with 1 Axes>"
      ]
     },
     "metadata": {
      "needs_background": "light"
     },
     "output_type": "display_data"
    },
    {
     "data": {
      "image/png": "[encoded data removed]",
      "text/plain": [
       "<Figure size 720x288 with 1 Axes>"
      ]
     },
     "metadata": {
      "needs_background": "light"
     },
     "output_type": "display_data"
    }
   ],
   "source": [
    "assoc = assoc.sort_values([\"CHR\",\"BP\"])\n",
    "color = \"gray\"\n",
    "for chrom in set(assoc[\"CHR\"]):\n",
    "    fig = plt.figure()\n",
    "    fig.set_size_inches((10, 4))\n",
    "    ax = fig.add_subplot(111)\n",
    "    ax.scatter(assoc[assoc[\"CHR\"]==chrom][\"BP\"], -1*np.log10(assoc[assoc[\"CHR\"]==chrom][\"P\"]), s=5, color=color)\n",
    "    ax.set_xlabel(\"Position\")\n",
    "    ax.set_ylabel(\"-log10 P\");\n",
    "    ax.set_title(\"Chromosome %s\"%chrom)"
   ]
  },
  {
   "cell_type": "markdown",
   "metadata": {
    "deletable": false,
    "editable": false,
    "nbgrader": {
     "checksum": "158b15155851ebab194c2b4ee095d268",
     "grade": false,
     "grade_id": "cell-2e30e52e72f944d6",
     "locked": true,
     "schema_version": 1,
     "solution": false
    }
   },
   "source": [
    "**Question 8 (1 pt)**: If your analysis worked, you should see a couple of \"skyscrapers\" in your plot. Describe what each tower represents."
   ]
  },
  {
   "cell_type": "markdown",
   "metadata": {
    "deletable": false,
    "nbgrader": {
     "checksum": "1c0c851c9ce6a558b05983e35ee23cdc",
     "grade": true,
     "grade_id": "correct-LD",
     "locked": false,
     "points": 1,
     "schema_version": 1,
     "solution": true
    }
   },
   "source": [
    "Each tower represents statistically significant variant positions. Or values that we would not expect to see from a null hypothesis (noise). This means that the value seen at a position is outside the range of X amount of the null hypothesis. The X is the cutoff value used in determining significance. Often times this is around 5%."
   ]
  },
  {
   "cell_type": "markdown",
   "metadata": {
    "deletable": false,
    "editable": false,
    "nbgrader": {
     "checksum": "2cbad6d7ca00c208eefb0e4b1228c8f8",
     "grade": false,
     "grade_id": "cell-4ee71157476e3710",
     "locked": true,
     "schema_version": 1,
     "solution": false
    }
   },
   "source": [
    "**Question 9 (3 pts)**: Using either Python or the command line, find the top 5 associated SNPs. List their rsids below. Use SNPpedia to look up what phenotypes the SNPs are associated with. Is it what you expect? Do any of these SNPs look familiar (e.g. from part 1 of the lab? there should be one from chromosome 15)"
   ]
  },
  {
   "cell_type": "code",
   "execution_count": 127,
   "metadata": {
    "deletable": false,
    "nbgrader": {
     "checksum": "b0a6e2d8bc9ccd8b67a6dabb0a68bcd2",
     "grade": true,
     "grade_id": "correct-gwas-top-snps",
     "locked": false,
     "points": 3,
     "schema_version": 1,
     "solution": true
    }
   },
   "outputs": [
    {
     "data": {
      "text/html": [
       "<div>\n",
       "<style scoped>\n",
       "    .dataframe tbody tr th:only-of-type {\n",
       "        vertical-align: middle;\n",
       "    }\n",
       "\n",
       "    .dataframe tbody tr th {\n",
       "        vertical-align: top;\n",
       "    }\n",
       "\n",
       "    .dataframe thead th {\n",
       "        text-align: right;\n",
       "    }\n",
       "</style>\n",
       "<table border=\"1\" class=\"dataframe\">\n",
       "  <thead>\n",
       "    <tr style=\"text-align: right;\">\n",
       "      <th></th>\n",
       "      <th>CHR</th>\n",
       "      <th>SNP</th>\n",
       "      <th>BP</th>\n",
       "      <th>A1</th>\n",
       "      <th>TEST</th>\n",
       "      <th>NMISS</th>\n",
       "      <th>BETA</th>\n",
       "      <th>STAT</th>\n",
       "      <th>P</th>\n",
       "    </tr>\n",
       "  </thead>\n",
       "  <tbody>\n",
       "    <tr>\n",
       "      <th>90162</th>\n",
       "      <td>2</td>\n",
       "      <td>rs17511102</td>\n",
       "      <td>37960613</td>\n",
       "      <td>T</td>\n",
       "      <td>ADD</td>\n",
       "      <td>395</td>\n",
       "      <td>-1.0410</td>\n",
       "      <td>-7.942</td>\n",
       "      <td>2.106000e-14</td>\n",
       "    </tr>\n",
       "    <tr>\n",
       "      <th>90217</th>\n",
       "      <td>2</td>\n",
       "      <td>rs7566658</td>\n",
       "      <td>37987124</td>\n",
       "      <td>G</td>\n",
       "      <td>ADD</td>\n",
       "      <td>395</td>\n",
       "      <td>-0.6849</td>\n",
       "      <td>-6.079</td>\n",
       "      <td>2.872000e-09</td>\n",
       "    </tr>\n",
       "    <tr>\n",
       "      <th>90223</th>\n",
       "      <td>2</td>\n",
       "      <td>rs74184888</td>\n",
       "      <td>37988449</td>\n",
       "      <td>T</td>\n",
       "      <td>ADD</td>\n",
       "      <td>395</td>\n",
       "      <td>-0.6849</td>\n",
       "      <td>-6.079</td>\n",
       "      <td>2.872000e-09</td>\n",
       "    </tr>\n",
       "    <tr>\n",
       "      <th>522739</th>\n",
       "      <td>15</td>\n",
       "      <td>rs12912427</td>\n",
       "      <td>28495956</td>\n",
       "      <td>A</td>\n",
       "      <td>ADD</td>\n",
       "      <td>395</td>\n",
       "      <td>-0.3711</td>\n",
       "      <td>-5.838</td>\n",
       "      <td>1.107000e-08</td>\n",
       "    </tr>\n",
       "    <tr>\n",
       "      <th>522631</th>\n",
       "      <td>15</td>\n",
       "      <td>rs12913832</td>\n",
       "      <td>28365618</td>\n",
       "      <td>A</td>\n",
       "      <td>ADD</td>\n",
       "      <td>395</td>\n",
       "      <td>-0.3598</td>\n",
       "      <td>-5.777</td>\n",
       "      <td>1.547000e-08</td>\n",
       "    </tr>\n",
       "  </tbody>\n",
       "</table>\n",
       "</div>"
      ],
      "text/plain": [
       "        CHR         SNP        BP A1 TEST  NMISS    BETA   STAT             P\n",
       "90162     2  rs17511102  37960613  T  ADD    395 -1.0410 -7.942  2.106000e-14\n",
       "90217     2   rs7566658  37987124  G  ADD    395 -0.6849 -6.079  2.872000e-09\n",
       "90223     2  rs74184888  37988449  T  ADD    395 -0.6849 -6.079  2.872000e-09\n",
       "522739   15  rs12912427  28495956  A  ADD    395 -0.3711 -5.838  1.107000e-08\n",
       "522631   15  rs12913832  28365618  A  ADD    395 -0.3598 -5.777  1.547000e-08"
      ]
     },
     "execution_count": 127,
     "metadata": {},
     "output_type": "execute_result"
    }
   ],
   "source": [
    "assoc = pd.read_csv(os.path.join(os.environ[\"HOME\"], \"week3\", \"gwas_eur.assoc.linear\"), delim_whitespace=True)\n",
    "assoc = assoc[~np.isnan(assoc[\"P\"])]\n",
    "pvals = assoc[\"P\"]\n",
    "assoc.loc[list(pvals.sort_values()[0:5].index)]"
   ]
  },
  {
   "cell_type": "markdown",
   "metadata": {},
   "source": [
    "rs17511102 - mapped to gene CDC42EP3, reported train of body height/fat distribution\n",
    "\n",
    "rs7566658 - \n",
    "\n",
    "rs74184888\n",
    "\n",
    "rs12912427 - connected to growth factor receptor\n",
    "\n",
    "rs12913832\n",
    "\n",
    "Some of the rsids do not match any known variants."
   ]
  },
  {
   "cell_type": "markdown",
   "metadata": {
    "deletable": false,
    "editable": false,
    "nbgrader": {
     "checksum": "2b25eca2b6ea4619c46c2efc46f1e2b6",
     "grade": false,
     "grade_id": "cell-7b69395918038efd",
     "locked": true,
     "schema_version": 1,
     "solution": false
    }
   },
   "source": [
    "## 4. Controlling for population structure\n",
    "\n",
    "You likely found evidence above that our p-values aren't behaving quite like we'd want them to in a reliable GWAS. One likely explanation is that we're clumping together multiple different ancestry groups from Europe into a single analysis. It is well known that Southern Europeans are on average quite a bit shorter than Northern Europeans (https://www.scmp.com/news/world/article/1858274/tall-story-why-northern-europeans-tower-over-their-southern-counterparts). This could be for a variety of factors, including genetic, diet, or environmental.\n",
    "\n",
    "But Northern vs. Southern Europeans also have thousands of genetic differences that have occurred randomly since the two population groups split, which for the most part have nothing to do with height! Therefore, if we don't control for ancestry, our GWAS is likely to pick up things (like eye color!) that happen to be very different between different European populations but that are not related to the phenotype we're studying.\n",
    "\n",
    "PCA is a great way to infer ancestry of our samples, but also to adjust for ancestry differences in our GWAS analysis. Let's use plink to perform PCA on our cohort (which by the way you could have used to perform PCA in part 1 :) ).\n",
    "\n",
    "```\n",
    "plink --bfile ~/week3/gtdata_EUR --out ~/week3/gtdata_EUR --pca 5\n",
    "```\n",
    "\n",
    "This should output a file `~/week3/gtdata_EUR.eigenvec` with the value along each principal component for each sample for each of the first 5 principle components.\n",
    "\n",
    "**Question 10 (4 pts)**: Make a scatter plot of PC1 vs. PC2 for your samples. Color each sample by it's population (not superpopulation like in part 1). Recall the European populations we are using are CEU, GBR, TSI, FIN. Code you wrote for plotting in Tuesday's lab should be helpful here."
   ]
  },
  {
   "cell_type": "code",
   "execution_count": 153,
   "metadata": {
    "deletable": false,
    "nbgrader": {
     "checksum": "642dc727d4242e84cacfc9b8241f9eb2",
     "grade": true,
     "grade_id": "correct-eur-pca",
     "locked": false,
     "points": 4,
     "schema_version": 1,
     "solution": true
    }
   },
   "outputs": [],
   "source": [
    "# Load sample data\n",
    "sample_to_pop = {}\n",
    "with open(\"/datasets/cs185s-sp19-public/week3/gtdata_sample_labels.csv\") as f:\n",
    "    for line in f:\n",
    "        s, pop = line.strip().split(\",\")\n",
    "        sample_to_pop[s] = pop\n",
    "\n",
    "def GetColor(sample):\n",
    "    if sample == \"CEU\": return \"red\"\n",
    "    if sample == \"GBR\": return \"blue\"\n",
    "    if sample == \"TSI\": return \"green\"\n",
    "    if sample == \"FIN\": return \"orange\"\n",
    "    return \"gray\"\n",
    "\n",
    "pcs = pd.read_csv(os.path.join(os.environ[\"HOME\"], \"week3\", \"gtdata_EUR.eigenvec\"),\n",
    "                 delim_whitespace=True, names=[\"FID\",\"sample\",\"PC1\",\"PC2\",\"PC3\",\"PC4\",\"PC5\"])"
   ]
  },
  {
   "cell_type": "code",
   "execution_count": 176,
   "metadata": {},
   "outputs": [
    {
     "data": {
      "text/html": [
       "<div>\n",
       "<style scoped>\n",
       "    .dataframe tbody tr th:only-of-type {\n",
       "        vertical-align: middle;\n",
       "    }\n",
       "\n",
       "    .dataframe tbody tr th {\n",
       "        vertical-align: top;\n",
       "    }\n",
       "\n",
       "    .dataframe thead th {\n",
       "        text-align: right;\n",
       "    }\n",
       "</style>\n",
       "<table border=\"1\" class=\"dataframe\">\n",
       "  <thead>\n",
       "    <tr style=\"text-align: right;\">\n",
       "      <th></th>\n",
       "      <th>FID</th>\n",
       "      <th>sample</th>\n",
       "      <th>PC1</th>\n",
       "      <th>PC2</th>\n",
       "      <th>PC3</th>\n",
       "      <th>PC4</th>\n",
       "      <th>PC5</th>\n",
       "    </tr>\n",
       "  </thead>\n",
       "  <tbody>\n",
       "    <tr>\n",
       "      <th>0</th>\n",
       "      <td>HG00096</td>\n",
       "      <td>HG00096</td>\n",
       "      <td>-0.001944</td>\n",
       "      <td>0.070264</td>\n",
       "      <td>0.028500</td>\n",
       "      <td>-0.033657</td>\n",
       "      <td>0.019468</td>\n",
       "    </tr>\n",
       "    <tr>\n",
       "      <th>1</th>\n",
       "      <td>HG00097</td>\n",
       "      <td>HG00097</td>\n",
       "      <td>-0.008083</td>\n",
       "      <td>0.054384</td>\n",
       "      <td>0.017420</td>\n",
       "      <td>-0.031013</td>\n",
       "      <td>-0.003100</td>\n",
       "    </tr>\n",
       "    <tr>\n",
       "      <th>2</th>\n",
       "      <td>HG00099</td>\n",
       "      <td>HG00099</td>\n",
       "      <td>0.001034</td>\n",
       "      <td>0.074987</td>\n",
       "      <td>-0.009466</td>\n",
       "      <td>-0.010128</td>\n",
       "      <td>0.008442</td>\n",
       "    </tr>\n",
       "    <tr>\n",
       "      <th>3</th>\n",
       "      <td>HG00100</td>\n",
       "      <td>HG00100</td>\n",
       "      <td>-0.010388</td>\n",
       "      <td>0.070876</td>\n",
       "      <td>0.022922</td>\n",
       "      <td>-0.025860</td>\n",
       "      <td>0.001398</td>\n",
       "    </tr>\n",
       "    <tr>\n",
       "      <th>4</th>\n",
       "      <td>HG00101</td>\n",
       "      <td>HG00101</td>\n",
       "      <td>-0.016282</td>\n",
       "      <td>0.035267</td>\n",
       "      <td>0.003696</td>\n",
       "      <td>-0.023751</td>\n",
       "      <td>-0.007993</td>\n",
       "    </tr>\n",
       "  </tbody>\n",
       "</table>\n",
       "</div>"
      ],
      "text/plain": [
       "       FID   sample       PC1       PC2       PC3       PC4       PC5\n",
       "0  HG00096  HG00096 -0.001944  0.070264  0.028500 -0.033657  0.019468\n",
       "1  HG00097  HG00097 -0.008083  0.054384  0.017420 -0.031013 -0.003100\n",
       "2  HG00099  HG00099  0.001034  0.074987 -0.009466 -0.010128  0.008442\n",
       "3  HG00100  HG00100 -0.010388  0.070876  0.022922 -0.025860  0.001398\n",
       "4  HG00101  HG00101 -0.016282  0.035267  0.003696 -0.023751 -0.007993"
      ]
     },
     "execution_count": 176,
     "metadata": {},
     "output_type": "execute_result"
    }
   ],
   "source": [
    "pcs.head()"
   ]
  },
  {
   "cell_type": "code",
   "execution_count": 167,
   "metadata": {},
   "outputs": [],
   "source": [
    "country_ids = []\n",
    "for ids in pcs['FID']:\n",
    "    country_ids.append(sample_to_pop[ids])"
   ]
  },
  {
   "cell_type": "code",
   "execution_count": 172,
   "metadata": {},
   "outputs": [],
   "source": [
    "colors = [GetColor(ids) for ids in country_ids]"
   ]
  },
  {
   "cell_type": "code",
   "execution_count": 174,
   "metadata": {},
   "outputs": [
    {
     "data": {
      "image/png": "[encoded data removed]",
      "text/plain": [
       "<Figure size 432x288 with 1 Axes>"
      ]
     },
     "metadata": {
      "needs_background": "light"
     },
     "output_type": "display_data"
    }
   ],
   "source": [
    "fig = plt.figure()\n",
    "ax = fig.add_subplot(111)\n",
    "ax.scatter(pcs[\"PC1\"], pcs[\"PC2\"], color=colors)\n",
    "ax.set_xlabel(\"PC1\")\n",
    "ax.set_ylabel(\"PC2\");"
   ]
  },
  {
   "cell_type": "markdown",
   "metadata": {
    "deletable": false,
    "editable": false,
    "nbgrader": {
     "checksum": "631940fc9371ab86e39e329926a99a52",
     "grade": false,
     "grade_id": "cell-53e1f6ba8dd1d728",
     "locked": true,
     "schema_version": 1,
     "solution": false
    }
   },
   "source": [
    "**Question 11 (2 pts)**: What populations are separated by PC1? PC2? Do these PCs appear to correspond to any particular geographical axes? (e.g. north vs. south, east vs. west?) Which populations appear to be most closely related?"
   ]
  },
  {
   "cell_type": "markdown",
   "metadata": {
    "deletable": false,
    "nbgrader": {
     "checksum": "50b3ca3ca759c28d624a6e6c1defeccc",
     "grade": true,
     "grade_id": "cell-cd777c6549ba5868",
     "locked": false,
     "points": 2,
     "schema_version": 1,
     "solution": true
    }
   },
   "source": [
    "The main populations that are spearated by PC1 are Finnish and Italian. This makes sense since these are from the North and Southern portions of Europe. The second PC separates Finnish and Italian from Great Britian and Western/Northern Europe. So the PC's are able to take in and distinguish the Northern, Western and Southern portions of Europe."
   ]
  },
  {
   "cell_type": "markdown",
   "metadata": {
    "deletable": false,
    "editable": false,
    "nbgrader": {
     "checksum": "055b5f154afa4f8fd94eeb42ca4bc700",
     "grade": false,
     "grade_id": "cell-b2f6132468791a49",
     "locked": true,
     "schema_version": 1,
     "solution": false
    }
   },
   "source": [
    "We can use PCA (eigenvectors) file directly as input to `plink` to include as covariates in our GWAS analysis. \n",
    "\n",
    "Look at the [plink documentation](https://www.cog-genomics.org/plink/1.9/input#covar) to learn how to add covariates to our analysis. Also you can specify `--linear hide-covar` to only output the variant p-value (by default `plink` also outputs individual tests for each covariate at each SNP).\n",
    "\n",
    "**Question 12 (3 pts)**: Rerun your GWAS analysis with the top 5 PCs as covariates and removing outlier samples. Regenerate your QQ plot and Manhattan plot using the new results. Paste any commands you use below."
   ]
  },
  {
   "cell_type": "markdown",
   "metadata": {
    "deletable": false,
    "nbgrader": {
     "checksum": "9a896118f0a0f3b9d4e1b0beadc5d730",
     "grade": true,
     "grade_id": "correct-gwas-rerun",
     "locked": false,
     "points": 3,
     "schema_version": 1,
     "solution": true
    }
   },
   "source": [
    "plink --bfile gtdata_EUR --pheno gtdata_EUR_adj.phen --covar gtdata_EUR.eigenvec --linear hide-covar --out ~/week3/gwas_eur_eig --allow-no-sex --maf 0.05"
   ]
  },
  {
   "cell_type": "code",
   "execution_count": 177,
   "metadata": {},
   "outputs": [
    {
     "data": {
      "text/html": [
       "<div>\n",
       "<style scoped>\n",
       "    .dataframe tbody tr th:only-of-type {\n",
       "        vertical-align: middle;\n",
       "    }\n",
       "\n",
       "    .dataframe tbody tr th {\n",
       "        vertical-align: top;\n",
       "    }\n",
       "\n",
       "    .dataframe thead th {\n",
       "        text-align: right;\n",
       "    }\n",
       "</style>\n",
       "<table border=\"1\" class=\"dataframe\">\n",
       "  <thead>\n",
       "    <tr style=\"text-align: right;\">\n",
       "      <th></th>\n",
       "      <th>CHR</th>\n",
       "      <th>SNP</th>\n",
       "      <th>BP</th>\n",
       "      <th>A1</th>\n",
       "      <th>TEST</th>\n",
       "      <th>NMISS</th>\n",
       "      <th>BETA</th>\n",
       "      <th>STAT</th>\n",
       "      <th>P</th>\n",
       "    </tr>\n",
       "  </thead>\n",
       "  <tbody>\n",
       "    <tr>\n",
       "      <th>0</th>\n",
       "      <td>2</td>\n",
       "      <td>rs113106463</td>\n",
       "      <td>11320</td>\n",
       "      <td>A</td>\n",
       "      <td>ADD</td>\n",
       "      <td>395</td>\n",
       "      <td>0.01104</td>\n",
       "      <td>0.1907</td>\n",
       "      <td>0.84890</td>\n",
       "    </tr>\n",
       "    <tr>\n",
       "      <th>1</th>\n",
       "      <td>2</td>\n",
       "      <td>rs13390778</td>\n",
       "      <td>11842</td>\n",
       "      <td>G</td>\n",
       "      <td>ADD</td>\n",
       "      <td>395</td>\n",
       "      <td>0.17680</td>\n",
       "      <td>1.9680</td>\n",
       "      <td>0.04981</td>\n",
       "    </tr>\n",
       "    <tr>\n",
       "      <th>2</th>\n",
       "      <td>2</td>\n",
       "      <td>rs10172644</td>\n",
       "      <td>11985</td>\n",
       "      <td>G</td>\n",
       "      <td>ADD</td>\n",
       "      <td>395</td>\n",
       "      <td>0.08173</td>\n",
       "      <td>0.8929</td>\n",
       "      <td>0.37250</td>\n",
       "    </tr>\n",
       "    <tr>\n",
       "      <th>3</th>\n",
       "      <td>2</td>\n",
       "      <td>rs10171150</td>\n",
       "      <td>12091</td>\n",
       "      <td>G</td>\n",
       "      <td>ADD</td>\n",
       "      <td>395</td>\n",
       "      <td>0.20400</td>\n",
       "      <td>2.3330</td>\n",
       "      <td>0.02016</td>\n",
       "    </tr>\n",
       "    <tr>\n",
       "      <th>4</th>\n",
       "      <td>2</td>\n",
       "      <td>rs72770995</td>\n",
       "      <td>13241</td>\n",
       "      <td>C</td>\n",
       "      <td>ADD</td>\n",
       "      <td>395</td>\n",
       "      <td>0.13090</td>\n",
       "      <td>1.4110</td>\n",
       "      <td>0.15900</td>\n",
       "    </tr>\n",
       "  </tbody>\n",
       "</table>\n",
       "</div>"
      ],
      "text/plain": [
       "   CHR          SNP     BP A1 TEST  NMISS     BETA    STAT        P\n",
       "0    2  rs113106463  11320  A  ADD    395  0.01104  0.1907  0.84890\n",
       "1    2   rs13390778  11842  G  ADD    395  0.17680  1.9680  0.04981\n",
       "2    2   rs10172644  11985  G  ADD    395  0.08173  0.8929  0.37250\n",
       "3    2   rs10171150  12091  G  ADD    395  0.20400  2.3330  0.02016\n",
       "4    2   rs72770995  13241  C  ADD    395  0.13090  1.4110  0.15900"
      ]
     },
     "execution_count": 177,
     "metadata": {},
     "output_type": "execute_result"
    }
   ],
   "source": [
    "assoc = pd.read_csv(os.path.join(os.environ[\"HOME\"], \"week3\", \"gwas_eur_eig.assoc.linear\"), delim_whitespace=True)\n",
    "assoc = assoc[~np.isnan(assoc[\"P\"])]\n",
    "assoc.head()"
   ]
  },
  {
   "cell_type": "code",
   "execution_count": 178,
   "metadata": {},
   "outputs": [
    {
     "data": {
      "text/plain": [
       "Text(0,0.5,'Observed -log10(P)')"
      ]
     },
     "execution_count": 178,
     "metadata": {},
     "output_type": "execute_result"
    },
    {
     "data": {
      "image/png": "[encoded data removed]",
      "text/plain": [
       "<Figure size 432x288 with 1 Axes>"
      ]
     },
     "metadata": {
      "needs_background": "light"
     },
     "output_type": "display_data"
    }
   ],
   "source": [
    "pvals = assoc[\"P\"]\n",
    "pvals = pvals.sort_values()\n",
    "unif = list(np.random.uniform(0, 1, size=len(pvals)))\n",
    "unif.sort()\n",
    "\n",
    "fig = plt.figure()\n",
    "ax = fig.add_subplot(111)\n",
    "ax.scatter(-1*np.log10(unif), -1*np.log10(pvals), s=5, color=\"black\")\n",
    "ax.plot([0, 8], [0,8])\n",
    "ax.set_xlim(left=0, right=8)\n",
    "ax.set_ylim(bottom=0, top=max(-1*np.log10([item for item in pvals if item >0])))\n",
    "ax.set_xlabel(\"Expected -log10(P)\")\n",
    "ax.set_ylabel(\"Observed -log10(P)\")"
   ]
  },
  {
   "cell_type": "code",
   "execution_count": 179,
   "metadata": {},
   "outputs": [
    {
     "data": {
      "image/png": "[encoded data removed]",
      "text/plain": [
       "<Figure size 720x288 with 1 Axes>"
      ]
     },
     "metadata": {
      "needs_background": "light"
     },
     "output_type": "display_data"
    },
    {
     "data": {
      "image/png": "[encoded data removed]",
      "text/plain": [
       "<Figure size 720x288 with 1 Axes>"
      ]
     },
     "metadata": {
      "needs_background": "light"
     },
     "output_type": "display_data"
    }
   ],
   "source": [
    "assoc = assoc.sort_values([\"CHR\",\"BP\"])\n",
    "color = \"gray\"\n",
    "for chrom in set(assoc[\"CHR\"]):\n",
    "    fig = plt.figure()\n",
    "    fig.set_size_inches((10, 4))\n",
    "    ax = fig.add_subplot(111)\n",
    "    ax.scatter(assoc[assoc[\"CHR\"]==chrom][\"BP\"], -1*np.log10(assoc[assoc[\"CHR\"]==chrom][\"P\"]), s=5, color=color)\n",
    "    ax.set_xlabel(\"Position\")\n",
    "    ax.set_ylabel(\"-log10 P\");\n",
    "    ax.set_title(\"Chromosome %s\"%chrom)"
   ]
  },
  {
   "cell_type": "markdown",
   "metadata": {
    "deletable": false,
    "editable": false,
    "nbgrader": {
     "checksum": "c4cc95811a92921de60fdb4f4ae02da7",
     "grade": false,
     "grade_id": "cell-586d458ff28277fc",
     "locked": true,
     "schema_version": 1,
     "solution": false
    }
   },
   "source": [
    "**Question 13 (1 pt)**: Based on your updated QQ plot after controlling for covariates, do you think the p-values from our GWAS are reliable? why or why not?"
   ]
  },
  {
   "cell_type": "markdown",
   "metadata": {
    "deletable": false,
    "nbgrader": {
     "checksum": "9f119e320ccc7938dbe6a117b0724d8e",
     "grade": true,
     "grade_id": "correct-gwas-interpret",
     "locked": false,
     "points": 1,
     "schema_version": 1,
     "solution": true
    }
   },
   "source": [
    "The p-values from the new GWAS seem more reliable. There is less inflation of all the values and there are only a few that diverge from the null line. Taking into account location in Europe gives better granularity to the anlysis."
   ]
  },
  {
   "cell_type": "markdown",
   "metadata": {
    "deletable": false,
    "editable": false,
    "nbgrader": {
     "checksum": "8cd41d2993461b6d3ac810afad4ff34f",
     "grade": false,
     "grade_id": "cell-93fc8c3dda4e52fc",
     "locked": true,
     "schema_version": 1,
     "solution": false
    }
   },
   "source": [
    "**Question 14 (1 pt)**: What happened to the top signal on chromosome 15 you saw before adjusting for ancestry. Is it still there? Why or why not?"
   ]
  },
  {
   "cell_type": "code",
   "execution_count": 181,
   "metadata": {},
   "outputs": [
    {
     "data": {
      "text/html": [
       "<div>\n",
       "<style scoped>\n",
       "    .dataframe tbody tr th:only-of-type {\n",
       "        vertical-align: middle;\n",
       "    }\n",
       "\n",
       "    .dataframe tbody tr th {\n",
       "        vertical-align: top;\n",
       "    }\n",
       "\n",
       "    .dataframe thead th {\n",
       "        text-align: right;\n",
       "    }\n",
       "</style>\n",
       "<table border=\"1\" class=\"dataframe\">\n",
       "  <thead>\n",
       "    <tr style=\"text-align: right;\">\n",
       "      <th></th>\n",
       "      <th>CHR</th>\n",
       "      <th>SNP</th>\n",
       "      <th>BP</th>\n",
       "      <th>A1</th>\n",
       "      <th>TEST</th>\n",
       "      <th>NMISS</th>\n",
       "      <th>BETA</th>\n",
       "      <th>STAT</th>\n",
       "      <th>P</th>\n",
       "    </tr>\n",
       "  </thead>\n",
       "  <tbody>\n",
       "    <tr>\n",
       "      <th>90162</th>\n",
       "      <td>2</td>\n",
       "      <td>rs17511102</td>\n",
       "      <td>37960613</td>\n",
       "      <td>T</td>\n",
       "      <td>ADD</td>\n",
       "      <td>395</td>\n",
       "      <td>-0.9578</td>\n",
       "      <td>-8.730</td>\n",
       "      <td>7.660000e-17</td>\n",
       "    </tr>\n",
       "    <tr>\n",
       "      <th>90171</th>\n",
       "      <td>2</td>\n",
       "      <td>rs10490279</td>\n",
       "      <td>37963194</td>\n",
       "      <td>T</td>\n",
       "      <td>ADD</td>\n",
       "      <td>395</td>\n",
       "      <td>-0.6816</td>\n",
       "      <td>-7.291</td>\n",
       "      <td>1.743000e-12</td>\n",
       "    </tr>\n",
       "    <tr>\n",
       "      <th>90174</th>\n",
       "      <td>2</td>\n",
       "      <td>rs11683151</td>\n",
       "      <td>37963965</td>\n",
       "      <td>G</td>\n",
       "      <td>ADD</td>\n",
       "      <td>395</td>\n",
       "      <td>-0.6816</td>\n",
       "      <td>-7.291</td>\n",
       "      <td>1.743000e-12</td>\n",
       "    </tr>\n",
       "    <tr>\n",
       "      <th>90217</th>\n",
       "      <td>2</td>\n",
       "      <td>rs7566658</td>\n",
       "      <td>37987124</td>\n",
       "      <td>G</td>\n",
       "      <td>ADD</td>\n",
       "      <td>395</td>\n",
       "      <td>-0.6797</td>\n",
       "      <td>-7.277</td>\n",
       "      <td>1.910000e-12</td>\n",
       "    </tr>\n",
       "    <tr>\n",
       "      <th>90223</th>\n",
       "      <td>2</td>\n",
       "      <td>rs74184888</td>\n",
       "      <td>37988449</td>\n",
       "      <td>T</td>\n",
       "      <td>ADD</td>\n",
       "      <td>395</td>\n",
       "      <td>-0.6797</td>\n",
       "      <td>-7.277</td>\n",
       "      <td>1.910000e-12</td>\n",
       "    </tr>\n",
       "  </tbody>\n",
       "</table>\n",
       "</div>"
      ],
      "text/plain": [
       "       CHR         SNP        BP A1 TEST  NMISS    BETA   STAT             P\n",
       "90162    2  rs17511102  37960613  T  ADD    395 -0.9578 -8.730  7.660000e-17\n",
       "90171    2  rs10490279  37963194  T  ADD    395 -0.6816 -7.291  1.743000e-12\n",
       "90174    2  rs11683151  37963965  G  ADD    395 -0.6816 -7.291  1.743000e-12\n",
       "90217    2   rs7566658  37987124  G  ADD    395 -0.6797 -7.277  1.910000e-12\n",
       "90223    2  rs74184888  37988449  T  ADD    395 -0.6797 -7.277  1.910000e-12"
      ]
     },
     "execution_count": 181,
     "metadata": {},
     "output_type": "execute_result"
    }
   ],
   "source": [
    "assoc.loc[list(pvals.sort_values()[0:5].index)]"
   ]
  },
  {
   "cell_type": "markdown",
   "metadata": {
    "deletable": false,
    "nbgrader": {
     "checksum": "c896092f97405e6c9cf2a9a482a0dfc0",
     "grade": true,
     "grade_id": "cell-8e8d390bc3aa9bb5",
     "locked": false,
     "points": 1,
     "schema_version": 1,
     "solution": true
    }
   },
   "source": [
    "The top signal from chromosome 15 are no longer there. The only ones we see are located on chromosome 2. The snps are now more localized to a single locus of region. This is with the idea that nearby snps or region of snps have more influence together. Rather than scattered snps."
   ]
  },
  {
   "cell_type": "markdown",
   "metadata": {
    "deletable": false,
    "editable": false,
    "nbgrader": {
     "checksum": "43403c7113fba3e392bd8457eefd4f65",
     "grade": false,
     "grade_id": "cell-1de4fb4b582da911",
     "locked": true,
     "schema_version": 1,
     "solution": false
    }
   },
   "source": [
    "**Question 15 (3 pts)**: Take a look at the top signal (should be on chromosome 2). Search for this region (perhaps by rsid of the top SNP) and try to see if this region has been previously associated with height. Are there any genes nearby (within 100kb) of the top hit? Hypothesize why this locus might be involved in height."
   ]
  },
  {
   "cell_type": "markdown",
   "metadata": {
    "deletable": false,
    "nbgrader": {
     "checksum": "8702a65816c8214577b0c0398d961281",
     "grade": true,
     "grade_id": "correct-height-gwas",
     "locked": false,
     "points": 3,
     "schema_version": 1,
     "solution": true
    }
   },
   "source": [
    "Upon analysis of this region I get a hit that \"Hundreds of variants clustered in genomic loci and biological pathways affect human height\" for this rsid and the regions around it. Other snps connected to heigh in the region include rs1175000, rs17318596, rs17690232 and rs17638464. This locus and nearby regions may be essential for coding a certain protein that regulates height or determines functionality linked to height. Variants in these regions could all affect similar amino acids on a single or related protein. They could also affect transcription factors essential for coding of these protein related to height."
   ]
  }
 ],
 "metadata": {
  "kernelspec": {
   "display_name": "Python 3",
   "language": "python",
   "name": "python3"
  },
  "language_info": {
   "codemirror_mode": {
    "name": "ipython",
    "version": 3
   },
   "file_extension": ".py",
   "mimetype": "text/x-python",
   "name": "python",
   "nbconvert_exporter": "python",
   "pygments_lexer": "ipython3",
   "version": "3.6.7"
  }
 },
 "nbformat": 4,
 "nbformat_minor": 2
}
