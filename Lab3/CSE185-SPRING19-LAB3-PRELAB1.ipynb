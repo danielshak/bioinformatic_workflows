{
 "cells": [
  {
   "cell_type": "markdown",
   "metadata": {
    "deletable": false,
    "editable": false,
    "nbgrader": {
     "checksum": "2efdfc0aa5b509898715b893486c1a5b",
     "grade": false,
     "grade_id": "cell-7c6fbc7ff9a78f4f",
     "locked": true,
     "schema_version": 1,
     "solution": false
    }
   },
   "source": [
    "# Week 3 Lab: Population genetics\n",
    "## Prelab 1\n",
    "\n",
    "**Due: Monday 4/22/19 11:59PM**\n",
    "\n",
    "For this prelab, we'll become familiar with the concepts of genotype and allele frequencies, and how they behave when we are looking at large or diverse populations. \n",
    "\n",
    "You may work with a partner or consult basically anything (internet, classmates) for help!"
   ]
  },
  {
   "cell_type": "markdown",
   "metadata": {
    "deletable": false,
    "editable": false,
    "nbgrader": {
     "checksum": "e4d4dee32f05b96f6f9f6f029237dc46",
     "grade": false,
     "grade_id": "cell-b05d876de6b63147",
     "locked": true,
     "schema_version": 1,
     "solution": false
    }
   },
   "source": [
    "## 1. Allele and genotype frequencies\n",
    "\n",
    "If you were to look at the genomes of two unrelated people, the vast majority would be the same. But in some cases, mutations have arisen over time that make genomes slightly different from each other.\n",
    "\n",
    "For this week, we'll focus almost exclusely on a type of genetic variation (mutation) which we call \"SNPs\" (single nucleotide polymorphisms). A SNP can be thought of simply as a spelling mistake, where originally there was a particular nucleotide at a position in the genome (say \"A\"), but at some point there was a mutation (for example, changing the \"A\" to a \"C\"). \n",
    "\n",
    "We use **allele** to refer to a particular \"version\" of a SNP. For example a SNP may have to different *alleles* (e.g. \"A\" or \"C\").\n",
    "\n",
    "A **genotype** is the combination of an individual's two alleles. So for a T/A SNP a person's genotype can be either TT, AT, or AA. (At least for now, we don't care about the order of alleles in heterozygous SNPs. So you could also say \"TA\" instead of \"AT\".\n",
    "\n",
    "**Question 1 (2 pts)**: For a SNP with alleles \"G\" and \"C\", what are all possible diploid genotypes\"? Set the list `possible_gts` to your answer below. An example is shown for you. Please keep alleles in uppercase."
   ]
  },
  {
   "cell_type": "code",
   "execution_count": 2,
   "metadata": {
    "deletable": false,
    "nbgrader": {
     "checksum": "feb5551606a6e57793a19c36581ace45",
     "grade": false,
     "grade_id": "snpgt",
     "locked": false,
     "schema_version": 1,
     "solution": true
    }
   },
   "outputs": [],
   "source": [
    "# Example: what are the possible genotypes for a SNP with alleles \"A\" and \"T\"?\n",
    "possible_gts_AT = [\"AA\",\"AT\",\"TT\"]\n",
    "\n",
    "# What are the possible genotypes for a SNP with alleles \"G\" and \"C\"?\n",
    "possible_gts_GC = [\"GG\", \"GC\", \"CC\"] \n"
   ]
  },
  {
   "cell_type": "code",
   "execution_count": 3,
   "metadata": {
    "deletable": false,
    "editable": false,
    "nbgrader": {
     "checksum": "e0cb3948fe3d25846d991b8429fd3501",
     "grade": true,
     "grade_id": "correct-snpgt",
     "locked": true,
     "points": 2,
     "schema_version": 1,
     "solution": false
    }
   },
   "outputs": [],
   "source": [
    "\"\"\"Test the list of possible genotypes is correct\"\"\"\n",
    "assert(len(possible_gts_AT)==3)\n",
    "assert(\"AA\" in possible_gts_AT)\n",
    "assert(\"AT\" in possible_gts_AT or \"TA\" in possible_gts_AT)\n",
    "assert(\"TT\" in possible_gts_AT)\n"
   ]
  },
  {
   "cell_type": "markdown",
   "metadata": {
    "deletable": false,
    "editable": false,
    "nbgrader": {
     "checksum": "a05b44c7f5049efb388ecb9a73c11fd8",
     "grade": false,
     "grade_id": "cell-4d4441b1acc9050e",
     "locked": true,
     "schema_version": 1,
     "solution": false
    }
   },
   "source": [
    "We can think of all of the copies of a chromosome in the population (2 per person) as deriving from some common ancestor a long time ago. The leaves of the tree below are all the present-day copies of the chromosome. Since humans are diploid, humans each have two copies (right).\n",
    "\n",
    "<img src=popgen_fig1.png width=800>\n",
    "\n",
    "Once a mutation arises on one copy of a chromosome, it can be passed on to future generations and can eventually spread throughout the population (see left figure above).\n",
    "\n",
    "We use **allele frequency** to refer to the frequency of a particular allele out of all the copies of the genome in population. \n",
    "\n",
    "We use **genotype frequency** to refer to the frequency of each of possible *genotype* (consisting of two alleles) in the population.\n",
    "\n",
    "Since we each have two copies of each chromosome, allele frequency is usually the number of times the allele was seen divided by two times the number of people we analyzed (ignoring sex chromosomes or mitochondria).\n",
    "\n",
    "For example, consider an \"A/T\" SNP that we are analyzing in a set of 1,000 people. We find that 40 people have genotype AA, 320 have genotype AT, and 640 have genotype TT:\n",
    "\n",
    "* The *genotype frequencies* are: AA=40/1000 = 4%, AT=320/1000 = 32%, and TT=640/1000 = 64%.\n",
    "* To find the *allele frequencies*:\n",
    "  * We have 2,000 (2*number of people) total copies of the chromosome\n",
    "  * For A, 40 people have two copies of A and 320 people have one copy of A, so there are $40*2+320 = 400$ total copies of A.\n",
    "  * Similarly, there are $640*2+320=1600$ copies of T\n",
    "  * So the allele frequencies are A=400/2000 = 20%, T=1600/2000 = 80%\n",
    "  \n",
    "We use **minor allele** to refer to the allele at a position that is least frequent in the population, and **major allele** to refer to the most common allele. (Note, in some cases the reference allele is actually the minor allele!)\n",
    "\n",
    "We use **minor allele frequency (MAF)** to refer to the frequency of the minor allele.\n",
    "\n",
    "Since most SNPs have only two alleles (\"bi-allelic\"), we can conveniently represent most SNP genotypes as 0, 1, or 2. Usually \"0\" would mean homozygous for the most common allele, \"1\" would mean heterogyzous, and \"2\" would mean homozygous for the least common allele.\n",
    "\n",
    "**Question 2 (5 pts)**: Consider a \"G/C\" SNP that we are analyzing in a set of 10,000 people. We find that 7,225 people have genotype CC (\"0\"), 2,550 people have genotype GC (\"1\"), and 225 people have genotype GG (\"2\"). Complete the functions `GetGenotypeFrequencies` and `GetAlleleFrequencies` to compute the genotype and allele frequencies of this SNP, respectively. The example from above is given as a test case to make sure your code is working."
   ]
  },
  {
   "cell_type": "code",
   "execution_count": 9,
   "metadata": {
    "deletable": false,
    "nbgrader": {
     "checksum": "e7a88e8411d5a735c2203cc03a442f59",
     "grade": false,
     "grade_id": "freqs",
     "locked": false,
     "schema_version": 1,
     "solution": true
    }
   },
   "outputs": [
    {
     "name": "stdout",
     "output_type": "stream",
     "text": [
      "Example\n",
      "Computed genotype frequencies: 0=0.64, 1=0.32, 2=0.04\n",
      "Computed allele frequencies: major allele=0.80, minor allele=0.20\n",
      "Your test case\n",
      "Computed genotype frequencies: 0=0.72, 1=0.26, 2=0.02\n",
      "Computed allele frequencies: major allele=0.85, minor allele=0.15\n"
     ]
    }
   ],
   "source": [
    "# Compute genotype frequencies, given genotype counts\n",
    "# Input: gt_counts[# people with genotype 0, # people with genotype 1, # people with genotype 2]\n",
    "# Return [fraction of people with gt 0, fraction of people with gt1, fraction of people with gt2]\n",
    "def GetGenotypeFrequencies(gt_counts):\n",
    "    gt_freqs = [0, 0, 0]\n",
    "    total_people = sum(gt_counts)\n",
    "    for i, counts in enumerate(gt_counts):\n",
    "        gt_freqs[i] = counts/total_people\n",
    "    return gt_freqs\n",
    "\n",
    "# Compute allele frequencies, given genotype counts\n",
    "# Input: gt_counts[# people with genotype 0, # people with genotype 1, # people with genotype 2]\n",
    "# Return: [fraction of alleles that are the major allele, fraction of alleles that are the minor allele]\n",
    "def GetAlleleFrequencies(gt_counts):\n",
    "    allele_freqs = [0, 0]\n",
    "    total_alleles = sum(gt_counts) * 2\n",
    "    allele_freqs[0] = (gt_counts[0]*2 + gt_counts[1])/total_alleles\n",
    "    allele_freqs[1] = (gt_counts[1] + gt_counts[2]*2)/total_alleles\n",
    "\n",
    "    return allele_freqs\n",
    "\n",
    "print(\"Example\")\n",
    "ex_gt_counts = [640, 320, 40]\n",
    "ex_gt_freqs = GetGenotypeFrequencies(ex_gt_counts)\n",
    "ex_allele_freqs = GetAlleleFrequencies(ex_gt_counts)\n",
    "print(\"Computed genotype frequencies: 0=%.2f, 1=%.2f, 2=%.2f\"%(ex_gt_freqs[0], ex_gt_freqs[1], ex_gt_freqs[2]))\n",
    "print(\"Computed allele frequencies: major allele=%.2f, minor allele=%.2f\"%(ex_allele_freqs[0], ex_allele_freqs[1]))\n",
    "\n",
    "print(\"Your test case\")\n",
    "gt_counts = [7225, 2550, 225]\n",
    "gt_freqs = GetGenotypeFrequencies(gt_counts)\n",
    "allele_freqs = GetAlleleFrequencies(gt_counts)\n",
    "print(\"Computed genotype frequencies: 0=%.2f, 1=%.2f, 2=%.2f\"%(gt_freqs[0], gt_freqs[1], gt_freqs[2]))\n",
    "print(\"Computed allele frequencies: major allele=%.2f, minor allele=%.2f\"%(allele_freqs[0], allele_freqs[1]))"
   ]
  },
  {
   "cell_type": "code",
   "execution_count": 10,
   "metadata": {
    "deletable": false,
    "editable": false,
    "nbgrader": {
     "checksum": "54816b1fa6dbfdfec6a8c1485c0721c1",
     "grade": true,
     "grade_id": "cell-5b21942d96a246e7",
     "locked": true,
     "points": 5,
     "schema_version": 1,
     "solution": false
    }
   },
   "outputs": [],
   "source": [
    "\"\"\"Test results of GetGenotypeFrequencies and GetAlleleFrequencies\"\"\"\n",
    "ex_gt_counts = [640, 320, 40]\n",
    "ex_gt_freqs = GetGenotypeFrequencies(ex_gt_counts)\n",
    "ex_allele_freqs = GetAlleleFrequencies(ex_gt_counts)\n",
    "assert(sum(ex_gt_freqs)==1)\n",
    "assert(sum(ex_allele_freqs)==1)\n",
    "assert(ex_gt_freqs[0]==0.64)\n",
    "assert(ex_gt_freqs[1]==0.32)\n",
    "assert(ex_gt_freqs[2]==0.04)\n",
    "assert(ex_allele_freqs[0]==0.80)\n",
    "assert(ex_allele_freqs[1]==0.20)"
   ]
  },
  {
   "cell_type": "markdown",
   "metadata": {
    "deletable": false,
    "editable": false,
    "nbgrader": {
     "checksum": "9c611bc090847a15ebefd01c6465bff2",
     "grade": false,
     "grade_id": "cell-16f996a83a59436d",
     "locked": true,
     "schema_version": 1,
     "solution": false
    }
   },
   "source": [
    "## 2. Mutations in populations\n",
    "\n",
    "Depending on when a mutation occurs, it can have very different frequency in the population. Consider a mutation that occurred thousands of years ago vs. a mutation that happened very recently:\n",
    "\n",
    "<img src=popgen_fig2.png width=800>\n",
    "\n",
    "Now think about different human populations in the world. At the highest level, we can think of the major population groups of the world as being related as depicted in the tree below:\n",
    "\n",
    "<img src=popgen_fig3.png width=400>\n",
    "\n",
    "(This is a major simplification, and ignores things like admixture between different populations)\n",
    "\n",
    "If a mutation occurred before these populations split, it might be pretty common all across the globe. On the other hand, if a poulation occurred after a population split, it may be common in one population but completely missing from another.\n",
    "\n",
    "<img src=popgen_fig4.png width=700>\n",
    "\n",
    "**Question 3 (3 pts)**: The ancestral copy of a chromosome has base \"T\" at a particular position. This \"T\" mutated to a \"C\" in an Asian individual thousands of years ago but after Asian populations had diverged from other populations. What do you expect the minor allele frequency (frequency of allele \"C\") of this SNP to be in Europeans? Set `expected_maf` to your answer below (ignoring new mutations at the same position, which are rare but can happen). "
   ]
  },
  {
   "cell_type": "code",
   "execution_count": 13,
   "metadata": {
    "deletable": false,
    "nbgrader": {
     "checksum": "638013d31516055db1fe59fb9d356dc5",
     "grade": false,
     "grade_id": "cell-411e23cccec6a768",
     "locked": false,
     "schema_version": 1,
     "solution": true
    }
   },
   "outputs": [],
   "source": [
    "expected_maf = 0"
   ]
  },
  {
   "cell_type": "code",
   "execution_count": 14,
   "metadata": {
    "deletable": false,
    "editable": false,
    "nbgrader": {
     "checksum": "f16984ac210a731e702b59bfadfdfce4",
     "grade": true,
     "grade_id": "cell-3b0ec30c503ee759",
     "locked": true,
     "points": 3,
     "schema_version": 1,
     "solution": false
    }
   },
   "outputs": [
    {
     "data": {
      "text/plain": [
       "'Test result of expected_maf'"
      ]
     },
     "execution_count": 14,
     "metadata": {},
     "output_type": "execute_result"
    }
   ],
   "source": [
    "\"\"\"Test result of expected_maf\"\"\""
   ]
  }
 ],
 "metadata": {
  "kernelspec": {
   "display_name": "Python 3",
   "language": "python",
   "name": "python3"
  },
  "language_info": {
   "codemirror_mode": {
    "name": "ipython",
    "version": 3
   },
   "file_extension": ".py",
   "mimetype": "text/x-python",
   "name": "python",
   "nbconvert_exporter": "python",
   "pygments_lexer": "ipython3",
   "version": "3.6.7"
  }
 },
 "nbformat": 4,
 "nbformat_minor": 2
}
