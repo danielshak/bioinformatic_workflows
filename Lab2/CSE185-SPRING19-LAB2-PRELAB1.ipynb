{
 "cells": [
  {
   "cell_type": "markdown",
   "metadata": {
    "deletable": false,
    "editable": false,
    "nbgrader": {
     "checksum": "d9a70605f2b891ef3fdff698cc70aa32",
     "grade": false,
     "grade_id": "cell-893e5cc612396bd7",
     "locked": true,
     "schema_version": 1,
     "solution": false
    }
   },
   "source": [
    "# Week 2 Lab: Assembly\n",
    "## Prelab 1\n",
    "\n",
    "**Due: Monday 4/15/19 11:59PM**\n",
    "\n",
    "For this prelab, we'll derive how to estimate the size of a genome based on kmer frequencies using a toy example. In tomorrow's lab, we'll do this on a real genome.\n",
    "\n",
    "You may work with a partner or consult your classmates for help!\n",
    "\n",
    "## 1. Intro to kmer counts and coverage\n",
    "\n",
    "First, let's consider kmers originating from $N$ copies of an example genome ($G$) of length $|G|=15$."
   ]
  },
  {
   "cell_type": "code",
   "execution_count": null,
   "metadata": {
    "deletable": false,
    "editable": false,
    "nbgrader": {
     "checksum": "b39f17580ada2a83333cf3938118dcfe",
     "grade": false,
     "grade_id": "cell-850d8f8f78f8a271",
     "locked": true,
     "schema_version": 1,
     "solution": false
    }
   },
   "outputs": [],
   "source": [
    "GENOME=\"ACTCGGCGTTACGCG\""
   ]
  },
  {
   "cell_type": "markdown",
   "metadata": {
    "deletable": false,
    "editable": false,
    "nbgrader": {
     "checksum": "4b0de875c7cd6e0ccd927e36d6a9febe",
     "grade": false,
     "grade_id": "kmer-num",
     "locked": true,
     "schema_version": 1,
     "solution": false
    }
   },
   "source": [
    "**Question 1 (1 pt)**: How many unique kmers of length 7 can be generated from our genome? List them"
   ]
  },
  {
   "cell_type": "markdown",
   "metadata": {
    "deletable": false,
    "nbgrader": {
     "checksum": "9c578c5bf4a55782432ad79e7cb4cced",
     "grade": true,
     "grade_id": "correct-kmer-num",
     "locked": false,
     "points": 1,
     "schema_version": 1,
     "solution": true
    }
   },
   "source": [
    "Unique kmers calculated by G-kmer_length+1\n",
    "\n",
    "For our example this is 15-7+1 = 9"
   ]
  },
  {
   "cell_type": "markdown",
   "metadata": {
    "deletable": false,
    "editable": false,
    "nbgrader": {
     "checksum": "096f8edc685b098b35c3734c63bbfc4e",
     "grade": false,
     "grade_id": "kmer-genomesize",
     "locked": true,
     "schema_version": 1,
     "solution": false
    }
   },
   "source": [
    "**Question 2 (1 pt)**: What would your answer to question 1 (number of unique 7-mers) be for a genome of length 100? 1000? 1000000? Provide the answer as well as a general formula to compute the number of possible kmers. Note, as the genome size gets much bigger than the kmer size, the number of total kmers seen forms a good approximation to the genome size. \n",
    "\n",
    "(Note, your formula should involve $|G|$ and $k$. Ignore the possibility that a single kmer may be seen more than once in the genome. Although note that does not often hold in real genomes and depends on kmer size)."
   ]
  },
  {
   "cell_type": "markdown",
   "metadata": {
    "deletable": false,
    "nbgrader": {
     "checksum": "f2f9aee6f5b19bb2268ffcc175558dfd",
     "grade": true,
     "grade_id": "correct-kmer-genomesize",
     "locked": false,
     "points": 1,
     "schema_version": 1,
     "solution": true
    }
   },
   "source": [
    "Formula for calculating unique kmers (same as above): |G| - kmer_length + 1 <br>\n",
    "Above formula does not account for repeats of specific kmers.\n",
    "\n",
    "For |G| = 100 -> 100-7+1 = 94 <br>\n",
    "For |G| = 1000 -> 1000-7+1 = 994 <br>\n",
    "For |G| = 1,000,000 -> 1,000,000-7+1 = 999,994 <br>\n"
   ]
  },
  {
   "cell_type": "markdown",
   "metadata": {
    "deletable": false,
    "editable": false,
    "nbgrader": {
     "checksum": "5cc9e6d7c475fda6924df856db4dcad5",
     "grade": false,
     "grade_id": "kmer-count",
     "locked": true,
     "schema_version": 1,
     "solution": false
    }
   },
   "source": [
    "**Question 3 (1 pt)**: We decide to sequence our genome with 100 reads of length ($L$) 7bp. What will be the average coverage ($C$) of our length 15 genome above? Recall that *coverage* refers to the average number of times each base pair in the genome is sequenced. (see the formula for coverage from last week.)"
   ]
  },
  {
   "cell_type": "markdown",
   "metadata": {
    "deletable": false,
    "nbgrader": {
     "checksum": "eb26651a6e0d68ada894ec9dc8f4ab7b",
     "grade": true,
     "grade_id": "correct-kmer-count",
     "locked": false,
     "points": 1,
     "schema_version": 1,
     "solution": true
    }
   },
   "source": [
    "Average coverage (C) = total number of bases read/genome length\n",
    "\n",
    "C = (100 reads) * (7 read length) / (15 genome length) = 700/15 = 46.667"
   ]
  },
  {
   "cell_type": "markdown",
   "metadata": {
    "deletable": false,
    "editable": false,
    "nbgrader": {
     "checksum": "214178064e0b05ab57d41d912e537cd2",
     "grade": false,
     "grade_id": "kmercov",
     "locked": true,
     "schema_version": 1,
     "solution": false
    }
   },
   "source": [
    "We can also consider the *kmer coverage* ($M$), or the average number of times each *kmer* of a given length is seen. For example, if we have reads of length $L=7$, and are using $k=7$, then we will sequence a single kmer for each read. If we know the total number of possible kmers (your answer to question 2), the we can compute $M$ as the total number of kmers seen divided by the total number of possible kmers. \n",
    "\n",
    "**Question 4 (1 pt)**: Continuing our example from question 3, with $N=100$ reads of length $L=7$ and $|G|=15$, what will be the average *kmer coverage*?"
   ]
  },
  {
   "cell_type": "markdown",
   "metadata": {
    "deletable": false,
    "nbgrader": {
     "checksum": "13ac1b86bf228166f6f358f54d1ca11d",
     "grade": true,
     "grade_id": "correct-kmercov",
     "locked": false,
     "points": 1,
     "schema_version": 1,
     "solution": true
    }
   },
   "source": [
    "M = kmer coverage (avg number of times each kmer is seen) = total kmers seen/total possible kmers\n",
    "\n",
    "M = (# reads) * (# kmers per read) / (# of possible kmers) = (100) * (7-7+1) / (15-7+1) = 100/9 = 11.111"
   ]
  },
  {
   "cell_type": "markdown",
   "metadata": {
    "deletable": false,
    "editable": false,
    "nbgrader": {
     "checksum": "142372886f3038d6ed0b82c393f33176",
     "grade": false,
     "grade_id": "kmeread",
     "locked": true,
     "schema_version": 1,
     "solution": false
    }
   },
   "source": [
    "**Question 5 (1 pt)**: What about if read length $L=10$? How many kmers of length $k=7$ will we observe per read? What will be the average kmer coverage with 100 reads for a genome of length 15?"
   ]
  },
  {
   "cell_type": "markdown",
   "metadata": {
    "deletable": false,
    "nbgrader": {
     "checksum": "4b5a6ec0257beb3e837a21486a6641b3",
     "grade": true,
     "grade_id": "correct-kmeread",
     "locked": false,
     "points": 1,
     "schema_version": 1,
     "solution": true
    }
   },
   "source": [
    "Number of length 7 kmers per read = 10 - 7 + 1 = 4\n",
    "\n",
    "M = (# reads) * (# kmers per read) / (# of possible kmers) = (100) * (10-7+1) / (15-7+1) = 400/9 = 44.444"
   ]
  },
  {
   "cell_type": "markdown",
   "metadata": {
    "deletable": false,
    "editable": false,
    "nbgrader": {
     "checksum": "36a1d6fa4c1f524f228703f0fa98e6c8",
     "grade": false,
     "grade_id": "cell-59119d5a45455262",
     "locked": true,
     "schema_version": 1,
     "solution": false
    }
   },
   "source": [
    "Now let's write some code to check our answers.\n",
    "\n",
    "**Question 6 (2 pts)**: Complete the code below, which generates $N$ reads of length $L$ from an example genome $G$ and plots a histogram of kmer counts for a given length $k$.\n",
    "\n",
    "You will need to fill in the functions:\n",
    "* `GetKmersFromReads`: which gets a list of all kmers of a given length observed in the reads\n",
    "* `GetMeanKmerCov`: which computes the mean kmer coverage ($M$) based on the read length $L$, kmer size $k$, and number of reads $N$. \n",
    "\n",
    "The code will create a histogram of kmer counts. If your result for `GetMeanKmerCov` is correct it should be around the mean value of the histogram."
   ]
  },
  {
   "cell_type": "code",
   "execution_count": 20,
   "metadata": {
    "deletable": false,
    "nbgrader": {
     "checksum": "50c7847899e6b92684c8b478ba22a9c2",
     "grade": false,
     "grade_id": "plot-khist",
     "locked": false,
     "schema_version": 1,
     "solution": true
    }
   },
   "outputs": [
    {
     "name": "stdout",
     "output_type": "stream",
     "text": [
      "Populating the interactive namespace from numpy and matplotlib\n"
     ]
    },
    {
     "data": {
      "image/png": "[encoded data removed]",
      "text/plain": [
       "<Figure size 504x216 with 1 Axes>"
      ]
     },
     "metadata": {
      "needs_background": "light"
     },
     "output_type": "display_data"
    }
   ],
   "source": [
    "%pylab inline\n",
    "\n",
    "GENOME=\"ACTCGGCGTTACGCG\"\n",
    "k = 7\n",
    "N = 100\n",
    "L = 7\n",
    "\n",
    "def GetReads(GENOME, N, L):\n",
    "    \"\"\"\n",
    "    Return a list of N reads of length L from a GENOME string\n",
    "    \"\"\"\n",
    "    reads = []\n",
    "    for i in range(N):\n",
    "        start = random.randint(0, len(GENOME)-L+1)\n",
    "        reads.append(GENOME[start:start+L])\n",
    "    return reads\n",
    "\n",
    "def GetKmersFromReads(reads, k):\n",
    "    \"\"\"\n",
    "    Return a list of all kmers of length k from a list of reads\n",
    "    \"\"\"\n",
    "    kmers = []\n",
    "    for read in reads:\n",
    "        for i in range(len(read)-k+1):\n",
    "            # Get the kmer starting at index i and add to the list of kmers\n",
    "            kmers.append(read[i:i+k])\n",
    "    return kmers\n",
    "\n",
    "def GetKmerCounts(kmer_list):\n",
    "    \"\"\"\n",
    "    Count the number of times each unique kmer occurs.\n",
    "    Should return a dictionary with kmer_counts[kmer] = number of times the \n",
    "    kmer is seen in kmer_list\n",
    "    \"\"\"\n",
    "    kmer_counts = {}\n",
    "    for kmer in kmer_list:\n",
    "        kmer_counts[kmer] = kmer_counts.get(kmer, 0) + 1\n",
    "    return kmer_counts\n",
    "\n",
    "def GetMeanKmerCov(GENOME, N, k, L):\n",
    "    num_kmers_seq = 0 # Set this below\n",
    "    num_kmers_uniq = -1 # Set this below\n",
    "    # Set num_kmers_seq and num_kmers_uniq based on the formulas above\n",
    "    # num_kmers_seq is the total number of kmers sequenced\n",
    "    num_kmers_seq = N*(L-k+1)\n",
    "    # num_kmers_uniq is the number of unique kmers in GENOME (assuming all are unique)\n",
    "    num_kmers_uniq = len(GENOME)-k+1\n",
    "\n",
    "    return num_kmers_seq*1.0/num_kmers_uniq\n",
    "\n",
    "def PlotKmerHist(kmer_counts, meanval=None):\n",
    "    fig = plt.figure()\n",
    "    fig.set_size_inches((7, 3))\n",
    "    ax = fig.add_subplot(111)\n",
    "    vals = list(kmer_counts.values())\n",
    "    bins = np.arange(0, max(vals)*1.5, 1)\n",
    "    ax.hist(vals, bins=bins)\n",
    "    if meanval is not None: ax.axvline(x=meanval, linestyle=\"dashed\", color=\"red\")\n",
    "    ax.set_xlabel(\"Kmer count\")\n",
    "    ax.set_ylabel(\"Number of kmers\")\n",
    "    \n",
    "reads = GetReads(GENOME, N, L)\n",
    "kmer_list = GetKmersFromReads(reads, k)\n",
    "kmer_counts = GetKmerCounts(kmer_list)\n",
    "PlotKmerHist(kmer_counts, meanval=GetMeanKmerCov(GENOME, N, k, L))"
   ]
  },
  {
   "cell_type": "code",
   "execution_count": 22,
   "metadata": {
    "deletable": false,
    "editable": false,
    "nbgrader": {
     "checksum": "67a6d979b5be49857c4bb552ed9c863b",
     "grade": true,
     "grade_id": "correct-plot-khist",
     "locked": true,
     "points": 1,
     "schema_version": 1,
     "solution": false
    }
   },
   "outputs": [],
   "source": [
    "\"\"\"Test GetKmersFromReads\"\"\"\n",
    "GENOME=\"ACTCGGCGTTACGCG\"\n",
    "k = 7\n",
    "N = 100\n",
    "L = 7\n",
    "reads = GetReads(GENOME, N, L)\n",
    "kmer_list = GetKmersFromReads(reads, k)\n",
    "assert(len(kmer_list)==N)\n",
    "\n",
    "k = 7\n",
    "N = 100\n",
    "L = 10\n",
    "reads = GetReads(GENOME, N, L)\n",
    "kmer_list = GetKmersFromReads(reads, k)"
   ]
  },
  {
   "cell_type": "code",
   "execution_count": 23,
   "metadata": {},
   "outputs": [
    {
     "data": {
      "text/plain": [
       "44.44444444444444"
      ]
     },
     "execution_count": 23,
     "metadata": {},
     "output_type": "execute_result"
    }
   ],
   "source": [
    "GetMeanKmerCov(GENOME, N, k, L)"
   ]
  },
  {
   "cell_type": "code",
   "execution_count": 24,
   "metadata": {
    "deletable": false,
    "editable": false,
    "nbgrader": {
     "checksum": "7cdef158aad85124a37cc0ec895b6ca0",
     "grade": true,
     "grade_id": "correct-plot-khist2",
     "locked": true,
     "points": 1,
     "schema_version": 1,
     "solution": false
    }
   },
   "outputs": [],
   "source": [
    "\"\"\"Test GetMeanKmerCov\"\"\"\n",
    "GENOME=\"ACTCGGCGTTACGCG\"\n",
    "k = 7\n",
    "N = 100\n",
    "L = 7\n",
    "\n",
    "k = 5\n",
    "N = 1000\n",
    "L = 10"
   ]
  },
  {
   "cell_type": "markdown",
   "metadata": {
    "deletable": false,
    "editable": false,
    "nbgrader": {
     "checksum": "4395a4ccdeb6dce96396356a8712a7ec",
     "grade": false,
     "grade_id": "cell-b16a1d97ef39aadd",
     "locked": true,
     "schema_version": 1,
     "solution": false
    }
   },
   "source": [
    "Now let's take a look at kmer histograms for larger genomes to get a feel for what this will look like in real data. Feel free to copy the code below to a new cell to play around with the parameters. You can also use this to make sure your estimate fo the mean kmer coverage is correct."
   ]
  },
  {
   "cell_type": "code",
   "execution_count": 25,
   "metadata": {
    "deletable": false,
    "editable": false,
    "nbgrader": {
     "checksum": "1a85e5cacc86bb278361df37a611efb3",
     "grade": false,
     "grade_id": "cell-17b0ae91cd0b9971",
     "locked": true,
     "schema_version": 1,
     "solution": false
    }
   },
   "outputs": [
    {
     "data": {
      "image/png": "[encoded data removed]",
      "text/plain": [
       "<Figure size 504x216 with 1 Axes>"
      ]
     },
     "metadata": {
      "needs_background": "light"
     },
     "output_type": "display_data"
    }
   ],
   "source": [
    "# Generate a random genome of 1kb\n",
    "nucs = [\"A\",\"C\",\"G\",\"T\"]\n",
    "genome_size = 1000\n",
    "GENOME = ''.join([nucs[random.randint(0, 4)] for  i in range(genome_size)])\n",
    "\n",
    "# Set real-world kmer size and read length\n",
    "k = 10\n",
    "L = 36\n",
    "N = 1000\n",
    "\n",
    "reads = GetReads(GENOME, N, L)\n",
    "kmer_list = GetKmersFromReads(reads, k)\n",
    "kmer_counts = GetKmerCounts(kmer_list)\n",
    "PlotKmerHist(kmer_counts, meanval=GetMeanKmerCov(GENOME, N, k, L))"
   ]
  },
  {
   "cell_type": "markdown",
   "metadata": {
    "deletable": false,
    "editable": false,
    "nbgrader": {
     "checksum": "d69c49625ec716f15d72bdc60262e24c",
     "grade": false,
     "grade_id": "cell-24fb5e1431b2c26e",
     "locked": true,
     "schema_version": 1,
     "solution": false
    }
   },
   "source": [
    "## 2. Estimating genome size from kmer histograms\n",
    "\n",
    "We'd like to be able to estimate the size of a genome just based on the observed reads. It turns out we can leverage kmer histograms to solve this problem.\n",
    "\n",
    "After completing the exercise a bove, we now know how to compute *kmer coverage* ($M$: average number of times each kmer is seen) and *sequencing coverage* ($C$: average number of times each base pair is sequenced) as a function of:\n",
    "\n",
    "* $G$: the size of the genome\n",
    "* $N$: the number of reads\n",
    "* $L$: the length of the read\n",
    "* $k$: the size of the kmer\n",
    "\n",
    "Rearrange your formula for kmer coverage ($M$) to solve for $G$. Note, since in most settings $G-k+1$ is very close to $G$, you can replace wherever that term occurs in your formula with $G$ to simplify. That is, assume $G-k+1 \\approx G$.\n",
    "\n",
    "**Question 7 (1 pt)** Report your formula for computing genome size as a function of number of reads ($N$), read length ($L$), kmer size ($k$), and observed peak location in the kmer histogram ($M$). Based on the observed kmer histogram above (for a genome of length 1000 with kmer size 10 and 1,000 reads of length 36), what would you estimate the genome size to be based on the peak of the histogram ($M$), and other given parameters? Does it match what you expect (1000bp)? Since it can be difficult to precisely estimate the peak location, you can give a range. Explain how you arrived at your estimate."
   ]
  },
  {
   "cell_type": "markdown",
   "metadata": {
    "deletable": false,
    "nbgrader": {
     "checksum": "9b20f07e4cc808fc35e8c5827fa3e290",
     "grade": true,
     "grade_id": "genomeformula",
     "locked": false,
     "points": 1,
     "schema_version": 1,
     "solution": true
    }
   },
   "source": [
    "M = (#reads) * (#kmers per read) / (#kmers in genome)\n",
    "\n",
    "M = (N) * (L-K+1) / (G-k+1) ~= (N) * (L-K+1) / (G)\n",
    "\n",
    "Solving for G we get:\n",
    "\n",
    "Formula for computing genome size (G) = N*(L-K+1)/M\n",
    "\n",
    "The peak is roughly between 25 and 30 <br>\n",
    "1000*(36-10+1)/25 = 1080\n",
    "\n",
    "1000*(36-10+1)/27 = 1000\n",
    "\n",
    "1000*(36-10+1)/30 = 900\n",
    "\n",
    "The estimates match the correct range of what we would expect the genome length to be. These estimates are found using the above formula as well as visual estimation of the mean of the histogram shown above."
   ]
  },
  {
   "cell_type": "markdown",
   "metadata": {
    "deletable": false,
    "editable": false,
    "nbgrader": {
     "checksum": "eda610031708f389399863ee6b72aa76",
     "grade": false,
     "grade_id": "cell-fce85fd3770071fe",
     "locked": true,
     "schema_version": 1,
     "solution": false
    }
   },
   "source": [
    "## 3. Kmer histograms for real data\n",
    "\n",
    "In real data, our kmer histograms get slightly more complicated since we have sequencing errors. \n",
    "\n",
    "**Question 8 (1 pt)**: Modify the code below to introduce random errors into your reads at a rate of 0.1%."
   ]
  },
  {
   "cell_type": "code",
   "execution_count": 211,
   "metadata": {
    "deletable": false,
    "nbgrader": {
     "checksum": "e5ca9a7a61d23d7009ea707c197bb8e9",
     "grade": false,
     "grade_id": "cell-a86a9e7d7175750b",
     "locked": false,
     "schema_version": 1,
     "solution": true
    }
   },
   "outputs": [
    {
     "data": {
      "image/png": "[encoded data removed]",
      "text/plain": [
       "<Figure size 504x216 with 1 Axes>"
      ]
     },
     "metadata": {
      "needs_background": "light"
     },
     "output_type": "display_data"
    }
   ],
   "source": [
    "nucs = [\"A\",\"C\",\"G\",\"T\"]\n",
    "genome_size = 1000\n",
    "GENOME = ''.join([nucs[random.randint(0, 4)] for  i in range(genome_size)])\n",
    "\n",
    "# Set real-world kmer size and read length\n",
    "k = 10\n",
    "L = 36\n",
    "N = 1000\n",
    "error_rate = 0.001\n",
    "\n",
    "def GetReadsWithErrors(GENOME, N, L, error_rate):\n",
    "    \"\"\"\n",
    "    Return a list of N reads of length L from a GENOME string\n",
    "    Generate random errors with probability error_rate \n",
    "    \"\"\"\n",
    "    nucs = [\"A\",\"C\",\"G\",\"T\"]\n",
    "    reads = []\n",
    "    for i in range(N):\n",
    "        start = random.randint(0, len(GENOME)-L+1)\n",
    "        read = GENOME[start:start+L]\n",
    "        # Generate errors in the read at a per-base error rate of 0.1%\n",
    "        # Add the new read (with errors) to the list of reads\n",
    "        # The read should be a Python string\n",
    "        \n",
    "        read = list(read) #convert to list (string is mutable)\n",
    "        for i in range(len(read)):\n",
    "            #change base pair for 0.1% of the reads\n",
    "            if random.random()<0.001:\n",
    "                bp=random.choice(nucs)\n",
    "                #Keep picking until something different\n",
    "                while bp==read[i]:\n",
    "                    bp=random.choice(nucs)\n",
    "                read[i] = bp\n",
    "            \n",
    "        read = ''.join(read) #convert back to a string\n",
    "        \n",
    "        reads.append(read)\n",
    "    return reads\n",
    "\n",
    "reads = GetReadsWithErrors(GENOME, N, L, error_rate)\n",
    "kmer_list = GetKmersFromReads(reads, k)\n",
    "kmer_counts = GetKmerCounts(kmer_list)\n",
    "PlotKmerHist(kmer_counts, meanval=GetMeanKmerCov(GENOME, N, k, L))"
   ]
  },
  {
   "cell_type": "code",
   "execution_count": 208,
   "metadata": {
    "deletable": false,
    "editable": false,
    "nbgrader": {
     "checksum": "f3dc9c1d6316582f5c8ee1a5fed13a5a",
     "grade": true,
     "grade_id": "cell-f30e08d993a13b6b",
     "locked": true,
     "points": 1,
     "schema_version": 1,
     "solution": false
    }
   },
   "outputs": [],
   "source": [
    "\"\"\"Check that there are many kmers with count 1\"\"\"\n",
    "GENOME = ''.join([nucs[random.randint(0, 4)] for  i in range(genome_size)])\n",
    "k = 10\n",
    "L = 36\n",
    "N = 1000\n",
    "error_rate = 0.001\n",
    "reads = GetReadsWithErrors(GENOME, N, L, error_rate)\n",
    "kmer_list = GetKmersFromReads(reads, k)\n",
    "kmer_counts = GetKmerCounts(kmer_list)"
   ]
  },
  {
   "cell_type": "markdown",
   "metadata": {
    "deletable": false,
    "editable": false,
    "nbgrader": {
     "checksum": "4d6e360cae3a4a0dd685c4c4b30d8e43",
     "grade": false,
     "grade_id": "cell-f10c131922ee5266",
     "locked": true,
     "schema_version": 1,
     "solution": false
    }
   },
   "source": [
    "**Question 9 (1 pt)**: Describe how the kmer histogram changes after adding errors to the reads."
   ]
  },
  {
   "cell_type": "markdown",
   "metadata": {
    "deletable": false,
    "nbgrader": {
     "checksum": "c2bbc2b25433aa9859798c924d7b987b",
     "grade": true,
     "grade_id": "correct-hist-errors",
     "locked": false,
     "points": 1,
     "schema_version": 1,
     "solution": true
    }
   },
   "source": [
    "When adding errors to the reads, the number of kmers only seen 1 time increases significantly. This occurs because each time an error is added in, it is a unique sequence that is not seen or representative of the original sequence that the reads come from. It is very unlikely to get that same read/kmer since the error would have to occur at the same spot everytime and be replaced with the same base. "
   ]
  },
  {
   "cell_type": "markdown",
   "metadata": {
    "deletable": false,
    "editable": false,
    "nbgrader": {
     "checksum": "1015d5aa5ce776f7dbc0aa519cd05042",
     "grade": false,
     "grade_id": "cell-401aa296dbba2a8b",
     "locked": true,
     "schema_version": 1,
     "solution": false
    }
   },
   "source": [
    "In practice, to account for errors in our genome size estimation, instead of using $N$, $L$, and $k$ to compute the total number of kmers sequenced, we will instead add up all the kmers seen after chopping off the kmers with low counts that are likely due to errors. We will explore this more using real data at tomorrow's lab."
   ]
  }
 ],
 "metadata": {
  "kernelspec": {
   "display_name": "Python 3",
   "language": "python",
   "name": "python3"
  },
  "language_info": {
   "codemirror_mode": {
    "name": "ipython",
    "version": 3
   },
   "file_extension": ".py",
   "mimetype": "text/x-python",
   "name": "python",
   "nbconvert_exporter": "python",
   "pygments_lexer": "ipython3",
   "version": "3.6.7"
  }
 },
 "nbformat": 4,
 "nbformat_minor": 2
}
