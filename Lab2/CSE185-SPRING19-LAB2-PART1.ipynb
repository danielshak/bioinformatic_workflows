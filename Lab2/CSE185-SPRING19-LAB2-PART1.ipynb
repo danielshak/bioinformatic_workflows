{
 "cells": [
  {
   "cell_type": "markdown",
   "metadata": {},
   "source": [
    "# Week 2 Lab: So where do all those reference genomes come from anyway? (Sequence assembly)\n",
    "\n",
    "## Part 1\n",
    "**Due: Monday 4/15/19 11:59PM**\n",
    "\n",
    "**Partner: ** (optional. You must both turn in the assignment. You must choose a different partner each week. You may also consult with other classmates! And feel free to use the internet to help you)\n",
    "\n",
    "<br><font color=\"red\">**REMINDER**: We will have our first quiz at the start of the lab section on Thursday (10am). The quiz will cover what we have learned in the first three lectures and the first lab session. Tomorrow's prelab exercise will focus on review questions for the quiz.</font>\n",
    "\n",
    "Skills covered: genome size estiamtion, sequence assembly, command line one-liners, managing computational resources\n",
    "\n",
    "### Intro\n",
    "\n",
    "Today, you will explore using kmer count histograms to estimate the size of a sequenced *E. coli* strain and compare your result to existing software packages for performing this task. On Thursday, you will assemble the sequencing reads into a (semi) complete genome and evaluate the quality of the resulting sequence.\n",
    "\n",
    "Today’s sequencing reads are in two libraries:\n",
    "\n",
    "* The first library (“shortfrag”) is paired-end with the read directions toward each other (“innie”). The insert size of the first library is average 215.4 bp (+/- 10.6bp) and the reads are paired end 100bp. We will use this library today to assemble contigs. \n",
    "\n",
    "* The second library (“jumping”), is a Nextera mate pair library, with reads oriented away from each other (“outie”). The jumping library read length is 146bp (before trimming adapters, see below) with insert sizes up to several kilobases. This library will be helpful in scaffolding contigs.\n",
    "\n",
    "Fastq files for the two libraries can be found in the `week2` directory. Do an `ls` to make sure you see the two fastq files for each library:\n",
    "```shell\n",
    "ls /datasets/cs185s-sp19-public/week2\n",
    "```\n",
    "\n",
    "You should see `shortfrag_1.fq`, `shortfrag_2.fq`, `jumping_1.fq`, and `jumping_2.fq`."
   ]
  },
  {
   "cell_type": "markdown",
   "metadata": {
    "deletable": false,
    "editable": false,
    "nbgrader": {
     "checksum": "90cd88607c1f3e705721ebb6e7f8704b",
     "grade": false,
     "grade_id": "fastqc",
     "locked": true,
     "schema_version": 1,
     "solution": false
    }
   },
   "source": [
    "## 1. Inspecting reads with fasqtc\n",
    "\n",
    "First, open up a terminal and create a `week2` directory in your home directory. `cd` into and work out of there for today.\n",
    "\n",
    "**Question 1 (2 pts)**: Recall from lab 1 how we used the `fastqc` tool to examine the quality of our reads as a preprocesing step. Apply `fastqc` to the four fastq files. Paste the exact command you used below to do so."
   ]
  },
  {
   "cell_type": "markdown",
   "metadata": {
    "deletable": false,
    "nbgrader": {
     "checksum": "fd1e674803fb8f4d33b9d5350f7449bd",
     "grade": true,
     "grade_id": "correct-fastqc",
     "locked": false,
     "points": 2,
     "schema_version": 1,
     "solution": true
    }
   },
   "source": [
    "fastqc -o . ../../../datasets/cs185s-sp19-public/week2/shortfrag_1.fq ../../../datasets/cs185s-sp19-public/week2/shortfrag_2.fq ../../../datasets/cs185s-sp19-public/week2/jumping_1.fq ../../../datasets/cs185s-sp19-public/week2/jumping_2.fq"
   ]
  },
  {
   "cell_type": "markdown",
   "metadata": {
    "deletable": false,
    "editable": false,
    "nbgrader": {
     "checksum": "4e19e561a109f4fb4dd94df1ff8c84b4",
     "grade": false,
     "grade_id": "fastqc-eval",
     "locked": true,
     "schema_version": 1,
     "solution": false
    }
   },
   "source": [
    "**Question 2 (2 pts)**: Do you see any concerning things (red X's) in the fastqc output? Describe which sections failed for each library and explain how these issues might have occurred."
   ]
  },
  {
   "cell_type": "markdown",
   "metadata": {
    "collapsed": true,
    "deletable": false,
    "nbgrader": {
     "checksum": "612a3893973a0bdcffe52e5f2f630424",
     "grade": true,
     "grade_id": "correct-fastqc-eval",
     "locked": false,
     "points": 2,
     "schema_version": 1,
     "solution": true
    }
   },
   "source": [
    "For the shortfrag fastq files there are red X's for the section per base sequence quality. This might have occured do the sequencing method. In the file it indicates that it is Sanger sequencing which is not as robust for long sequences. We can see that the bases towards the end have really poor quality. For the jumping sequences we get a red X for the adapter content section. This may be cause by the existance of the adapters at the ends of our reads."
   ]
  },
  {
   "cell_type": "markdown",
   "metadata": {
    "deletable": false,
    "editable": false,
    "nbgrader": {
     "checksum": "efb8cbd0b2d55a81e2980a9640386dbb",
     "grade": false,
     "grade_id": "cell-c536e7db01572ba7",
     "locked": true,
     "schema_version": 1,
     "solution": false
    }
   },
   "source": [
    "## 2. Trimming reads for quality control\n",
    "\n",
    "Before we move forward with genome size estimation, let's try to address the quality control issues flagged by `fastqc`. We'll be using two tools to help with this:\n",
    "\n",
    "* `sickle` is a tool for trimming low quality ends of reads. It uses a sliding window trimming algorithm, where a small window slides along the sequence, starting from one end, cutting off sequence until the average quality is above a user specified threshold, then the window keeps going until the average quality drops below that threshold, and cuts off any sequence past that point.\n",
    "\n",
    "* `nxtrim` is a tool for trimming the special adapter sequences added by Nextera.\n",
    "\n",
    "First, to learn about `sickle`, type `sickle pe` at the command line.\n",
    "\n",
    "You can specify both the quality threshold and a length threshold, which will discard any sequences that are shorter than a certain length after trimming. The defaults for both of these values are 20. Run sickle on your data with the default settings, remembering to specify the full paths to the fastq files in the public folder. Below is an example command.\n",
    "\n",
    "```shell\n",
    "sickle pe \\\n",
    "    -f file_1.fq \\\n",
    "    -r file_2.fq \\\n",
    "    -t sanger \\\n",
    "    -o trimpair1.fastq \\\n",
    "    -p trimpair2.fastq \\\n",
    "    -s singletons.fastq\n",
    "```\n",
    "\n",
    "Note this command should all be on one line. To make it more readable it is broken up into multiple lines. A `\\` means the command is continued on the next line. Note the paths given above are not real and are just meant as examples. The general format is the command (sickle pe) followed by flags that tell sickle what the file that comes after the flag is.\n",
    "\n",
    "You’ll notice that there are 3 output files (`-o`, `-p`, and `-s`). The first two are the trimmed forward and reverse reads, where BOTH the forward and its matching reverse read passed the trimming filter. The singletons file contains reads where one read passed the trimming filter, but its partner did not. The reads that do not pass are not output.\n",
    "\n",
    "**Question 3 (2 pts):** Run `sickle pe` to trim the `shortfrag` library using default parameters. Be sure to write the output files (`-o`, `-p`, and `-s` files) to your `~/week2` directory. Paste the command you used below."
   ]
  },
  {
   "cell_type": "markdown",
   "metadata": {
    "deletable": false,
    "nbgrader": {
     "checksum": "f02dbbe2126d35eb69782bedff4d9a86",
     "grade": true,
     "grade_id": "correct-sickle",
     "locked": false,
     "points": 2,
     "schema_version": 1,
     "solution": true
    }
   },
   "source": [
    "sickle pe -f ../../../datasets/cs185s-sp19-public/week2/shortfrag_1.fq -r ../../../datasets/cs185s-sp19-public/week2/shortfrag_2.fq -t sanger -o shortfrag_pair1.fastq -p shortfrag_pair2.fastq -s shortfrag_singletons.fastq"
   ]
  },
  {
   "cell_type": "markdown",
   "metadata": {
    "deletable": false,
    "editable": false,
    "nbgrader": {
     "checksum": "9fef5337c971e70d92a97023933485bc",
     "grade": false,
     "grade_id": "cell-8a42d17ce5b7219c",
     "locked": true,
     "schema_version": 1,
     "solution": false
    }
   },
   "source": [
    "Now, we'll deal with trimming the Nextera adapters. The tool `nxtrim` is built for this purpose. To see how to use the tool, type `nxtrim` at the command line. The basic format of the command is:\n",
    "\n",
    "```shell\n",
    "nxtrim --separate -1 file_1.fq -2 file_2.fq -O output_prefix\n",
    "```\n",
    "\n",
    "You'll have to specify the full path to the Nextera fastq files. Output prefix specifies where to write the output files and how to name them. For instance, if you specify `-O /home/mgymrek/test` it would write things to the directory `/home/mgymrek` and name the files `test.*`. The option `--separate` tells the tool to write two fastq files with each of the read pairs (which we're used to) rather than the default \"interleaved\" format which writes both read pairs to the same file.\n",
    "\n",
    "This will produce four output fastq files with a couple differences to files we've seen so far. The four files are:\n",
    "* `output_prefix_R*.mp.fastq.gz`: read pairs with large insert sizes (what we would expect from a mate pair library). Note `nxtrim` by default reverses the orientation, so after trimming these reads will be \"innie\" (FR) rather than \"outie\" (FR).\n",
    "* `output_prefix.se.fastq.gz`: reads with no pair\n",
    "* `output_prefix_R*.pe.fastq.gz`: read pairs with short insert sizes (due to experimental artifacts).\n",
    "* `output_prefix_R*.unknown.fastq.gz`: reads with unknown properties.\n",
    "\n",
    "Where `R*` is equal to `R1` for the first read in each pair and `R2` for the second read in each pair. For our assembly we'll mostly ignore all but the `*.mp.fastq.gz` files.\n",
    "\n",
    "Note these fastq files have been zipped using `gzip`.  You can take a look at the output by using `zcat`, which allows you to look at zipped files. For example (you'll have to put the actual path to your `fastq.gz` file):\n",
    "\n",
    "```shell\n",
    "zcat output_prefix.pe.fastq.gz | more\n",
    "```\n",
    "\n",
    "**Question 4 (2 pts):** Run `nxtrim` to trim Illumina Nextera adapters from the `jumping` library. Be sure to write the output files to your personal `week2` directory. Paste the command you used below."
   ]
  },
  {
   "cell_type": "markdown",
   "metadata": {
    "deletable": false,
    "nbgrader": {
     "checksum": "68ea1973dc036304ee911ff439a4bab8",
     "grade": true,
     "grade_id": "correct-nxtrim",
     "locked": false,
     "points": 2,
     "schema_version": 1,
     "solution": true
    }
   },
   "source": [
    "nxtrim --separate -1 ../../../datasets/cs185s-sp19-public/week2/jumping_1.fq -2 ../../../datasets/cs185s-sp19-public/week2/jumping_2.fq -O jumping_nxtrim"
   ]
  },
  {
   "cell_type": "markdown",
   "metadata": {
    "deletable": false,
    "editable": false,
    "nbgrader": {
     "checksum": "2efc6aea55e491462e2591e158964711",
     "grade": false,
     "grade_id": "cell-e773e92b625f4f47",
     "locked": true,
     "schema_version": 1,
     "solution": false
    }
   },
   "source": [
    "**Question 5 (2 pts):** Rerun `fastqc` on the trimmed libraries. Paste the command you used below. Are there any issues remaining?"
   ]
  },
  {
   "cell_type": "markdown",
   "metadata": {
    "deletable": false,
    "nbgrader": {
     "checksum": "a8f85cf8939a7fd2191102a0727effd2",
     "grade": true,
     "grade_id": "correct-fastqc-round2",
     "locked": false,
     "points": 2,
     "schema_version": 1,
     "solution": true
    }
   },
   "source": [
    "fastqc -o . shortfrag_pair1.fastq shortfrag_pair2.fastq\n",
    "\n",
    "fastqc -o . jumping_nxtrim_R1.mp.fastq.gz jumping_nxtrim_R2.mp.fastq.gz\n",
    "\n",
    "There are no more red flags but now there are warnings about some of the sequence lengths. The fastqc reports that the sequences range from 20-100 or 20-150. This is just due to some having their adapters/more than their adapters trimmed. "
   ]
  },
  {
   "cell_type": "markdown",
   "metadata": {
    "deletable": false,
    "editable": false,
    "nbgrader": {
     "checksum": "d16e25c3943f845caf53f0f7ca757ef8",
     "grade": false,
     "grade_id": "cell-27b12ce8f9e2df9a",
     "locked": true,
     "schema_version": 1,
     "solution": false
    }
   },
   "source": [
    "## 3. Generating and visualizing the kmer distribution\n",
    "\n",
    "For assembly, we'll just be using the two paired ends of the `shortfrag` library and keep only the `*.mp.fastq.gz` mate pair library from the jumping library. For genome size estimation we will focus on the `shortfrag` library which should be sufficient.\n",
    "\n",
    "We'll first count k-mers in our data to generate kmer count distributions similar to in the prelab. For this purpose it's ok to only analyze the forward fragment (your trimmed version of `shortfrag_1.fq`).\n",
    "\n",
    "**Jellyfish** is a kmer counting program that will count the frequency of all possible k-mers of a given length in our data.\n",
    "\n",
    "We will use two subcommands. `jellyfish count` counts kmers and creates a hash table. \n",
    "\n",
    "* `-m` specifies the kmer length\n",
    "* `-C` tells it to ignore directionality (it treats each read the same as its reverse complement)\n",
    "* `-s` is an initial estimate for the size of the hash table jellyfish uses. Let's set to 100M (100 million).\n",
    "* `-o` specifies the name of the output file.\n",
    "\n",
    "`jellyfish histo` computes a histogram of kmer count occurrences. You can use the two tools to create a histogram file. e.g.:\n",
    "\n",
    "```shell\n",
    "jellyfish count -m 18 -C -s 100M -o output.jf input.fq\n",
    "jellyish histo output.jf > output.histo\n",
    "```\n",
    "\n",
    "Note the `>` symbol means put the output of the previous command into the specified file. If you don't use `>` it will output the results to standard output (your terminal screen).\n",
    "\n",
    "**Question 6 (2 pts):** Run `jellyfish count` on the trimmed `shortfrag_1.fq` file using a kmer size of 18. Then use `jellyfish histo` to create a histogram file. Paste the commands you used below. It might take a couple minutes for this command to run."
   ]
  },
  {
   "cell_type": "markdown",
   "metadata": {
    "deletable": false,
    "nbgrader": {
     "checksum": "06efc91cb0a22a10e089808b5115c6c2",
     "grade": true,
     "grade_id": "correct-jellyfish",
     "locked": false,
     "points": 2,
     "schema_version": 1,
     "solution": true
    }
   },
   "source": [
    "jellyfish count -m 18 -C -s 100M -o jf_shortfrag1.jf shortfrag_pair1.fastq\n",
    "\n",
    "jellyfish histo jf_shortfrag1.jf > shortfrag1.histo"
   ]
  },
  {
   "cell_type": "markdown",
   "metadata": {
    "deletable": false,
    "editable": false,
    "nbgrader": {
     "checksum": "aa9e66627f75aa4ee2bd5cb4a3990fd9",
     "grade": false,
     "grade_id": "cell-4bffb617a5b6948e",
     "locked": true,
     "schema_version": 1,
     "solution": false
    }
   },
   "source": [
    "You can inspect the histogram output using the UNIX `cat` command, which we saw last week:\n",
    "\n",
    "```shell\n",
    "cat shortfrag.histo\n",
    "```\n",
    "\n",
    "You should see two columns: the first gives the number of times a kmer was seen. The second gives the number of kmers seen that many times. So, for example, the first line gives the number of kmers seen exactly once. \n",
    "\n",
    "**Question 7 (3 pts):** Complete the function `PlotKmerHistogram` below to read in the histo file and plot the kmer count histogram. (The x-axis represents column 1 in the `.histo` file, or number of occurrences, and the y-axis is given by column 2, or number of kmers.) Hint: you should see a big spike at 1 and a bell curve further to the right. You might want to play with the variables `max_xval` and `max_yval` to make your visualization more informative by zooming in on the most important region. Without setting those you might have some pretty extreme x- and y-value data points dominating your plot."
   ]
  },
  {
   "cell_type": "code",
   "execution_count": 1,
   "metadata": {
    "deletable": false,
    "nbgrader": {
     "checksum": "752d9feb390e2e3ad646e1effc536ac3",
     "grade": true,
     "grade_id": "correct-plot-kmer-hist",
     "locked": false,
     "points": 3,
     "schema_version": 1,
     "solution": true
    }
   },
   "outputs": [
    {
     "name": "stdout",
     "output_type": "stream",
     "text": [
      "Populating the interactive namespace from numpy and matplotlib\n"
     ]
    },
    {
     "data": {
      "image/png": "[encoded data removed]",
      "text/plain": [
       "<Figure size 432x288 with 1 Axes>"
      ]
     },
     "metadata": {
      "needs_background": "light"
     },
     "output_type": "display_data"
    }
   ],
   "source": [
    "%pylab inline\n",
    "import os\n",
    "import matplotlib.pyplot as plt\n",
    "\n",
    "def PlotKmerHistogram(histofile):\n",
    "    \"\"\"\n",
    "    Takes in the path to a histogram file from jellyfish and \n",
    "    plots the kmer count distribution\n",
    "    \"\"\"\n",
    "    max_xval = 350\n",
    "    max_yval = 52500\n",
    "    kmer_counts = {} # Dictionary of count -> number of kmers\n",
    "    # Read the histofile\n",
    "    # Use its contents to update kmer_counts\n",
    "    # You also will need to set max_xval and max_yval to something appropriate\n",
    "    text_file = open(histofile, \"r\")\n",
    "    data = text_file.read().splitlines()\n",
    "    for i in range(len(data)):\n",
    "        kmer_counts[int(data[i].split()[0])] = int(data[i].split()[1])\n",
    "    \n",
    "    fig = plt.figure()\n",
    "    ax = fig.add_subplot(111)\n",
    "    ax.bar(kmer_counts.keys(), kmer_counts.values(),width=1)\n",
    "    ax.set_xlabel(\"Count\")\n",
    "    ax.set_ylabel(\"Number of kmers\")\n",
    "    if max_xval is not None: ax.set_xlim(left=0, right=max_xval)\n",
    "    if max_yval is not None: ax.set_ylim(bottom=0, top=max_yval)\n",
    "\n",
    "PlotKmerHistogram(os.path.join(os.environ[\"HOME\"],\"week2\",\"shortfrag.histo\")) # may need to edit the path to your file"
   ]
  },
  {
   "cell_type": "markdown",
   "metadata": {
    "deletable": false,
    "editable": false,
    "nbgrader": {
     "checksum": "b568ac8129ecbe25964bef9922cf942f",
     "grade": false,
     "grade_id": "cell-44df88ae6e148d28",
     "locked": true,
     "schema_version": 1,
     "solution": false
    }
   },
   "source": [
    "## 4. Estimating genome size from the kmer distribution\n",
    "\n",
    "Now we will use the kmer distribution to estimate the size of our E. coli strain. Look back to the prelab to see how we derived the formula for genome size:\n",
    "\n",
    "$$ G \\approx \\frac{\\texttt{Total num. kmers observed}}{\\texttt{Kmer coverage (M)}} $$\n",
    "\n",
    "**Question 8 (1pt):** First, let's figure out $M$, the average kmer coverage. Recall this is the point where our kmer histogram peaks (ignoring the big spike of error kmers on the left). Figure out the peak by eyeballing the histogram and report your estimate for $M$ below. "
   ]
  },
  {
   "cell_type": "code",
   "execution_count": 18,
   "metadata": {},
   "outputs": [],
   "source": [
    "#Can use the numbers of kmers from the file\n",
    "#This is currently wrong does not multiply by x axis for number of times seen\n",
    "\n",
    "# file_name = os.path.join(os.environ[\"HOME\"],\"week2\",\"shortfrag.histo\")\n",
    "# text_file = open(file_name, \"r\")\n",
    "# data = text_file.read().splitlines()\n",
    "# num_kmers = 0\n",
    "# for i in range(len(data)):\n",
    "#     num_kmers = num_kmers + int(data[i].split()[1])\n",
    "    \n",
    "# print(\"Total number of kmers = \",num_kmers)\n",
    "# print(\"Estimated genome length (G) = \",(num_kmers/225))"
   ]
  },
  {
   "cell_type": "markdown",
   "metadata": {
    "deletable": false,
    "nbgrader": {
     "checksum": "3d333043b8d2f3febf1924540949051b",
     "grade": true,
     "grade_id": "correct-guessM",
     "locked": false,
     "points": 1,
     "schema_version": 1,
     "solution": true
    }
   },
   "source": [
    "Estimated kmer coverage (M) by eyeballing the distribution ~= 220"
   ]
  },
  {
   "cell_type": "markdown",
   "metadata": {},
   "source": [
    "**Question 9 (3 pts):**: Now complete the functions `EstimateValley` `EstimateM` below to get a precise estimate of the first valley and peak location after removing errorenous kmers. The first valley is the point where kmer counts start increasing. The peak location ($M$) is the maximum point after the first valley. Make sure your answers look reasonably close to what you what have guessed from just looking at the plot. We'll accept a range of answers."
   ]
  },
  {
   "cell_type": "code",
   "execution_count": 11,
   "metadata": {
    "deletable": false,
    "nbgrader": {
     "checksum": "745a6e62dedc67e76fea8a821dee110a",
     "grade": false,
     "grade_id": "cell-87227012b1723a5f",
     "locked": false,
     "schema_version": 1,
     "solution": true
    }
   },
   "outputs": [
    {
     "data": {
      "text/plain": [
       "(45, 225)"
      ]
     },
     "execution_count": 11,
     "metadata": {},
     "output_type": "execute_result"
    }
   ],
   "source": [
    "def LoadKmerCounts(histofile):\n",
    "    \"\"\"\n",
    "    Returns a list of counts where kmer_counts[i-1] = number of kmers seen i times\n",
    "    \"\"\"\n",
    "    kmer_counts_dict = {}\n",
    "    with open(histofile, \"r\") as f:\n",
    "        for line in f:\n",
    "            count, numkmer = [int(item) for item in line.strip().split()]            \n",
    "            kmer_counts_dict[count] = numkmer\n",
    "    kmer_counts = [0]*max(kmer_counts_dict.keys())\n",
    "    for key in kmer_counts_dict:\n",
    "        kmer_counts[key-1] = kmer_counts_dict[key]\n",
    "    return kmer_counts\n",
    "\n",
    "def EstimateValley(kmer_counts):\n",
    "    valley = 0\n",
    "    #say valley is point where there are 3 increases in a row\n",
    "    past3 = []\n",
    "    for i,count in enumerate(kmer_counts):\n",
    "        past3.append(count)\n",
    "        #only keep the 4 most current values\n",
    "        if i>3:\n",
    "            del past3[0]\n",
    "            \n",
    "        if i>3 and (past3[-1]>=past3[-2]) and (past3[-2]>=past3[-3]) and (past3[-3]>=past3[-4]):\n",
    "            break\n",
    "        \n",
    "    valley = i\n",
    "        \n",
    "    return valley\n",
    "\n",
    "def EstimateM(kmer_counts, valley_point):\n",
    "    est_m = 0\n",
    "    \n",
    "    past3 = []\n",
    "    for i,count in enumerate(kmer_counts[valley_point::]):\n",
    "        past3.append(count)\n",
    "        if i>3:\n",
    "            del past3[0]\n",
    "            \n",
    "        if i>3 and (past3[-1]<=past3[-2]) and (past3[-2]<=past3[-3]) and (past3[-3]<=past3[-4]):\n",
    "            break\n",
    "            \n",
    "    est_m = i+valley_point\n",
    "    return est_m\n",
    "\n",
    "histofile = os.path.join(os.environ[\"HOME\"],\"week2\",\"shortfrag.histo\")\n",
    "kmer_counts = LoadKmerCounts(histofile)\n",
    "est_valley = EstimateValley(kmer_counts)\n",
    "est_m = EstimateM(kmer_counts, est_valley)\n",
    "est_valley, est_m #This is the position in the array, to convert to actual times seen add 1, since indexed off 0"
   ]
  },
  {
   "cell_type": "code",
   "execution_count": 12,
   "metadata": {
    "deletable": false,
    "editable": false,
    "nbgrader": {
     "checksum": "e36071eab18e7bd44994a9164cd6228c",
     "grade": true,
     "grade_id": "correct-kmer-functions",
     "locked": true,
     "points": 3,
     "schema_version": 1,
     "solution": false
    }
   },
   "outputs": [],
   "source": [
    "\"\"\"Check EstimateValley\"\"\"\n",
    "histofile = os.path.join(os.environ[\"HOME\"],\"week2\",\"shortfrag.histo\")\n",
    "kmer_counts = LoadKmerCounts(histofile)\n",
    "est_valley = EstimateValley(kmer_counts)\n",
    "assert(est_valley>10 and est_valley<100)\n",
    "\n",
    "\"\"\"Check EstimateM\"\"\"\n",
    "est_m = EstimateM(kmer_counts, est_valley)\n",
    "assert(est_m>200 and est_m<250)"
   ]
  },
  {
   "cell_type": "markdown",
   "metadata": {
    "deletable": false,
    "editable": false,
    "nbgrader": {
     "checksum": "6638d7a924b1464edb1e97883c3f3cd1",
     "grade": false,
     "grade_id": "cell-47c2557a6cef4206",
     "locked": true,
     "schema_version": 1,
     "solution": false
    }
   },
   "source": [
    "Now we'll estimate the total number of kmers seen. We will want to ignore kmers that are likely due to errors. Look at your histogram and estimate where the first \"valley\" is. After this point we can assume kmers seen more than that many times are not due to errors. We can estimate the total number of non-error kmers observed to the right of the first valley point. Keep in mind that for an example data point (count, num kmers), each of those kmers was seen **count** number of times. So you'll want to keep track of 50 * the number of kmers seen 50 times, plus 51 * the number of kmers seen 51 times, etc.\n",
    "\n",
    "**Question 9 (2 pts):** Complete the function `EstimateNumKmersSeen` below to output an estimate of the number of observed kmers."
   ]
  },
  {
   "cell_type": "code",
   "execution_count": 14,
   "metadata": {
    "deletable": false,
    "nbgrader": {
     "checksum": "8855e999a3f616b5af22ea085dde1e35",
     "grade": false,
     "grade_id": "numkmers",
     "locked": false,
     "schema_version": 1,
     "solution": true
    }
   },
   "outputs": [
    {
     "data": {
      "text/plain": [
       "990527549"
      ]
     },
     "execution_count": 14,
     "metadata": {},
     "output_type": "execute_result"
    }
   ],
   "source": [
    "def EstimateNumKmersSeen(kmer_counts, valley_point):\n",
    "    num_total_kmers = 0\n",
    "    for i, counts in enumerate(kmer_counts[valley_point::]):\n",
    "        num_total_kmers = num_total_kmers + (i+valley_point+1) * counts #add 1 to valley point since it is indexed off 0\n",
    "    \n",
    "    return num_total_kmers\n",
    "\n",
    "histofile = os.path.join(os.environ[\"HOME\"],\"week2\",\"shortfrag.histo\")\n",
    "kmer_counts = LoadKmerCounts(histofile)\n",
    "est_valley = EstimateValley(kmer_counts)\n",
    "num_total_kmers = EstimateNumKmersSeen(kmer_counts, est_valley)\n",
    "num_total_kmers"
   ]
  },
  {
   "cell_type": "code",
   "execution_count": 15,
   "metadata": {
    "deletable": false,
    "editable": false,
    "nbgrader": {
     "checksum": "aadce8ff7b0e28862821d708f116c549",
     "grade": true,
     "grade_id": "correct-numkmers",
     "locked": true,
     "points": 2,
     "schema_version": 1,
     "solution": false
    }
   },
   "outputs": [],
   "source": [
    "\"\"\"Checck EstimateNumKmersSeen\"\"\"\n",
    "histofile = os.path.join(os.environ[\"HOME\"],\"week2\",\"shortfrag.histo\")\n",
    "kmer_counts = LoadKmerCounts(histofile)\n",
    "est_valley = EstimateValley(kmer_counts)\n",
    "num_total_kmers = EstimateNumKmersSeen(kmer_counts, est_valley)\n",
    "assert(num_total_kmers > 900000000 and num_total_kmers < 1000000000)"
   ]
  },
  {
   "cell_type": "markdown",
   "metadata": {
    "deletable": false,
    "editable": false,
    "nbgrader": {
     "checksum": "82799bb3170cb0d023ffdf7dc7700a6d",
     "grade": false,
     "grade_id": "cell-084bad6ee9708b82",
     "locked": true,
     "schema_version": 1,
     "solution": false
    }
   },
   "source": [
    "**Question 10: (1 pt)** Finally, use your estimates for the total number of kmers seen and for $M$ to estimate the E. coli genome size."
   ]
  },
  {
   "cell_type": "code",
   "execution_count": 17,
   "metadata": {
    "deletable": false,
    "nbgrader": {
     "checksum": "1e36f74d7064442b0a8fa8f2b055c1e7",
     "grade": true,
     "grade_id": "correct-genome-size",
     "locked": false,
     "points": 1,
     "schema_version": 1,
     "solution": true
    }
   },
   "outputs": [
    {
     "name": "stdout",
     "output_type": "stream",
     "text": [
      "Estimated genome size 4402344.662222222\n"
     ]
    }
   ],
   "source": [
    "G = num_total_kmers/est_m\n",
    "print(\"Estimated genome size\", G)"
   ]
  },
  {
   "cell_type": "markdown",
   "metadata": {
    "deletable": false,
    "editable": false,
    "nbgrader": {
     "checksum": "2cfc694de22ba763b95a228d0fc3da79",
     "grade": false,
     "grade_id": "cell-ec0e6c69d5723ddb",
     "locked": true,
     "schema_version": 1,
     "solution": false
    }
   },
   "source": [
    "## 5. Estimating genome size using kmergenie\n",
    "\n",
    "Now, we'll check our answer by comparing to a tool, **kmergenie**, written to estimate genome sizes from an input set of reads. The tool takes as input a fastq file and outputs several files. We're most interested in `histograms_report.html` that gives a report of the results. Type `kmergenie` to see the usage for this tool.\n",
    "\n",
    "For the best results, we can give it all of our fastq files. `kmergenie` can take in a file with a list of fastq file paths. To make such a file and run `kmergenie` you can do:\n",
    "\n",
    "```shell\n",
    "ls *.fastq.gz* *.fq* > readfiles\n",
    "```\n",
    "This lists all the files matching these patterns then writes them (remember the `>` symbol) to the file `readfiles`.\n",
    "\n",
    "**Question 11 (3 pts):** Run `kmergenie` on our fastq files. Paste the command you used for this below. Look at the html output it produced (`histograms_report.html`). What did it find to be the best value for $k$? What did it predict the genome (assembly) size to be? Is it close to your answer to question 10 above?"
   ]
  },
  {
   "cell_type": "markdown",
   "metadata": {
    "deletable": false,
    "nbgrader": {
     "checksum": "5cd637da7b8cc41f2849217560c7133f",
     "grade": true,
     "grade_id": "correct-kmergenie",
     "locked": false,
     "points": 3,
     "schema_version": 1,
     "solution": true
    }
   },
   "source": [
    "Command run: kmergenie readfiles\n",
    "\n",
    "The best kmer length is listed as 81. The predicted genome size is 4620275. This value is slightly larger than our predicted size."
   ]
  },
  {
   "cell_type": "markdown",
   "metadata": {
    "deletable": false,
    "editable": false,
    "nbgrader": {
     "checksum": "8d1b7c4e5b95491d9804b5bf603cc97f",
     "grade": false,
     "grade_id": "cell-21e8c0adf24cf703",
     "locked": true,
     "schema_version": 1,
     "solution": false
    }
   },
   "source": [
    "## 6. Additional exercises\n",
    "\n",
    "**Question 12 (3 pts)**: Look up the reference assembly info for this E. coli strain https://www.ncbi.nlm.nih.gov/nuccore/NC_000913.3. What is the reported genome size? How does that compare to our estimates? If they are different, hypothesize why."
   ]
  },
  {
   "cell_type": "markdown",
   "metadata": {
    "deletable": false,
    "nbgrader": {
     "checksum": "5fbe3728aba9576e87dfced6493ff5fe",
     "grade": true,
     "grade_id": "correct-compare-ref",
     "locked": false,
     "points": 3,
     "schema_version": 1,
     "solution": true
    }
   },
   "source": [
    "The reference assembly has 4641652 base pairs. This is a larger value than what we calculated. This could be cause by how we threw out all the kmer reads before our valley point. There could actually be some real values in that portion of the distribution. Furthermore, the errors in the sequencing could cause actual reads to fall into the erroneous reads which would then be left out."
   ]
  },
  {
   "cell_type": "markdown",
   "metadata": {
    "deletable": false,
    "editable": false,
    "nbgrader": {
     "checksum": "9480bc5012c979f100ab9968f38cda46",
     "grade": false,
     "grade_id": "cell-84087ecb782cac54",
     "locked": true,
     "schema_version": 1,
     "solution": false
    }
   },
   "source": [
    "**Question 13 (4 pts)** So far we have considered kmer histograms for a *haploid* organism (E. coli) which only has one copy of the genome. However many organisms (e.g. humans!) we will deal with are *diploid*, meaning they have two copies of the genome, which could have genetic variation from each other. For instance, if you have a heterozygous SNP, then kmers overlapping each of the two alleles will be different.\n",
    "\n",
    "How do you expect the kmer distribution to change for a diploid genome? Describe the expected pattern of number/location of peaks and valleys you expect and what those correspond to."
   ]
  },
  {
   "cell_type": "markdown",
   "metadata": {
    "deletable": false,
    "nbgrader": {
     "checksum": "a85739d29e0bf822c595c21dc98a1751",
     "grade": true,
     "grade_id": "correct-kmer-diploid",
     "locked": false,
     "points": 4,
     "schema_version": 1,
     "solution": true
    }
   },
   "source": [
    "You would expect the kmer distribution to have two modes in the distribution if the organism is heterozygous diploid. Most likely there will be some discrepancies between the two copies and hence there will be more than one peak."
   ]
  },
  {
   "cell_type": "markdown",
   "metadata": {
    "deletable": false,
    "editable": false,
    "nbgrader": {
     "checksum": "28674b2497efa184537bb16dd3d94d3f",
     "grade": false,
     "grade_id": "cell-eaefbf056e6b43dc",
     "locked": true,
     "schema_version": 1,
     "solution": false
    }
   },
   "source": [
    "**Question 14 (3 pts)**: What will the kmer count distribution look like for a genome sequenced to very low coverage? e.g. $<$5x? Why might this make estimating genome size difficult or impossible?"
   ]
  },
  {
   "cell_type": "markdown",
   "metadata": {
    "deletable": false,
    "nbgrader": {
     "checksum": "0404b5e6ef0ea63a9a8fafc8b2007f79",
     "grade": true,
     "grade_id": "correct-lowcov",
     "locked": false,
     "points": 3,
     "schema_version": 1,
     "solution": true
    }
   },
   "source": [
    "For a kmer distribution with low coverage the bell curve shape will not be as apparant since it will be hard to differentiate from noise. Thus it will be hard to find the mean coverage (M) and our estimates for the genome sequence length will be very off."
   ]
  }
 ],
 "metadata": {
  "kernelspec": {
   "display_name": "Python 3",
   "language": "python",
   "name": "python3"
  },
  "language_info": {
   "codemirror_mode": {
    "name": "ipython",
    "version": 3
   },
   "file_extension": ".py",
   "mimetype": "text/x-python",
   "name": "python",
   "nbconvert_exporter": "python",
   "pygments_lexer": "ipython3",
   "version": "3.6.7"
  }
 },
 "nbformat": 4,
 "nbformat_minor": 2
}
