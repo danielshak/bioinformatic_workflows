{
 "cells": [
  {
   "cell_type": "markdown",
   "metadata": {},
   "source": [
    "# Week 2 Lab: So where do all those reference genomes come from anyway? (Sequence assembly)\n",
    "\n",
    "## Part 2\n",
    "**Due: Monday 4/15/19 11:59PM**\n",
    "\n",
    "**Partner: ** (optional. You must both turn in the assignment. You must choose a different partner each week.)\n",
    "\n",
    "<font color=\"red\">Today, make sure you log in with the *High memory* instances available when you log into datahub. These have 8 threads and 32GB of RAM available, which will be necessary for running Spades below.</font>"
   ]
  },
  {
   "cell_type": "markdown",
   "metadata": {
    "deletable": false,
    "editable": false,
    "nbgrader": {
     "checksum": "ad7510e8c1692d67662287a53a10a2cf",
     "grade": false,
     "grade_id": "cell-82068021eac2a530",
     "locked": true,
     "schema_version": 1,
     "solution": false
    }
   },
   "source": [
    "## 2. Assemble reads with minia\n",
    "\n",
    "Now we are ready to start assembling our reads. We'll compare two programs. First, we'll use a lightweight program called `minia`, which doesn't take into account any pair information. Then, we'll use a second program called `spades` which can handle a variety of sequencing library types and compare the results.\n",
    "\n",
    "To get started, type `minia` at the command line to see how to use it.\n",
    "\n",
    "```\n",
    "minia\n",
    "```\n",
    "\n",
    "`minia` needs a list of our files as input, so let's make a list of files to include. We'll use this opportunity to learn about some cool Jupyter \"magics\". Cell magics start with `%%`. The cell below uses the `%%file` magic, which writes the contents of that cell to the specified file. If necessary you can edit the file below to reflect actual paths to your trimmed fastq files if you named them something else. For assembling *contigs* with minia, we will use only the shortgrag library, which is what we used to get our kmer distributions using jellyfish on Tuesday."
   ]
  },
  {
   "cell_type": "code",
   "execution_count": 1,
   "metadata": {},
   "outputs": [
    {
     "name": "stdout",
     "output_type": "stream",
     "text": [
      "Writing /home/dshak/week2/minia_input_files.txt\n"
     ]
    }
   ],
   "source": [
    "%%file ~/week2/minia_input_files.txt\n",
    "shortfrag_pair1.fastq\n",
    "shortfrag_pair2.fastq"
   ]
  },
  {
   "cell_type": "markdown",
   "metadata": {
    "deletable": false,
    "editable": false,
    "nbgrader": {
     "checksum": "17d2e71b831270a6adb1ab92fbbedfe7",
     "grade": false,
     "grade_id": "cell-3d178c1d62fdf8e4",
     "locked": true,
     "schema_version": 1,
     "solution": false
    }
   },
   "source": [
    "Test that the above cell wrote your file correctly on the terminal:\n",
    "```\n",
    "cat ~/week2/minia_input_files.txt\n",
    "```\n",
    "\n",
    "By the way, you can also run bash commands inside of your notebook. Either using a the `%%bash` magic or starting a line with an exclamation point `!`. See examples below, pretty cool!"
   ]
  },
  {
   "cell_type": "code",
   "execution_count": 2,
   "metadata": {
    "deletable": false,
    "editable": false,
    "nbgrader": {
     "checksum": "e4c7f1a7376b1883c6876888c231d2da",
     "grade": false,
     "grade_id": "cell-1a9e4a8cf001329a",
     "locked": true,
     "schema_version": 1,
     "solution": false
    }
   },
   "outputs": [
    {
     "name": "stdout",
     "output_type": "stream",
     "text": [
      "shortfrag_pair1.fastq\n",
      "shortfrag_pair2.fastq"
     ]
    }
   ],
   "source": [
    "%%bash\n",
    "# Example bash magic cell\n",
    "cat ~/week2/minia_input_files.txt"
   ]
  },
  {
   "cell_type": "code",
   "execution_count": 3,
   "metadata": {
    "deletable": false,
    "editable": false,
    "nbgrader": {
     "checksum": "0cedf693779d63ba11080eaca6cba343",
     "grade": false,
     "grade_id": "cell-2fb119458f8a22c0",
     "locked": true,
     "schema_version": 1,
     "solution": false
    }
   },
   "outputs": [
    {
     "name": "stdout",
     "output_type": "stream",
     "text": [
      "shortfrag_pair1.fastq\r\n",
      "shortfrag_pair2.fastq"
     ]
    }
   ],
   "source": [
    "# Example running command using \"!\"\n",
    "! cat ~/week2/minia_input_files.txt"
   ]
  },
  {
   "cell_type": "markdown",
   "metadata": {
    "deletable": false,
    "editable": false,
    "nbgrader": {
     "checksum": "42ca8ece109a234b8492db5dd412438a",
     "grade": false,
     "grade_id": "cell-46c69bfeebf5b862",
     "locked": true,
     "schema_version": 1,
     "solution": false
    }
   },
   "source": [
    "Now let's get back to running `minia`. \n",
    "\n",
    "The most important parameter is the `kmer-size`. From our jellyfish histogram of the corrected data, we know that a kmer of 18 produces a defined ‘true-reads’ peak, and we know where the valley is. For the minia command, you only want to use k-mers with abundance higher than this valley point (`-abundance-min`). Later we'll experiment with different kmer lengths.\n",
    " \n",
    "Set the output prefix to `minia_assembly_18`.\n",
    "\n",
    "**Question 1 (2 pts)**: Edit and run the `minia` command below based on your chosen kmer size. Paste your final command. How long did minia take (it outputs run time).\n",
    "\n",
    "```\n",
    "minia \\\n",
    "  -in ~/week2/mini_input_files.txt \\\n",
    "  -kmer-size 18 \\\n",
    "  -abundance-min valley \\\n",
    "  -out ~/week2/minia_assembly_18\n",
    "```"
   ]
  },
  {
   "cell_type": "markdown",
   "metadata": {
    "deletable": false,
    "nbgrader": {
     "checksum": "e0903adc70953bf6dd2b1310efb67527",
     "grade": true,
     "grade_id": "correct-minia-command",
     "locked": false,
     "points": 2,
     "schema_version": 1,
     "solution": true
    }
   },
   "source": [
    "minia \\\n",
    "  -in ~/week2/minia_input_files.txt \\\n",
    "  -kmer-size 18 \\\n",
    "  -abundance-min 45 \\\n",
    "  -out ~/week2/minia_assembly_18\n",
    "\n",
    "The run time was 158.232 seconds."
   ]
  },
  {
   "cell_type": "markdown",
   "metadata": {
    "deletable": false,
    "editable": false,
    "nbgrader": {
     "checksum": "1c2a618c746772f5bf6622e5ec404229",
     "grade": false,
     "grade_id": "cell-21d056abc84e8ae2",
     "locked": true,
     "schema_version": 1,
     "solution": false
    }
   },
   "source": [
    "Examine your (own) assembly. The most important file minia created is the `minia_assembly_18.contigs.fa` file, which is a list of each assembled contigs in fasta format. Use head to look at the first few contigs.\n",
    "\n",
    "We'll introduce three new UNIX tools to help you examine the output data:\n",
    "\n",
    "* `awk` is a general purpose tool for all sorts of data wrangling. Awk excels at parsing delimited data, where you have a lot of fields. The simplest form of an awk command is (all one line):\n",
    "```\n",
    "awk '/search_pattern/ {action to take on matches; another_action;}' [path to file]\n",
    "```\n",
    "\n",
    "For example, the following command prints out every other line of our fasta file (i.e., only the lines with sequences on them). This may be useful below.\n",
    "```\n",
    "cat minia_assembly_18.contigs.fa | awk 'NR%2==0 {print length}'\n",
    "```\n",
    "Here `NR` means \"row number\" (or record number) and prints out rows where row number mod 2 is 0. `length` prints the length of the line. For files with many columns, you can also do `length($i)` to print the length of column `i`.\n",
    "\n",
    "* `sort` allows you to sort files. You can use `cat file.txt | sort -k2,2` to sort only on column 2, etc. See [the sort man page](http://man7.org/linux/man-pages/man1/sort.1.html) for more options. You may find it useful to pipe output of other tools into `sort. e.g.:\n",
    "```\n",
    "cat minia_assembly_18.contigs.fa | awk 'NR%2==0 {print length}' | sort -n\n",
    "```\n",
    "\n",
    "* `datamash` is a really helpful tool for cmputing simple operations on columns of data. Below is an example of how to use the command. Type `datamash --help` for more usage info.\n",
    "\n",
    "```\n",
    "cat minia_assembly_18.contigs.fa | awk '{print length}' | datamash min 1 # print min of column 1\n",
    "```\n",
    "\n",
    "**Question 2 (5 pts)**: Gather some basic statistics about the contigs. Write one-line UNIX commands to answer the following. Paste your commands in the cell below. In the cell below that, set the variables `num_contigs`, `longest_contig_length`,  `shortest_contig_length`, and `median_contig_length` to your answers.\n",
    "* How many contigs are there?\n",
    "* What is the longest contig length?\n",
    "* What is the shortest congit length?\n",
    "* What is the median contig length?"
   ]
  },
  {
   "cell_type": "markdown",
   "metadata": {
    "deletable": false,
    "nbgrader": {
     "checksum": "694fbad32642118c4feb353a399cc059",
     "grade": true,
     "grade_id": "correct-minia-inspection",
     "locked": false,
     "points": 2,
     "schema_version": 1,
     "solution": true
    }
   },
   "source": [
    "* Finding the number of contigs = 13566<br>\n",
    "cat minia_assembly_18.contigs.fa | grep '>' | tail<br>\n",
    "cat minia_assembly_18.contigs.fa | grep '>' | wc -l\n",
    "\n",
    "\n",
    "* Finding the longest contig length = 5374<br>\n",
    "cat minia_assembly_18.contigs.fa | grep '>' | awk '{print$2}' | cut -d: -f3 | sort -n | tail -n 1<br>\n",
    "\n",
    "\n",
    "* Finding the shortest contig length =  18<br>\n",
    "cat minia_assembly_18.contigs.fa | grep '>' | awk '{print$2}' | cut -d: -f3 | sort -n | head -n 1<br>\n",
    "\n",
    "* Finding the median contig length = 176<br>\n",
    "cat minia_assembly_18.contigs.fa | grep '>' | awk '{print$2}' | cut -d: -f3 | datamash median 1\n",
    "\n"
   ]
  },
  {
   "cell_type": "code",
   "execution_count": 5,
   "metadata": {
    "deletable": false,
    "nbgrader": {
     "checksum": "5c84456b95c6419b842b99896d167579",
     "grade": false,
     "grade_id": "minia-inspection-results",
     "locked": false,
     "schema_version": 1,
     "solution": true
    }
   },
   "outputs": [],
   "source": [
    "# Set the variables to your answers from the above commands\n",
    "num_contigs = 13566\n",
    "longest_contig_length = 5374\n",
    "shortest_contig_length = 18\n",
    "median_contig_length = 176\n"
   ]
  },
  {
   "cell_type": "code",
   "execution_count": 6,
   "metadata": {
    "deletable": false,
    "editable": false,
    "nbgrader": {
     "checksum": "4c2fa0452a0ff1696d40b48652c198b1",
     "grade": true,
     "grade_id": "correct-minia-inspection-results-lens",
     "locked": true,
     "points": 1,
     "schema_version": 1,
     "solution": false
    }
   },
   "outputs": [
    {
     "data": {
      "text/plain": [
       "'Check num_contigs'"
      ]
     },
     "execution_count": 6,
     "metadata": {},
     "output_type": "execute_result"
    }
   ],
   "source": [
    "\"\"\"Check num_contigs\"\"\""
   ]
  },
  {
   "cell_type": "code",
   "execution_count": 8,
   "metadata": {
    "deletable": false,
    "editable": false,
    "nbgrader": {
     "checksum": "0d380f03febb75854cb80a14052e1595",
     "grade": true,
     "grade_id": "correct-minia-inspection-2",
     "locked": true,
     "points": 2,
     "schema_version": 1,
     "solution": false
    }
   },
   "outputs": [
    {
     "data": {
      "text/plain": [
       "'Check contig lengths'"
      ]
     },
     "execution_count": 8,
     "metadata": {},
     "output_type": "execute_result"
    }
   ],
   "source": [
    "\"\"\"Check contig lengths\"\"\""
   ]
  },
  {
   "cell_type": "markdown",
   "metadata": {
    "deletable": false,
    "editable": false,
    "nbgrader": {
     "checksum": "81295402581ff8132d1afc7578220906",
     "grade": false,
     "grade_id": "cell-b5c648c9a68db101",
     "locked": true,
     "schema_version": 1,
     "solution": false
    }
   },
   "source": [
    "## 3. Scaffolding the minia contigs\n",
    "\n",
    "These short contigs are certainly not a complete genome. Even if they cover all of the sequence in our genome (they might not; there could be missing regions), we do not know the correct order to put them in to reconstitute the real genome sequence.\n",
    "\n",
    "Fortunately, we can use a second set of DNA sequencing data to help us figure out the correct way to join the contigs together. Our contigs were initially made by stitching together 100 bp reads from DNA fragments that were ~215 bp long. Our second DNA library (jumping) consists of paired 146 bp reads from DNA fragments that were up to several kb long. You will map these short jumps to your set of contigs.\n",
    "\n",
    "If the forward member of a pair binds to one contig, and its reverse partner binds to a different contig, we know that those positions must be several kb apart in the actual genome. By combining all of the mapping data from these pairs, scaffolding software can figure out the optimal, correct way to link the contigs together.\n",
    "\n",
    "You will use the program `SSPACE` for scaffolding. First, it will use the bowtie aligner (within the program) to map the shortjump reads to your minia contigs. Then, it will use those mapping results to connect the contigs into bigger scaffolds. \n",
    "\n",
    "`SSPACE` requires a library file, telling the program the names of our `shortfrag` files and some other information about them. Use You will have to look at the SSPACE user manual to figure out exactly what each column means https://github.com/nsoranzo/sspace_basic/blob/master/F132-01%20SSPACE_Basic_User_Manual_v2.0.pdf.\n",
    "\n",
    "Example library file:\n",
    "```\n",
    "Lib1 reads_1.fastq reads_2.fastq insertsize insertsizeerror orientation\n",
    "```\n",
    "\n",
    "You will have to specify the the insert size, the tolerable error for the insert size, and the orientation. We will want to add both of our libraries (`shortfrag` and `jumping`). Be sure to use the trimmed reads. For `jumping` only use the mate pairs. Note, `nxtrim` by default outputs all reads in FR orientation, even if they were RF to begin with. \n",
    "\n",
    "Before running, you'll have to \"unzip\" the the mate pair fastq files. Use the `gunzip` command to do this.\n",
    "\n",
    "**Question 3 (3 pts):** Fill in your `SSPACE` library file in the cell below. Write your library file to `sspace_library.txt` in your `~/week2` folder. (You may use a `%%file` magic below to write directly to the file. Put the `shortfrag` library first.)\n",
    "\n",
    "Note 1: the insert size for the `shortfrag` library is given in Lab 1 (215 +/- 10bp). For the `jumping` library let's assume 1000 +/- 500bp. (This is not quite right, but a priori for this library we don't have a good distribution).\n",
    "\n",
    "Note 2: Pay attention to how `insertsizeerror` is defined in the manual. It is a number between 0 and 1, and *not* a standard deviation."
   ]
  },
  {
   "cell_type": "code",
   "execution_count": 9,
   "metadata": {
    "deletable": false,
    "nbgrader": {
     "checksum": "f6b30cf61f2357faaa0b453f0075a948",
     "grade": true,
     "grade_id": "correct-sspace-scaffold",
     "locked": false,
     "points": 3,
     "schema_version": 1,
     "solution": true
    }
   },
   "outputs": [
    {
     "name": "stdout",
     "output_type": "stream",
     "text": [
      "Writing /home/dshak/week2/sspace_library.txt\n"
     ]
    }
   ],
   "source": [
    "%%file ~/week2/sspace_library.txt\n",
    "Lib1 shortfrag_pair1.fastq shortfrag_pair2.fastq 215 0.0465 FR\n",
    "Lib2 jumping_nxtrim_R1.mp.fastq jumping_nxtrim_R2.mp.fastq 1000 0.5 FR"
   ]
  },
  {
   "cell_type": "markdown",
   "metadata": {
    "deletable": false,
    "editable": false,
    "nbgrader": {
     "checksum": "8479f59d80ca004517b72639f5c8feb0",
     "grade": false,
     "grade_id": "cell-ae85a109ce69f4ba",
     "locked": true,
     "schema_version": 1,
     "solution": false
    }
   },
   "source": [
    "Once you’ve made the library file, run `SSPACE` with the command below, which you will have to edit according to your exiting file names and your output name preference. A description of what each flag is doing follows the command.\n",
    "\n",
    "```shell\n",
    "SSPACE_Basic_v2.0.pl -l sspace_library.txt -s minia_assembly_18.contigs.fa -z 100 -v 1 -p 1 -b sspace_scaffold\n",
    "```\n",
    "\n",
    "* `-l` specifies the library file\n",
    "* `-s` specifies the list of contigs that minia produced\n",
    "* `-z` sets the minimum required size for contigs (anything shorter than this will be discarded)\n",
    "* `-p` tells the program to make a dot file, which can be used to visualize the scaffold\n",
    "* `-v` sets verbose output\n",
    "* `-b` sets the base file name for the output directory and the files in it.\n",
    "\n",
    "(Note this may take a while. You can try making it `SSPACE` use multiple threads but only go up to 6. You might want to open a new terminal and work on the next part).\n",
    "\n",
    "**Question 4 (2 pts):** After the command runs, open the summary file it created. Record how many scaffolds there are “After scaffolding”, the max scaffold size, and the N50. (This is also where you can get those numbers for your original contig file, under “Inserted contig file”). How did the quality of scaffolding change after the `jumping` library was added?"
   ]
  },
  {
   "cell_type": "markdown",
   "metadata": {
    "deletable": false,
    "nbgrader": {
     "checksum": "da1cc9e0f5dbd8f1f3b58a5004565526",
     "grade": true,
     "grade_id": "correct-sspace-results",
     "locked": false,
     "points": 2,
     "schema_version": 1,
     "solution": true
    }
   },
   "source": [
    "After scaffolding there are 586 total scaffolds (after the second library is added). The max scaffold size increases to 74635 after adding both libraries. The N50 is 17715. The quality of the scaffolding increases after the jumping library is added. We can see this by the increase in the N50 score and the size of the average scaffold size, they both increase "
   ]
  },
  {
   "cell_type": "markdown",
   "metadata": {
    "deletable": false,
    "editable": false,
    "nbgrader": {
     "checksum": "7e3d24e9adc68d5c921d2d855d6774a6",
     "grade": false,
     "grade_id": "cell-0430cf8cb89f18f2",
     "locked": true,
     "schema_version": 1,
     "solution": false
    }
   },
   "source": [
    "## 4. Assemble reads with Spades\n",
    "\n",
    "Now we'll use a second assembler, Spades, to assemble our reads. But first, we'll run kmer-based error correction on the reads which will greatly reduce the memory required to run Spades.\n",
    "\n",
    "For error correction, we'll use the tool `bfc`. Type the command to see its usage. Then use it to correct the two trimmed fastqs for our `shortfrag` and `jumping` library. Below is an example command:\n",
    "\n",
    "```\n",
    "bfc -s 5m trimmed.fq > corrected.fq\n",
    "```\n",
    "\n",
    "Note, `-s 5m` tells `bfc` we expect our genome size to be around 5 Megabases, based on our results from part 1!\n",
    "\n",
    "**Question 5 (2 pts):** Paste your command from running `bfc` below. Note this may take a while, so you might want to work on the \"Additional questions\" section below while you're waiting. You can also figure out how to make `bfc` use multiple threads at once to speed it up. But don't use more than 8 threads."
   ]
  },
  {
   "cell_type": "markdown",
   "metadata": {
    "deletable": false,
    "nbgrader": {
     "checksum": "104f6c68fa1cf6fe8afb977ac014330f",
     "grade": true,
     "grade_id": "correct-bfc",
     "locked": false,
     "points": 2,
     "schema_version": 1,
     "solution": true
    }
   },
   "source": [
    "bfc -s 4.4m shortfrag_pair1.fastq -t 8 > shortfrag_pair1_corrected.fastq\n",
    "\n",
    "bfc -s 4.4m shortfrag_pair2.fastq -t 8 > shortfrag_pair2_corrected.fastq\n",
    "\n",
    "bfc -s 4.4m jumping_nxtrim_R1.mp.fastq -t 8 > jumping_nxtrim_R1_corrected.mp.fastq\n",
    "\n",
    "bfc -s 4.4m jumping_nxtrim_R2.mp.fastq -t 8 > jumping_nxtrim_R2_corrected.mp.fastq\n"
   ]
  },
  {
   "cell_type": "markdown",
   "metadata": {
    "deletable": false,
    "editable": false,
    "nbgrader": {
     "checksum": "069abecb8c2cc6ebc01dce000e284046",
     "grade": false,
     "grade_id": "cell-7d092430648689d5",
     "locked": true,
     "schema_version": 1,
     "solution": false
    }
   },
   "source": [
    "Hopefully, running error correction helped get rid of some of the low abundance kmers in our data.\n",
    "\n",
    "**Question 6 (3 pts)** Run `jellyfish` on one fastq file from each library file before and after trimming. Paste your commands below (1 pt). After completing the plots in question 7, describe here the difference in the distribution before and after error correction. (2 pts). "
   ]
  },
  {
   "cell_type": "markdown",
   "metadata": {
    "deletable": false,
    "nbgrader": {
     "checksum": "2c8627a921c8d794c0b3439de7c625d3",
     "grade": true,
     "grade_id": "correct-jfish-command",
     "locked": false,
     "points": 3,
     "schema_version": 1,
     "solution": true
    }
   },
   "source": [
    "jellyfish count -m 18 -C -s 100M -o jf_shortfrag1.jf shortfrag_pair1.fastq<br>\n",
    "jellyfish histo jf_shortfrag1.jf > shortfrag1.histo\n",
    "\n",
    "jellyfish count -m 18 -C -s 100M -o jf_shortfrag_pair1_corrected.jf shortfrag_pair1_corrected.fastq<br>\n",
    "jellyfish histo jf_shortfrag_pair1_corrected.jf > jf_shortfrag_pair1_corrected.histo\n",
    "\n",
    "jellyfish count -m 18 -C -s 100M -o jf_jumping_nxtrim_R1.mp.jf jumping_nxtrim_R1.mp.fastq<br>\n",
    "jellyfish histo jf_jumping_nxtrim_R1.mp.jf > jf_jumping_nxtrim_R1.mp.histo\n",
    "\n",
    "jellyfish count -m 18 -C -s 100M -o jf_jumping_nxtrim_R1_corrected.mp.jf  jumping_nxtrim_R1_corrected.mp.fastq<br>\n",
    "jellyfish histo jf_jumping_nxtrim_R1_corrected.mp.jf > jf_jumping_nxtrim_R1_corrected.mp.histo"
   ]
  },
  {
   "cell_type": "markdown",
   "metadata": {
    "deletable": false,
    "editable": false,
    "nbgrader": {
     "checksum": "b7400999dcc0db4ed46ff8817629fd96",
     "grade": false,
     "grade_id": "cell-9e3c58582a0957d1",
     "locked": true,
     "schema_version": 1,
     "solution": false
    }
   },
   "source": [
    "**Question 7 (3 pts)**. Plot the resulting kmer count histograms below for each library before and after correction. (4 total plots). You will probably want to copy your function `PlotKmerHistogram` from Part 1, and may need to play with the x-axis range for the different libraries. You may also need to add `%pylab inline` to the top of the cell."
   ]
  },
  {
   "cell_type": "code",
   "execution_count": 31,
   "metadata": {
    "deletable": false,
    "nbgrader": {
     "checksum": "c8adcb058bf407fefed119f683726f36",
     "grade": true,
     "grade_id": "correct-plot-kmer",
     "locked": false,
     "points": 3,
     "schema_version": 1,
     "solution": true
    }
   },
   "outputs": [
    {
     "name": "stdout",
     "output_type": "stream",
     "text": [
      "Populating the interactive namespace from numpy and matplotlib\n"
     ]
    }
   ],
   "source": [
    "%pylab inline\n",
    "import os\n",
    "import matplotlib.pyplot as plt\n",
    "\n",
    "def PlotKmerHistogram(histofile, max_xval = 350, max_yval = 52500):\n",
    "    \"\"\"\n",
    "    Takes in the path to a histogram file from jellyfish and \n",
    "    plots the kmer count distribution\n",
    "    \"\"\"\n",
    "    max_xval = max_xval\n",
    "    max_yval = max_yval\n",
    "    kmer_counts = {} # Dictionary of count -> number of kmers\n",
    "    # Read the histofile\n",
    "    # Use its contents to update kmer_counts\n",
    "    # You also will need to set max_xval and max_yval to something appropriate\n",
    "    text_file = open(histofile, \"r\")\n",
    "    data = text_file.read().splitlines()\n",
    "    for i in range(len(data)):\n",
    "        kmer_counts[int(data[i].split()[0])] = int(data[i].split()[1])\n",
    "    \n",
    "    fig = plt.figure()\n",
    "    ax = fig.add_subplot(111)\n",
    "    ax.bar(kmer_counts.keys(), kmer_counts.values(),width=1)\n",
    "    ax.set_xlabel(\"Count\")\n",
    "    ax.set_ylabel(\"Number of kmers\")\n",
    "    if max_xval is not None: ax.set_xlim(left=0, right=max_xval)\n",
    "    if max_yval is not None: ax.set_ylim(bottom=0, top=max_yval)"
   ]
  },
  {
   "cell_type": "code",
   "execution_count": 12,
   "metadata": {},
   "outputs": [
    {
     "data": {
      "image/png": "[encoded data removed]",
      "text/plain": [
       "<Figure size 432x288 with 1 Axes>"
      ]
     },
     "metadata": {
      "needs_background": "light"
     },
     "output_type": "display_data"
    }
   ],
   "source": [
    "PlotKmerHistogram(os.path.join(os.environ[\"HOME\"],\"week2\",\"shortfrag1.histo\")) # may need to edit the path to your file"
   ]
  },
  {
   "cell_type": "code",
   "execution_count": 13,
   "metadata": {},
   "outputs": [
    {
     "data": {
      "image/png": "[encoded data removed]",
      "text/plain": [
       "<Figure size 432x288 with 1 Axes>"
      ]
     },
     "metadata": {
      "needs_background": "light"
     },
     "output_type": "display_data"
    }
   ],
   "source": [
    "PlotKmerHistogram(os.path.join(os.environ[\"HOME\"],\"week2\",\"jf_shortfrag_pair1_corrected.histo\")) # may need to edit the path to your file"
   ]
  },
  {
   "cell_type": "code",
   "execution_count": 65,
   "metadata": {},
   "outputs": [
    {
     "data": {
      "image/png": "[encoded data removed]",
      "text/plain": [
       "<Figure size 432x288 with 1 Axes>"
      ]
     },
     "metadata": {
      "needs_background": "light"
     },
     "output_type": "display_data"
    }
   ],
   "source": [
    "PlotKmerHistogram(os.path.join(os.environ[\"HOME\"],\"week2\",\"jf_jumping_nxtrim_R1.mp.histo\"), max_xval=18, max_yval = 750000) # may need to edit the path to your file"
   ]
  },
  {
   "cell_type": "code",
   "execution_count": 66,
   "metadata": {},
   "outputs": [
    {
     "data": {
      "image/png": "[encoded data removed]",
      "text/plain": [
       "<Figure size 432x288 with 1 Axes>"
      ]
     },
     "metadata": {
      "needs_background": "light"
     },
     "output_type": "display_data"
    }
   ],
   "source": [
    "PlotKmerHistogram(os.path.join(os.environ[\"HOME\"],\"week2\",\"jf_jumping_nxtrim_R1_corrected.mp.histo\"), max_xval=18, max_yval = 750000) # may need to edit the path to your file"
   ]
  },
  {
   "cell_type": "markdown",
   "metadata": {
    "deletable": false,
    "editable": false,
    "nbgrader": {
     "checksum": "3de6ec96075f8467a8db71243e208ff4",
     "grade": false,
     "grade_id": "cell-237df96267ccc41c",
     "locked": true,
     "schema_version": 1,
     "solution": false
    }
   },
   "source": [
    "Now, we're ready to run Spades. Type `spades.py` to see options. Using the usage message as a guide, write a spades command that:\n",
    "\n",
    "* Takes in the `jumping` mate pair kmer-corrected reads (library)\n",
    "* Takes in the `shortfrag` paired end reads (library)\n",
    "* Outputs the results to a folder `~/week2/ECMG1-spades`.\n",
    "* Uses at most 25G of memory\n",
    "* Uses 7 threads\n",
    "* Only runs the assembler (since we already ran kmer based error correction).\n",
    "\n",
    "**Question 8 (3 pts):** Run spades using the options specified above, and paste your command below."
   ]
  },
  {
   "cell_type": "markdown",
   "metadata": {},
   "source": [
    "#### Makes sense to use the corrected libraries for both\n",
    "\n",
    "spades.py -o ~/week2/ECMG1-spades -m 25 -t 7 --only-assembler --mp1-fr --mp1-1 jumping_nxtrim_R1_corrected.mp.fastq --mp1-2 jumping_nxtrim_R2_corrected.mp.fastq --pe1-1 shortfrag_pair1_corrected.fastq --pe1-2 shortfrag_pair2_corrected.fastq"
   ]
  },
  {
   "cell_type": "markdown",
   "metadata": {
    "deletable": false,
    "nbgrader": {
     "checksum": "d2f39fe49c61c3fece1c8848a5c16241",
     "grade": true,
     "grade_id": "correct-spades-command",
     "locked": false,
     "points": 3,
     "schema_version": 1,
     "solution": true
    }
   },
   "source": [
    "#### Not sure if need corrected shortfrag paired end read library\n",
    "\n",
    "spades.py -o ~/week2/ECMG1-spades -m 25 -t 7 --only-assembler --mp1-fr --mp1-1 jumping_nxtrim_R1_corrected.mp.fastq --mp1-2 jumping_nxtrim_R2_corrected.mp.fastq --pe1-1 shortfrag_pair1.fastq --pe1-2 shortfrag_pair2.fastq"
   ]
  },
  {
   "cell_type": "markdown",
   "metadata": {
    "deletable": false,
    "editable": false,
    "nbgrader": {
     "checksum": "9341ed3ebe194ce224ef0d78e164cbe2",
     "grade": false,
     "grade_id": "cell-e3facd66f2cc2758",
     "locked": true,
     "schema_version": 1,
     "solution": false
    }
   },
   "source": [
    "**Question 9 (4 pts):** Similar to how you did for `minia`, gather some basic statistics about the **contigs** created by Spades. Find the contigs that `spades` wrote to the folder `~/week2/ECMG1-spades`. Write UNIX commands to answer the following:\n",
    "\n",
    "* How many contigs are there?\n",
    "* What is the longest contig length?\n",
    "* What is the shortest congit length?\n",
    "* What is the median contig length?\n",
    "\n",
    "Paste your commands in the cell below. In the cell below that, set the variables `num_contigs_spades`, `longest_contig_length_spades`,  `shortest_contig_length_spades`, and `median_contig_length_spades` to your answers.\n",
    "\n",
    "**IMPORTANT**: Take a look at the fasta file. Hint it looks different than the `minia` contigs! This file is in \"multi-line\" fastq format vs. \"single-line\" fastq format so some of the commands you wrote to look at minia contigs might not work. As suggested in class, one of the most important skills of a bioinformatician is googling :). Google this issue and see if you can find a UNIX command (or a tool) that will convert your fastq file to a format you want. Or, write your own command. Or, make your commands for getting the stats above deal with multi-line format. "
   ]
  },
  {
   "cell_type": "markdown",
   "metadata": {},
   "source": [
    "===== Assembling finished. Used k-mer sizes: 21, 33, 55\n",
    "\n",
    " * Assembled contigs are in /home/dshak/week2/ECMG1-spades/contigs.fasta\n",
    " * Assembled scaffolds are in /home/dshak/week2/ECMG1-spades/scaffolds.fasta\n",
    " * Assembly graph is in /home/dshak/week2/ECMG1-spades/assembly_graph.fastg\n",
    " * Assembly graph in GFA format is in /home/dshak/week2/ECMG1-spades/assembly_graph_with_scaffolds.gfa\n",
    " * Paths in the assembly graph corresponding to the contigs are in /home/dshak/week2/ECMG1-spades/contigs.paths\n",
    " * Paths in the assembly graph corresponding to the scaffolds are in /home/dshak/week2/ECMG1-spades/scaffolds.paths"
   ]
  },
  {
   "cell_type": "markdown",
   "metadata": {
    "deletable": false,
    "nbgrader": {
     "checksum": "942dcaf2fe5fefa36ca9b5e79608381e",
     "grade": true,
     "grade_id": "correct-spades-eval-command",
     "locked": false,
     "points": 3,
     "schema_version": 1,
     "solution": true
    }
   },
   "source": [
    "cat contigs.fasta | grep '>' | wc -l\n",
    "\n",
    "cat contigs.fasta | grep '>' | cut -d_ -f4 | sort -n | tail -n 1\n",
    "\n",
    "cat contigs.fasta | grep '>' | cut -d_ -f4 | sort -n | head -n 1\n",
    "\n",
    "cat contigs.fasta | grep '>' | cut -d_ -f4 | datamash median 1"
   ]
  },
  {
   "cell_type": "code",
   "execution_count": 50,
   "metadata": {
    "deletable": false,
    "nbgrader": {
     "checksum": "a90094fcca9077e0cff7679746c88f0d",
     "grade": false,
     "grade_id": "answer-spades-eval",
     "locked": false,
     "schema_version": 1,
     "solution": true
    }
   },
   "outputs": [],
   "source": [
    "# Set the variables to your answers from the above commands\n",
    "num_contigs_spades = 167\n",
    "longest_contig_length_spades = 521291\n",
    "shortest_contig_length_spades = 56\n",
    "median_contig_length_spades = 232\n"
   ]
  },
  {
   "cell_type": "code",
   "execution_count": 51,
   "metadata": {
    "deletable": false,
    "editable": false,
    "nbgrader": {
     "checksum": "99a7b44085d6fccfe5893cd4c91e6ca0",
     "grade": true,
     "grade_id": "correct-spades-eval-nums",
     "locked": true,
     "points": 1,
     "schema_version": 1,
     "solution": false
    }
   },
   "outputs": [
    {
     "data": {
      "text/plain": [
       "'Check num contigs and contig lengths'"
      ]
     },
     "execution_count": 51,
     "metadata": {},
     "output_type": "execute_result"
    }
   ],
   "source": [
    "\"\"\"Check num contigs and contig lengths\"\"\""
   ]
  },
  {
   "cell_type": "markdown",
   "metadata": {
    "deletable": false,
    "editable": false,
    "nbgrader": {
     "checksum": "f49bea3d40b04a72fbc8676b2cc445ea",
     "grade": false,
     "grade_id": "cell-1e006a52afc5d902",
     "locked": true,
     "schema_version": 1,
     "solution": false
    }
   },
   "source": [
    "**Question 10 (2 pts):** Repeat the same evaluation for **scaffolds** generated by spades. Again, paste your commands below and set the appropriate python variables to your answers."
   ]
  },
  {
   "cell_type": "markdown",
   "metadata": {
    "deletable": false,
    "nbgrader": {
     "checksum": "982a6b1cd890d60d0c54fe28fb7f40c0",
     "grade": true,
     "grade_id": "correct-spades-scaffolds-command",
     "locked": false,
     "points": 1,
     "schema_version": 1,
     "solution": true
    }
   },
   "source": [
    "cat scaffolds.fasta | grep '>' | wc -l\n",
    "\n",
    "cat scaffolds.fasta | grep '>' | cut -d_ -f4 | sort -n | tail -n 1\n",
    "\n",
    "cat scaffolds.fasta | grep '>' | cut -d_ -f4 | sort -n | head -n 1\n",
    "\n",
    "cat scaffolds.fasta | grep '>' | cut -d_ -f4 | datamash median 1"
   ]
  },
  {
   "cell_type": "code",
   "execution_count": 52,
   "metadata": {
    "deletable": false,
    "nbgrader": {
     "checksum": "3d20792e432267f542b4e3c8630600bc",
     "grade": false,
     "grade_id": "answer-spades-scaffold",
     "locked": false,
     "schema_version": 1,
     "solution": true
    }
   },
   "outputs": [],
   "source": [
    "# Set the variables to your answers from the above commands\n",
    "num_scaffold_spades = 128\n",
    "longest_scaffold_length_spades = 4583975\n",
    "shortest_scaffold_length_spades = 56\n",
    "median_scaffold_length_spades = 146.5\n"
   ]
  },
  {
   "cell_type": "code",
   "execution_count": 53,
   "metadata": {
    "deletable": false,
    "editable": false,
    "nbgrader": {
     "checksum": "5a51f3a955610117bfffa465014470bd",
     "grade": true,
     "grade_id": "correct-spades-scaffold-nums",
     "locked": true,
     "points": 1,
     "schema_version": 1,
     "solution": false
    }
   },
   "outputs": [
    {
     "data": {
      "text/plain": [
       "'Check num contigs and contig lengths'"
      ]
     },
     "execution_count": 53,
     "metadata": {},
     "output_type": "execute_result"
    }
   ],
   "source": [
    "\"\"\"Check num contigs and contig lengths\"\"\""
   ]
  },
  {
   "cell_type": "markdown",
   "metadata": {
    "deletable": false,
    "editable": false,
    "nbgrader": {
     "checksum": "d38f8db8aa99728f098f013db233b8df",
     "grade": false,
     "grade_id": "cell-81f363f89a5d820c",
     "locked": true,
     "schema_version": 1,
     "solution": false
    }
   },
   "source": [
    "## 5. Compare assembly methods\n",
    "\n",
    "Now, we will summarize all of our stats from our two methods (`minia`+`sspace` vs. `spades`).\n",
    "\n",
    "Let's construct a table (which you can do in [markdown](https://github.com/adam-p/markdown-here/wiki/Markdown-Cheatsheet) syntax right here in a Jupyter cell). Below is an example blank table so you can see the syntax.\n",
    "\n",
    "**Question 11 (7 pts)**: Summarize for each the two methods:\n",
    "* For contigs: number, min, max and median length, and N50 (see below)\n",
    "* For scaffolds: number, min, max and median length, and N50\n",
    "\n",
    "Paste any additional commands you used to get the output.\n",
    "\n",
    "Discuss (3-5 sentences total) how the two methods compare in terms of:\n",
    "* assembly quality\n",
    "* ease of use\n",
    "* compute requirements\n",
    "\n",
    "Example table:\n",
    "\n",
    "| Metric | Method 1 | Method 2 |\n",
    "|----|-----|-----|\n",
    "| Contig - # | | \n",
    "| Contig - min | |\n",
    "| Contig - median | | \n",
    "| Contig - max | | \n",
    "| ... | |\n",
    "\n",
    "**Notes**\n",
    "* For computing N50: you may either (1) google for a method to compute N50 from a fasta file or (2) Write your own. Include any commands you used. If you write a script, paste the contens of the script below.\n",
    "* Try to format code and tables nicely using markdown tricks! This is good preparation for writing full-length lab reports and the final project soon!"
   ]
  },
  {
   "cell_type": "code",
   "execution_count": 82,
   "metadata": {},
   "outputs": [
    {
     "name": "stdout",
     "output_type": "stream",
     "text": [
      "4583975\n"
     ]
    }
   ],
   "source": [
    "import numpy as np\n",
    "vals = !cat ../week2/ECMG1-spades/scaffolds.fasta | grep '>' | cut -d_ -f4\n",
    "vals = np.array(list(map(int, vals)))\n",
    "running_coverage = np.cumsum(vals)/np.sum(vals)\n",
    "for i,coverage in enumerate(running_coverage):\n",
    "    if coverage >= 0.5:\n",
    "        break\n",
    "        \n",
    "N50 = vals[i]\n",
    "print(N50)"
   ]
  },
  {
   "cell_type": "code",
   "execution_count": 103,
   "metadata": {},
   "outputs": [
    {
     "name": "stdout",
     "output_type": "stream",
     "text": [
      "171820\n"
     ]
    }
   ],
   "source": [
    "contig_vals = !cat ../week2/ECMG1-spades/contigs.fasta | grep '>' | cut -d_ -f4\n",
    "contig_vals = np.array(list(map(int, contig_vals)))\n",
    "\n",
    "running_coverage = np.cumsum(contig_vals)/np.sum(contig_vals)\n",
    "for i,coverage in enumerate(running_coverage):\n",
    "    if coverage >= 0.5:\n",
    "        break\n",
    "        \n",
    "N50 = contig_vals[i]\n",
    "print(N50)"
   ]
  },
  {
   "cell_type": "code",
   "execution_count": 105,
   "metadata": {},
   "outputs": [
    {
     "name": "stdout",
     "output_type": "stream",
     "text": [
      "768\n"
     ]
    }
   ],
   "source": [
    "#method1 N50\n",
    "contig_vals = !cat ../week2/minia_assembly_18.contigs.fa | grep '>' | awk '{print$2}' | cut -d: -f3 | sort -n\n",
    "contig_vals = np.array(list(map(int, contig_vals)))\n",
    "contig_vals = contig_vals[::-1]\n",
    "\n",
    "running_coverage = np.cumsum(contig_vals)/np.sum(contig_vals)\n",
    "for i,coverage in enumerate(running_coverage):\n",
    "    if coverage >= 0.5:\n",
    "        break\n",
    "        \n",
    "N50 = contig_vals[i]\n",
    "print(N50)"
   ]
  },
  {
   "cell_type": "markdown",
   "metadata": {
    "deletable": false,
    "nbgrader": {
     "checksum": "2511b293751084be6557e80f9378b1f8",
     "grade": true,
     "grade_id": "cell-a85654eb01512169",
     "locked": false,
     "points": 7,
     "schema_version": 1,
     "solution": true
    }
   },
   "source": [
    "Method 1 median scaffold length: \n",
    "\n",
    "cat sspace_scaffold.final.scaffolds.fasta | grep '>' | cut -de -f2 | datamash median 1\n",
    "\n",
    "\n",
    "| Metric | Method 1 | Method 2 |\n",
    "|----|-----|-----|\n",
    "| Contig - # | 13566| 167\n",
    "| Contig - min | 18| 56\n",
    "| Contig - median | 176| 232\n",
    "| Contig - max | 5374| 521291\n",
    "| Contig N50 | 768 | 171820\n",
    "| Scaffold - # | 586 | 128\n",
    "| Scaffold - min | 100 | 56\n",
    "| Scaffold - median | 3212.5 | 146.5\n",
    "| Scaffold - max | 74635 | 4583975\n",
    "| Scaffold N50 | 17715 | 4583975"
   ]
  },
  {
   "cell_type": "markdown",
   "metadata": {
    "deletable": false,
    "editable": false,
    "nbgrader": {
     "checksum": "a63848e4a4da438875a1ddb11c15c113",
     "grade": false,
     "grade_id": "cell-82dc0f743a81e1cf",
     "locked": true,
     "schema_version": 1,
     "solution": false
    }
   },
   "source": [
    "## 6. Evaluate assembly outputs with QUAST\n",
    "\n",
    "Even though we were unable to link every stretch of DNA together into a finished genome, we were still able to produce lots of sequences, which could be used for gene finding, comparison to related bacteria, or as a guide for designing additional sequencing projects to fill in the gaps and link the remaining contigs.\n",
    "\n",
    "Since we are using raw data from a genome that is actually already solved, we can align our contigs to that reference to evaluate our de novo assembly performance. Remember, if we were trying to solve the genome of a new or unknown organism, we wouldn’t be able to do this, but we could try using a close relative.\n",
    "\n",
    "The NCBI id of the E. coli strain used here is NC_000913.3. The reference genome fasta file and gene annotations (GFF file) are available here: https://www.ncbi.nlm.nih.gov/nuccore/NC_000913.3. This reference (K-12 substr. MG1655) is actually already available on QUAST, so we won't need to download it. Download the final scaffold files (after `sspace` and after `spades` for the two methods) by navigating to your `week2` folder in Jupyter lab, right clicking the files, and selecting \"Download\".\n",
    "\n",
    "Go to QUAST: http://quast.bioinf.spbau.ru/\n",
    "\n",
    "First, make sure that you will get an email report. On the right hand side, type in your email and click ‘get personal page’. Close the QUAST tab, then wait for the email to arrive. Click on the “Personal Page” link, and perform your analysis there in order to get the results emailed.\n",
    "\n",
    "Use quast to align your scaffolds to the actual reference sequence of the bacterial strain used to generate the original data.\n",
    "\n",
    "* Use “Add Files” to upload both of your assemblies for comparison.\n",
    "* Check the \"scaffolds\", “find genes” boxes, and the “Prokaryotic” button.\n",
    "* Under genome, choose the strain of our genome.\n",
    "* Type in a title for this analysis under caption, then click evaluate. \n",
    "\n",
    "You may also use the \"Icarus\" browser to explore the differences between assemblies.\n",
    "\n",
    "**Question 12 (1 pt)**: Explain why there are two results, and what the ‘broken’ result is (you will have to use the QUAST manual. But don't just copy and paste. Use your own words to describe the difference)."
   ]
  },
  {
   "cell_type": "markdown",
   "metadata": {
    "deletable": false,
    "nbgrader": {
     "checksum": "7a96258ec01e258b3a86ee86ef0375b8",
     "grade": true,
     "grade_id": "correct-quast-1",
     "locked": false,
     "points": 1,
     "schema_version": 1,
     "solution": true
    }
   },
   "source": [
    "The broken result is done when evaluating the continuous scaffolds. If there are large sections of \"n\" (unkown values for a position) the program splits up the scaffold at these points and tries to realign these sections to the known positions in the reference. This is done to give a comparison of how the scaffolding did compared to the actual alignment of the contigs to the referecne."
   ]
  },
  {
   "cell_type": "markdown",
   "metadata": {
    "deletable": false,
    "editable": false,
    "nbgrader": {
     "checksum": "d8b2805723ad1c36416fc43aea70ce30",
     "grade": false,
     "grade_id": "cell-d7585eb7b4c22210",
     "locked": true,
     "schema_version": 1,
     "solution": false
    }
   },
   "source": [
    "**Question 13 (1 pt)**:  Which metrics perform better in the Spades vs. Minia+Sspace assemblies? You don't need to provide an exhaustive list of each metric. Rather, provide an overall summary of the differences."
   ]
  },
  {
   "cell_type": "markdown",
   "metadata": {
    "deletable": false,
    "nbgrader": {
     "checksum": "48846aee05b5a7724996697ae9404747",
     "grade": true,
     "grade_id": "correct-quast-2",
     "locked": false,
     "points": 1,
     "schema_version": 1,
     "solution": true
    }
   },
   "source": [
    "It seems that in general the Minia+Sspace assembly has smaller contigs/scaffolds. There are less continuous runs of sequences. The N50 is much larger in the Spades method. This creates one really large scaffold that contains most of the data. Some of these differecne could have been cause by not creating contigs off the jumping library."
   ]
  },
  {
   "cell_type": "markdown",
   "metadata": {
    "deletable": false,
    "editable": false,
    "nbgrader": {
     "checksum": "d2fa822ce423bd0b6da511f43a02aa94",
     "grade": false,
     "grade_id": "cell-7fd953689a0e2916",
     "locked": true,
     "schema_version": 1,
     "solution": false
    }
   },
   "source": [
    "**Question 14 (1 pt)**: Does the number of genes (operons) predicted by QUAST for your assembly match the actual number of genes in the assembled reference?"
   ]
  },
  {
   "cell_type": "markdown",
   "metadata": {
    "deletable": false,
    "nbgrader": {
     "checksum": "c9b970dfee6ece4848ad693d81f26887",
     "grade": true,
     "grade_id": "correct-quast-3",
     "locked": false,
     "points": 1,
     "schema_version": 1,
     "solution": true
    }
   },
   "source": [
    "The number of genes predicted by QUAST is very similar to the actual number of genes in teh assembled reference. The assembled reference has listed, Number of protein genes: 4240, Number of RNA genes: 179. Our results predict 4252 + 18 part\t4244 + 26 part\t3711 + 447 part\t3218 + 926 part. The Spades method is a lot better at generating the gene sections. This can be due to the longer read/scaffolds of continuous reads."
   ]
  },
  {
   "cell_type": "markdown",
   "metadata": {
    "deletable": false,
    "editable": false,
    "nbgrader": {
     "checksum": "773d6a91a879424f5c71162a50b5e029",
     "grade": false,
     "grade_id": "cell-81d9e89eb049b2e4",
     "locked": true,
     "schema_version": 1,
     "solution": false
    }
   },
   "source": [
    "## 7. Additional questions\n",
    "\n",
    "**Question 13 (3 pts)**: We chose a specific value for $k$ (18) for our `minia` assembly. What do you think would happen if we chose a larger value of $k$? What are the tradeoffs of larger vs. shorter kmer sizes?"
   ]
  },
  {
   "cell_type": "markdown",
   "metadata": {
    "deletable": false,
    "nbgrader": {
     "checksum": "125765036b9ddbb8136d408421ce55f9",
     "grade": true,
     "grade_id": "correct-kmer-size",
     "locked": false,
     "points": 3,
     "schema_version": 1,
     "solution": true
    }
   },
   "source": [
    "The larger kmer size can help with areas of the genome that are hard to decipher. These regions can be ones that are highly repetative for example. The larger kmer size can also contribute to longer contigs with fewer connections where as the smaller kmer size will have more contigs with more connections. The larger the kmer size the more coverage is needed however."
   ]
  },
  {
   "cell_type": "markdown",
   "metadata": {
    "deletable": false,
    "editable": false,
    "nbgrader": {
     "checksum": "950d26e3c466e714c5d220c99ec5b993",
     "grade": false,
     "grade_id": "cell-31c3478acc9a53c9",
     "locked": true,
     "schema_version": 1,
     "solution": false
    }
   },
   "source": [
    "**Question 14 (3 pts)**: What could you do to improve your assembly, and properly connect the final scaffolds, without relying on a reference sequence?"
   ]
  },
  {
   "cell_type": "markdown",
   "metadata": {
    "deletable": false,
    "nbgrader": {
     "checksum": "11606fb56b58e80cfee14217bc22c954",
     "grade": true,
     "grade_id": "correct-finish-genome",
     "locked": false,
     "points": 3,
     "schema_version": 1,
     "solution": true
    }
   },
   "source": [
    "To improve the assembly there are numerous things that can be done. First different kmer sizes can be utilized to cross validate the results. More data will usually help as well. This can be different types of reads, more reads, and different length reads. Using all these methods and then comparing all the different values for a consensus should help to make the assembly more robust and accurate."
   ]
  }
 ],
 "metadata": {
  "kernelspec": {
   "display_name": "Python 3",
   "language": "python",
   "name": "python3"
  },
  "language_info": {
   "codemirror_mode": {
    "name": "ipython",
    "version": 3
   },
   "file_extension": ".py",
   "mimetype": "text/x-python",
   "name": "python",
   "nbconvert_exporter": "python",
   "pygments_lexer": "ipython3",
   "version": "3.6.7"
  }
 },
 "nbformat": 4,
 "nbformat_minor": 2
}
