{
 "cells": [
  {
   "cell_type": "markdown",
   "metadata": {
    "deletable": false,
    "editable": false,
    "nbgrader": {
     "checksum": "69a56a795311e15b7bb25b84225904d1",
     "grade": false,
     "grade_id": "cell-25bd993540daaf45",
     "locked": true,
     "schema_version": 1,
     "solution": false
    }
   },
   "source": [
    "# Week 2 \n",
    "## Prelab 2\n",
    "\n",
    "**Due: Monday 4/15/19 11:59PM**\n",
    "\n",
    "Today's lab is a review for quiz 1, which will be tomorrow (Tuesday 4/9/19) in lab! These are the types of questions you can expect.\n",
    "\n",
    "Note the actual quiz will have only five questions and you will be given 20 minutes."
   ]
  },
  {
   "cell_type": "markdown",
   "metadata": {
    "deletable": false,
    "editable": false,
    "nbgrader": {
     "checksum": "67bfd3919eb166175cfe92a2ad31d32c",
     "grade": false,
     "grade_id": "cell-9f8885b759269e0e",
     "locked": true,
     "schema_version": 1,
     "solution": false
    }
   },
   "source": [
    "## Part 1: NGS analysis (4 pts)"
   ]
  },
  {
   "cell_type": "markdown",
   "metadata": {
    "deletable": false,
    "editable": false,
    "nbgrader": {
     "checksum": "9d996e9936f9f77541c811e5e5bb4746",
     "grade": false,
     "grade_id": "Q1-coverage",
     "locked": true,
     "schema_version": 1,
     "solution": false
    }
   },
   "source": [
    "**Question 1 (1 pt)**: You sequence a human genome (3 billion bp) with 2 billion single end reads of 101bp each. What do you expect the average *sequencing coverage* to be? Set the variable `meancov` below to your answer."
   ]
  },
  {
   "cell_type": "code",
   "execution_count": 4,
   "metadata": {
    "deletable": false,
    "nbgrader": {
     "checksum": "78c0c716f4e812d205038cefd5438ae7",
     "grade": false,
     "grade_id": "answer-Q1-coverage",
     "locked": false,
     "schema_version": 1,
     "solution": true
    }
   },
   "outputs": [
    {
     "name": "stdout",
     "output_type": "stream",
     "text": [
      "Average Sequencing coverage is: 67.33333333333333\n"
     ]
    }
   ],
   "source": [
    "meancov = 0\n",
    "# Set meancov to the average sequencing coverage\n",
    "meancov = (2e9*101)/(3e9)\n",
    "print(\"Average Sequencing coverage is:\", meancov )"
   ]
  },
  {
   "cell_type": "code",
   "execution_count": 6,
   "metadata": {
    "deletable": false,
    "editable": false,
    "nbgrader": {
     "checksum": "4c959622f0d4d99360ada6cc41da2307",
     "grade": true,
     "grade_id": "correct-Q1-coverage",
     "locked": true,
     "points": 1,
     "schema_version": 1,
     "solution": false
    }
   },
   "outputs": [
    {
     "data": {
      "text/plain": [
       "'Check that meancov is set to the correct answer'"
      ]
     },
     "execution_count": 6,
     "metadata": {},
     "output_type": "execute_result"
    }
   ],
   "source": [
    "\"\"\"Check that meancov is set to the correct answer\"\"\""
   ]
  },
  {
   "cell_type": "markdown",
   "metadata": {
    "deletable": false,
    "editable": false,
    "nbgrader": {
     "checksum": "8dc7efeb2c433805df27a2962b14251c",
     "grade": false,
     "grade_id": "Q2-binom",
     "locked": true,
     "schema_version": 1,
     "solution": false
    }
   },
   "source": [
    "**Question 2 (1 pt):** You are analyzing sequencing data of a human (which is diploid) at a position where the individual is *heterozygous* for the reference allele (\"A\") and an alternate (\"T\") allele. If the position was covered by 5 reads, in the absence of sequencing errors, what is the probability of seeing 0 reads with the alternate \"T\" allele in that position? Set the variable `prob0` below."
   ]
  },
  {
   "cell_type": "code",
   "execution_count": 7,
   "metadata": {
    "deletable": false,
    "nbgrader": {
     "checksum": "4b6834567370edc67a0e43cbcd4a3cfe",
     "grade": false,
     "grade_id": "answer-Q2-binom",
     "locked": false,
     "schema_version": 1,
     "solution": true
    }
   },
   "outputs": [
    {
     "data": {
      "text/plain": [
       "0.03125"
      ]
     },
     "execution_count": 7,
     "metadata": {},
     "output_type": "execute_result"
    }
   ],
   "source": [
    "import scipy.special\n",
    "# Recall scipy.special.comb(N, k) gives \"N choose k\" which\n",
    "# is helpful for computing binomial probabilities\n",
    "# Or you could also do the math manually and just set prob0\n",
    "# to your answer\n",
    "\n",
    "prob0 = 0\n",
    "# Set prob0 below to answer question 2\n",
    "prob0 = scipy.special.comb(5,0) * (0.5)**0 * (0.5)**5\n",
    "\n",
    "prob0"
   ]
  },
  {
   "cell_type": "code",
   "execution_count": 8,
   "metadata": {
    "deletable": false,
    "editable": false,
    "nbgrader": {
     "checksum": "a9f79447fbdec51a8369dd0dca423050",
     "grade": true,
     "grade_id": "correct-Q2-binom",
     "locked": true,
     "points": 1,
     "schema_version": 1,
     "solution": false
    }
   },
   "outputs": [],
   "source": [
    "\"\"\"Check prob0 set correctly\"\"\"\n",
    "assert(prob0 >= 0 and prob0 <= 1)"
   ]
  },
  {
   "cell_type": "markdown",
   "metadata": {
    "deletable": false,
    "editable": false,
    "nbgrader": {
     "checksum": "e6ac2b9ede450a6a237361ed709b9928",
     "grade": false,
     "grade_id": "Q3-fraglen",
     "locked": true,
     "schema_version": 1,
     "solution": false
    }
   },
   "source": [
    "**Question 3 (1 pt)**: You sequence a fragment of DNA with 2x101bp paired-end Illumina reads.\n",
    "After aligning your reads to the genome, the first (forward) read maps to chr6:10000 and the second read maps to chr6:10400. What is the length of the fragment? Set `fraglen` to your answer below."
   ]
  },
  {
   "cell_type": "markdown",
   "metadata": {},
   "source": [
    "For question 3 of the prelab, since there has been quite a bit of confusion I wanted to clarify before tomorrow:\n",
    "\n",
    "Assume there are no indels compared to the reference.\n",
    "\n",
    "First read starts at position 10000 (and so ends at 10101)\n",
    "Second read starts at position 10400 (and so ends at 10501)\n",
    "\n",
    "Fragment length is total region spanned by the read (from 10000 to 10501)"
   ]
  },
  {
   "cell_type": "code",
   "execution_count": 9,
   "metadata": {
    "deletable": false,
    "nbgrader": {
     "checksum": "efd3e141b0d9e94a545c8829a8a443b9",
     "grade": false,
     "grade_id": "answer-Q3-fraglen",
     "locked": false,
     "schema_version": 1,
     "solution": true
    }
   },
   "outputs": [],
   "source": [
    "# Set fraglen to your answer below\n",
    "fraglen = 502"
   ]
  },
  {
   "cell_type": "code",
   "execution_count": 10,
   "metadata": {
    "deletable": false,
    "editable": false,
    "nbgrader": {
     "checksum": "a110c5d42284863c6b80de4bd236a2ec",
     "grade": true,
     "grade_id": "correct-Q3-fraglen",
     "locked": true,
     "points": 1,
     "schema_version": 1,
     "solution": false
    }
   },
   "outputs": [],
   "source": [
    "\"\"\"Check the value of fraglen\"\"\"\n",
    "assert(fraglen > 500 and fraglen < 2000)"
   ]
  },
  {
   "cell_type": "markdown",
   "metadata": {
    "deletable": false,
    "editable": false,
    "nbgrader": {
     "checksum": "a534068baa251f94f64dfdcec0a08425",
     "grade": false,
     "grade_id": "Q4-kmers",
     "locked": true,
     "schema_version": 1,
     "solution": false
    }
   },
   "source": [
    "**Question 4 (1 pt):** \n",
    "You sequence a genome of length 1 billion using 3 billion single end reads of length 36bp. Using kmers of length 31, how many times to you expect to see each kmer in your data? (i.e. what is the mean *kmer coverage*)? Set your answer in the variable `kmercov` below."
   ]
  },
  {
   "cell_type": "code",
   "execution_count": 14,
   "metadata": {
    "deletable": false,
    "nbgrader": {
     "checksum": "3c0b3fbbf6396a7da8a0927feef60851",
     "grade": false,
     "grade_id": "answer-Q4-kmers",
     "locked": false,
     "schema_version": 1,
     "solution": true
    }
   },
   "outputs": [
    {
     "name": "stdout",
     "output_type": "stream",
     "text": [
      "kmer coverage is: 18.000000540000016\n"
     ]
    }
   ],
   "source": [
    "kmercov = 0\n",
    "# Set kmercov to your answer below\n",
    "#kmer coverage is (#reads)(# of kmers per read)/(#kmers in genome) = (Total # kmers seen)/(#kmers in genome)\n",
    "\n",
    "kmercov = (3e9)*(36-31+1)/(1e9-31+1)\n",
    "print(\"kmer coverage is:\", kmercov)"
   ]
  },
  {
   "cell_type": "code",
   "execution_count": 13,
   "metadata": {
    "deletable": false,
    "editable": false,
    "nbgrader": {
     "checksum": "36b90c160805d5353cd49d785472d7cc",
     "grade": true,
     "grade_id": "correct-Q4-kmers",
     "locked": true,
     "points": 1,
     "schema_version": 1,
     "solution": false
    }
   },
   "outputs": [],
   "source": [
    "\"\"\"Check the value of kmercov\"\"\"\n",
    "assert(kmercov > 0 and kmercov < 100000)"
   ]
  },
  {
   "cell_type": "markdown",
   "metadata": {},
   "source": [
    "## Part 2: Troubleshooting (3 pts)"
   ]
  },
  {
   "cell_type": "markdown",
   "metadata": {
    "deletable": false,
    "editable": false,
    "nbgrader": {
     "checksum": "11716abd7ede9ca01907c06f60a1ecf5",
     "grade": false,
     "grade_id": "Q5-covcheck",
     "locked": true,
     "schema_version": 1,
     "solution": false
    }
   },
   "source": [
    "**Question 5 (1 pt)**: You sequence the genomes of two parents and their son to a target depth of 30x. You align their reads to the genome using BWA-MEM, leaving your job to run overnight. The next morning you determine the average coverage based on the sequencing alignments. You find that the child is sequenced on average only half as deep as the parents (15x). What is a possible explanation?"
   ]
  },
  {
   "cell_type": "markdown",
   "metadata": {
    "deletable": false,
    "nbgrader": {
     "checksum": "da027b96cbe0248d6834e0ce695ed124",
     "grade": true,
     "grade_id": "correct-Q5-covcheck",
     "locked": false,
     "points": 1,
     "schema_version": 1,
     "solution": true
    }
   },
   "source": [
    "There are multiple reasons for as to why this could have happened. The initial sequencing could have had problems as well as with the quality of the reads. The sequencer could have started making errors half way through the process for the child and the errors would have built up. Another source of possible error is that the BWA-MEM alignment did not finish for the child."
   ]
  },
  {
   "cell_type": "markdown",
   "metadata": {
    "deletable": false,
    "editable": false,
    "nbgrader": {
     "checksum": "0306b342dbeff88c926af38ac70686a7",
     "grade": false,
     "grade_id": "Q6-sambam",
     "locked": true,
     "schema_version": 1,
     "solution": false
    }
   },
   "source": [
    "**Question 6 (1 pt)**: Someone hands you a BAM file (stored at `/datasets/cs185s-sp19-public/week2/prelab2/test.bam`) but forgot to tell you what reference genome they aligned it to. How might you find out? Paste your command and what reference genome was used to align reads in this file below."
   ]
  },
  {
   "cell_type": "markdown",
   "metadata": {
    "deletable": false,
    "nbgrader": {
     "checksum": "3be8635579121d7f6377fbb3b134e1fe",
     "grade": true,
     "grade_id": "correct-Q6-sambam",
     "locked": false,
     "points": 1,
     "schema_version": 1,
     "solution": true
    }
   },
   "source": [
    "The bam format is the compressed alignment map and hence we need to use samtools to visualize the contents.\n",
    "\n",
    "We can run the following command below to print the header of the bam file:\n",
    "\n",
    "samtools view -H ../../../datasets/cs185s-sp19-public/week2/prelab2/test.bam\n",
    "\n",
    "The reference genome used was GRCh38. "
   ]
  },
  {
   "cell_type": "markdown",
   "metadata": {
    "deletable": false,
    "editable": false,
    "nbgrader": {
     "checksum": "9b43a77ef446f68563942750a37b222e",
     "grade": false,
     "grade_id": "Q7-fastqc",
     "locked": true,
     "schema_version": 1,
     "solution": false
    }
   },
   "source": [
    "**Question 7 (1 pt)**: You sequence a genome using 150bp reads. You run fastqc, and find that the quality of all of your reads falls close to 0 after only 50bp. What could explain this?"
   ]
  },
  {
   "cell_type": "markdown",
   "metadata": {
    "deletable": false,
    "nbgrader": {
     "checksum": "701357bccef3ff872500aa0bf147f607",
     "grade": true,
     "grade_id": "correct-Q7-fastqc",
     "locked": false,
     "points": 1,
     "schema_version": 1,
     "solution": true
    }
   },
   "source": [
    "This could be cause by erroneous sequence reads or contaminants in the sequencing process. This could also be cause by the type of sequencing done. Sanger seqeuncing is not as good for long reads."
   ]
  },
  {
   "cell_type": "markdown",
   "metadata": {},
   "source": [
    "## Part 3: UNIX one-liners (3 pts)"
   ]
  },
  {
   "cell_type": "markdown",
   "metadata": {
    "deletable": false,
    "editable": false,
    "nbgrader": {
     "checksum": "27c5a4629b62df2b9730a797700ffd01",
     "grade": false,
     "grade_id": "Q8-ls",
     "locked": true,
     "schema_version": 1,
     "solution": false
    }
   },
   "source": [
    "**Question 8 (1 pt)**: Write a UNIX command to get the filesize in human readable format (e.g. number of megabytes, gigabytes, etc.) of the file `/datasets/cs185s-sp19-public/week2/prelab2/test.fq`. Set the variable `cmd` to your command below. Hint: you can test UNIX commands either in the terminal, or by putting `!` before your command in a Jupyter notebook cell."
   ]
  },
  {
   "cell_type": "code",
   "execution_count": 13,
   "metadata": {
    "deletable": false,
    "nbgrader": {
     "checksum": "8f30672b7aea36cc4345e9e8d3b0f7b9",
     "grade": false,
     "grade_id": "answer-Q8-ls",
     "locked": false,
     "schema_version": 1,
     "solution": true
    }
   },
   "outputs": [],
   "source": [
    "cmd = 'echo hello world'\n",
    "# Set cmd to get the filesize in human readable format for test.fq\n",
    "cmd = 'ls -lh ../../../datasets/cs185s-sp19-public/week2/prelab2/test.fq'"
   ]
  },
  {
   "cell_type": "code",
   "execution_count": 14,
   "metadata": {
    "deletable": false,
    "editable": false,
    "nbgrader": {
     "checksum": "d2cdb873549b50978c6bb1d29f68610e",
     "grade": true,
     "grade_id": "correct-Q8-ls",
     "locked": true,
     "points": 1,
     "schema_version": 1,
     "solution": false
    }
   },
   "outputs": [],
   "source": [
    "\"\"\"Check that the command gives the file size\"\"\"\n",
    "from subprocess import Popen, PIPE\n",
    "p = Popen(cmd, shell=True, stdout=PIPE, stderr=PIPE)\n",
    "out, err = p.communicate()\n",
    "assert(p.returncode == 0)"
   ]
  },
  {
   "cell_type": "markdown",
   "metadata": {
    "deletable": false,
    "editable": false,
    "nbgrader": {
     "checksum": "f95e910d421e01638f4bea1fe83c57bb",
     "grade": false,
     "grade_id": "Q9-pipe",
     "locked": true,
     "schema_version": 1,
     "solution": false
    }
   },
   "source": [
    "**Question 9 (1 pt)**: Write a one line UNIX command that outputs the part of `test.fq` corresponding to reads 5-10. Remember each read encompasses 4 lines of data. Your solution should involve \"piping\" two commands together. e.g. `command1 | command2...`. Set the variable `cmd` to your command below."
   ]
  },
  {
   "cell_type": "code",
   "execution_count": 15,
   "metadata": {
    "deletable": false,
    "nbgrader": {
     "checksum": "e58e08aaee2e345aa80db059e94f36d1",
     "grade": false,
     "grade_id": "answer-Q9-pipe",
     "locked": false,
     "schema_version": 1,
     "solution": true
    }
   },
   "outputs": [],
   "source": [
    "cmd = 'echo hello world'\n",
    "# Set cmd to print lines 10-30 of /datasets/cs185s-sp19-public/week2/test.fq\n",
    "cmd = 'head ../../../datasets/cs185s-sp19-public/week2/prelab2/test.fq -n 40 | tail -n 20'"
   ]
  },
  {
   "cell_type": "code",
   "execution_count": 16,
   "metadata": {
    "deletable": false,
    "editable": false,
    "nbgrader": {
     "checksum": "e49af70a69e9c88f3e95409ae78f85ce",
     "grade": true,
     "grade_id": "correct-Q9-pipe",
     "locked": true,
     "points": 1,
     "schema_version": 1,
     "solution": false
    }
   },
   "outputs": [],
   "source": [
    "\"\"\"Check that the command gives the correct lines\"\"\"\n",
    "from subprocess import Popen, PIPE\n",
    "p = Popen(cmd, shell=True, stdout=PIPE, stderr=PIPE)\n",
    "out, err = p.communicate()\n",
    "assert(p.returncode == 0)"
   ]
  },
  {
   "cell_type": "markdown",
   "metadata": {
    "deletable": false,
    "editable": false,
    "nbgrader": {
     "checksum": "0aecff744f47bcc1b8e3698a325ee823",
     "grade": false,
     "grade_id": "Q10-grep",
     "locked": true,
     "schema_version": 1,
     "solution": false
    }
   },
   "source": [
    "**Question 10 (1 pt)**: Write a UNIX command to print out the first five occurrences of the string \">chr\" in the file `/datasets/cs185s-sp19-public/hg19.fa`. Set the variable `cmd` to your command below."
   ]
  },
  {
   "cell_type": "code",
   "execution_count": 35,
   "metadata": {
    "deletable": false,
    "nbgrader": {
     "checksum": "b0a3b481feae75105f02a81e5b81ab92",
     "grade": false,
     "grade_id": "answer-Q10-grep",
     "locked": false,
     "schema_version": 1,
     "solution": true
    }
   },
   "outputs": [],
   "source": [
    "#check file path may be wrong right now\n",
    "cmd = 'cat ../../../datasets/cs185s-sp19-public/genomes/hg19.fa | grep \">chr\" | head -n 5'\n",
    "# Set cmd to print out the first five occurrences of the string \">chr\" \n",
    "# in the file `/datasets/cs185s-sp19-public/hg19.fa`"
   ]
  },
  {
   "cell_type": "code",
   "execution_count": 36,
   "metadata": {
    "deletable": false,
    "editable": false,
    "nbgrader": {
     "checksum": "e7e3a1ed29f1d6d1b59b1f140024f236",
     "grade": true,
     "grade_id": "correct-Q10-grep",
     "locked": true,
     "points": 1,
     "schema_version": 1,
     "solution": false
    }
   },
   "outputs": [],
   "source": [
    "\"\"\"Check that the command gives the correct output\"\"\"\n",
    "from subprocess import Popen, PIPE\n",
    "p = Popen(cmd, shell=True, stdout=PIPE, stderr=PIPE)\n",
    "out, err = p.communicate()\n",
    "assert(p.returncode == 0)"
   ]
  }
 ],
 "metadata": {
  "kernelspec": {
   "display_name": "Python 3",
   "language": "python",
   "name": "python3"
  },
  "language_info": {
   "codemirror_mode": {
    "name": "ipython",
    "version": 3
   },
   "file_extension": ".py",
   "mimetype": "text/x-python",
   "name": "python",
   "nbconvert_exporter": "python",
   "pygments_lexer": "ipython3",
   "version": "3.6.7"
  }
 },
 "nbformat": 4,
 "nbformat_minor": 2
}
